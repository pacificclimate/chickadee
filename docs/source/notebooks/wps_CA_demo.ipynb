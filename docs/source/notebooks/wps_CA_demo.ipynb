{
 "cells": [
  {
   "cell_type": "markdown",
   "metadata": {},
   "source": [
    "\n",
    "# wps_ca\n",
    "\n",
    "A process that runs the [ca.netcdf.wrapper](https://github.com/pacificclimate/ClimDown/blob/master/R/CA.R) function from ClimDown.\n",
    "\n",
    "Constructed Analogue (CA) downscaling algorithm: Starts by spatially aggregating high-resolution gridded observations up to the scale of a GCM. Then it proceeds to bias correcting the GCM based on those observations. Finally, it conducts the search for temporal analogues. This involves taking each timestep in the GCM and searching for the top 30 closest timesteps in the gridded observations. For each of the 30 closest \"analogue\" timesteps, CA records the integer number of the timestep (indices) and a weight for each of the analogues.\n"
   ]
  },
  {
   "cell_type": "code",
   "execution_count": 1,
   "metadata": {},
   "outputs": [],
   "source": [
    "from birdy import WPSClient\n",
    "from pkg_resources import resource_filename\n",
    "from wps_tools.testing import get_target_url\n",
    "from tempfile import NamedTemporaryFile\n",
    "from datetime import date\n",
    "from urllib.request import urlopen\n",
    "import requests\n",
    "import os\n",
    "\n",
    "# Ensure we are in the working directory with access to the data\n",
    "while os.path.basename(os.getcwd()) != \"chickadee\":\n",
    "    os.chdir('../')"
   ]
  },
  {
   "cell_type": "code",
   "execution_count": 2,
   "metadata": {},
   "outputs": [
    {
     "name": "stdout",
     "output_type": "stream",
     "text": [
      "Using chickadee on https://docker-dev03.pcic.uvic.ca/twitcher/ows/proxy/chickadee/wps\n"
     ]
    }
   ],
   "source": [
    "# NBVAL_IGNORE_OUTPUT\n",
    "url = get_target_url(\"chickadee\")\n",
    "print(f\"Using chickadee on {url}\")"
   ]
  },
  {
   "cell_type": "code",
   "execution_count": 3,
   "metadata": {},
   "outputs": [],
   "source": [
    "chickadee = WPSClient(url)"
   ]
  },
  {
   "cell_type": "markdown",
   "metadata": {},
   "source": [
    "### Help for individual processes can be diplayed using the ? command (ex. bird.process?)."
   ]
  },
  {
   "cell_type": "code",
   "execution_count": 4,
   "metadata": {},
   "outputs": [
    {
     "name": "stdout",
     "output_type": "stream",
     "text": [
      "Object `chickadee.CA` not found.\n"
     ]
    }
   ],
   "source": [
    "# NBVAL_IGNORE_OUTPUT\n",
    "chickadee.ca?"
   ]
  },
  {
   "cell_type": "markdown",
   "metadata": {},
   "source": [
    "### Run CA process"
   ]
  },
  {
   "cell_type": "code",
   "execution_count": 5,
   "metadata": {},
   "outputs": [],
   "source": [
    "indices_file = NamedTemporaryFile(suffix=\".txt\", prefix=\"indices_\", dir=\"/tmp\", delete=True)\n",
    "weights_file = NamedTemporaryFile(suffix=\".txt\", prefix=\"weights_\", dir=\"/tmp\", delete=True)\n",
    "\n",
    "output = chickadee.ca(\n",
    "    gcm_file=resource_filename(\"tests\", \"/data/tiny_gcm.nc\"), \n",
    "    obs_file=resource_filename(\"tests\", \"/data/tiny_obs.nc\"), \n",
    "    varname=\"tasmax\", \n",
    "    end_date=date(1972, 12, 31),\n",
    "    num_cores=4,\n",
    "    indices=indices_file.name,\n",
    "    weights=weights_file.name\n",
    ")\n",
    "\n",
    "[file_.close() for file_ in [indices_file, weights_file]]\n",
    "\n",
    "indices, weights = output.get()"
   ]
  },
  {
   "cell_type": "markdown",
   "metadata": {},
   "source": [
    "### Test for expected output"
   ]
  },
  {
   "cell_type": "code",
   "execution_count": 6,
   "metadata": {},
   "outputs": [],
   "source": [
    "# Check that all values are integers\n",
    "with urlopen(indices) as f:\n",
    "    indices_output_data = f.read().decode('utf-8')\n",
    "    assert \".\" not in indices_output_data"
   ]
  },
  {
   "cell_type": "code",
   "execution_count": 7,
   "metadata": {},
   "outputs": [],
   "source": [
    "\n",
    "\n",
    "# Check that all values are floats\n",
    "with urlopen(weights) as f:\n",
    "    weights_output_data = f.read().decode('utf-8')\n",
    "    assert weights_output_data.count(\".\")==len(weights_output_data.split('\\n'))-1\n",
    "\n"
   ]
  }
 ],
 "metadata": {
  "kernelspec": {
   "display_name": "Python 3",
   "language": "python",
   "name": "python3"
  },
  "language_info": {
   "codemirror_mode": {
    "name": "ipython",
    "version": 3
   },
   "file_extension": ".py",
   "mimetype": "text/x-python",
   "name": "python",
   "nbconvert_exporter": "python",
   "pygments_lexer": "ipython3",
   "version": "3.8.5"
  }
 },
 "nbformat": 4,
 "nbformat_minor": 4
}
