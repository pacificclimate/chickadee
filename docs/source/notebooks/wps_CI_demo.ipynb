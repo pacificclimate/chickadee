{
 "cells": [
  {
   "cell_type": "markdown",
   "metadata": {},
   "source": [
    "# Usage Example"
   ]
  },
  {
   "cell_type": "code",
   "execution_count": 1,
   "metadata": {},
   "outputs": [],
   "source": [
    "from birdy import WPSClient\n",
    "from wps_tools.testing import get_target_url\n",
    "import os\n",
    "\n",
    "# Ensure we are in the working directory with access to the data\n",
    "while os.path.basename(os.getcwd()) != \"chickadee\":\n",
    "    os.chdir('../')"
   ]
  },
  {
   "cell_type": "code",
   "execution_count": 2,
   "metadata": {},
   "outputs": [],
   "source": [
    "# NBVAL_IGNORE_OUTPUT\n",
    "# url = get_target_url(\"chickadee\")\n",
    "# print(f\"Using chickadee on {url}\")"
   ]
  },
  {
   "cell_type": "code",
   "execution_count": 3,
   "metadata": {},
   "outputs": [
    {
     "ename": "SyntaxError",
     "evalue": "duplicate argument 'out_file' in function definition (base.py-1>, line 1)",
     "output_type": "error",
     "traceback": [
      "Traceback \u001b[0;36m(most recent call last)\u001b[0m:\n",
      "  File \u001b[1;32m\"/home/sangwonl/.local/lib/python3.6/site-packages/IPython/core/interactiveshell.py\"\u001b[0m, line \u001b[1;32m3343\u001b[0m, in \u001b[1;35mrun_code\u001b[0m\n    exec(code_obj, self.user_global_ns, self.user_ns)\n",
      "  File \u001b[1;32m\"<ipython-input-3-1fd08700aca2>\"\u001b[0m, line \u001b[1;32m1\u001b[0m, in \u001b[1;35m<module>\u001b[0m\n    chickadee = WPSClient(\"http://localhost:5004/wps\")\n",
      "  File \u001b[1;32m\"/home/sangwonl/.local/lib/python3.6/site-packages/birdy/client/base.py\"\u001b[0m, line \u001b[1;32m120\u001b[0m, in \u001b[1;35m__init__\u001b[0m\n    setattr(self, sanitize(pid), types.MethodType(self._method_factory(pid), self))\n",
      "  File \u001b[1;32m\"/home/sangwonl/.local/lib/python3.6/site-packages/birdy/client/base.py\"\u001b[0m, line \u001b[1;32m233\u001b[0m, in \u001b[1;35m_method_factory\u001b[0m\n    func = func_builder.get_func()\n",
      "  File \u001b[1;32m\"/home/sangwonl/.local/lib/python3.6/site-packages/boltons/funcutils.py\"\u001b[0m, line \u001b[1;32m894\u001b[0m, in \u001b[1;35mget_func\u001b[0m\n    self._compile(src, execdict)\n",
      "\u001b[0;36m  File \u001b[0;32m\"/home/sangwonl/.local/lib/python3.6/site-packages/boltons/funcutils.py\"\u001b[0;36m, line \u001b[0;32m997\u001b[0;36m, in \u001b[0;35m_compile\u001b[0;36m\u001b[0m\n\u001b[0;31m    code = compile(src, filename, 'single')\u001b[0m\n",
      "\u001b[0;36m  File \u001b[0;32m\"</home/sangwonl/.local/lib/python3.6/site-packages/birdy/client/base.py-1>\"\u001b[0;36m, line \u001b[0;32m1\u001b[0m\n\u001b[0;31mSyntaxError\u001b[0m\u001b[0;31m:\u001b[0m duplicate argument 'out_file' in function definition\n"
     ]
    }
   ],
   "source": [
    "chickadee = WPSClient(\"http://localhost:5004/wps\")"
   ]
  },
  {
   "cell_type": "code",
   "execution_count": null,
   "metadata": {},
   "outputs": [],
   "source": [
    "# NBVAL_IGNORE_OUTPUT\n",
    "chickadee?"
   ]
  }
 ],
 "metadata": {
  "kernelspec": {
   "display_name": "Python 3",
   "language": "python",
   "name": "python3"
  },
  "language_info": {
   "codemirror_mode": {
    "name": "ipython",
    "version": 3
   },
   "file_extension": ".py",
   "mimetype": "text/x-python",
   "name": "python",
   "nbconvert_exporter": "python",
   "pygments_lexer": "ipython3",
   "version": "3.6.9"
  }
 },
 "nbformat": 4,
 "nbformat_minor": 4
}
