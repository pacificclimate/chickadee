{
 "cells": [
  {
   "cell_type": "markdown",
   "metadata": {},
   "source": [
    "### Rerank\n",
    "\n",
    "WPS process for the [rerank.netcdf.wrapper](https://github.com/pacificclimate/ClimDown/blob/master/R/rerank.R) from [ClimDown](https://github.com/pacificclimate/ClimDown)\n",
    "\n",
    "**Quantile Reranking** fixes bias introduced by the [Climate Analogues (CA)](https://github.com/pacificclimate/ClimDown/blob/master/R/CA.R) step by re-applying a simple quantile mapping bias correction at each grid box"
   ]
  },
  {
   "cell_type": "code",
   "execution_count": 1,
   "metadata": {},
   "outputs": [],
   "source": [
    "from birdy import WPSClient\n",
    "from netCDF4 import Dataset\n",
    "from pkg_resources import resource_filename\n",
    "from wps_tools.testing import get_target_url\n",
    "from wps_tools.utils import copy_http_content\n",
    "from tempfile import NamedTemporaryFile\n",
    "import requests\n",
    "import os\n",
    "\n",
    "# Ensure we are in the working directory with access to the data\n",
    "while os.path.basename(os.getcwd()) != \"chickadee\":\n",
    "    os.chdir('../')"
   ]
  },
  {
   "cell_type": "code",
   "execution_count": 2,
   "metadata": {},
   "outputs": [
    {
     "name": "stdout",
     "output_type": "stream",
     "text": [
      "Using chickadee on https://docker-dev03.pcic.uvic.ca/twitcher/ows/proxy/chickadee/wps\n"
     ]
    }
   ],
   "source": [
    "# NBVAL_IGNORE_OUTPUT\n",
    "url = get_target_url(\"chickadee\")\n",
    "print(f\"Using chickadee on {url}\")"
   ]
  },
  {
   "cell_type": "code",
   "execution_count": 3,
   "metadata": {},
   "outputs": [],
   "source": [
    "chickadee = WPSClient(url)"
   ]
  },
  {
   "cell_type": "markdown",
   "metadata": {},
   "source": [
    "### Help for individual processes can be diplayed using the ? command (ex. bird.process?)."
   ]
  },
  {
   "cell_type": "code",
   "execution_count": 4,
   "metadata": {},
   "outputs": [
    {
     "data": {
      "text/plain": [
       "\u001b[0;31mSignature:\u001b[0m\n",
       "\u001b[0mchickadee\u001b[0m\u001b[0;34m.\u001b[0m\u001b[0mrerank\u001b[0m\u001b[0;34m(\u001b[0m\u001b[0;34m\u001b[0m\n",
       "\u001b[0;34m\u001b[0m    \u001b[0mobs_file\u001b[0m\u001b[0;34m,\u001b[0m\u001b[0;34m\u001b[0m\n",
       "\u001b[0;34m\u001b[0m    \u001b[0mvarname\u001b[0m\u001b[0;34m=\u001b[0m\u001b[0;32mNone\u001b[0m\u001b[0;34m,\u001b[0m\u001b[0;34m\u001b[0m\n",
       "\u001b[0;34m\u001b[0m    \u001b[0mqdm_file\u001b[0m\u001b[0;34m=\u001b[0m\u001b[0;32mNone\u001b[0m\u001b[0;34m,\u001b[0m\u001b[0;34m\u001b[0m\n",
       "\u001b[0;34m\u001b[0m    \u001b[0mnum_cores\u001b[0m\u001b[0;34m=\u001b[0m\u001b[0;34m'4'\u001b[0m\u001b[0;34m,\u001b[0m\u001b[0;34m\u001b[0m\n",
       "\u001b[0;34m\u001b[0m    \u001b[0mloglevel\u001b[0m\u001b[0;34m=\u001b[0m\u001b[0;34m'INFO'\u001b[0m\u001b[0;34m,\u001b[0m\u001b[0;34m\u001b[0m\n",
       "\u001b[0;34m\u001b[0m    \u001b[0mout_file\u001b[0m\u001b[0;34m=\u001b[0m\u001b[0;32mNone\u001b[0m\u001b[0;34m,\u001b[0m\u001b[0;34m\u001b[0m\n",
       "\u001b[0;34m\u001b[0m    \u001b[0manalogues_file\u001b[0m\u001b[0;34m=\u001b[0m\u001b[0;32mNone\u001b[0m\u001b[0;34m,\u001b[0m\u001b[0;34m\u001b[0m\n",
       "\u001b[0;34m\u001b[0m\u001b[0;34m)\u001b[0m\u001b[0;34m\u001b[0m\u001b[0;34m\u001b[0m\u001b[0m\n",
       "\u001b[0;31mDocstring:\u001b[0m\n",
       "Quantile Reranking fixes bias introduced by the Climate Analogues step\n",
       "\n",
       "Parameters\n",
       "----------\n",
       "obs_file : ComplexData:mimetype:`application/x-netcdf`, :mimetype:`application/x-ogc-dods`\n",
       "    Filename of high-res gridded historical observations\n",
       "varname : string\n",
       "    Name of the NetCDF variable to downscale (e.g. 'tasmax')\n",
       "out_file : string\n",
       "    Filename to create with the climate imprint outputs\n",
       "num_cores : {'1', '2', '3', '4'}positiveInteger\n",
       "    The number of cores to use for parallel execution\n",
       "loglevel : {'CRITICAL', 'ERROR', 'WARNING', 'INFO', 'DEBUG', 'NOTSET'}string\n",
       "    Logging level\n",
       "qdm_file : ComplexData:mimetype:`application/x-netcdf`, :mimetype:`application/x-ogc-dods`\n",
       "    Filename of output from QDM step\n",
       "analogues_file : string\n",
       "    R object containing the analogues produced from the CA step (suffix .rds)\n",
       "\n",
       "Returns\n",
       "-------\n",
       "output : ComplexData:mimetype:`application/x-netcdf`\n",
       "    Output Netcdf File\n",
       "\u001b[0;31mFile:\u001b[0m      ~/code/birds/chickadee/</tmp/chickadee-venv/lib/python3.8/site-packages/birdy/client/base.py-4>\n",
       "\u001b[0;31mType:\u001b[0m      method\n"
      ]
     },
     "metadata": {},
     "output_type": "display_data"
    }
   ],
   "source": [
    "# NBVAL_IGNORE_OUTPUT\n",
    "chickadee.rerank?"
   ]
  },
  {
   "cell_type": "markdown",
   "metadata": {},
   "source": [
    "### Run the rerank process"
   ]
  },
  {
   "cell_type": "code",
   "execution_count": 5,
   "metadata": {},
   "outputs": [],
   "source": [
    "out_file = NamedTemporaryFile(suffix=\".nc\", prefix=\"output_\", dir=\"/tmp\", delete=True)\n",
    "\n",
    "output = chickadee.rerank(\n",
    "    qdm_file=resource_filename(\"tests\", \"/data/QDM_expected_output.nc\"), \n",
    "    obs_file=resource_filename(\"tests\", \"/data/tiny_obs.nc\"), \n",
    "    varname=\"tasmax\", \n",
    "    out_file=out_file.name,\n",
    "    num_cores=2,\n",
    "    analogues_object=resource_filename(\"tests\", \"/data/analogues.rds\"),\n",
    ")\n",
    "\n",
    "out_file.close()\n",
    "\n",
    "output_data = output.get()[0]"
   ]
  },
  {
   "cell_type": "markdown",
   "metadata": {},
   "source": [
    "### Test for expected output"
   ]
  },
  {
   "cell_type": "code",
   "execution_count": 6,
   "metadata": {},
   "outputs": [],
   "source": [
    "with NamedTemporaryFile(suffix=\".nc\", prefix=\"tmp_copy\", dir=\"/tmp\", delete=True) as tmp_file:\n",
    "    output_data = Dataset(copy_http_content(output_data, tmp_file))\n",
    "    expected_data = Dataset(resource_filename(\"tests\",\"/data/bccaq_expected_output.nc\"))\n",
    "    for key, value in expected_data.dimensions.items():\n",
    "        assert str(output_data.dimensions[key]) == str(value)"
   ]
  },
  {
   "cell_type": "code",
   "execution_count": null,
   "metadata": {},
   "outputs": [],
   "source": []
  }
 ],
 "metadata": {
  "kernelspec": {
   "display_name": "Python 3",
   "language": "python",
   "name": "python3"
  },
  "language_info": {
   "codemirror_mode": {
    "name": "ipython",
    "version": 3
   },
   "file_extension": ".py",
   "mimetype": "text/x-python",
   "name": "python",
   "nbconvert_exporter": "python",
   "pygments_lexer": "ipython3",
   "version": "3.8.5"
  }
 },
 "nbformat": 4,
 "nbformat_minor": 4
}
