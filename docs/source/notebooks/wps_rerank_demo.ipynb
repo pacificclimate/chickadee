{
 "cells": [
  {
   "cell_type": "markdown",
   "metadata": {},
   "source": [
    "### Rerank\n",
    "\n",
    "WPS process for the [rerank.netcdf.wrapper](https://github.com/pacificclimate/ClimDown/blob/master/R/rerank.R) from [ClimDown](https://github.com/pacificclimate/ClimDown)\n",
    "\n",
    "**Quantile Reranking** fixes bias introduced by the [Climate Analogues (CA)](https://github.com/pacificclimate/ClimDown/blob/master/R/CA.R) step by re-applying a simple quantile mapping bias correction at each grid box"
   ]
  },
  {
   "cell_type": "code",
   "execution_count": null,
   "metadata": {},
   "outputs": [],
   "source": [
    "from birdy import WPSClient\n",
    "from netCDF4 import Dataset\n",
    "from pkg_resources import resource_filename\n",
    "from wps_tools.testing import get_target_url\n",
    "from wps_tools.utils import copy_http_content\n",
    "from tempfile import NamedTemporaryFile\n",
    "import requests\n",
    "import os\n",
    "\n",
    "# Ensure we are in the working directory with access to the data\n",
    "while os.path.basename(os.getcwd()) != \"chickadee\":\n",
    "    os.chdir('../')"
   ]
  },
  {
   "cell_type": "code",
   "execution_count": null,
   "metadata": {},
   "outputs": [],
   "source": [
    "# NBVAL_IGNORE_OUTPUT\n",
    "url = get_target_url(\"chickadee\")\n",
    "print(f\"Using chickadee on {url}\")"
   ]
  },
  {
   "cell_type": "code",
   "execution_count": null,
   "metadata": {},
   "outputs": [],
   "source": [
    "chickadee = WPSClient(url)"
   ]
  },
  {
   "cell_type": "markdown",
   "metadata": {},
   "source": [
    "### Help for individual processes can be diplayed using the ? command (ex. bird.process?)."
   ]
  },
  {
   "cell_type": "code",
   "execution_count": null,
   "metadata": {},
   "outputs": [],
   "source": [
    "# NBVAL_IGNORE_OUTPUT\n",
    "chickadee.rerank?"
   ]
  },
  {
   "cell_type": "markdown",
   "metadata": {},
   "source": [
    "### Run the rerank process"
   ]
  },
  {
   "cell_type": "code",
   "execution_count": null,
   "metadata": {},
   "outputs": [],
   "source": [
    "with NamedTemporaryFile(suffix=\".nc\", prefix=\"output_\", dir=\"/tmp\", delete=True) as out_file:\n",
    "    output = chickadee.rerank(\n",
    "        qdm_file=resource_filename(\"tests\", \"/data/QDM_expected_output.nc\"), \n",
    "        obs_file=resource_filename(\"tests\", \"/data/tiny_obs.nc\"), \n",
    "        varname=\"tasmax\",\n",
    "        out_file=out_file.name,\n",
    "        num_cores=2,\n",
    "        analogues_object=resource_filename(\"tests\", \"data/analogues.rda\")\n",
    "    )\n",
    "\n",
    "output_data = output.get()[0]"
   ]
  },
  {
   "cell_type": "markdown",
   "metadata": {},
   "source": [
    "### Test for expected output"
   ]
  },
  {
   "cell_type": "code",
   "execution_count": null,
   "metadata": {},
   "outputs": [],
   "source": [
    "with NamedTemporaryFile(suffix=\".nc\", prefix=\"tmp_copy\", dir=\"/tmp\", delete=True) as tmp_file:\n",
    "    output_data = Dataset(copy_http_content(output_data, tmp_file))\n",
    "    expected_data = Dataset(resource_filename(\"tests\",\"/data/bccaq_expected_output.nc\"))\n",
    "    for key, value in expected_data.dimensions.items():\n",
    "        assert str(output_data.dimensions[key]) == str(value)"
   ]
  }
 ],
 "metadata": {
  "kernelspec": {
   "display_name": "Python 3",
   "language": "python",
   "name": "python3"
  },
  "language_info": {
   "codemirror_mode": {
    "name": "ipython",
    "version": 3
   },
   "file_extension": ".py",
   "mimetype": "text/x-python",
   "name": "python",
   "nbconvert_exporter": "python",
   "pygments_lexer": "ipython3",
   "version": "3.8.5"
  }
 },
 "nbformat": 4,
 "nbformat_minor": 4
}
