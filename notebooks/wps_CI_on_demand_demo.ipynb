{
 "cells": [
  {
   "cell_type": "markdown",
   "metadata": {},
   "source": [
    "# wps_CI_on_demand\n",
    "\n",
    "#### wps_CI is a process that runs the [ci.netcdf.wrapper](https://github.com/pacificclimate/ClimDown/blob/master/R/CI.R#L235) (Climate Imprint) function of the [ClimDown](https://cran.r-project.org/web/packages/ClimDown/index.html) package. This notebook uses either the PNWNAmet daily gridded observations or the CMIP6 downscaled data as the `gcm_file` parameter and the PRISM monthly climatologies as the `obs_file` parameter. By supplying climatologies, this skips the computation of the climatologies during Climate Imprint. To get started, first instantiate the client. Here, the client will try to connect to a `chickadee` instance using the `url` parameter. This instantiation also takes advantage of asynchronous execution"
   ]
  },
  {
   "cell_type": "markdown",
   "metadata": {},
   "source": [
    "## 1. Setup chickadee instance and input parameters"
   ]
  },
  {
   "cell_type": "markdown",
   "metadata": {},
   "source": [
    "I. Import Python packages used throughout the notebook."
   ]
  },
  {
   "cell_type": "code",
   "execution_count": 1,
   "metadata": {},
   "outputs": [],
   "source": [
    "import os\n",
    "import shapely.geometry\n",
    "import numpy as np\n",
    "from birdy import WPSClient\n",
    "from tempfile import NamedTemporaryFile\n",
    "from netCDF4 import Dataset\n",
    "from datetime import date\n",
    "from requests_html import HTMLSession\n",
    "from ipywidgets import *\n",
    "from ipyleaflet import *"
   ]
  },
  {
   "cell_type": "markdown",
   "metadata": {},
   "source": [
    "II. Connect to the chickadee instance given by the `url`."
   ]
  },
  {
   "cell_type": "code",
   "execution_count": 2,
   "metadata": {},
   "outputs": [
    {
     "name": "stdout",
     "output_type": "stream",
     "text": [
      "Using chickadee on http://docker-dev03.pcic.uvic.ca:30102\n"
     ]
    }
   ],
   "source": [
    "# NBVAL_IGNORE_OUTPUT\n",
    "url = \"http://docker-dev03.pcic.uvic.ca:30102\"\n",
    "print(f\"Using chickadee on {url}\")\n",
    "chickadee = WPSClient(url, progress=True)"
   ]
  },
  {
   "cell_type": "markdown",
   "metadata": {},
   "source": [
    "III. Display help for individual processes by using the ? command (ex. bird.process?). We can use the docstring to ensure we provide the appropriate parameters."
   ]
  },
  {
   "cell_type": "code",
   "execution_count": 3,
   "metadata": {},
   "outputs": [
    {
     "data": {
      "text/plain": [
       "\u001b[0;31mSignature:\u001b[0m\n",
       "\u001b[0mchickadee\u001b[0m\u001b[0;34m.\u001b[0m\u001b[0mci\u001b[0m\u001b[0;34m(\u001b[0m\u001b[0;34m\u001b[0m\n",
       "\u001b[0;34m\u001b[0m    \u001b[0mgcm_file\u001b[0m\u001b[0;34m,\u001b[0m\u001b[0;34m\u001b[0m\n",
       "\u001b[0;34m\u001b[0m    \u001b[0mobs_file\u001b[0m\u001b[0;34m,\u001b[0m\u001b[0;34m\u001b[0m\n",
       "\u001b[0;34m\u001b[0m    \u001b[0mgcm_varname\u001b[0m\u001b[0;34m=\u001b[0m\u001b[0;32mNone\u001b[0m\u001b[0;34m,\u001b[0m\u001b[0;34m\u001b[0m\n",
       "\u001b[0;34m\u001b[0m    \u001b[0mobs_varname\u001b[0m\u001b[0;34m=\u001b[0m\u001b[0;32mNone\u001b[0m\u001b[0;34m,\u001b[0m\u001b[0;34m\u001b[0m\n",
       "\u001b[0;34m\u001b[0m    \u001b[0mnum_cores\u001b[0m\u001b[0;34m=\u001b[0m\u001b[0;34m'4'\u001b[0m\u001b[0;34m,\u001b[0m\u001b[0;34m\u001b[0m\n",
       "\u001b[0;34m\u001b[0m    \u001b[0mloglevel\u001b[0m\u001b[0;34m=\u001b[0m\u001b[0;34m'INFO'\u001b[0m\u001b[0;34m,\u001b[0m\u001b[0;34m\u001b[0m\n",
       "\u001b[0;34m\u001b[0m    \u001b[0munits_bool\u001b[0m\u001b[0;34m=\u001b[0m\u001b[0;32mTrue\u001b[0m\u001b[0;34m,\u001b[0m\u001b[0;34m\u001b[0m\n",
       "\u001b[0;34m\u001b[0m    \u001b[0mn_pr_bool\u001b[0m\u001b[0;34m=\u001b[0m\u001b[0;32mTrue\u001b[0m\u001b[0;34m,\u001b[0m\u001b[0;34m\u001b[0m\n",
       "\u001b[0;34m\u001b[0m    \u001b[0mtasmax_units\u001b[0m\u001b[0;34m=\u001b[0m\u001b[0;34m'celsius'\u001b[0m\u001b[0;34m,\u001b[0m\u001b[0;34m\u001b[0m\n",
       "\u001b[0;34m\u001b[0m    \u001b[0mtasmin_units\u001b[0m\u001b[0;34m=\u001b[0m\u001b[0;34m'celsius'\u001b[0m\u001b[0;34m,\u001b[0m\u001b[0;34m\u001b[0m\n",
       "\u001b[0;34m\u001b[0m    \u001b[0mpr_units\u001b[0m\u001b[0;34m=\u001b[0m\u001b[0;34m'kg m-2 d-1'\u001b[0m\u001b[0;34m,\u001b[0m\u001b[0;34m\u001b[0m\n",
       "\u001b[0;34m\u001b[0m    \u001b[0mmax_gb\u001b[0m\u001b[0;34m=\u001b[0m\u001b[0;36m1.0\u001b[0m\u001b[0;34m,\u001b[0m\u001b[0;34m\u001b[0m\n",
       "\u001b[0;34m\u001b[0m    \u001b[0mstart_date\u001b[0m\u001b[0;34m=\u001b[0m\u001b[0mdatetime\u001b[0m\u001b[0;34m.\u001b[0m\u001b[0mdate\u001b[0m\u001b[0;34m(\u001b[0m\u001b[0;36m1971\u001b[0m\u001b[0;34m,\u001b[0m \u001b[0;36m1\u001b[0m\u001b[0;34m,\u001b[0m \u001b[0;36m1\u001b[0m\u001b[0;34m)\u001b[0m\u001b[0;34m,\u001b[0m\u001b[0;34m\u001b[0m\n",
       "\u001b[0;34m\u001b[0m    \u001b[0mend_date\u001b[0m\u001b[0;34m=\u001b[0m\u001b[0mdatetime\u001b[0m\u001b[0;34m.\u001b[0m\u001b[0mdate\u001b[0m\u001b[0;34m(\u001b[0m\u001b[0;36m2005\u001b[0m\u001b[0;34m,\u001b[0m \u001b[0;36m12\u001b[0m\u001b[0;34m,\u001b[0m \u001b[0;36m31\u001b[0m\u001b[0;34m)\u001b[0m\u001b[0;34m,\u001b[0m\u001b[0;34m\u001b[0m\n",
       "\u001b[0;34m\u001b[0m    \u001b[0mout_file\u001b[0m\u001b[0;34m=\u001b[0m\u001b[0;32mNone\u001b[0m\u001b[0;34m,\u001b[0m\u001b[0;34m\u001b[0m\n",
       "\u001b[0;34m\u001b[0m\u001b[0;34m)\u001b[0m\u001b[0;34m\u001b[0m\u001b[0;34m\u001b[0m\u001b[0m\n",
       "\u001b[0;31mDocstring:\u001b[0m\n",
       "Climate Imprint (CI) downscaling\n",
       "\n",
       "Parameters\n",
       "----------\n",
       "gcm_file : ComplexData:mimetype:`application/x-netcdf`, :mimetype:`application/x-ogc-dods`\n",
       "    Filename of GCM simulations\n",
       "obs_file : ComplexData:mimetype:`application/x-netcdf`, :mimetype:`application/x-ogc-dods`\n",
       "    Filename of high-res gridded historical observations\n",
       "out_file : string\n",
       "    Filename to create with the climate imprint outputs\n",
       "num_cores : {'1', '2', '3', '4'}positiveInteger\n",
       "    The number of cores to use for parallel execution\n",
       "loglevel : {'CRITICAL', 'ERROR', 'WARNING', 'INFO', 'DEBUG', 'NOTSET'}string\n",
       "    Logging level\n",
       "units_bool : boolean\n",
       "    Check the input units and convert them to the target output units\n",
       "n_pr_bool : boolean\n",
       "    Check for and eliminate negative precipitation values\n",
       "tasmax_units : string\n",
       "    Units used for tasmax in output file\n",
       "tasmin_units : string\n",
       "    Units used for tasmin in output file\n",
       "pr_units : string\n",
       "    Units used for pr in output file\n",
       "max_gb : float\n",
       "    Anapproximately how much RAM to use in the chunk I/O loop. It’s best to set this to about 1/3 to 1/4 of what you want the high-water mark to be\n",
       "start_date : date\n",
       "    Defines the stat of the calibration period\n",
       "end_date : date\n",
       "    Defines the end of the calibration period\n",
       "gcm_varname : string\n",
       "    Name of the GCM NetCDF variable to downscale (e.g. 'tasmax')\n",
       "obs_varname : string\n",
       "    Name of the NetCDF variable to downscale given in the observations file (e.g. 'tmax')\n",
       "\n",
       "Returns\n",
       "-------\n",
       "output : ComplexData:mimetype:`application/x-netcdf`\n",
       "    Output Netcdf File\n",
       "\u001b[0;31mFile:\u001b[0m      ~/code/chickadee/notebooks/</tmp/chickadee-venv/lib/python3.10/site-packages/birdy/client/base.py-1>\n",
       "\u001b[0;31mType:\u001b[0m      method"
      ]
     },
     "metadata": {},
     "output_type": "display_data"
    }
   ],
   "source": [
    "# NBVAL_IGNORE_OUTPUT\n",
    "chickadee.ci?"
   ]
  },
  {
   "cell_type": "markdown",
   "metadata": {},
   "source": [
    "IV. Set up an interactive map to initialize the inputs. These inputs are the <b>center point</b> of the 2.5 degree by 2.5 degree subdomain of the target region and 3 degree by 3 degree subdomain of the GCM region, the <b>climate variable</b> from the GCM input to downscale, the <b>dataset</b> to use as the GCM input (where choosing the CMIP6 data allows one to further select the <b>downscaling technique</b>, the <b>model</b>, the <b>CanESM5 run</b> if applicable, and the <b>emissions scenario</b>), and the <b>climatological period</b> of the target data. Some inputs are obtained from the [THREDDS data server](https://docker-dev03.pcic.uvic.ca/twitcher/ows/proxy/thredds/catalog.html)."
   ]
  },
  {
   "cell_type": "code",
   "execution_count": 4,
   "metadata": {},
   "outputs": [],
   "source": [
    "sub_layers = LayerGroup()\n",
    "thredds_catalog = \"https://docker-dev03.pcic.uvic.ca/twitcher/ows/proxy/thredds/catalog/datasets\"\n",
    "\n",
    "def get_subdomain(lat_min, lat_max, lon_min, lon_max, color, name):\n",
    "    coords = [(lat_min, lon_min), (lat_max, lon_max)]\n",
    "    return Rectangle(bounds=coords, color=color, name=name, draggable=True)\n",
    "\n",
    "def get_models():\n",
    "    session = HTMLSession()\n",
    "    r = session.get(f\"{thredds_catalog}/storage/data/climate/downscale/BCCAQ2/CMIP6_BCCAQv2/catalog.html\")\n",
    "    models = []\n",
    "    exclude = [\"CMIP6_BCCAQv2\", \"CWEC2020_Factors/\", \"Degree_Climatologies/\", \"Ensemble_Averages/\", \"nobackup/\", \"--\", \"\"]\n",
    "    for tt in r.html.find(\"tt\"):\n",
    "        if tt.text not in exclude:\n",
    "            models.append(tt.text[:-1])\n",
    "    models.sort()\n",
    "    return models\n",
    "\n",
    "def handle_dataset_change(change):\n",
    "    technique.disabled = not technique.disabled\n",
    "    model.disabled = not model.disabled\n",
    "    scenario.disabled = not scenario.disabled\n",
    "\n",
    "def handle_model_change(change):\n",
    "    if model.value == \"CanESM5\":\n",
    "        canesm5_run.disabled = False\n",
    "    else:\n",
    "        canesm5_run.disabled = True\n",
    "        \n",
    "def handle_interact(**kwargs):\n",
    "    point = (round(kwargs.get(\"coordinates\")[0], 5), round(kwargs.get(\"coordinates\")[1], 5))\n",
    "    center_hover.value = str(point)\n",
    "    if kwargs.get(\"type\") == \"click\":\n",
    "        print(sub_layers)\n",
    "        print(\"Hello\")\n",
    "        # Remove previous center point and subdomains\n",
    "        for layer in sub_layers.layers:\n",
    "            sub_layers.remove_layer(layer)\n",
    "\n",
    "        # Add new subdomains\n",
    "        m.center_point = point\n",
    "        center.value = str(m.center_point)\n",
    "        center_marker = Marker(location=m.center_point, name=\"Marker\")\n",
    "        \n",
    "        m.lat_min_obs, m.lat_max_obs = (m.center_point[0] - 1.25, m.center_point[0] + 1.25)\n",
    "        m.lon_min_obs, m.lon_max_obs = (m.center_point[1] - 1.25, m.center_point[1] + 1.25)\n",
    "        m.lat_min_gcm, m.lat_max_gcm = (m.center_point[0] - 1.5, m.center_point[0] + 1.5)\n",
    "        m.lon_min_gcm, m.lon_max_gcm = (m.center_point[1] - 1.5, m.center_point[1] + 1.5)\n",
    "\n",
    "        gcm_subdomain = get_subdomain(m.lat_min_gcm, m.lat_max_gcm, m.lon_min_gcm, m.lon_max_gcm, \"blue\", \"GCM\")\n",
    "        obs_subdomain = get_subdomain(m.lat_min_obs, m.lat_max_obs, m.lon_min_obs, m.lon_max_obs, \"red\", \"Obs\")\n",
    "\n",
    "        sub_layers.add_layer(center_marker)\n",
    "        sub_layers.add_layer(gcm_subdomain)\n",
    "        sub_layers.add_layer(obs_subdomain)\n",
    "        m.add_layer(sub_layers)"
   ]
  },
  {
   "cell_type": "code",
   "execution_count": 5,
   "metadata": {},
   "outputs": [
    {
     "data": {
      "application/vnd.jupyter.widget-view+json": {
       "model_id": "582a9531b9184d9aa5a7f33d9e89d3d6",
       "version_major": 2,
       "version_minor": 0
      },
      "text/plain": [
       "AppLayout(children=(Box(children=(Text(value='', placeholder=''), Text(value='', description='Center:', placeh…"
      ]
     },
     "execution_count": 5,
     "metadata": {},
     "output_type": "execute_result"
    }
   ],
   "source": [
    "mapnik = basemap_to_tiles(basemaps.OpenStreetMap.Mapnik)\n",
    "mapnik.base = True\n",
    "mapnik.name = \"Default\"\n",
    "\n",
    "m = Map(\n",
    "    basemap=mapnik,\n",
    "    center=(53.5, -120),\n",
    "    zoom=5,\n",
    "    layout=Layout(height=\"600px\"),\n",
    ")\n",
    "m.on_interaction(handle_interact)\n",
    "m.center_point = ()\n",
    "    \n",
    "legend = LegendControl({\"GCM\": \"blue\", \"Obs\": \"red\"}, name=\"Subdomains\", position=\"topright\")\n",
    "m.add_control(legend)\n",
    "\n",
    "center_hover = Text(value=\"\", placeholder=\"\") \n",
    "center = Text(value=\"\", placeholder=\"\", description=\"Center:\")\n",
    "vars = RadioButtons(options=[\"pr\", \"tasmax\", \"tasmin\"], description=\"Climate variable:\")\n",
    "dataset = RadioButtons(options=[\"PNWNAmet\", \"CMIP6\"], description=\"Dataset:\")\n",
    "dataset.observe(handle_dataset_change)\n",
    "\n",
    "technique = RadioButtons(options=[\"BCCAQv2\", \"MBCn\"], description=\"CMIP6 downscaling technique:\", disabled = True)\n",
    "model = Dropdown(options=get_models(), description=\"CMIP6 model:\", disabled = True)\n",
    "model.style.description_width = \"100px\"\n",
    "model.observe(handle_model_change)\n",
    "\n",
    "canesm5_runs = [\"r\" + str(r) + \"i1p2f1\" for r in range(1, 11)]\n",
    "canesm5_run = Dropdown(options=canesm5_runs, description=\"CanESM5 run:\", disabled = True)\n",
    "canesm5_run.style.description_width = \"100px\"\n",
    "\n",
    "scenario = RadioButtons(options=[(\"SSP1-2.6\", \"ssp126\"), (\"SSP2-4.5\", \"ssp245\"), (\"SSP5-8.5\", \"ssp585\")], description=\"CMIP6 emissions scenario:\", disabled = True)\n",
    "period = RadioButtons(options=[\"197101-200012\", \"198101-201012\"], description=\"Climatological period:\")\n",
    "\n",
    "box_layout = Layout(display='flex',\n",
    "                flex_flow = 'column', \n",
    "                width='110%',\n",
    "                align_items = 'center')\n",
    "control_box = Box(children = [center_hover, center, vars, dataset, technique, model, canesm5_run, scenario, period], layout=box_layout)\n",
    "AppLayout(center = m, right_sidebar = control_box, align_items = 'center')"
   ]
  },
  {
   "cell_type": "markdown",
   "metadata": {},
   "source": [
    "V. Obtain the input data files from the [THREDDS data server](https://docker-dev03.pcic.uvic.ca/twitcher/ows/proxy/thredds/catalog.html) and examine their structures."
   ]
  },
  {
   "cell_type": "code",
   "execution_count": 7,
   "metadata": {},
   "outputs": [
    {
     "name": "stdout",
     "output_type": "stream",
     "text": [
      "GCM File: https://docker-dev03.pcic.uvic.ca/twitcher/ows/proxy/thredds/dodsC/datasets/storage/data/climate/downscale/MBCn/CMIP6_MBCn/BCC-CSM2-MR_10/tasmax_day_MBCn+PCIC-Blend_BCC-CSM2-MR_historical+ssp245_r1i1p1f1_gn_19500101-21001231.nc\n",
      "\n",
      "Obs File: https://docker-dev03.pcic.uvic.ca/twitcher/ows/proxy/thredds/dodsC/datasets/storage/data/climate/PRISM/dataportal/tmax_monClim_PRISM_historical_run1_197101-200012.nc\n",
      "\n",
      "GCM Structure: dict_items([('lat', <class 'netCDF4._netCDF4.Dimension'>: name = 'lat', size = 510), ('lon', <class 'netCDF4._netCDF4.Dimension'>: name = 'lon', size = 1068), ('time', <class 'netCDF4._netCDF4.Dimension'>: name = 'time', size = 55115)])\n",
      "\n",
      "Obs Structure: dict_items([('time', <class 'netCDF4._netCDF4.Dimension'> (unlimited): name = 'time', size = 13), ('bnds', <class 'netCDF4._netCDF4.Dimension'>: name = 'bnds', size = 2), ('lat', <class 'netCDF4._netCDF4.Dimension'>: name = 'lat', size = 1680), ('lon', <class 'netCDF4._netCDF4.Dimension'>: name = 'lon', size = 3241), ('maxStrlen64', <class 'netCDF4._netCDF4.Dimension'>: name = 'maxStrlen64', size = 64)])\n",
      "\n"
     ]
    }
   ],
   "source": [
    "thredds_base = \"https://docker-dev03.pcic.uvic.ca/twitcher/ows/proxy/thredds/dodsC/datasets\"\n",
    "data_vars = {\"pr\": \"pr\", \"tasmax\": \"tmax\", \"tasmin\": \"tmin\"}\n",
    "\n",
    "gcm_var = vars.value\n",
    "obs_var = data_vars[gcm_var]\n",
    "\n",
    "if dataset.value == \"PNWNAmet\":\n",
    "    gcm_file = f\"{thredds_base}/storage/data/projects/dataportal/data/vic-gen2-forcing/PNWNAmet_{gcm_var}_invert_lat.nc\"\n",
    "else:\n",
    "    if technique.value == \"BCCAQv2\":\n",
    "        technique_dir = \"BCCAQ2\"\n",
    "        model_dir = model.value\n",
    "    else:\n",
    "        technique_dir = \"MBCn\"\n",
    "        model_dir = model.value + \"_10\"\n",
    "    model_catalog = f\"{thredds_catalog}/storage/data/climate/downscale/{technique_dir}/CMIP6_{technique.value}/{model_dir}/catalog.html\"\n",
    "    \n",
    "    session = HTMLSession()\n",
    "    r = session.get(model_catalog)\n",
    "    for tt in r.html.find(\"tt\"):\n",
    "        file = tt.text\n",
    "        if (gcm_var in file) and (scenario.value in file):\n",
    "            if (model.value == \"CanESM5\") and (canesm5_run.value not in file):\n",
    "                continue\n",
    "            break\n",
    "    gcm_file = f\"{thredds_base}/storage/data/climate/downscale/{technique_dir}/CMIP6_{technique.value}/{model_dir}/{file}\"\n",
    "        \n",
    "obs_file = f\"{thredds_base}/storage/data/climate/PRISM/dataportal/{obs_var}_monClim_PRISM_historical_run1_{period.value}.nc\"\n",
    "print(\"GCM File: \" + gcm_file + \"\\n\")\n",
    "print(\"Obs File: \" + obs_file + \"\\n\")\n",
    "gcm_dataset = Dataset(gcm_file)\n",
    "obs_dataset = Dataset(obs_file)\n",
    "print(\"GCM Structure: \" + str(gcm_dataset.dimensions.items()) + \"\\n\")\n",
    "print(\"Obs Structure: \" + str(obs_dataset.dimensions.items()) + \"\\n\")"
   ]
  },
  {
   "cell_type": "markdown",
   "metadata": {},
   "source": [
    "VI. Store the datasets' latitudes and longitudes into variables and examine their values."
   ]
  },
  {
   "cell_type": "code",
   "execution_count": 35,
   "metadata": {},
   "outputs": [],
   "source": [
    "gcm_lats = gcm_dataset.variables[\"lat\"][:]\n",
    "gcm_lons = gcm_dataset.variables[\"lon\"][:]\n",
    "obs_lats = obs_dataset.variables[\"lat\"][:]\n",
    "obs_lons = obs_dataset.variables[\"lon\"][:]"
   ]
  },
  {
   "cell_type": "code",
   "execution_count": 36,
   "metadata": {},
   "outputs": [
    {
     "data": {
      "text/plain": [
       "masked_array(data=[41.04166794, 41.125     , 41.20833206, 41.29166794,\n",
       "                   41.375     , 41.45833206, 41.54166794, 41.625     ,\n",
       "                   41.70833206, 41.79166794, 41.875     , 41.95833206,\n",
       "                   42.04166794, 42.125     , 42.20833206, 42.29166794,\n",
       "                   42.375     , 42.45833206, 42.54166794, 42.625     ,\n",
       "                   42.70833206, 42.79166794, 42.875     , 42.95833206,\n",
       "                   43.04166794, 43.125     , 43.20833206, 43.29166794,\n",
       "                   43.375     , 43.45833206, 43.54166794, 43.625     ,\n",
       "                   43.70833206, 43.79166794, 43.875     , 43.95833206,\n",
       "                   44.04166794, 44.125     , 44.20833206, 44.29166794,\n",
       "                   44.375     , 44.45833206, 44.54166794, 44.625     ,\n",
       "                   44.70833206, 44.79166794, 44.875     , 44.95833206,\n",
       "                   45.04166794, 45.125     , 45.20833206, 45.29166794,\n",
       "                   45.375     , 45.45833206, 45.54166794, 45.625     ,\n",
       "                   45.70833206, 45.79166794, 45.875     , 45.95833206,\n",
       "                   46.04166794, 46.125     , 46.20833206, 46.29166794,\n",
       "                   46.375     , 46.45833206, 46.54166794, 46.625     ,\n",
       "                   46.70833206, 46.79166794, 46.875     , 46.95833206,\n",
       "                   47.04166794, 47.125     , 47.20833206, 47.29166794,\n",
       "                   47.375     , 47.45833206, 47.54166794, 47.625     ,\n",
       "                   47.70833206, 47.79166794, 47.875     , 47.95833206,\n",
       "                   48.04166794, 48.125     , 48.20833206, 48.29166794,\n",
       "                   48.375     , 48.45833206, 48.54166794, 48.625     ,\n",
       "                   48.70833206, 48.79166794, 48.875     , 48.95833206,\n",
       "                   49.04166794, 49.125     , 49.20833206, 49.29166794,\n",
       "                   49.375     , 49.45833206, 49.54166794, 49.625     ,\n",
       "                   49.70833206, 49.79166794, 49.875     , 49.95833206,\n",
       "                   50.04166794, 50.125     , 50.20833206, 50.29166794,\n",
       "                   50.375     , 50.45833206, 50.54166794, 50.625     ,\n",
       "                   50.70833206, 50.79166794, 50.875     , 50.95833206,\n",
       "                   51.04166794, 51.125     , 51.20833206, 51.29166794,\n",
       "                   51.375     , 51.45833206, 51.54166794, 51.625     ,\n",
       "                   51.70833206, 51.79166794, 51.875     , 51.95833206,\n",
       "                   52.04166794, 52.125     , 52.20833206, 52.29166794,\n",
       "                   52.375     , 52.45833206, 52.54166794, 52.625     ,\n",
       "                   52.70833206, 52.79166794, 52.875     , 52.95833206,\n",
       "                   53.04166794, 53.125     , 53.20833588, 53.29166794,\n",
       "                   53.375     , 53.45833588, 53.54166794, 53.625     ,\n",
       "                   53.70833588, 53.79166794, 53.875     , 53.95833588,\n",
       "                   54.04166794, 54.125     , 54.20833588, 54.29166794,\n",
       "                   54.375     , 54.45833588, 54.54166794, 54.625     ,\n",
       "                   54.70833588, 54.79166794, 54.875     , 54.95833588,\n",
       "                   55.04166794, 55.125     , 55.20833588, 55.29166794,\n",
       "                   55.375     , 55.45833588, 55.54166794, 55.625     ,\n",
       "                   55.70833588, 55.79166794, 55.875     , 55.95833588,\n",
       "                   56.04166794, 56.125     , 56.20833588, 56.29166794,\n",
       "                   56.375     , 56.45833588, 56.54166794, 56.625     ,\n",
       "                   56.70833588, 56.79166794, 56.875     , 56.95833588,\n",
       "                   57.04166794, 57.125     , 57.20833588, 57.29166794,\n",
       "                   57.375     , 57.45833588, 57.54166794, 57.625     ,\n",
       "                   57.70833588, 57.79166794, 57.875     , 57.95833588,\n",
       "                   58.04166794, 58.125     , 58.20833588, 58.29166794,\n",
       "                   58.375     , 58.45833588, 58.54166794, 58.625     ,\n",
       "                   58.70833588, 58.79166794, 58.875     , 58.95833588,\n",
       "                   59.04166794, 59.125     , 59.20833588, 59.29166794,\n",
       "                   59.375     , 59.45833588, 59.54166794, 59.625     ,\n",
       "                   59.70833588, 59.79166794, 59.875     , 59.95833588,\n",
       "                   60.04166794, 60.125     , 60.20833588, 60.29166794,\n",
       "                   60.375     , 60.45833588, 60.54166794, 60.625     ,\n",
       "                   60.70833588, 60.79166794, 60.875     , 60.95833588,\n",
       "                   61.04166794, 61.125     , 61.20833588, 61.29166794,\n",
       "                   61.375     , 61.45833588, 61.54166794, 61.625     ,\n",
       "                   61.70833588, 61.79166794, 61.875     , 61.95833588,\n",
       "                   62.04166794, 62.125     , 62.20833588, 62.29166794,\n",
       "                   62.375     , 62.45833588, 62.54166794, 62.625     ,\n",
       "                   62.70833588, 62.79166794, 62.875     , 62.95833588,\n",
       "                   63.04166794, 63.125     , 63.20833588, 63.29166794,\n",
       "                   63.375     , 63.45833588, 63.54166794, 63.625     ,\n",
       "                   63.70833588, 63.79166794, 63.875     , 63.95833588,\n",
       "                   64.04166412, 64.125     , 64.20833588, 64.29166412,\n",
       "                   64.375     , 64.45833588, 64.54166412, 64.625     ,\n",
       "                   64.70833588, 64.79166412, 64.875     , 64.95833588,\n",
       "                   65.04166412, 65.125     , 65.20833588, 65.29166412,\n",
       "                   65.375     , 65.45833588, 65.54167175, 65.625     ,\n",
       "                   65.70833588, 65.79167175, 65.875     , 65.95833588,\n",
       "                   66.04167175, 66.125     , 66.20833588, 66.29167175,\n",
       "                   66.375     , 66.45833588, 66.54167175, 66.625     ,\n",
       "                   66.70833588, 66.79167175, 66.875     , 66.95833588,\n",
       "                   67.04167175, 67.125     , 67.20833588, 67.29167175,\n",
       "                   67.375     , 67.45833588, 67.54167175, 67.625     ,\n",
       "                   67.70833588, 67.79167175, 67.875     , 67.95833588,\n",
       "                   68.04167175, 68.125     , 68.20833588, 68.29167175,\n",
       "                   68.375     , 68.45833588, 68.54167175, 68.625     ,\n",
       "                   68.70833588, 68.79167175, 68.875     , 68.95833588,\n",
       "                   69.04167175, 69.125     , 69.20833588, 69.29167175,\n",
       "                   69.375     , 69.45833588, 69.54167175, 69.625     ,\n",
       "                   69.70833588, 69.79167175, 69.875     , 69.95833588,\n",
       "                   70.04167175, 70.125     , 70.20833588, 70.29167175,\n",
       "                   70.375     , 70.45833588, 70.54167175, 70.625     ,\n",
       "                   70.70833588, 70.79167175, 70.875     , 70.95833588,\n",
       "                   71.04167175, 71.125     , 71.20833588, 71.29167175,\n",
       "                   71.375     , 71.45833588, 71.54167175, 71.625     ,\n",
       "                   71.70833588, 71.79167175, 71.875     , 71.95833588,\n",
       "                   72.04167175, 72.125     , 72.20833588, 72.29167175,\n",
       "                   72.375     , 72.45833588, 72.54167175, 72.625     ,\n",
       "                   72.70833588, 72.79167175, 72.875     , 72.95833588,\n",
       "                   73.04167175, 73.125     , 73.20833588, 73.29167175,\n",
       "                   73.375     , 73.45833588, 73.54167175, 73.625     ,\n",
       "                   73.70833588, 73.79167175, 73.875     , 73.95833588,\n",
       "                   74.04167175, 74.125     , 74.20833588, 74.29167175,\n",
       "                   74.375     , 74.45833588, 74.54167175, 74.625     ,\n",
       "                   74.70833588, 74.79167175, 74.875     , 74.95833588,\n",
       "                   75.04167175, 75.125     , 75.20833588, 75.29167175,\n",
       "                   75.375     , 75.45833588, 75.54167175, 75.625     ,\n",
       "                   75.70833588, 75.79167175, 75.875     , 75.95833588,\n",
       "                   76.04167175, 76.125     , 76.20833588, 76.29167175,\n",
       "                   76.375     , 76.45833588, 76.54167175, 76.625     ,\n",
       "                   76.70833588, 76.79167175, 76.875     , 76.95833588,\n",
       "                   77.04167175, 77.125     , 77.20833588, 77.29167175,\n",
       "                   77.375     , 77.45833588, 77.54167175, 77.625     ,\n",
       "                   77.70833588, 77.79167175, 77.875     , 77.95833588,\n",
       "                   78.04167175, 78.125     , 78.20833588, 78.29167175,\n",
       "                   78.375     , 78.45833588, 78.54167175, 78.625     ,\n",
       "                   78.70833588, 78.79167175, 78.875     , 78.95833588,\n",
       "                   79.04167175, 79.125     , 79.20833588, 79.29167175,\n",
       "                   79.375     , 79.45833588, 79.54167175, 79.625     ,\n",
       "                   79.70833588, 79.79167175, 79.875     , 79.95833588,\n",
       "                   80.04167175, 80.125     , 80.20833588, 80.29167175,\n",
       "                   80.375     , 80.45833588, 80.54167175, 80.625     ,\n",
       "                   80.70833588, 80.79167175, 80.875     , 80.95833588,\n",
       "                   81.04167175, 81.125     , 81.20833588, 81.29167175,\n",
       "                   81.375     , 81.45833588, 81.54167175, 81.625     ,\n",
       "                   81.70833588, 81.79167175, 81.875     , 81.95833588,\n",
       "                   82.04167175, 82.125     , 82.20833588, 82.29167175,\n",
       "                   82.375     , 82.45833588, 82.54167175, 82.625     ,\n",
       "                   82.70833588, 82.79167175, 82.875     , 82.95833588,\n",
       "                   83.04167175, 83.125     , 83.20833588, 83.29167175,\n",
       "                   83.375     , 83.45833588],\n",
       "             mask=False,\n",
       "       fill_value=1e+20)"
      ]
     },
     "execution_count": 36,
     "metadata": {},
     "output_type": "execute_result"
    }
   ],
   "source": [
    "gcm_lats"
   ]
  },
  {
   "cell_type": "code",
   "execution_count": 37,
   "metadata": {},
   "outputs": [
    {
     "data": {
      "text/plain": [
       "masked_array(data=[-140.95832825, -140.875     , -140.79167175, ...,\n",
       "                    -52.20832825,  -52.12499619,  -52.04166031],\n",
       "             mask=False,\n",
       "       fill_value=1e+20)"
      ]
     },
     "execution_count": 37,
     "metadata": {},
     "output_type": "execute_result"
    }
   ],
   "source": [
    "gcm_lons"
   ]
  },
  {
   "cell_type": "code",
   "execution_count": 38,
   "metadata": {},
   "outputs": [
    {
     "data": {
      "text/plain": [
       "masked_array(data=[48.        , 48.00833333, 48.01666667, ...,\n",
       "                   61.975     , 61.98333333, 61.99166667],\n",
       "             mask=False,\n",
       "       fill_value=1e+20)"
      ]
     },
     "execution_count": 38,
     "metadata": {},
     "output_type": "execute_result"
    }
   ],
   "source": [
    "obs_lats"
   ]
  },
  {
   "cell_type": "code",
   "execution_count": 39,
   "metadata": {},
   "outputs": [
    {
     "data": {
      "text/plain": [
       "masked_array(data=[-140.        , -139.99166667, -139.98333333, ...,\n",
       "                   -113.01666667, -113.00833333, -113.        ],\n",
       "             mask=False,\n",
       "       fill_value=1e+20)"
      ]
     },
     "execution_count": 39,
     "metadata": {},
     "output_type": "execute_result"
    }
   ],
   "source": [
    "obs_lons"
   ]
  },
  {
   "cell_type": "markdown",
   "metadata": {},
   "source": [
    "VII. Request a subset of each dataset based on each subdomain. This is done by determining the indices corresponding to the min/max lat and lon values and using those in the THREDDS requests. The full time range for each dataset is also used."
   ]
  },
  {
   "cell_type": "code",
   "execution_count": 40,
   "metadata": {},
   "outputs": [],
   "source": [
    "def get_index_range(arr, min_val, max_val):\n",
    "    \"\"\"Compute the indices in an array that correspond to the array's values\n",
    "    closest to desired min/max values.\"\"\"        \n",
    "    min_index = np.argmin(np.abs(arr - min_val))\n",
    "    max_index = np.argmin(np.abs(arr - max_val))\n",
    "    return (min_index, max_index)"
   ]
  },
  {
   "cell_type": "code",
   "execution_count": 41,
   "metadata": {},
   "outputs": [],
   "source": [
    "gcm_lat_indices = get_index_range(gcm_lats, m.lat_min_gcm, m.lat_max_gcm)\n",
    "gcm_lon_indices = get_index_range(gcm_lons, m.lon_min_gcm, m.lon_max_gcm)\n",
    "obs_lat_indices = get_index_range(obs_lats, m.lat_min_obs, m.lat_max_obs)\n",
    "obs_lon_indices = get_index_range(obs_lons, m.lon_min_obs, m.lon_max_obs)"
   ]
  },
  {
   "cell_type": "code",
   "execution_count": 42,
   "metadata": {},
   "outputs": [
    {
     "name": "stdout",
     "output_type": "stream",
     "text": [
      "GCM lat index range: (181, 217)\n",
      "GCM lon index range: (133, 169)\n",
      "Obs lat index range: (1002, 1302)\n",
      "Obs lon index range: (1246, 1546)\n"
     ]
    }
   ],
   "source": [
    "print(\"GCM lat index range: \" + str(gcm_lat_indices))\n",
    "print(\"GCM lon index range: \" + str(gcm_lon_indices))\n",
    "print(\"Obs lat index range: \" + str(obs_lat_indices))\n",
    "print(\"Obs lon index range: \" + str(obs_lon_indices))"
   ]
  },
  {
   "cell_type": "code",
   "execution_count": 43,
   "metadata": {},
   "outputs": [],
   "source": [
    "gcm_lat_range = f\"[{gcm_lat_indices[0]}:{gcm_lat_indices[1]}]\"\n",
    "gcm_lon_range = f\"[{gcm_lon_indices[0]}:{gcm_lon_indices[1]}]\"\n",
    "obs_lat_range = f\"[{obs_lat_indices[0]}:{obs_lat_indices[1]}]\"\n",
    "obs_lon_range = f\"[{obs_lon_indices[0]}:{obs_lon_indices[1]}]\""
   ]
  },
  {
   "cell_type": "code",
   "execution_count": 44,
   "metadata": {},
   "outputs": [],
   "source": [
    "gcm_ntime = len(gcm_dataset.variables[\"time\"][:])\n",
    "gcm_time_range = f\"[0:{gcm_ntime - 1}]\"\n",
    "obs_ntime = len(obs_dataset.variables[\"time\"][:])\n",
    "obs_time_range = f\"[0:{obs_ntime - 1}]\""
   ]
  },
  {
   "cell_type": "code",
   "execution_count": 45,
   "metadata": {},
   "outputs": [
    {
     "name": "stdout",
     "output_type": "stream",
     "text": [
      "GCM Subset: https://docker-dev03.pcic.uvic.ca/twitcher/ows/proxy/thredds/dodsC/datasets/storage/data/climate/downscale/MBCn/CMIP6_MBCn/ACCESS-ESM1-5_10/pr_day_MBCn+PCIC-Blend_ACCESS-ESM1-5_historical+ssp126_r1i1p1f1_gn_19500101-21001231.nc?time,lat[181:217],lon[133:169],pr[0:55151][181:217][133:169]\n",
      "\n",
      "Obs Subset: https://docker-dev03.pcic.uvic.ca/twitcher/ows/proxy/thredds/dodsC/datasets/storage/data/climate/PRISM/dataportal/pr_monClim_PRISM_historical_run1_197101-200012.nc?time,lat[1002:1302],lon[1246:1546],climatology_bounds,crs,pr[0:12][1002:1302][1246:1546]\n",
      "\n",
      "GCM Subset Structure: dict_items([('lat', <class 'netCDF4._netCDF4.Dimension'>: name = 'lat', size = 37), ('lon', <class 'netCDF4._netCDF4.Dimension'>: name = 'lon', size = 37), ('time', <class 'netCDF4._netCDF4.Dimension'>: name = 'time', size = 55152)])\n",
      "\n",
      "Obs Subset Structure: dict_items([('time', <class 'netCDF4._netCDF4.Dimension'> (unlimited): name = 'time', size = 13), ('bnds', <class 'netCDF4._netCDF4.Dimension'>: name = 'bnds', size = 2), ('lat', <class 'netCDF4._netCDF4.Dimension'>: name = 'lat', size = 301), ('lon', <class 'netCDF4._netCDF4.Dimension'>: name = 'lon', size = 301), ('maxStrlen64', <class 'netCDF4._netCDF4.Dimension'>: name = 'maxStrlen64', size = 64)])\n"
     ]
    }
   ],
   "source": [
    "gcm_subset_file = f\"{gcm_file}?time,lat{gcm_lat_range},lon{gcm_lon_range},{gcm_var}{gcm_time_range}{gcm_lat_range}{gcm_lon_range}\"\n",
    "obs_subset_file = f\"{obs_file}?time,lat{obs_lat_range},lon{obs_lon_range},climatology_bounds,crs,{obs_var}{obs_time_range}{obs_lat_range}{obs_lon_range}\"\n",
    "print(\"GCM Subset: \" + gcm_subset_file + \"\\n\")\n",
    "print(\"Obs Subset: \" + obs_subset_file + \"\\n\")\n",
    "gcm_subset_dataset = Dataset(gcm_subset_file)\n",
    "obs_subset_dataset = Dataset(obs_subset_file)\n",
    "print(\"GCM Subset Structure: \" + str(gcm_subset_dataset.dimensions.items()) + \"\\n\")\n",
    "print(\"Obs Subset Structure: \" + str(obs_subset_dataset.dimensions.items()))"
   ]
  },
  {
   "cell_type": "code",
   "execution_count": 46,
   "metadata": {},
   "outputs": [
    {
     "name": "stdout",
     "output_type": "stream",
     "text": [
      "GCM subset lats: [56.125      56.20833588 56.29166794 56.375      56.45833588 56.54166794\n",
      " 56.625      56.70833588 56.79166794 56.875      56.95833588 57.04166794\n",
      " 57.125      57.20833588 57.29166794 57.375      57.45833588 57.54166794\n",
      " 57.625      57.70833588 57.79166794 57.875      57.95833588 58.04166794\n",
      " 58.125      58.20833588 58.29166794 58.375      58.45833588 58.54166794\n",
      " 58.625      58.70833588 58.79166794 58.875      58.95833588 59.04166794\n",
      " 59.125     ]\n",
      "\n",
      "GCM subset lons: [-129.875      -129.79167175 -129.70832825 -129.625      -129.54167175\n",
      " -129.45832825 -129.375      -129.29167175 -129.20832825 -129.125\n",
      " -129.04167175 -128.95832825 -128.875      -128.79167175 -128.70832825\n",
      " -128.625      -128.54167175 -128.45832825 -128.375      -128.29167175\n",
      " -128.20832825 -128.125      -128.04167175 -127.95833588 -127.875\n",
      " -127.79166412 -127.70833588 -127.625      -127.54166412 -127.45833588\n",
      " -127.375      -127.29166412 -127.20833588 -127.125      -127.04166412\n",
      " -126.95833588 -126.875     ]\n"
     ]
    }
   ],
   "source": [
    "print(\"GCM subset lats: \" + str(gcm_subset_dataset.variables[\"lat\"][:]) + \"\\n\")\n",
    "print(\"GCM subset lons: \" + str(gcm_subset_dataset.variables[\"lon\"][:]))"
   ]
  },
  {
   "cell_type": "code",
   "execution_count": 47,
   "metadata": {},
   "outputs": [
    {
     "name": "stdout",
     "output_type": "stream",
     "text": [
      "Obs subset lats: [56.35       56.35833333 56.36666667 56.375      56.38333333 56.39166667\n",
      " 56.4        56.40833333 56.41666667 56.425      56.43333333 56.44166667\n",
      " 56.45       56.45833333 56.46666667 56.475      56.48333333 56.49166667\n",
      " 56.5        56.50833333 56.51666667 56.525      56.53333333 56.54166667\n",
      " 56.55       56.55833333 56.56666667 56.575      56.58333333 56.59166667\n",
      " 56.6        56.60833333 56.61666667 56.625      56.63333333 56.64166667\n",
      " 56.65       56.65833333 56.66666667 56.675      56.68333333 56.69166667\n",
      " 56.7        56.70833333 56.71666667 56.725      56.73333333 56.74166667\n",
      " 56.75       56.75833333 56.76666667 56.775      56.78333333 56.79166667\n",
      " 56.8        56.80833333 56.81666667 56.825      56.83333333 56.84166667\n",
      " 56.85       56.85833333 56.86666667 56.875      56.88333333 56.89166667\n",
      " 56.9        56.90833333 56.91666667 56.925      56.93333333 56.94166667\n",
      " 56.95       56.95833333 56.96666667 56.975      56.98333333 56.99166667\n",
      " 57.         57.00833333 57.01666667 57.025      57.03333333 57.04166667\n",
      " 57.05       57.05833333 57.06666667 57.075      57.08333333 57.09166667\n",
      " 57.1        57.10833333 57.11666667 57.125      57.13333333 57.14166667\n",
      " 57.15       57.15833333 57.16666667 57.175      57.18333333 57.19166667\n",
      " 57.2        57.20833333 57.21666667 57.225      57.23333333 57.24166667\n",
      " 57.25       57.25833333 57.26666667 57.275      57.28333333 57.29166667\n",
      " 57.3        57.30833333 57.31666667 57.325      57.33333333 57.34166667\n",
      " 57.35       57.35833333 57.36666667 57.375      57.38333333 57.39166667\n",
      " 57.4        57.40833333 57.41666667 57.425      57.43333333 57.44166667\n",
      " 57.45       57.45833333 57.46666667 57.475      57.48333333 57.49166667\n",
      " 57.5        57.50833333 57.51666667 57.525      57.53333333 57.54166667\n",
      " 57.55       57.55833333 57.56666667 57.575      57.58333333 57.59166667\n",
      " 57.6        57.60833333 57.61666667 57.625      57.63333333 57.64166667\n",
      " 57.65       57.65833333 57.66666667 57.675      57.68333333 57.69166667\n",
      " 57.7        57.70833333 57.71666667 57.725      57.73333333 57.74166667\n",
      " 57.75       57.75833333 57.76666667 57.775      57.78333333 57.79166667\n",
      " 57.8        57.80833333 57.81666667 57.825      57.83333333 57.84166667\n",
      " 57.85       57.85833333 57.86666667 57.875      57.88333333 57.89166667\n",
      " 57.9        57.90833333 57.91666667 57.925      57.93333333 57.94166667\n",
      " 57.95       57.95833333 57.96666667 57.975      57.98333333 57.99166667\n",
      " 58.         58.00833333 58.01666667 58.025      58.03333333 58.04166667\n",
      " 58.05       58.05833333 58.06666667 58.075      58.08333333 58.09166667\n",
      " 58.1        58.10833333 58.11666667 58.125      58.13333333 58.14166667\n",
      " 58.15       58.15833333 58.16666667 58.175      58.18333333 58.19166667\n",
      " 58.2        58.20833333 58.21666667 58.225      58.23333333 58.24166667\n",
      " 58.25       58.25833333 58.26666667 58.275      58.28333333 58.29166667\n",
      " 58.3        58.30833333 58.31666667 58.325      58.33333333 58.34166667\n",
      " 58.35       58.35833333 58.36666667 58.375      58.38333333 58.39166667\n",
      " 58.4        58.40833333 58.41666667 58.425      58.43333333 58.44166667\n",
      " 58.45       58.45833333 58.46666667 58.475      58.48333333 58.49166667\n",
      " 58.5        58.50833333 58.51666667 58.525      58.53333333 58.54166667\n",
      " 58.55       58.55833333 58.56666667 58.575      58.58333333 58.59166667\n",
      " 58.6        58.60833333 58.61666667 58.625      58.63333333 58.64166667\n",
      " 58.65       58.65833333 58.66666667 58.675      58.68333333 58.69166667\n",
      " 58.7        58.70833333 58.71666667 58.725      58.73333333 58.74166667\n",
      " 58.75       58.75833333 58.76666667 58.775      58.78333333 58.79166667\n",
      " 58.8        58.80833333 58.81666667 58.825      58.83333333 58.84166667\n",
      " 58.85      ]\n",
      "\n",
      "Obs subset lons: [-129.61666667 -129.60833333 -129.6        -129.59166667 -129.58333333\n",
      " -129.575      -129.56666667 -129.55833333 -129.55       -129.54166667\n",
      " -129.53333333 -129.525      -129.51666667 -129.50833333 -129.5\n",
      " -129.49166667 -129.48333333 -129.475      -129.46666667 -129.45833333\n",
      " -129.45       -129.44166667 -129.43333333 -129.425      -129.41666667\n",
      " -129.40833333 -129.4        -129.39166667 -129.38333333 -129.375\n",
      " -129.36666667 -129.35833333 -129.35       -129.34166667 -129.33333333\n",
      " -129.325      -129.31666667 -129.30833333 -129.3        -129.29166667\n",
      " -129.28333333 -129.275      -129.26666667 -129.25833333 -129.25\n",
      " -129.24166667 -129.23333333 -129.225      -129.21666667 -129.20833333\n",
      " -129.2        -129.19166667 -129.18333333 -129.175      -129.16666667\n",
      " -129.15833333 -129.15       -129.14166667 -129.13333333 -129.125\n",
      " -129.11666667 -129.10833333 -129.1        -129.09166667 -129.08333333\n",
      " -129.075      -129.06666667 -129.05833333 -129.05       -129.04166667\n",
      " -129.03333333 -129.025      -129.01666667 -129.00833333 -129.\n",
      " -128.99166667 -128.98333333 -128.975      -128.96666667 -128.95833333\n",
      " -128.95       -128.94166667 -128.93333333 -128.925      -128.91666667\n",
      " -128.90833333 -128.9        -128.89166667 -128.88333333 -128.875\n",
      " -128.86666667 -128.85833333 -128.85       -128.84166667 -128.83333333\n",
      " -128.825      -128.81666667 -128.80833333 -128.8        -128.79166667\n",
      " -128.78333333 -128.775      -128.76666667 -128.75833333 -128.75\n",
      " -128.74166667 -128.73333333 -128.725      -128.71666667 -128.70833333\n",
      " -128.7        -128.69166667 -128.68333333 -128.675      -128.66666667\n",
      " -128.65833333 -128.65       -128.64166667 -128.63333333 -128.625\n",
      " -128.61666667 -128.60833333 -128.6        -128.59166667 -128.58333333\n",
      " -128.575      -128.56666667 -128.55833333 -128.55       -128.54166667\n",
      " -128.53333333 -128.525      -128.51666667 -128.50833333 -128.5\n",
      " -128.49166667 -128.48333333 -128.475      -128.46666667 -128.45833333\n",
      " -128.45       -128.44166667 -128.43333333 -128.425      -128.41666667\n",
      " -128.40833333 -128.4        -128.39166667 -128.38333333 -128.375\n",
      " -128.36666667 -128.35833333 -128.35       -128.34166667 -128.33333333\n",
      " -128.325      -128.31666667 -128.30833333 -128.3        -128.29166667\n",
      " -128.28333333 -128.275      -128.26666667 -128.25833333 -128.25\n",
      " -128.24166667 -128.23333333 -128.225      -128.21666667 -128.20833333\n",
      " -128.2        -128.19166667 -128.18333333 -128.175      -128.16666667\n",
      " -128.15833333 -128.15       -128.14166667 -128.13333333 -128.125\n",
      " -128.11666667 -128.10833333 -128.1        -128.09166667 -128.08333333\n",
      " -128.075      -128.06666667 -128.05833333 -128.05       -128.04166667\n",
      " -128.03333333 -128.025      -128.01666667 -128.00833333 -128.\n",
      " -127.99166667 -127.98333333 -127.975      -127.96666667 -127.95833333\n",
      " -127.95       -127.94166667 -127.93333333 -127.925      -127.91666667\n",
      " -127.90833333 -127.9        -127.89166667 -127.88333333 -127.875\n",
      " -127.86666667 -127.85833333 -127.85       -127.84166667 -127.83333333\n",
      " -127.825      -127.81666667 -127.80833333 -127.8        -127.79166667\n",
      " -127.78333333 -127.775      -127.76666667 -127.75833333 -127.75\n",
      " -127.74166667 -127.73333333 -127.725      -127.71666667 -127.70833333\n",
      " -127.7        -127.69166667 -127.68333333 -127.675      -127.66666667\n",
      " -127.65833333 -127.65       -127.64166667 -127.63333333 -127.625\n",
      " -127.61666667 -127.60833333 -127.6        -127.59166667 -127.58333333\n",
      " -127.575      -127.56666667 -127.55833333 -127.55       -127.54166667\n",
      " -127.53333333 -127.525      -127.51666667 -127.50833333 -127.5\n",
      " -127.49166667 -127.48333333 -127.475      -127.46666667 -127.45833333\n",
      " -127.45       -127.44166667 -127.43333333 -127.425      -127.41666667\n",
      " -127.40833333 -127.4        -127.39166667 -127.38333333 -127.375\n",
      " -127.36666667 -127.35833333 -127.35       -127.34166667 -127.33333333\n",
      " -127.325      -127.31666667 -127.30833333 -127.3        -127.29166667\n",
      " -127.28333333 -127.275      -127.26666667 -127.25833333 -127.25\n",
      " -127.24166667 -127.23333333 -127.225      -127.21666667 -127.20833333\n",
      " -127.2        -127.19166667 -127.18333333 -127.175      -127.16666667\n",
      " -127.15833333 -127.15       -127.14166667 -127.13333333 -127.125\n",
      " -127.11666667]\n"
     ]
    }
   ],
   "source": [
    "print(\"Obs subset lats: \" + str(obs_subset_dataset.variables[\"lat\"][:]) + \"\\n\")\n",
    "print(\"Obs subset lons: \" + str(obs_subset_dataset.variables[\"lon\"][:]))"
   ]
  },
  {
   "cell_type": "markdown",
   "metadata": {},
   "source": [
    "VIII. Put together the parameters for `chickadee.ci`. In the case for `pr`, the `units_bool` parameter is set to `False` in order to avoid converting the PRISM's `mm` units to the PNWNAmet's `mm/day` units."
   ]
  },
  {
   "cell_type": "code",
   "execution_count": 48,
   "metadata": {},
   "outputs": [],
   "source": [
    "params = {\"gcm_file\": gcm_subset_file, \"obs_file\": obs_subset_file, \"gcm_varname\": gcm_var, \"obs_varname\": obs_var, \"max_gb\": 0.5, \n",
    "          \"start_date\": date(1981, 1, 1), \"end_date\": date(2010, 12, 31)}\n",
    "if gcm_var == \"pr\":\n",
    "    params[\"units_bool\"] = False\n",
    "    params[\"pr_units\"] = \"mm/day\""
   ]
  },
  {
   "cell_type": "markdown",
   "metadata": {},
   "source": [
    "## 2. Run `chickadee.ci` and access the output."
   ]
  },
  {
   "cell_type": "markdown",
   "metadata": {},
   "source": [
    "I. Run `chickadee.ci`."
   ]
  },
  {
   "cell_type": "code",
   "execution_count": 49,
   "metadata": {},
   "outputs": [
    {
     "data": {
      "application/vnd.jupyter.widget-view+json": {
       "model_id": "f8b4c8723030481c892e70b254517411",
       "version_major": 2,
       "version_minor": 0
      },
      "text/plain": [
       "HBox(children=(IntProgress(value=0, bar_style='info', description='Processing:'), Button(button_style='danger'…"
      ]
     },
     "metadata": {},
     "output_type": "display_data"
    },
    {
     "name": "stderr",
     "output_type": "stream",
     "text": [
      "ERROR:root:Could not read status document.\n",
      "ERROR:root:Could not parse XML response.\n"
     ]
    }
   ],
   "source": [
    "with NamedTemporaryFile(suffix=\".nc\", prefix=\"output_\", dir=\"/tmp\", delete=True) as out_file:\n",
    "    params[\"out_file\"] = out_file.name\n",
    "    output = chickadee.ci(**params)"
   ]
  },
  {
   "cell_type": "markdown",
   "metadata": {},
   "source": [
    "II. Download the output directly from the WPS output URL."
   ]
  },
  {
   "cell_type": "code",
   "execution_count": 50,
   "metadata": {},
   "outputs": [
    {
     "name": "stdout",
     "output_type": "stream",
     "text": [
      "Download output from this URL: https://docker-dev03.pcic.uvic.ca/wpsoutputs/f71267b6-7cc5-11ee-80e1-0242ac12000f/output_xzpelu3_.nc\n"
     ]
    }
   ],
   "source": [
    "print(\"Download output from this URL: \" + output.get()[0])"
   ]
  },
  {
   "cell_type": "code",
   "execution_count": null,
   "metadata": {},
   "outputs": [],
   "source": []
  }
 ],
 "metadata": {
  "kernelspec": {
   "display_name": "Python 3 (ipykernel)",
   "language": "python",
   "name": "python3"
  },
  "language_info": {
   "codemirror_mode": {
    "name": "ipython",
    "version": 3
   },
   "file_extension": ".py",
   "mimetype": "text/x-python",
   "name": "python",
   "nbconvert_exporter": "python",
   "pygments_lexer": "ipython3",
   "version": "3.10.12"
  },
  "widgets": {
   "application/vnd.jupyter.widget-state+json": {
    "state": {
     "0083829a4cda4879a43192211dac4233": {
      "model_module": "@jupyter-widgets/controls",
      "model_module_version": "2.0.0",
      "model_name": "DropdownModel",
      "state": {
       "_options_labels": [
        "ACCESS-CM2",
        "ACCESS-ESM1-5",
        "BCC-CSM2-MR",
        "CMCC-ESM2",
        "CNRM-CM6-1",
        "CNRM-ESM2-1",
        "CanESM5",
        "EC-Earth3",
        "EC-Earth3-Veg",
        "FGOALS-g3",
        "GFDL-ESM4",
        "HadGEM3-GC31-LL",
        "INM-CM4-8",
        "INM-CM5-0",
        "IPSL-CM6A-LR",
        "KACE-1-0-G",
        "KIOST-ESM",
        "MIROC-ES2L",
        "MIROC6",
        "MPI-ESM1-2-HR",
        "MPI-ESM1-2-LR",
        "MRI-ESM2-0",
        "NorESM2-LM",
        "NorESM2-MM",
        "TaiESM1",
        "UKESM1-0-LL"
       ],
       "description": "CMIP6 model:",
       "index": 2,
       "layout": "IPY_MODEL_1a05c70a2d9048e798e7e580a49a72f5",
       "style": "IPY_MODEL_24df9f7baddc4612990261b2d9bd8c7e"
      }
     },
     "02f9c3966083474cbe4a893ef09b7360": {
      "model_module": "@jupyter-widgets/base",
      "model_module_version": "2.0.0",
      "model_name": "LayoutModel",
      "state": {}
     },
     "0834e5cd3ef940618d2b37194a799570": {
      "model_module": "jupyter-leaflet",
      "model_module_version": "^0.17",
      "model_name": "LeafletRectangleModel",
      "state": {
       "_model_module_version": "^0.17",
       "_view_module_version": "^0.17",
       "bounds": [
        [
         55.56463,
         -129.7693
        ],
        [
         58.56463,
         -126.76929999999999
        ]
       ],
       "color": "blue",
       "draggable": true,
       "name": "GCM",
       "options": [
        "color",
        "dash_array",
        "draggable",
        "fill",
        "fill_color",
        "fill_opacity",
        "line_cap",
        "line_join",
        "no_clip",
        "opacity",
        "pointer_events",
        "smooth_factor",
        "stroke",
        "transform",
        "weight"
       ],
       "rotation": true,
       "scaling": true,
       "transform": false,
       "uniform_scaling": false
      }
     },
     "0cc62dfce23843a9ae5322ce57a8cbbf": {
      "model_module": "@jupyter-widgets/controls",
      "model_module_version": "2.0.0",
      "model_name": "TextStyleModel",
      "state": {
       "description_width": "",
       "font_size": null,
       "text_color": null
      }
     },
     "0e1f0f2a88f341eaaa0dc320c193da1e": {
      "model_module": "jupyter-leaflet",
      "model_module_version": "^0.17",
      "model_name": "LeafletMapStyleModel",
      "state": {
       "_model_module_version": "^0.17"
      }
     },
     "1662e4932be04fb6af25be7d7205a62c": {
      "model_module": "@jupyter-widgets/controls",
      "model_module_version": "2.0.0",
      "model_name": "DescriptionStyleModel",
      "state": {
       "description_width": ""
      }
     },
     "190b56e93a8e47e1a9be13fb56627073": {
      "model_module": "@jupyter-widgets/controls",
      "model_module_version": "2.0.0",
      "model_name": "TextModel",
      "state": {
       "layout": "IPY_MODEL_bad79f0342f0425d835e38ce84fc055d",
       "placeholder": "",
       "style": "IPY_MODEL_2cb37a9f45574e3ead23a25077331a02",
       "value": "(31.47053, -134.90818)"
      }
     },
     "192d5d4ec63949ba9b727ff8f99495ef": {
      "model_module": "@jupyter-widgets/base",
      "model_module_version": "2.0.0",
      "model_name": "LayoutModel",
      "state": {}
     },
     "1a05c70a2d9048e798e7e580a49a72f5": {
      "model_module": "@jupyter-widgets/base",
      "model_module_version": "2.0.0",
      "model_name": "LayoutModel",
      "state": {}
     },
     "21d03ca3e5bc4be38c196aacb6f99900": {
      "model_module": "jupyter-leaflet",
      "model_module_version": "^0.17",
      "model_name": "LeafletMarkerModel",
      "state": {
       "_model_module_version": "^0.17",
       "_view_module_version": "^0.17",
       "location": [
        55.80128,
        -126.86238
       ],
       "name": "Marker",
       "options": [
        "alt",
        "draggable",
        "keyboard",
        "rise_offset",
        "rise_on_hover",
        "rotation_angle",
        "rotation_origin",
        "title",
        "z_index_offset"
       ]
      }
     },
     "24df9f7baddc4612990261b2d9bd8c7e": {
      "model_module": "@jupyter-widgets/controls",
      "model_module_version": "2.0.0",
      "model_name": "DescriptionStyleModel",
      "state": {
       "description_width": "100px"
      }
     },
     "27b4ce4c18c74afcb7d1ce8cb95a73f9": {
      "model_module": "@jupyter-widgets/controls",
      "model_module_version": "2.0.0",
      "model_name": "DescriptionStyleModel",
      "state": {
       "description_width": ""
      }
     },
     "2cb37a9f45574e3ead23a25077331a02": {
      "model_module": "@jupyter-widgets/controls",
      "model_module_version": "2.0.0",
      "model_name": "TextStyleModel",
      "state": {
       "description_width": "",
       "font_size": null,
       "text_color": null
      }
     },
     "2ccc7b1eb291423fa0659dd6a948acf9": {
      "model_module": "jupyter-leaflet",
      "model_module_version": "^0.17",
      "model_name": "LeafletRectangleModel",
      "state": {
       "_model_module_version": "^0.17",
       "_view_module_version": "^0.17",
       "bounds": [
        [
         55.81463,
         -129.82706
        ],
        [
         58.31463,
         -127.32705999999999
        ]
       ],
       "color": "red",
       "draggable": true,
       "name": "Obs",
       "options": [
        "color",
        "dash_array",
        "draggable",
        "fill",
        "fill_color",
        "fill_opacity",
        "line_cap",
        "line_join",
        "no_clip",
        "opacity",
        "pointer_events",
        "smooth_factor",
        "stroke",
        "transform",
        "weight"
       ],
       "rotation": true,
       "scaling": true,
       "transform": false,
       "uniform_scaling": false
      }
     },
     "2d8ce118359e40dc9737567be3139cbb": {
      "model_module": "jupyter-leaflet",
      "model_module_version": "^0.17",
      "model_name": "LeafletMarkerModel",
      "state": {
       "_model_module_version": "^0.17",
       "_view_module_version": "^0.17",
       "location": [
        57.06463,
        -128.2693
       ],
       "name": "Marker",
       "options": [
        "alt",
        "draggable",
        "keyboard",
        "rise_offset",
        "rise_on_hover",
        "rotation_angle",
        "rotation_origin",
        "title",
        "z_index_offset"
       ]
      }
     },
     "31fb87d271944545a249543e37d0b694": {
      "model_module": "jupyter-leaflet",
      "model_module_version": "^0.17",
      "model_name": "LeafletRectangleModel",
      "state": {
       "_model_module_version": "^0.17",
       "_view_module_version": "^0.17",
       "bounds": [
        [
         51.48834,
         -125.59252
        ],
        [
         54.48834,
         -122.59252
        ]
       ],
       "color": "blue",
       "draggable": true,
       "name": "GCM",
       "options": [
        "color",
        "dash_array",
        "draggable",
        "fill",
        "fill_color",
        "fill_opacity",
        "line_cap",
        "line_join",
        "no_clip",
        "opacity",
        "pointer_events",
        "smooth_factor",
        "stroke",
        "transform",
        "weight"
       ],
       "rotation": true,
       "scaling": true,
       "transform": false,
       "uniform_scaling": false
      }
     },
     "329aae56f3834445b154ce573c1f17b4": {
      "model_module": "@jupyter-widgets/controls",
      "model_module_version": "2.0.0",
      "model_name": "DescriptionStyleModel",
      "state": {
       "description_width": ""
      }
     },
     "33e7dbe779db48e79d3d4f2e8ab62e8d": {
      "model_module": "jupyter-leaflet",
      "model_module_version": "^0.17",
      "model_name": "LeafletMarkerModel",
      "state": {
       "_model_module_version": "^0.17",
       "_view_module_version": "^0.17",
       "location": [
        54.62298,
        -122.90543
       ],
       "name": "Marker",
       "options": [
        "alt",
        "draggable",
        "keyboard",
        "rise_offset",
        "rise_on_hover",
        "rotation_angle",
        "rotation_origin",
        "title",
        "z_index_offset"
       ]
      }
     },
     "348050f5e41248bf992c0aa8b627f094": {
      "model_module": "jupyter-leaflet",
      "model_module_version": "^0.17",
      "model_name": "LeafletMarkerModel",
      "state": {
       "_model_module_version": "^0.17",
       "_view_module_version": "^0.17",
       "location": [
        54.90188,
        -117.45363
       ],
       "name": "Marker",
       "options": [
        "alt",
        "draggable",
        "keyboard",
        "rise_offset",
        "rise_on_hover",
        "rotation_angle",
        "rotation_origin",
        "title",
        "z_index_offset"
       ]
      }
     },
     "361dfc3beacd40b1b3a04116f4514ad8": {
      "model_module": "jupyter-leaflet",
      "model_module_version": "^0.17",
      "model_name": "LeafletMapStyleModel",
      "state": {
       "_model_module_version": "^0.17"
      }
     },
     "37b559c5f7a64bf5bc156d6b6a61eac7": {
      "model_module": "jupyter-leaflet",
      "model_module_version": "^0.17",
      "model_name": "LeafletMarkerModel",
      "state": {
       "_model_module_version": "^0.17",
       "_view_module_version": "^0.17",
       "location": [
        57.06463,
        -128.57706
       ],
       "name": "Marker",
       "options": [
        "alt",
        "draggable",
        "keyboard",
        "rise_offset",
        "rise_on_hover",
        "rotation_angle",
        "rotation_origin",
        "title",
        "z_index_offset"
       ]
      }
     },
     "3d601cd66d544073a25d294f97e1741f": {
      "model_module": "jupyter-leaflet",
      "model_module_version": "^0.17",
      "model_name": "LeafletMarkerModel",
      "state": {
       "_model_module_version": "^0.17",
       "_view_module_version": "^0.17",
       "location": [
        56.60789,
        -128.18136
       ],
       "name": "Marker",
       "options": [
        "alt",
        "draggable",
        "keyboard",
        "rise_offset",
        "rise_on_hover",
        "rotation_angle",
        "rotation_origin",
        "title",
        "z_index_offset"
       ]
      }
     },
     "3d9fa3f18a16413180567e8341476797": {
      "model_module": "jupyter-leaflet",
      "model_module_version": "^0.17",
      "model_name": "LeafletZoomControlModel",
      "state": {
       "_model_module_version": "^0.17",
       "_view_module_version": "^0.17",
       "options": [
        "position",
        "zoom_in_text",
        "zoom_in_title",
        "zoom_out_text",
        "zoom_out_title"
       ]
      }
     },
     "415b5250329140bd8bc9cb43e8efe035": {
      "model_module": "jupyter-leaflet",
      "model_module_version": "^0.17",
      "model_name": "LeafletMarkerModel",
      "state": {
       "_model_module_version": "^0.17",
       "_view_module_version": "^0.17",
       "location": [
        57.70415,
        -127.38997
       ],
       "name": "Marker",
       "options": [
        "alt",
        "draggable",
        "keyboard",
        "rise_offset",
        "rise_on_hover",
        "rotation_angle",
        "rotation_origin",
        "title",
        "z_index_offset"
       ]
      }
     },
     "419449d874fe42a49f02ebd1493239ab": {
      "model_module": "jupyter-leaflet",
      "model_module_version": "^0.17",
      "model_name": "LeafletRectangleModel",
      "state": {
       "_model_module_version": "^0.17",
       "_view_module_version": "^0.17",
       "bounds": [
        [
         55.35789,
         -129.43136
        ],
        [
         57.85789,
         -126.93136000000001
        ]
       ],
       "color": "red",
       "draggable": true,
       "name": "Obs",
       "options": [
        "color",
        "dash_array",
        "draggable",
        "fill",
        "fill_color",
        "fill_opacity",
        "line_cap",
        "line_join",
        "no_clip",
        "opacity",
        "pointer_events",
        "smooth_factor",
        "stroke",
        "transform",
        "weight"
       ],
       "rotation": true,
       "scaling": true,
       "transform": false,
       "uniform_scaling": false
      }
     },
     "444502493c264eabade8427b82eda302": {
      "model_module": "jupyter-leaflet",
      "model_module_version": "^0.17",
      "model_name": "LeafletMarkerModel",
      "state": {
       "_model_module_version": "^0.17",
       "_view_module_version": "^0.17",
       "location": [
        52.26816,
        -125.23563
       ],
       "name": "Marker",
       "options": [
        "alt",
        "draggable",
        "keyboard",
        "rise_offset",
        "rise_on_hover",
        "rotation_angle",
        "rotation_origin",
        "title",
        "z_index_offset"
       ]
      }
     },
     "4697f42d00004d359bd164ded9f0caf2": {
      "model_module": "jupyter-leaflet",
      "model_module_version": "^0.17",
      "model_name": "LeafletMarkerModel",
      "state": {
       "_model_module_version": "^0.17",
       "_view_module_version": "^0.17",
       "location": [
        55.99838,
        -127.96153
       ],
       "name": "Marker",
       "options": [
        "alt",
        "draggable",
        "keyboard",
        "rise_offset",
        "rise_on_hover",
        "rotation_angle",
        "rotation_origin",
        "title",
        "z_index_offset"
       ]
      }
     },
     "49ecf8f9291c4267a62a2a1503a0eba6": {
      "model_module": "@jupyter-widgets/base",
      "model_module_version": "2.0.0",
      "model_name": "LayoutModel",
      "state": {}
     },
     "524a4e0c4dad4663afd1fbdaaa59f848": {
      "model_module": "jupyter-leaflet",
      "model_module_version": "^0.17",
      "model_name": "LeafletRectangleModel",
      "state": {
       "_model_module_version": "^0.17",
       "_view_module_version": "^0.17",
       "bounds": [
        [
         55.56463,
         -130.07706
        ],
        [
         58.56463,
         -127.07705999999999
        ]
       ],
       "color": "blue",
       "draggable": true,
       "name": "GCM",
       "options": [
        "color",
        "dash_array",
        "draggable",
        "fill",
        "fill_color",
        "fill_opacity",
        "line_cap",
        "line_join",
        "no_clip",
        "opacity",
        "pointer_events",
        "smooth_factor",
        "stroke",
        "transform",
        "weight"
       ],
       "rotation": true,
       "scaling": true,
       "transform": false,
       "uniform_scaling": false
      }
     },
     "52a9c88465eb4c8385ae59f220992789": {
      "model_module": "jupyter-leaflet",
      "model_module_version": "^0.17",
      "model_name": "LeafletLayerGroupModel",
      "state": {
       "_model_module_version": "^0.17",
       "_view_module_version": "^0.17",
       "layers": [
        "IPY_MODEL_2d8ce118359e40dc9737567be3139cbb",
        "IPY_MODEL_0834e5cd3ef940618d2b37194a799570",
        "IPY_MODEL_b6e017e4e7a941d0bf77d00e47617602"
       ]
      }
     },
     "5778280d413c45568273a40427bbc536": {
      "model_module": "jupyter-leaflet",
      "model_module_version": "^0.17",
      "model_name": "LeafletRectangleModel",
      "state": {
       "_model_module_version": "^0.17",
       "_view_module_version": "^0.17",
       "bounds": [
        [
         56.20415,
         -128.88997
        ],
        [
         59.20415,
         -125.88997
        ]
       ],
       "color": "blue",
       "draggable": true,
       "name": "GCM",
       "options": [
        "color",
        "dash_array",
        "draggable",
        "fill",
        "fill_color",
        "fill_opacity",
        "line_cap",
        "line_join",
        "no_clip",
        "opacity",
        "pointer_events",
        "smooth_factor",
        "stroke",
        "transform",
        "weight"
       ],
       "rotation": true,
       "scaling": true,
       "transform": false,
       "uniform_scaling": false
      }
     },
     "577ae69a193941578a345d700ea0e57e": {
      "model_module": "jupyter-leaflet",
      "model_module_version": "^0.17",
      "model_name": "LeafletRectangleModel",
      "state": {
       "_model_module_version": "^0.17",
       "_view_module_version": "^0.17",
       "bounds": [
        [
         53.40188,
         -118.95363
        ],
        [
         56.40188,
         -115.95363
        ]
       ],
       "color": "blue",
       "draggable": true,
       "name": "GCM",
       "options": [
        "color",
        "dash_array",
        "draggable",
        "fill",
        "fill_color",
        "fill_opacity",
        "line_cap",
        "line_join",
        "no_clip",
        "opacity",
        "pointer_events",
        "smooth_factor",
        "stroke",
        "transform",
        "weight"
       ],
       "rotation": true,
       "scaling": true,
       "transform": false,
       "uniform_scaling": false
      }
     },
     "582a9531b9184d9aa5a7f33d9e89d3d6": {
      "model_module": "@jupyter-widgets/controls",
      "model_module_version": "2.0.0",
      "model_name": "GridBoxModel",
      "state": {
       "children": [
        "IPY_MODEL_75323018e2324401bd049de44772617b",
        "IPY_MODEL_5c44b8a2f87c4e8c97c0bc37d59b882e"
       ],
       "layout": "IPY_MODEL_b9a148b0544c4e5b8498ffa56893f955"
      }
     },
     "583f1b386d4b4f3b813d25fdb2e68ceb": {
      "model_module": "@jupyter-widgets/controls",
      "model_module_version": "2.0.0",
      "model_name": "DropdownModel",
      "state": {
       "_options_labels": [
        "r1i1p2f1",
        "r2i1p2f1",
        "r3i1p2f1",
        "r4i1p2f1",
        "r5i1p2f1",
        "r6i1p2f1",
        "r7i1p2f1",
        "r8i1p2f1",
        "r9i1p2f1",
        "r10i1p2f1"
       ],
       "description": "CanESM5 run:",
       "disabled": true,
       "index": 5,
       "layout": "IPY_MODEL_7f55759eadd24e8b814c96a0047567c5",
       "style": "IPY_MODEL_e9eb9bf727604328aa5a49186ec8f9f9"
      }
     },
     "5c44b8a2f87c4e8c97c0bc37d59b882e": {
      "model_module": "jupyter-leaflet",
      "model_module_version": "^0.17",
      "model_name": "LeafletMapModel",
      "state": {
       "_model_module_version": "^0.17",
       "_view_module_version": "^0.17",
       "bottom": 2950,
       "center": [
        53.5,
        -120
       ],
       "controls": [
        "IPY_MODEL_3d9fa3f18a16413180567e8341476797",
        "IPY_MODEL_772e5b435fcb4f60a15d4aa588ea4e94",
        "IPY_MODEL_c22d06b24e7a4f1a8d5b3ed07ba49c7d"
       ],
       "default_style": "IPY_MODEL_0e1f0f2a88f341eaaa0dc320c193da1e",
       "dragging_style": "IPY_MODEL_951860a35f764f71a46b95b50b54356b",
       "east": -96.767578125,
       "fullscreen": false,
       "interpolation": "bilinear",
       "layers": [
        "IPY_MODEL_e8e2d93c235240608299a10538a2dd52",
        "IPY_MODEL_52a9c88465eb4c8385ae59f220992789"
       ],
       "layout": "IPY_MODEL_a5c5b422456c4be3a20248f12f477aed",
       "left": 837,
       "modisdate": "2023-11-08",
       "north": 60.6301017662667,
       "options": [
        "bounce_at_zoom_limits",
        "box_zoom",
        "center",
        "close_popup_on_click",
        "double_click_zoom",
        "dragging",
        "fullscreen",
        "inertia",
        "inertia_deceleration",
        "inertia_max_speed",
        "interpolation",
        "keyboard",
        "keyboard_pan_offset",
        "keyboard_zoom_offset",
        "max_zoom",
        "min_zoom",
        "prefer_canvas",
        "scroll_wheel_zoom",
        "tap",
        "tap_tolerance",
        "touch_zoom",
        "world_copy_jump",
        "zoom",
        "zoom_animation_threshold",
        "zoom_delta",
        "zoom_snap"
       ],
       "prefer_canvas": false,
       "right": 1894,
       "south": 44.902577996288876,
       "style": "IPY_MODEL_0e1f0f2a88f341eaaa0dc320c193da1e",
       "top": 2350,
       "west": -143.21777343750003,
       "window_url": "http://localhost:8889/lab",
       "zoom": 5
      }
     },
     "605608c86a314521b855aa893f08d206": {
      "model_module": "jupyter-leaflet",
      "model_module_version": "^0.17",
      "model_name": "LeafletRectangleModel",
      "state": {
       "_model_module_version": "^0.17",
       "_view_module_version": "^0.17",
       "bounds": [
        [
         53.12298,
         -124.40543
        ],
        [
         56.12298,
         -121.40543
        ]
       ],
       "color": "blue",
       "draggable": true,
       "name": "GCM",
       "options": [
        "color",
        "dash_array",
        "draggable",
        "fill",
        "fill_color",
        "fill_opacity",
        "line_cap",
        "line_join",
        "no_clip",
        "opacity",
        "pointer_events",
        "smooth_factor",
        "stroke",
        "transform",
        "weight"
       ],
       "rotation": true,
       "scaling": true,
       "transform": false,
       "uniform_scaling": false
      }
     },
     "61fc7095548149e29e7ba01bd5c54e65": {
      "model_module": "@jupyter-widgets/controls",
      "model_module_version": "2.0.0",
      "model_name": "RadioButtonsModel",
      "state": {
       "_options_labels": [
        "197101-200012",
        "198101-201012"
       ],
       "description": "Climatological period:",
       "index": 0,
       "layout": "IPY_MODEL_02f9c3966083474cbe4a893ef09b7360",
       "style": "IPY_MODEL_1662e4932be04fb6af25be7d7205a62c"
      }
     },
     "6332cedadf3842048634b1739344cfda": {
      "model_module": "jupyter-leaflet",
      "model_module_version": "^0.17",
      "model_name": "LeafletMarkerModel",
      "state": {
       "_model_module_version": "^0.17",
       "_view_module_version": "^0.17",
       "location": [
        56.29216,
        -126.77445
       ],
       "name": "Marker",
       "options": [
        "alt",
        "draggable",
        "keyboard",
        "rise_offset",
        "rise_on_hover",
        "rotation_angle",
        "rotation_origin",
        "title",
        "z_index_offset"
       ]
      }
     },
     "648b26247a8a48bfa9d59b0493f4c4d5": {
      "model_module": "jupyter-leaflet",
      "model_module_version": "^0.17",
      "model_name": "LeafletRectangleModel",
      "state": {
       "_model_module_version": "^0.17",
       "_view_module_version": "^0.17",
       "bounds": [
        [
         55.10789,
         -129.68136
        ],
        [
         58.10789,
         -126.68136000000001
        ]
       ],
       "color": "blue",
       "draggable": true,
       "name": "GCM",
       "options": [
        "color",
        "dash_array",
        "draggable",
        "fill",
        "fill_color",
        "fill_opacity",
        "line_cap",
        "line_join",
        "no_clip",
        "opacity",
        "pointer_events",
        "smooth_factor",
        "stroke",
        "transform",
        "weight"
       ],
       "rotation": true,
       "scaling": true,
       "transform": false,
       "uniform_scaling": false
      }
     },
     "676fb14fd59b41848ad934f56d396dfd": {
      "model_module": "jupyter-leaflet",
      "model_module_version": "^0.17",
      "model_name": "LeafletRectangleModel",
      "state": {
       "_model_module_version": "^0.17",
       "_view_module_version": "^0.17",
       "bounds": [
        [
         53.65188,
         -118.70363
        ],
        [
         56.15188,
         -116.20363
        ]
       ],
       "color": "red",
       "draggable": true,
       "name": "Obs",
       "options": [
        "color",
        "dash_array",
        "draggable",
        "fill",
        "fill_color",
        "fill_opacity",
        "line_cap",
        "line_join",
        "no_clip",
        "opacity",
        "pointer_events",
        "smooth_factor",
        "stroke",
        "transform",
        "weight"
       ],
       "rotation": true,
       "scaling": true,
       "transform": false,
       "uniform_scaling": false
      }
     },
     "693abaa56ae34f63a295e9a30574e07a": {
      "model_module": "jupyter-leaflet",
      "model_module_version": "^0.17",
      "model_name": "LeafletRectangleModel",
      "state": {
       "_model_module_version": "^0.17",
       "_view_module_version": "^0.17",
       "bounds": [
        [
         54.79216,
         -128.27445
        ],
        [
         57.79216,
         -125.27445
        ]
       ],
       "color": "blue",
       "draggable": true,
       "name": "GCM",
       "options": [
        "color",
        "dash_array",
        "draggable",
        "fill",
        "fill_color",
        "fill_opacity",
        "line_cap",
        "line_join",
        "no_clip",
        "opacity",
        "pointer_events",
        "smooth_factor",
        "stroke",
        "transform",
        "weight"
       ],
       "rotation": true,
       "scaling": true,
       "transform": false,
       "uniform_scaling": false
      }
     },
     "6a5f85b11d5e45eeab106b197ee42c17": {
      "model_module": "jupyter-leaflet",
      "model_module_version": "^0.17",
      "model_name": "LeafletRectangleModel",
      "state": {
       "_model_module_version": "^0.17",
       "_view_module_version": "^0.17",
       "bounds": [
        [
         54.49838,
         -129.46152999999998
        ],
        [
         57.49838,
         -126.46153
        ]
       ],
       "color": "blue",
       "draggable": true,
       "name": "GCM",
       "options": [
        "color",
        "dash_array",
        "draggable",
        "fill",
        "fill_color",
        "fill_opacity",
        "line_cap",
        "line_join",
        "no_clip",
        "opacity",
        "pointer_events",
        "smooth_factor",
        "stroke",
        "transform",
        "weight"
       ],
       "rotation": true,
       "scaling": true,
       "transform": false,
       "uniform_scaling": false
      }
     },
     "6b68664aca3148db8a3217de108192c0": {
      "model_module": "jupyter-leaflet",
      "model_module_version": "^0.17",
      "model_name": "LeafletRectangleModel",
      "state": {
       "_model_module_version": "^0.17",
       "_view_module_version": "^0.17",
       "bounds": [
        [
         54.55128,
         -128.11238
        ],
        [
         57.05128,
         -125.61238
        ]
       ],
       "color": "red",
       "draggable": true,
       "name": "Obs",
       "options": [
        "color",
        "dash_array",
        "draggable",
        "fill",
        "fill_color",
        "fill_opacity",
        "line_cap",
        "line_join",
        "no_clip",
        "opacity",
        "pointer_events",
        "smooth_factor",
        "stroke",
        "transform",
        "weight"
       ],
       "rotation": true,
       "scaling": true,
       "transform": false,
       "uniform_scaling": false
      }
     },
     "6c68b95576f841478685b3bef4d4516d": {
      "model_module": "jupyter-leaflet",
      "model_module_version": "^0.17",
      "model_name": "LeafletRectangleModel",
      "state": {
       "_model_module_version": "^0.17",
       "_view_module_version": "^0.17",
       "bounds": [
        [
         52.08087,
         -126.96926
        ],
        [
         54.58087,
         -124.46926
        ]
       ],
       "color": "red",
       "draggable": true,
       "name": "Obs",
       "options": [
        "color",
        "dash_array",
        "draggable",
        "fill",
        "fill_color",
        "fill_opacity",
        "line_cap",
        "line_join",
        "no_clip",
        "opacity",
        "pointer_events",
        "smooth_factor",
        "stroke",
        "transform",
        "weight"
       ],
       "rotation": true,
       "scaling": true,
       "transform": false,
       "uniform_scaling": false
      }
     },
     "6c6e68c69db14c33ab39b5593db9d39d": {
      "model_module": "jupyter-leaflet",
      "model_module_version": "^0.17",
      "model_name": "LeafletRectangleModel",
      "state": {
       "_model_module_version": "^0.17",
       "_view_module_version": "^0.17",
       "bounds": [
        [
         50.76816,
         -126.73563
        ],
        [
         53.76816,
         -123.73563
        ]
       ],
       "color": "blue",
       "draggable": true,
       "name": "GCM",
       "options": [
        "color",
        "dash_array",
        "draggable",
        "fill",
        "fill_color",
        "fill_opacity",
        "line_cap",
        "line_join",
        "no_clip",
        "opacity",
        "pointer_events",
        "smooth_factor",
        "stroke",
        "transform",
        "weight"
       ],
       "rotation": true,
       "scaling": true,
       "transform": false,
       "uniform_scaling": false
      }
     },
     "70f1f4d4f1ab469f8046bf868ea252b6": {
      "model_module": "jupyter-leaflet",
      "model_module_version": "^0.17",
      "model_name": "LeafletRectangleModel",
      "state": {
       "_model_module_version": "^0.17",
       "_view_module_version": "^0.17",
       "bounds": [
        [
         55.04216,
         -128.02445
        ],
        [
         57.54216,
         -125.52445
        ]
       ],
       "color": "red",
       "draggable": true,
       "name": "Obs",
       "options": [
        "color",
        "dash_array",
        "draggable",
        "fill",
        "fill_color",
        "fill_opacity",
        "line_cap",
        "line_join",
        "no_clip",
        "opacity",
        "pointer_events",
        "smooth_factor",
        "stroke",
        "transform",
        "weight"
       ],
       "rotation": true,
       "scaling": true,
       "transform": false,
       "uniform_scaling": false
      }
     },
     "75323018e2324401bd049de44772617b": {
      "model_module": "@jupyter-widgets/controls",
      "model_module_version": "2.0.0",
      "model_name": "BoxModel",
      "state": {
       "children": [
        "IPY_MODEL_190b56e93a8e47e1a9be13fb56627073",
        "IPY_MODEL_aeac96f6ad1a48ab9ad363f8e48988bc",
        "IPY_MODEL_c2643282842d489a90ea01cb03a83805",
        "IPY_MODEL_cf712c92228a49bbbbe0680826f2ccbd",
        "IPY_MODEL_b00367948d144feb87f4303c8769355c",
        "IPY_MODEL_0083829a4cda4879a43192211dac4233",
        "IPY_MODEL_583f1b386d4b4f3b813d25fdb2e68ceb",
        "IPY_MODEL_fb6d2c7da7d74aaf81fca3ba7023315a",
        "IPY_MODEL_61fc7095548149e29e7ba01bd5c54e65"
       ],
       "layout": "IPY_MODEL_9cd29c4871d94c2885d373a101996959"
      }
     },
     "763a746ade49480880a0d8f67b17936b": {
      "model_module": "jupyter-leaflet",
      "model_module_version": "^0.17",
      "model_name": "LeafletRectangleModel",
      "state": {
       "_model_module_version": "^0.17",
       "_view_module_version": "^0.17",
       "bounds": [
        [
         51.01816,
         -126.48563
        ],
        [
         53.51816,
         -123.98563
        ]
       ],
       "color": "red",
       "draggable": true,
       "name": "Obs",
       "options": [
        "color",
        "dash_array",
        "draggable",
        "fill",
        "fill_color",
        "fill_opacity",
        "line_cap",
        "line_join",
        "no_clip",
        "opacity",
        "pointer_events",
        "smooth_factor",
        "stroke",
        "transform",
        "weight"
       ],
       "rotation": true,
       "scaling": true,
       "transform": false,
       "uniform_scaling": false
      }
     },
     "772e5b435fcb4f60a15d4aa588ea4e94": {
      "model_module": "jupyter-leaflet",
      "model_module_version": "^0.17",
      "model_name": "LeafletAttributionControlModel",
      "state": {
       "_model_module_version": "^0.17",
       "_view_module_version": "^0.17",
       "options": [
        "position",
        "prefix"
       ],
       "position": "bottomright",
       "prefix": "ipyleaflet"
      }
     },
     "77899f9fdcd741b1b2d1d93630e8cbdc": {
      "model_module": "jupyter-leaflet",
      "model_module_version": "^0.17",
      "model_name": "LeafletRectangleModel",
      "state": {
       "_model_module_version": "^0.17",
       "_view_module_version": "^0.17",
       "bounds": [
        [
         51.73834,
         -125.34252
        ],
        [
         54.23834,
         -122.84252
        ]
       ],
       "color": "red",
       "draggable": true,
       "name": "Obs",
       "options": [
        "color",
        "dash_array",
        "draggable",
        "fill",
        "fill_color",
        "fill_opacity",
        "line_cap",
        "line_join",
        "no_clip",
        "opacity",
        "pointer_events",
        "smooth_factor",
        "stroke",
        "transform",
        "weight"
       ],
       "rotation": true,
       "scaling": true,
       "transform": false,
       "uniform_scaling": false
      }
     },
     "77ae5e3aeb7945f69f4e830351c1ed93": {
      "model_module": "@jupyter-widgets/base",
      "model_module_version": "2.0.0",
      "model_name": "LayoutModel",
      "state": {}
     },
     "7ab30c1aee264934a15dc577ceb23e7e": {
      "model_module": "@jupyter-widgets/controls",
      "model_module_version": "2.0.0",
      "model_name": "DescriptionStyleModel",
      "state": {
       "description_width": ""
      }
     },
     "7f55759eadd24e8b814c96a0047567c5": {
      "model_module": "@jupyter-widgets/base",
      "model_module_version": "2.0.0",
      "model_name": "LayoutModel",
      "state": {}
     },
     "8205a1aa76ee44ac9def24c9b53bbcc0": {
      "model_module": "@jupyter-widgets/base",
      "model_module_version": "2.0.0",
      "model_name": "LayoutModel",
      "state": {}
     },
     "8751dfb2d570433a87db27613b956f68": {
      "model_module": "jupyter-leaflet",
      "model_module_version": "^0.17",
      "model_name": "LeafletMarkerModel",
      "state": {
       "_model_module_version": "^0.17",
       "_view_module_version": "^0.17",
       "location": [
        56.80088,
        -127.69774
       ],
       "name": "Marker",
       "options": [
        "alt",
        "draggable",
        "keyboard",
        "rise_offset",
        "rise_on_hover",
        "rotation_angle",
        "rotation_origin",
        "title",
        "z_index_offset"
       ]
      }
     },
     "8ed5488aa0454676b23fc2e4cc6b7af9": {
      "model_module": "jupyter-leaflet",
      "model_module_version": "^0.17",
      "model_name": "LeafletRectangleModel",
      "state": {
       "_model_module_version": "^0.17",
       "_view_module_version": "^0.17",
       "bounds": [
        [
         51.85711,
         -125.98821
        ],
        [
         54.85711,
         -122.98821
        ]
       ],
       "color": "blue",
       "draggable": true,
       "name": "GCM",
       "options": [
        "color",
        "dash_array",
        "draggable",
        "fill",
        "fill_color",
        "fill_opacity",
        "line_cap",
        "line_join",
        "no_clip",
        "opacity",
        "pointer_events",
        "smooth_factor",
        "stroke",
        "transform",
        "weight"
       ],
       "rotation": true,
       "scaling": true,
       "transform": false,
       "uniform_scaling": false
      }
     },
     "8fe88bd465024064b6f7af1dbe127550": {
      "model_module": "jupyter-leaflet",
      "model_module_version": "^0.17",
      "model_name": "LeafletRectangleModel",
      "state": {
       "_model_module_version": "^0.17",
       "_view_module_version": "^0.17",
       "bounds": [
        [
         51.69945,
         -126.12011
        ],
        [
         54.69945,
         -123.12011
        ]
       ],
       "color": "blue",
       "draggable": true,
       "name": "GCM",
       "options": [
        "color",
        "dash_array",
        "draggable",
        "fill",
        "fill_color",
        "fill_opacity",
        "line_cap",
        "line_join",
        "no_clip",
        "opacity",
        "pointer_events",
        "smooth_factor",
        "stroke",
        "transform",
        "weight"
       ],
       "rotation": true,
       "scaling": true,
       "transform": false,
       "uniform_scaling": false
      }
     },
     "92b33f3eeb054697a6afc7664cf0cc0d": {
      "model_module": "jupyter-leaflet",
      "model_module_version": "^0.17",
      "model_name": "LeafletRectangleModel",
      "state": {
       "_model_module_version": "^0.17",
       "_view_module_version": "^0.17",
       "bounds": [
        [
         51.94945,
         -125.87011
        ],
        [
         54.44945,
         -123.37011
        ]
       ],
       "color": "red",
       "draggable": true,
       "name": "Obs",
       "options": [
        "color",
        "dash_array",
        "draggable",
        "fill",
        "fill_color",
        "fill_opacity",
        "line_cap",
        "line_join",
        "no_clip",
        "opacity",
        "pointer_events",
        "smooth_factor",
        "stroke",
        "transform",
        "weight"
       ],
       "rotation": true,
       "scaling": true,
       "transform": false,
       "uniform_scaling": false
      }
     },
     "951860a35f764f71a46b95b50b54356b": {
      "model_module": "jupyter-leaflet",
      "model_module_version": "^0.17",
      "model_name": "LeafletMapStyleModel",
      "state": {
       "_model_module_version": "^0.17",
       "cursor": "move"
      }
     },
     "98e44031e8474037b89d4f1b0cc6510d": {
      "model_module": "jupyter-leaflet",
      "model_module_version": "^0.17",
      "model_name": "LeafletRectangleModel",
      "state": {
       "_model_module_version": "^0.17",
       "_view_module_version": "^0.17",
       "bounds": [
        [
         51.89677,
         -125.51838
        ],
        [
         54.39677,
         -123.01838
        ]
       ],
       "color": "red",
       "draggable": true,
       "name": "Obs",
       "options": [
        "color",
        "dash_array",
        "draggable",
        "fill",
        "fill_color",
        "fill_opacity",
        "line_cap",
        "line_join",
        "no_clip",
        "opacity",
        "pointer_events",
        "smooth_factor",
        "stroke",
        "transform",
        "weight"
       ],
       "rotation": true,
       "scaling": true,
       "transform": false,
       "uniform_scaling": false
      }
     },
     "9a618e6350f349a4ab93a56866c36db4": {
      "model_module": "jupyter-leaflet",
      "model_module_version": "^0.17",
      "model_name": "LeafletRectangleModel",
      "state": {
       "_model_module_version": "^0.17",
       "_view_module_version": "^0.17",
       "bounds": [
        [
         52.10711,
         -125.73821
        ],
        [
         54.60711,
         -123.23821
        ]
       ],
       "color": "red",
       "draggable": true,
       "name": "Obs",
       "options": [
        "color",
        "dash_array",
        "draggable",
        "fill",
        "fill_color",
        "fill_opacity",
        "line_cap",
        "line_join",
        "no_clip",
        "opacity",
        "pointer_events",
        "smooth_factor",
        "stroke",
        "transform",
        "weight"
       ],
       "rotation": true,
       "scaling": true,
       "transform": false,
       "uniform_scaling": false
      }
     },
     "9ac1dac238764fce9a27998b88130998": {
      "model_module": "jupyter-leaflet",
      "model_module_version": "^0.17",
      "model_name": "LeafletRectangleModel",
      "state": {
       "_model_module_version": "^0.17",
       "_view_module_version": "^0.17",
       "bounds": [
        [
         55.30088,
         -129.19774
        ],
        [
         58.30088,
         -126.19774
        ]
       ],
       "color": "blue",
       "draggable": true,
       "name": "GCM",
       "options": [
        "color",
        "dash_array",
        "draggable",
        "fill",
        "fill_color",
        "fill_opacity",
        "line_cap",
        "line_join",
        "no_clip",
        "opacity",
        "pointer_events",
        "smooth_factor",
        "stroke",
        "transform",
        "weight"
       ],
       "rotation": true,
       "scaling": true,
       "transform": false,
       "uniform_scaling": false
      }
     },
     "9cd29c4871d94c2885d373a101996959": {
      "model_module": "@jupyter-widgets/base",
      "model_module_version": "2.0.0",
      "model_name": "LayoutModel",
      "state": {
       "align_items": "center",
       "display": "flex",
       "flex_flow": "column",
       "grid_area": "right-sidebar",
       "width": "110%"
      }
     },
     "a1a6e4bca89d4f2f878813e133254546": {
      "model_module": "jupyter-leaflet",
      "model_module_version": "^0.17",
      "model_name": "LeafletMarkerModel",
      "state": {
       "_model_module_version": "^0.17",
       "_view_module_version": "^0.17",
       "location": [
        53.33087,
        -125.71926
       ],
       "name": "Marker",
       "options": [
        "alt",
        "draggable",
        "keyboard",
        "rise_offset",
        "rise_on_hover",
        "rotation_angle",
        "rotation_origin",
        "title",
        "z_index_offset"
       ]
      }
     },
     "a5c5b422456c4be3a20248f12f477aed": {
      "model_module": "@jupyter-widgets/base",
      "model_module_version": "2.0.0",
      "model_name": "LayoutModel",
      "state": {
       "grid_area": "center",
       "height": "600px"
      }
     },
     "a863e794d8064c618ddf3c45acb252f4": {
      "model_module": "jupyter-leaflet",
      "model_module_version": "^0.17",
      "model_name": "LeafletRectangleModel",
      "state": {
       "_model_module_version": "^0.17",
       "_view_module_version": "^0.17",
       "bounds": [
        [
         55.55088,
         -128.94774
        ],
        [
         58.05088,
         -126.44774
        ]
       ],
       "color": "red",
       "draggable": true,
       "name": "Obs",
       "options": [
        "color",
        "dash_array",
        "draggable",
        "fill",
        "fill_color",
        "fill_opacity",
        "line_cap",
        "line_join",
        "no_clip",
        "opacity",
        "pointer_events",
        "smooth_factor",
        "stroke",
        "transform",
        "weight"
       ],
       "rotation": true,
       "scaling": true,
       "transform": false,
       "uniform_scaling": false
      }
     },
     "aeac96f6ad1a48ab9ad363f8e48988bc": {
      "model_module": "@jupyter-widgets/controls",
      "model_module_version": "2.0.0",
      "model_name": "TextModel",
      "state": {
       "description": "Center:",
       "layout": "IPY_MODEL_f49a0b5096004f22ab3c636756629bda",
       "placeholder": "",
       "style": "IPY_MODEL_0cc62dfce23843a9ae5322ce57a8cbbf",
       "value": "(57.06463, -128.2693)"
      }
     },
     "b00367948d144feb87f4303c8769355c": {
      "model_module": "@jupyter-widgets/controls",
      "model_module_version": "2.0.0",
      "model_name": "RadioButtonsModel",
      "state": {
       "_options_labels": [
        "BCCAQv2",
        "MBCn"
       ],
       "description": "CMIP6 downscaling technique:",
       "index": 1,
       "layout": "IPY_MODEL_77ae5e3aeb7945f69f4e830351c1ed93",
       "style": "IPY_MODEL_ce323ae588644c9d8b87203207f1057c"
      }
     },
     "b266f48bba904737aeb65ff301fca331": {
      "model_module": "jupyter-leaflet",
      "model_module_version": "^0.17",
      "model_name": "LeafletRectangleModel",
      "state": {
       "_model_module_version": "^0.17",
       "_view_module_version": "^0.17",
       "bounds": [
        [
         53.37298,
         -124.15543
        ],
        [
         55.87298,
         -121.65543
        ]
       ],
       "color": "red",
       "draggable": true,
       "name": "Obs",
       "options": [
        "color",
        "dash_array",
        "draggable",
        "fill",
        "fill_color",
        "fill_opacity",
        "line_cap",
        "line_join",
        "no_clip",
        "opacity",
        "pointer_events",
        "smooth_factor",
        "stroke",
        "transform",
        "weight"
       ],
       "rotation": true,
       "scaling": true,
       "transform": false,
       "uniform_scaling": false
      }
     },
     "b6e017e4e7a941d0bf77d00e47617602": {
      "model_module": "jupyter-leaflet",
      "model_module_version": "^0.17",
      "model_name": "LeafletRectangleModel",
      "state": {
       "_model_module_version": "^0.17",
       "_view_module_version": "^0.17",
       "bounds": [
        [
         55.81463,
         -129.5193
        ],
        [
         58.31463,
         -127.01929999999999
        ]
       ],
       "color": "red",
       "draggable": true,
       "name": "Obs",
       "options": [
        "color",
        "dash_array",
        "draggable",
        "fill",
        "fill_color",
        "fill_opacity",
        "line_cap",
        "line_join",
        "no_clip",
        "opacity",
        "pointer_events",
        "smooth_factor",
        "stroke",
        "transform",
        "weight"
       ],
       "rotation": true,
       "scaling": true,
       "transform": false,
       "uniform_scaling": false
      }
     },
     "b9a148b0544c4e5b8498ffa56893f955": {
      "model_module": "@jupyter-widgets/base",
      "model_module_version": "2.0.0",
      "model_name": "LayoutModel",
      "state": {
       "align_items": "center",
       "grid_template_areas": "\"center center right-sidebar\"",
       "grid_template_columns": "1fr 2fr 1fr",
       "grid_template_rows": "3fr"
      }
     },
     "bad79f0342f0425d835e38ce84fc055d": {
      "model_module": "@jupyter-widgets/base",
      "model_module_version": "2.0.0",
      "model_name": "LayoutModel",
      "state": {}
     },
     "c21bcfb93312456f8a57c73f8bcf38a7": {
      "model_module": "jupyter-leaflet",
      "model_module_version": "^0.17",
      "model_name": "LeafletRectangleModel",
      "state": {
       "_model_module_version": "^0.17",
       "_view_module_version": "^0.17",
       "bounds": [
        [
         51.64677,
         -125.76838
        ],
        [
         54.64677,
         -122.76838
        ]
       ],
       "color": "blue",
       "draggable": true,
       "name": "GCM",
       "options": [
        "color",
        "dash_array",
        "draggable",
        "fill",
        "fill_color",
        "fill_opacity",
        "line_cap",
        "line_join",
        "no_clip",
        "opacity",
        "pointer_events",
        "smooth_factor",
        "stroke",
        "transform",
        "weight"
       ],
       "rotation": true,
       "scaling": true,
       "transform": false,
       "uniform_scaling": false
      }
     },
     "c22d06b24e7a4f1a8d5b3ed07ba49c7d": {
      "model_module": "jupyter-leaflet",
      "model_module_version": "^0.17",
      "model_name": "LeafletLegendControlModel",
      "state": {
       "_model_module_version": "^0.17",
       "_view_module_version": "^0.17",
       "legend": {
        "GCM": "blue",
        "Obs": "red"
       },
       "options": [
        "position"
       ],
       "position": "topright",
       "title": "Subdomains"
      }
     },
     "c2643282842d489a90ea01cb03a83805": {
      "model_module": "@jupyter-widgets/controls",
      "model_module_version": "2.0.0",
      "model_name": "RadioButtonsModel",
      "state": {
       "_options_labels": [
        "pr",
        "tasmax",
        "tasmin"
       ],
       "description": "Climate variable:",
       "index": 1,
       "layout": "IPY_MODEL_49ecf8f9291c4267a62a2a1503a0eba6",
       "style": "IPY_MODEL_329aae56f3834445b154ce573c1f17b4"
      }
     },
     "c6f3578f39524be589ccb2376792b8b4": {
      "model_module": "jupyter-leaflet",
      "model_module_version": "^0.17",
      "model_name": "LeafletMarkerModel",
      "state": {
       "_model_module_version": "^0.17",
       "_view_module_version": "^0.17",
       "location": [
        53.35711,
        -124.48821
       ],
       "name": "Marker",
       "options": [
        "alt",
        "draggable",
        "keyboard",
        "rise_offset",
        "rise_on_hover",
        "rotation_angle",
        "rotation_origin",
        "title",
        "z_index_offset"
       ]
      }
     },
     "cba86e8877d04395bb2ace5809f5960c": {
      "model_module": "jupyter-leaflet",
      "model_module_version": "^0.17",
      "model_name": "LeafletRectangleModel",
      "state": {
       "_model_module_version": "^0.17",
       "_view_module_version": "^0.17",
       "bounds": [
        [
         51.83087,
         -127.21926
        ],
        [
         54.83087,
         -124.21926
        ]
       ],
       "color": "blue",
       "draggable": true,
       "name": "GCM",
       "options": [
        "color",
        "dash_array",
        "draggable",
        "fill",
        "fill_color",
        "fill_opacity",
        "line_cap",
        "line_join",
        "no_clip",
        "opacity",
        "pointer_events",
        "smooth_factor",
        "stroke",
        "transform",
        "weight"
       ],
       "rotation": true,
       "scaling": true,
       "transform": false,
       "uniform_scaling": false
      }
     },
     "ce323ae588644c9d8b87203207f1057c": {
      "model_module": "@jupyter-widgets/controls",
      "model_module_version": "2.0.0",
      "model_name": "DescriptionStyleModel",
      "state": {
       "description_width": ""
      }
     },
     "cf712c92228a49bbbbe0680826f2ccbd": {
      "model_module": "@jupyter-widgets/controls",
      "model_module_version": "2.0.0",
      "model_name": "RadioButtonsModel",
      "state": {
       "_options_labels": [
        "PNWNAmet",
        "CMIP6"
       ],
       "description": "Dataset:",
       "index": 1,
       "layout": "IPY_MODEL_192d5d4ec63949ba9b727ff8f99495ef",
       "style": "IPY_MODEL_7ab30c1aee264934a15dc577ceb23e7e"
      }
     },
     "d4c8ca01299845d8b65637d7368e23c0": {
      "model_module": "jupyter-leaflet",
      "model_module_version": "^0.17",
      "model_name": "LeafletMarkerModel",
      "state": {
       "_model_module_version": "^0.17",
       "_view_module_version": "^0.17",
       "location": [
        53.14677,
        -124.26838
       ],
       "name": "Marker",
       "options": [
        "alt",
        "draggable",
        "keyboard",
        "rise_offset",
        "rise_on_hover",
        "rotation_angle",
        "rotation_origin",
        "title",
        "z_index_offset"
       ]
      }
     },
     "dee0641ff12448578b0c72c038026fa0": {
      "model_module": "jupyter-leaflet",
      "model_module_version": "^0.17",
      "model_name": "LeafletMarkerModel",
      "state": {
       "_model_module_version": "^0.17",
       "_view_module_version": "^0.17",
       "location": [
        52.98834,
        -124.09252
       ],
       "name": "Marker",
       "options": [
        "alt",
        "draggable",
        "keyboard",
        "rise_offset",
        "rise_on_hover",
        "rotation_angle",
        "rotation_origin",
        "title",
        "z_index_offset"
       ]
      }
     },
     "e8e2d93c235240608299a10538a2dd52": {
      "model_module": "jupyter-leaflet",
      "model_module_version": "^0.17",
      "model_name": "LeafletTileLayerModel",
      "state": {
       "_model_module_version": "^0.17",
       "_view_module_version": "^0.17",
       "attribution": "&copy; <a href=\"https://www.openstreetmap.org/copyright\">OpenStreetMap</a> contributors",
       "base": true,
       "max_zoom": 19,
       "min_zoom": 1,
       "name": "Default",
       "options": [
        "attribution",
        "bounds",
        "detect_retina",
        "max_native_zoom",
        "max_zoom",
        "min_native_zoom",
        "min_zoom",
        "no_wrap",
        "tile_size",
        "tms",
        "zoom_offset"
       ],
       "url": "https://tile.openstreetmap.org/{z}/{x}/{y}.png"
      }
     },
     "e9eb9bf727604328aa5a49186ec8f9f9": {
      "model_module": "@jupyter-widgets/controls",
      "model_module_version": "2.0.0",
      "model_name": "DescriptionStyleModel",
      "state": {
       "description_width": "100px"
      }
     },
     "ed7b9134041d4da8ba75099d5691f01a": {
      "model_module": "jupyter-leaflet",
      "model_module_version": "^0.17",
      "model_name": "LeafletMarkerModel",
      "state": {
       "_model_module_version": "^0.17",
       "_view_module_version": "^0.17",
       "location": [
        53.19945,
        -124.62011
       ],
       "name": "Marker",
       "options": [
        "alt",
        "draggable",
        "keyboard",
        "rise_offset",
        "rise_on_hover",
        "rotation_angle",
        "rotation_origin",
        "title",
        "z_index_offset"
       ]
      }
     },
     "f47d15d019b04fe7ad110d37a86f8cdc": {
      "model_module": "jupyter-leaflet",
      "model_module_version": "^0.17",
      "model_name": "LeafletRectangleModel",
      "state": {
       "_model_module_version": "^0.17",
       "_view_module_version": "^0.17",
       "bounds": [
        [
         54.30128,
         -128.36238
        ],
        [
         57.30128,
         -125.36238
        ]
       ],
       "color": "blue",
       "draggable": true,
       "name": "GCM",
       "options": [
        "color",
        "dash_array",
        "draggable",
        "fill",
        "fill_color",
        "fill_opacity",
        "line_cap",
        "line_join",
        "no_clip",
        "opacity",
        "pointer_events",
        "smooth_factor",
        "stroke",
        "transform",
        "weight"
       ],
       "rotation": true,
       "scaling": true,
       "transform": false,
       "uniform_scaling": false
      }
     },
     "f49a0b5096004f22ab3c636756629bda": {
      "model_module": "@jupyter-widgets/base",
      "model_module_version": "2.0.0",
      "model_name": "LayoutModel",
      "state": {}
     },
     "f81b467973e248329d8a8b57db42b36b": {
      "model_module": "jupyter-leaflet",
      "model_module_version": "^0.17",
      "model_name": "LeafletRectangleModel",
      "state": {
       "_model_module_version": "^0.17",
       "_view_module_version": "^0.17",
       "bounds": [
        [
         56.45415,
         -128.63997
        ],
        [
         58.95415,
         -126.13997
        ]
       ],
       "color": "red",
       "draggable": true,
       "name": "Obs",
       "options": [
        "color",
        "dash_array",
        "draggable",
        "fill",
        "fill_color",
        "fill_opacity",
        "line_cap",
        "line_join",
        "no_clip",
        "opacity",
        "pointer_events",
        "smooth_factor",
        "stroke",
        "transform",
        "weight"
       ],
       "rotation": true,
       "scaling": true,
       "transform": false,
       "uniform_scaling": false
      }
     },
     "fad8020ccdbc46a8b727da235434d511": {
      "model_module": "jupyter-leaflet",
      "model_module_version": "^0.17",
      "model_name": "LeafletRectangleModel",
      "state": {
       "_model_module_version": "^0.17",
       "_view_module_version": "^0.17",
       "bounds": [
        [
         54.74838,
         -129.21152999999998
        ],
        [
         57.24838,
         -126.71153
        ]
       ],
       "color": "red",
       "draggable": true,
       "name": "Obs",
       "options": [
        "color",
        "dash_array",
        "draggable",
        "fill",
        "fill_color",
        "fill_opacity",
        "line_cap",
        "line_join",
        "no_clip",
        "opacity",
        "pointer_events",
        "smooth_factor",
        "stroke",
        "transform",
        "weight"
       ],
       "rotation": true,
       "scaling": true,
       "transform": false,
       "uniform_scaling": false
      }
     },
     "fb6d2c7da7d74aaf81fca3ba7023315a": {
      "model_module": "@jupyter-widgets/controls",
      "model_module_version": "2.0.0",
      "model_name": "RadioButtonsModel",
      "state": {
       "_options_labels": [
        "SSP1-2.6",
        "SSP2-4.5",
        "SSP5-8.5"
       ],
       "description": "CMIP6 emissions scenario:",
       "index": 1,
       "layout": "IPY_MODEL_8205a1aa76ee44ac9def24c9b53bbcc0",
       "style": "IPY_MODEL_27b4ce4c18c74afcb7d1ce8cb95a73f9"
      }
     }
    },
    "version_major": 2,
    "version_minor": 0
   }
  }
 },
 "nbformat": 4,
 "nbformat_minor": 4
}
