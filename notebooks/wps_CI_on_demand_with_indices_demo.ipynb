{
 "cells": [
  {
   "cell_type": "markdown",
   "metadata": {},
   "source": [
    "# wps_CI_on_demand_with_indices\n",
    "\n",
    "#### wps_CI is a process that runs the [ci.netcdf.wrapper](https://github.com/pacificclimate/ClimDown/blob/master/R/CI.R#L235) (Climate Imprint) function of the [ClimDown](https://cran.r-project.org/web/packages/ClimDown/index.html) package. This notebook uses either the PNWNAmet daily gridded observations or the CMIP6 downscaled data as the `gcm_file` parameter and the PRISM monthly climatologies as the `obs_file` parameter. By supplying climatologies, this skips the computation of the climatologies during Climate Imprint. After running CI, the output is passed to the Ouranos `finch` bird to compute climate indices. To get started, first instantiate the clients to the two birds. Here, the clients will try to connect to a `chickadee`/`finch` instances using the `url` parameter. This instantiation also takes advantage of asynchronous execution by setting `progress` to True."
   ]
  },
  {
   "cell_type": "markdown",
   "metadata": {},
   "source": [
    "## 1. Setup chickadee/finch instance and input parameters"
   ]
  },
  {
   "cell_type": "markdown",
   "metadata": {},
   "source": [
    "I. Import Python packages used throughout the notebook."
   ]
  },
  {
   "cell_type": "code",
   "execution_count": 60,
   "metadata": {},
   "outputs": [],
   "source": [
    "import os\n",
    "import shapely.geometry\n",
    "import numpy as np\n",
    "import geopandas as gpd\n",
    "import xarray as xr\n",
    "from birdy import WPSClient\n",
    "from tempfile import NamedTemporaryFile\n",
    "from netCDF4 import Dataset\n",
    "from datetime import datetime\n",
    "from requests_html import HTMLSession\n",
    "from ipywidgets import *\n",
    "from ipyleaflet import *"
   ]
  },
  {
   "cell_type": "markdown",
   "metadata": {},
   "source": [
    "II. Connect to the chickadee/finch instances given by the `urls`."
   ]
  },
  {
   "cell_type": "code",
   "execution_count": 3,
   "metadata": {},
   "outputs": [
    {
     "name": "stdout",
     "output_type": "stream",
     "text": [
      "Using chickadee on http://docker-dev03.pcic.uvic.ca:30102\n",
      "Using finch on https://docker-dev03.pcic.uvic.ca/twitcher/ows/proxy/finch/wps\n"
     ]
    }
   ],
   "source": [
    "# NBVAL_IGNORE_OUTPUT\n",
    "chickadee_url = \"http://docker-dev03.pcic.uvic.ca:30102\"\n",
    "print(f\"Using chickadee on {chickadee_url}\")\n",
    "chickadee = WPSClient(chickadee_url, progress=True)\n",
    "finch_url = \"https://docker-dev03.pcic.uvic.ca/twitcher/ows/proxy/finch/wps\"\n",
    "print(f\"Using finch on {finch_url}\")\n",
    "finch = WPSClient(finch_url, progress=True)"
   ]
  },
  {
   "cell_type": "markdown",
   "metadata": {},
   "source": [
    "III. Display help for individual processes by using the ? command (ex. bird.process?). We can use the docstring to ensure we provide the appropriate parameters."
   ]
  },
  {
   "cell_type": "code",
   "execution_count": 4,
   "metadata": {},
   "outputs": [
    {
     "data": {
      "text/plain": [
       "\u001b[0;31mSignature:\u001b[0m\n",
       "\u001b[0mchickadee\u001b[0m\u001b[0;34m.\u001b[0m\u001b[0mci\u001b[0m\u001b[0;34m(\u001b[0m\u001b[0;34m\u001b[0m\n",
       "\u001b[0;34m\u001b[0m    \u001b[0mgcm_file\u001b[0m\u001b[0;34m,\u001b[0m\u001b[0;34m\u001b[0m\n",
       "\u001b[0;34m\u001b[0m    \u001b[0mobs_file\u001b[0m\u001b[0;34m,\u001b[0m\u001b[0;34m\u001b[0m\n",
       "\u001b[0;34m\u001b[0m    \u001b[0mgcm_varname\u001b[0m\u001b[0;34m=\u001b[0m\u001b[0;32mNone\u001b[0m\u001b[0;34m,\u001b[0m\u001b[0;34m\u001b[0m\n",
       "\u001b[0;34m\u001b[0m    \u001b[0mobs_varname\u001b[0m\u001b[0;34m=\u001b[0m\u001b[0;32mNone\u001b[0m\u001b[0;34m,\u001b[0m\u001b[0;34m\u001b[0m\n",
       "\u001b[0;34m\u001b[0m    \u001b[0mnum_cores\u001b[0m\u001b[0;34m=\u001b[0m\u001b[0;34m'4'\u001b[0m\u001b[0;34m,\u001b[0m\u001b[0;34m\u001b[0m\n",
       "\u001b[0;34m\u001b[0m    \u001b[0mloglevel\u001b[0m\u001b[0;34m=\u001b[0m\u001b[0;34m'INFO'\u001b[0m\u001b[0;34m,\u001b[0m\u001b[0;34m\u001b[0m\n",
       "\u001b[0;34m\u001b[0m    \u001b[0munits_bool\u001b[0m\u001b[0;34m=\u001b[0m\u001b[0;32mTrue\u001b[0m\u001b[0;34m,\u001b[0m\u001b[0;34m\u001b[0m\n",
       "\u001b[0;34m\u001b[0m    \u001b[0mn_pr_bool\u001b[0m\u001b[0;34m=\u001b[0m\u001b[0;32mTrue\u001b[0m\u001b[0;34m,\u001b[0m\u001b[0;34m\u001b[0m\n",
       "\u001b[0;34m\u001b[0m    \u001b[0mtasmax_units\u001b[0m\u001b[0;34m=\u001b[0m\u001b[0;34m'celsius'\u001b[0m\u001b[0;34m,\u001b[0m\u001b[0;34m\u001b[0m\n",
       "\u001b[0;34m\u001b[0m    \u001b[0mtasmin_units\u001b[0m\u001b[0;34m=\u001b[0m\u001b[0;34m'celsius'\u001b[0m\u001b[0;34m,\u001b[0m\u001b[0;34m\u001b[0m\n",
       "\u001b[0;34m\u001b[0m    \u001b[0mpr_units\u001b[0m\u001b[0;34m=\u001b[0m\u001b[0;34m'kg m-2 d-1'\u001b[0m\u001b[0;34m,\u001b[0m\u001b[0;34m\u001b[0m\n",
       "\u001b[0;34m\u001b[0m    \u001b[0mmax_gb\u001b[0m\u001b[0;34m=\u001b[0m\u001b[0;36m1.0\u001b[0m\u001b[0;34m,\u001b[0m\u001b[0;34m\u001b[0m\n",
       "\u001b[0;34m\u001b[0m    \u001b[0mstart_date\u001b[0m\u001b[0;34m=\u001b[0m\u001b[0mdatetime\u001b[0m\u001b[0;34m.\u001b[0m\u001b[0mdate\u001b[0m\u001b[0;34m(\u001b[0m\u001b[0;36m1971\u001b[0m\u001b[0;34m,\u001b[0m \u001b[0;36m1\u001b[0m\u001b[0;34m,\u001b[0m \u001b[0;36m1\u001b[0m\u001b[0;34m)\u001b[0m\u001b[0;34m,\u001b[0m\u001b[0;34m\u001b[0m\n",
       "\u001b[0;34m\u001b[0m    \u001b[0mend_date\u001b[0m\u001b[0;34m=\u001b[0m\u001b[0mdatetime\u001b[0m\u001b[0;34m.\u001b[0m\u001b[0mdate\u001b[0m\u001b[0;34m(\u001b[0m\u001b[0;36m2005\u001b[0m\u001b[0;34m,\u001b[0m \u001b[0;36m12\u001b[0m\u001b[0;34m,\u001b[0m \u001b[0;36m31\u001b[0m\u001b[0;34m)\u001b[0m\u001b[0;34m,\u001b[0m\u001b[0;34m\u001b[0m\n",
       "\u001b[0;34m\u001b[0m    \u001b[0mout_file\u001b[0m\u001b[0;34m=\u001b[0m\u001b[0;32mNone\u001b[0m\u001b[0;34m,\u001b[0m\u001b[0;34m\u001b[0m\n",
       "\u001b[0;34m\u001b[0m\u001b[0;34m)\u001b[0m\u001b[0;34m\u001b[0m\u001b[0;34m\u001b[0m\u001b[0m\n",
       "\u001b[0;31mDocstring:\u001b[0m\n",
       "Climate Imprint (CI) downscaling\n",
       "\n",
       "Parameters\n",
       "----------\n",
       "gcm_file : ComplexData:mimetype:`application/x-netcdf`, :mimetype:`application/x-ogc-dods`\n",
       "    Filename of GCM simulations\n",
       "obs_file : ComplexData:mimetype:`application/x-netcdf`, :mimetype:`application/x-ogc-dods`\n",
       "    Filename of high-res gridded historical observations\n",
       "out_file : string\n",
       "    Filename to create with the climate imprint outputs\n",
       "num_cores : {'1', '2', '3', '4'}positiveInteger\n",
       "    The number of cores to use for parallel execution\n",
       "loglevel : {'CRITICAL', 'ERROR', 'WARNING', 'INFO', 'DEBUG', 'NOTSET'}string\n",
       "    Logging level\n",
       "units_bool : boolean\n",
       "    Check the input units and convert them to the target output units\n",
       "n_pr_bool : boolean\n",
       "    Check for and eliminate negative precipitation values\n",
       "tasmax_units : string\n",
       "    Units used for tasmax in output file\n",
       "tasmin_units : string\n",
       "    Units used for tasmin in output file\n",
       "pr_units : string\n",
       "    Units used for pr in output file\n",
       "max_gb : float\n",
       "    Anapproximately how much RAM to use in the chunk I/O loop. It’s best to set this to about 1/3 to 1/4 of what you want the high-water mark to be\n",
       "start_date : date\n",
       "    Defines the stat of the calibration period\n",
       "end_date : date\n",
       "    Defines the end of the calibration period\n",
       "gcm_varname : string\n",
       "    Name of the GCM NetCDF variable to downscale (e.g. 'tasmax')\n",
       "obs_varname : string\n",
       "    Name of the NetCDF variable to downscale given in the observations file (e.g. 'tmax')\n",
       "\n",
       "Returns\n",
       "-------\n",
       "output : ComplexData:mimetype:`application/x-netcdf`\n",
       "    Output Netcdf File\n",
       "\u001b[0;31mFile:\u001b[0m      ~/code/chickadee/notebooks/</home/eyvorchuk/code/chickadee/chickadee-venv/lib/python3.10/site-packages/birdy/client/base.py-1>\n",
       "\u001b[0;31mType:\u001b[0m      method"
      ]
     },
     "metadata": {},
     "output_type": "display_data"
    }
   ],
   "source": [
    "# NBVAL_IGNORE_OUTPUT\n",
    "chickadee.ci?"
   ]
  },
  {
   "cell_type": "code",
   "execution_count": 5,
   "metadata": {},
   "outputs": [
    {
     "data": {
      "text/plain": [
       "\u001b[0;31mSignature:\u001b[0m\n",
       "\u001b[0mfinch\u001b[0m\u001b[0;34m.\u001b[0m\u001b[0mtx_max\u001b[0m\u001b[0;34m(\u001b[0m\u001b[0;34m\u001b[0m\n",
       "\u001b[0;34m\u001b[0m    \u001b[0mtasmax\u001b[0m\u001b[0;34m=\u001b[0m\u001b[0;32mNone\u001b[0m\u001b[0;34m,\u001b[0m\u001b[0;34m\u001b[0m\n",
       "\u001b[0;34m\u001b[0m    \u001b[0mfreq\u001b[0m\u001b[0;34m=\u001b[0m\u001b[0;34m'YS'\u001b[0m\u001b[0;34m,\u001b[0m\u001b[0;34m\u001b[0m\n",
       "\u001b[0;34m\u001b[0m    \u001b[0mmonth\u001b[0m\u001b[0;34m=\u001b[0m\u001b[0;32mNone\u001b[0m\u001b[0;34m,\u001b[0m\u001b[0;34m\u001b[0m\n",
       "\u001b[0;34m\u001b[0m    \u001b[0mseason\u001b[0m\u001b[0;34m=\u001b[0m\u001b[0;32mNone\u001b[0m\u001b[0;34m,\u001b[0m\u001b[0;34m\u001b[0m\n",
       "\u001b[0;34m\u001b[0m    \u001b[0mcheck_missing\u001b[0m\u001b[0;34m=\u001b[0m\u001b[0;34m'any'\u001b[0m\u001b[0;34m,\u001b[0m\u001b[0;34m\u001b[0m\n",
       "\u001b[0;34m\u001b[0m    \u001b[0mmissing_options\u001b[0m\u001b[0;34m=\u001b[0m\u001b[0;32mNone\u001b[0m\u001b[0;34m,\u001b[0m\u001b[0;34m\u001b[0m\n",
       "\u001b[0;34m\u001b[0m    \u001b[0mcf_compliance\u001b[0m\u001b[0;34m=\u001b[0m\u001b[0;34m'warn'\u001b[0m\u001b[0;34m,\u001b[0m\u001b[0;34m\u001b[0m\n",
       "\u001b[0;34m\u001b[0m    \u001b[0mdata_validation\u001b[0m\u001b[0;34m=\u001b[0m\u001b[0;34m'raise'\u001b[0m\u001b[0;34m,\u001b[0m\u001b[0;34m\u001b[0m\n",
       "\u001b[0;34m\u001b[0m    \u001b[0mvariable\u001b[0m\u001b[0;34m=\u001b[0m\u001b[0;32mNone\u001b[0m\u001b[0;34m,\u001b[0m\u001b[0;34m\u001b[0m\n",
       "\u001b[0;34m\u001b[0m    \u001b[0moutput_name\u001b[0m\u001b[0;34m=\u001b[0m\u001b[0;32mNone\u001b[0m\u001b[0;34m,\u001b[0m\u001b[0;34m\u001b[0m\n",
       "\u001b[0;34m\u001b[0m    \u001b[0moutput_format\u001b[0m\u001b[0;34m=\u001b[0m\u001b[0;34m'netcdf'\u001b[0m\u001b[0;34m,\u001b[0m\u001b[0;34m\u001b[0m\n",
       "\u001b[0;34m\u001b[0m    \u001b[0mcsv_precision\u001b[0m\u001b[0;34m=\u001b[0m\u001b[0;32mNone\u001b[0m\u001b[0;34m,\u001b[0m\u001b[0;34m\u001b[0m\n",
       "\u001b[0;34m\u001b[0m    \u001b[0moutput_formats\u001b[0m\u001b[0;34m=\u001b[0m\u001b[0;32mNone\u001b[0m\u001b[0;34m,\u001b[0m\u001b[0;34m\u001b[0m\n",
       "\u001b[0;34m\u001b[0m\u001b[0;34m)\u001b[0m\u001b[0;34m\u001b[0m\u001b[0;34m\u001b[0m\u001b[0m\n",
       "\u001b[0;31mDocstring:\u001b[0m\n",
       "The maximum value of daily maximum temperature.\n",
       "\n",
       "Parameters\n",
       "----------\n",
       "tasmax : ComplexData:mimetype:`application/x-netcdf`, :mimetype:`application/x-ogc-dods`\n",
       "    NetCDF Files or archive (tar/zip) containing netCDF files. Maximum surface temperature.\n",
       "freq : {'YS', 'MS', 'QS-DEC', 'AS-JUL'}string\n",
       "    Resampling frequency.\n",
       "month : {'1', '2', '3', '4', '5', '6', '7', '8', '9', '10', ...}integer\n",
       "    Months of the year over which to compute indicator.\n",
       "season : {'DJF', 'MAM', 'JJA', 'SON'}string\n",
       "    Climatological season over which to compute indicator.\n",
       "check_missing : {'any', 'wmo', 'pct', 'at_least_n', 'skip', 'from_context'}string\n",
       "    Method used to determine which aggregations should be considered missing.\n",
       "missing_options : ComplexData:mimetype:`application/json`\n",
       "    JSON representation of dictionary of missing method parameters.\n",
       "cf_compliance : {'log', 'warn', 'raise'}string\n",
       "    Whether to log, warn or raise when inputs have non-CF-compliant attributes.\n",
       "data_validation : {'log', 'warn', 'raise'}string\n",
       "    Whether to log, warn or raise when inputs fail data validation checks.\n",
       "variable : string\n",
       "    Name of the variable in the NetCDF file.\n",
       "output_name : string\n",
       "    Filename of the output (no extension).\n",
       "output_format : {'netcdf', 'csv'}string\n",
       "    Choose in which format you want to receive the result. CSV actually means a zip file of two csv files.\n",
       "csv_precision : integer\n",
       "    Only valid if output_format is CSV. If not set, all decimal places of a 64 bit floating precision number are printed. If negative, rounds before the decimal point.\n",
       "\n",
       "Returns\n",
       "-------\n",
       "output : ComplexData:mimetype:`application/x-netcdf`, :mimetype:`application/zip`\n",
       "    The format depends on the 'output_format' input parameter.\n",
       "output_log : ComplexData:mimetype:`text/plain`\n",
       "    Collected logs during process run.\n",
       "ref : ComplexData:mimetype:`application/metalink+xml; version=4.0`\n",
       "    Metalink file storing all references to output files.\n",
       "\u001b[0;31mFile:\u001b[0m      ~/code/chickadee/notebooks/</home/eyvorchuk/code/chickadee/chickadee-venv/lib/python3.10/site-packages/birdy/client/base.py-70>\n",
       "\u001b[0;31mType:\u001b[0m      method"
      ]
     },
     "metadata": {},
     "output_type": "display_data"
    }
   ],
   "source": [
    "# NBVAL_IGNORE_OUTPUT\n",
    "finch.tx_max?"
   ]
  },
  {
   "cell_type": "markdown",
   "metadata": {},
   "source": [
    "IV. Set up an interactive map to initialize the inputs. These inputs are the <b>center point</b> of the 2.5 degree by 2.5 degree subdomain of the target region and 3 degree by 3 degree subdomain of the GCM region, the <b>climate variable</b> from the GCM input to downscale, the <b>dataset</b> to use as the GCM input (where choosing the CMIP6 data allows one to further select the <b>downscaling technique</b>, the <b>model</b>, the <b>CanESM5 run</b> if applicable, and the <b>emissions scenario</b>), and the <b>climatological period</b> of the target data. Some inputs are obtained from the [THREDDS data server](https://docker-dev03.pcic.uvic.ca/twitcher/ows/proxy/thredds/catalog.html)."
   ]
  },
  {
   "cell_type": "code",
   "execution_count": 6,
   "metadata": {},
   "outputs": [],
   "source": [
    "sub_layers = LayerGroup()\n",
    "thredds_base = \"https://docker-dev03.pcic.uvic.ca/twitcher/ows/proxy/thredds/dodsC/datasets\"\n",
    "thredds_catalog = \"https://docker-dev03.pcic.uvic.ca/twitcher/ows/proxy/thredds/catalog/datasets\"\n",
    "\n",
    "def in_bc(point):\n",
    "    bc = f\"{thredds_base}/storage/data/climate/PRISM/dataportal/pr_monClim_PRISM_historical_run1_197101-200012.nc\"\n",
    "    bc_data = Dataset(bc)\n",
    "    bc_lat = bc_data.variables[\"lat\"][:]\n",
    "    bc_lon = bc_data.variables[\"lon\"][:]\n",
    "    # Check if center point is within lat/lon grid\n",
    "    if (point[0] < bc_lat[0]) or (point[0] > bc_lat[-1]) or (point[1] < bc_lon[0]) or (point[1] > bc_lon[-1]):\n",
    "        return False\n",
    "    # Check if point is closest to a masked data value\n",
    "    else:\n",
    "        lat_index = np.argmin(np.abs(bc_lat - point[0]))\n",
    "        lon_index = np.argmin(np.abs(bc_lon - point[1]))\n",
    "        pr = bc_data.variables[\"pr\"][0, lat_index, lon_index]\n",
    "        if pr.mask:\n",
    "            return False\n",
    "    return True\n",
    "    \n",
    "def get_subdomain(lat_min, lat_max, lon_min, lon_max, color, name):\n",
    "    coords = [(lat_min, lon_min), (lat_max, lon_max)]\n",
    "    return Rectangle(bounds=coords, color=color, name=name, draggable=True)\n",
    "\n",
    "def get_models():\n",
    "    session = HTMLSession()\n",
    "    r = session.get(f\"{thredds_catalog}/storage/data/climate/downscale/BCCAQ2/CMIP6_BCCAQv2/catalog.html\")\n",
    "    models = []\n",
    "    exclude = [\"CMIP6_BCCAQv2\", \"CWEC2020_Factors/\", \"Degree_Climatologies/\", \"Ensemble_Averages/\", \"nobackup/\", \"--\", \"\"]\n",
    "    for tt in r.html.find(\"tt\"):\n",
    "        if tt.text not in exclude:\n",
    "            models.append(tt.text[:-1])\n",
    "    models.sort()\n",
    "    return models\n",
    "\n",
    "def handle_dataset_change(change):\n",
    "    technique.disabled = not technique.disabled\n",
    "    model.disabled = not model.disabled\n",
    "    scenario.disabled = not scenario.disabled\n",
    "\n",
    "def handle_model_change(change):\n",
    "    if model.value == \"CanESM5\":\n",
    "        canesm5_run.disabled = False\n",
    "    else:\n",
    "        canesm5_run.disabled = True\n",
    "        \n",
    "def handle_interact(**kwargs):\n",
    "    point = (round(kwargs.get(\"coordinates\")[0], 5), round(kwargs.get(\"coordinates\")[1], 5))\n",
    "    center_hover.value = str(point)\n",
    "    if kwargs.get(\"type\") == \"click\":\n",
    "        # Check if point is within PRISM region\n",
    "        if not in_bc(point):\n",
    "            return\n",
    "        # Remove previous center point and subdomains\n",
    "        for layer in sub_layers.layers:\n",
    "            sub_layers.remove_layer(layer)\n",
    "\n",
    "        # Add new subdomains\n",
    "        m.center_point = point\n",
    "        center.value = str(m.center_point)\n",
    "        center_marker = Marker(location=m.center_point, name=\"Marker\")\n",
    "        \n",
    "        m.lat_min_obs, m.lat_max_obs = (m.center_point[0] - 1.25, m.center_point[0] + 1.25)\n",
    "        m.lon_min_obs, m.lon_max_obs = (m.center_point[1] - 1.25, m.center_point[1] + 1.25)\n",
    "        m.lat_min_gcm, m.lat_max_gcm = (m.center_point[0] - 1.5, m.center_point[0] + 1.5)\n",
    "        m.lon_min_gcm, m.lon_max_gcm = (m.center_point[1] - 1.5, m.center_point[1] + 1.5)\n",
    "\n",
    "        gcm_subdomain = get_subdomain(m.lat_min_gcm, m.lat_max_gcm, m.lon_min_gcm, m.lon_max_gcm, \"blue\", \"GCM\")\n",
    "        obs_subdomain = get_subdomain(m.lat_min_obs, m.lat_max_obs, m.lon_min_obs, m.lon_max_obs, \"red\", \"Obs\")\n",
    "\n",
    "        sub_layers.add_layer(center_marker)\n",
    "        sub_layers.add_layer(gcm_subdomain)\n",
    "        sub_layers.add_layer(obs_subdomain)\n",
    "        m.add_layer(sub_layers)"
   ]
  },
  {
   "cell_type": "code",
   "execution_count": 7,
   "metadata": {},
   "outputs": [
    {
     "data": {
      "application/vnd.jupyter.widget-view+json": {
       "model_id": "02aae4aacd9542f098e8f72d371507a3",
       "version_major": 2,
       "version_minor": 0
      },
      "text/plain": [
       "AppLayout(children=(Box(children=(Text(value='', placeholder=''), Text(value='', description='Center:', placeh…"
      ]
     },
     "execution_count": 7,
     "metadata": {},
     "output_type": "execute_result"
    }
   ],
   "source": [
    "mapnik = basemap_to_tiles(basemaps.OpenStreetMap.Mapnik)\n",
    "mapnik.base = True\n",
    "mapnik.name = \"Default\"\n",
    "\n",
    "m = Map(\n",
    "    basemap=mapnik,\n",
    "    center=(53.5, -120),\n",
    "    zoom=5,\n",
    "    layout=Layout(height=\"600px\"),\n",
    ")\n",
    "m.on_interaction(handle_interact)\n",
    "m.center_point = ()\n",
    "\n",
    "#df = gpd.read_file('/home/eyvorchuk/code/bc_layers/BEC_.shp')\n",
    "#geodata = GeoData(geo_dataframe=df)\n",
    "#m.add_layer(geodata)\n",
    "\n",
    "legend = LegendControl({\"GCM\": \"blue\", \"Obs\": \"red\"}, name=\"Subdomains\", position=\"topright\")\n",
    "m.add_control(legend)\n",
    "\n",
    "center_hover = Text(value=\"\", placeholder=\"\") \n",
    "center = Text(value=\"\", placeholder=\"\", description=\"Center:\")\n",
    "vars = RadioButtons(options=[\"pr\", \"tasmax\", \"tasmin\"], description=\"Climate variable:\")\n",
    "dataset = RadioButtons(options=[\"PNWNAmet\", \"CMIP6\"], description=\"Dataset:\")\n",
    "dataset.observe(handle_dataset_change)\n",
    "\n",
    "technique = RadioButtons(options=[\"BCCAQv2\", \"MBCn\"], description=\"CMIP6 downscaling technique:\", disabled = True)\n",
    "model = Dropdown(options=get_models(), description=\"CMIP6 model:\", disabled = True)\n",
    "model.style.description_width = \"100px\"\n",
    "model.observe(handle_model_change)\n",
    "\n",
    "canesm5_runs = [\"r\" + str(r) + \"i1p2f1\" for r in range(1, 11)]\n",
    "canesm5_run = Dropdown(options=canesm5_runs, description=\"CanESM5 run:\", disabled = True)\n",
    "canesm5_run.style.description_width = \"100px\"\n",
    "\n",
    "scenario = RadioButtons(options=[(\"SSP1-2.6\", \"ssp126\"), (\"SSP2-4.5\", \"ssp245\"), (\"SSP5-8.5\", \"ssp585\")], description=\"CMIP6 emissions scenario:\", disabled = True)\n",
    "period = RadioButtons(options=[\"197101-200012\", \"198101-201012\"], description=\"Climatological period:\")\n",
    "\n",
    "box_layout = Layout(display='flex',\n",
    "                flex_flow = 'column', \n",
    "                width='110%',\n",
    "                align_items = 'center')\n",
    "control_box = Box(children = [center_hover, center, vars, dataset, technique, model, canesm5_run, scenario, period], layout=box_layout)\n",
    "AppLayout(center = m, right_sidebar = control_box, align_items = 'center')"
   ]
  },
  {
   "cell_type": "markdown",
   "metadata": {},
   "source": [
    "V. Obtain the input data files from the [THREDDS data server](https://docker-dev03.pcic.uvic.ca/twitcher/ows/proxy/thredds/catalog.html) and examine their structures."
   ]
  },
  {
   "cell_type": "code",
   "execution_count": 8,
   "metadata": {},
   "outputs": [
    {
     "name": "stdout",
     "output_type": "stream",
     "text": [
      "GCM File: https://docker-dev03.pcic.uvic.ca/twitcher/ows/proxy/thredds/dodsC/datasets/storage/data/projects/dataportal/data/vic-gen2-forcing/PNWNAmet_tasmax_invert_lat.nc\n",
      "\n",
      "Obs File: https://docker-dev03.pcic.uvic.ca/twitcher/ows/proxy/thredds/dodsC/datasets/storage/data/climate/PRISM/dataportal/tmax_monClim_PRISM_historical_run1_197101-200012.nc\n",
      "\n",
      "GCM Structure: dict_items([('time', <class 'netCDF4._netCDF4.Dimension'> (unlimited): name = 'time', size = 24837), ('lat', <class 'netCDF4._netCDF4.Dimension'>: name = 'lat', size = 512), ('lon', <class 'netCDF4._netCDF4.Dimension'>: name = 'lon', size = 1088)])\n",
      "\n",
      "Obs Structure: dict_items([('time', <class 'netCDF4._netCDF4.Dimension'> (unlimited): name = 'time', size = 13), ('bnds', <class 'netCDF4._netCDF4.Dimension'>: name = 'bnds', size = 2), ('lat', <class 'netCDF4._netCDF4.Dimension'>: name = 'lat', size = 1680), ('lon', <class 'netCDF4._netCDF4.Dimension'>: name = 'lon', size = 3241), ('maxStrlen64', <class 'netCDF4._netCDF4.Dimension'>: name = 'maxStrlen64', size = 64)])\n",
      "\n"
     ]
    }
   ],
   "source": [
    "data_vars = {\"pr\": \"pr\", \"tasmax\": \"tmax\", \"tasmin\": \"tmin\"}\n",
    "\n",
    "gcm_var = vars.value\n",
    "obs_var = data_vars[gcm_var]\n",
    "\n",
    "if dataset.value == \"PNWNAmet\":\n",
    "    gcm_file = f\"{thredds_base}/storage/data/projects/dataportal/data/vic-gen2-forcing/PNWNAmet_{gcm_var}_invert_lat.nc\"\n",
    "else:\n",
    "    if technique.value == \"BCCAQv2\":\n",
    "        technique_dir = \"BCCAQ2\"\n",
    "        model_dir = model.value\n",
    "    else:\n",
    "        technique_dir = \"MBCn\"\n",
    "        model_dir = model.value + \"_10\"\n",
    "    model_catalog = f\"{thredds_catalog}/storage/data/climate/downscale/{technique_dir}/CMIP6_{technique.value}/{model_dir}/catalog.html\"\n",
    "    \n",
    "    session = HTMLSession()\n",
    "    r = session.get(model_catalog)\n",
    "    for tt in r.html.find(\"tt\"):\n",
    "        file = tt.text\n",
    "        if (gcm_var in file) and (scenario.value in file):\n",
    "            if (model.value == \"CanESM5\") and (canesm5_run.value not in file):\n",
    "                continue\n",
    "            break\n",
    "    gcm_file = f\"{thredds_base}/storage/data/climate/downscale/{technique_dir}/CMIP6_{technique.value}/{model_dir}/{file}\"\n",
    "        \n",
    "obs_file = f\"{thredds_base}/storage/data/climate/PRISM/dataportal/{obs_var}_monClim_PRISM_historical_run1_{period.value}.nc\"\n",
    "print(\"GCM File: \" + gcm_file + \"\\n\")\n",
    "print(\"Obs File: \" + obs_file + \"\\n\")\n",
    "gcm_dataset = Dataset(gcm_file)\n",
    "obs_dataset = Dataset(obs_file)\n",
    "print(\"GCM Structure: \" + str(gcm_dataset.dimensions.items()) + \"\\n\")\n",
    "print(\"Obs Structure: \" + str(obs_dataset.dimensions.items()) + \"\\n\")"
   ]
  },
  {
   "cell_type": "markdown",
   "metadata": {},
   "source": [
    "VI. Store the datasets' latitudes and longitudes into variables and examine their values."
   ]
  },
  {
   "cell_type": "code",
   "execution_count": 9,
   "metadata": {},
   "outputs": [],
   "source": [
    "gcm_lats = gcm_dataset.variables[\"lat\"][:]\n",
    "gcm_lons = gcm_dataset.variables[\"lon\"][:]\n",
    "obs_lats = obs_dataset.variables[\"lat\"][:]\n",
    "obs_lons = obs_dataset.variables[\"lon\"][:]"
   ]
  },
  {
   "cell_type": "code",
   "execution_count": 10,
   "metadata": {},
   "outputs": [
    {
     "data": {
      "text/plain": [
       "masked_array(data=[40.03125, 40.09375, 40.15625, 40.21875, 40.28125,\n",
       "                   40.34375, 40.40625, 40.46875, 40.53125, 40.59375,\n",
       "                   40.65625, 40.71875, 40.78125, 40.84375, 40.90625,\n",
       "                   40.96875, 41.03125, 41.09375, 41.15625, 41.21875,\n",
       "                   41.28125, 41.34375, 41.40625, 41.46875, 41.53125,\n",
       "                   41.59375, 41.65625, 41.71875, 41.78125, 41.84375,\n",
       "                   41.90625, 41.96875, 42.03125, 42.09375, 42.15625,\n",
       "                   42.21875, 42.28125, 42.34375, 42.40625, 42.46875,\n",
       "                   42.53125, 42.59375, 42.65625, 42.71875, 42.78125,\n",
       "                   42.84375, 42.90625, 42.96875, 43.03125, 43.09375,\n",
       "                   43.15625, 43.21875, 43.28125, 43.34375, 43.40625,\n",
       "                   43.46875, 43.53125, 43.59375, 43.65625, 43.71875,\n",
       "                   43.78125, 43.84375, 43.90625, 43.96875, 44.03125,\n",
       "                   44.09375, 44.15625, 44.21875, 44.28125, 44.34375,\n",
       "                   44.40625, 44.46875, 44.53125, 44.59375, 44.65625,\n",
       "                   44.71875, 44.78125, 44.84375, 44.90625, 44.96875,\n",
       "                   45.03125, 45.09375, 45.15625, 45.21875, 45.28125,\n",
       "                   45.34375, 45.40625, 45.46875, 45.53125, 45.59375,\n",
       "                   45.65625, 45.71875, 45.78125, 45.84375, 45.90625,\n",
       "                   45.96875, 46.03125, 46.09375, 46.15625, 46.21875,\n",
       "                   46.28125, 46.34375, 46.40625, 46.46875, 46.53125,\n",
       "                   46.59375, 46.65625, 46.71875, 46.78125, 46.84375,\n",
       "                   46.90625, 46.96875, 47.03125, 47.09375, 47.15625,\n",
       "                   47.21875, 47.28125, 47.34375, 47.40625, 47.46875,\n",
       "                   47.53125, 47.59375, 47.65625, 47.71875, 47.78125,\n",
       "                   47.84375, 47.90625, 47.96875, 48.03125, 48.09375,\n",
       "                   48.15625, 48.21875, 48.28125, 48.34375, 48.40625,\n",
       "                   48.46875, 48.53125, 48.59375, 48.65625, 48.71875,\n",
       "                   48.78125, 48.84375, 48.90625, 48.96875, 49.03125,\n",
       "                   49.09375, 49.15625, 49.21875, 49.28125, 49.34375,\n",
       "                   49.40625, 49.46875, 49.53125, 49.59375, 49.65625,\n",
       "                   49.71875, 49.78125, 49.84375, 49.90625, 49.96875,\n",
       "                   50.03125, 50.09375, 50.15625, 50.21875, 50.28125,\n",
       "                   50.34375, 50.40625, 50.46875, 50.53125, 50.59375,\n",
       "                   50.65625, 50.71875, 50.78125, 50.84375, 50.90625,\n",
       "                   50.96875, 51.03125, 51.09375, 51.15625, 51.21875,\n",
       "                   51.28125, 51.34375, 51.40625, 51.46875, 51.53125,\n",
       "                   51.59375, 51.65625, 51.71875, 51.78125, 51.84375,\n",
       "                   51.90625, 51.96875, 52.03125, 52.09375, 52.15625,\n",
       "                   52.21875, 52.28125, 52.34375, 52.40625, 52.46875,\n",
       "                   52.53125, 52.59375, 52.65625, 52.71875, 52.78125,\n",
       "                   52.84375, 52.90625, 52.96875, 53.03125, 53.09375,\n",
       "                   53.15625, 53.21875, 53.28125, 53.34375, 53.40625,\n",
       "                   53.46875, 53.53125, 53.59375, 53.65625, 53.71875,\n",
       "                   53.78125, 53.84375, 53.90625, 53.96875, 54.03125,\n",
       "                   54.09375, 54.15625, 54.21875, 54.28125, 54.34375,\n",
       "                   54.40625, 54.46875, 54.53125, 54.59375, 54.65625,\n",
       "                   54.71875, 54.78125, 54.84375, 54.90625, 54.96875,\n",
       "                   55.03125, 55.09375, 55.15625, 55.21875, 55.28125,\n",
       "                   55.34375, 55.40625, 55.46875, 55.53125, 55.59375,\n",
       "                   55.65625, 55.71875, 55.78125, 55.84375, 55.90625,\n",
       "                   55.96875, 56.03125, 56.09375, 56.15625, 56.21875,\n",
       "                   56.28125, 56.34375, 56.40625, 56.46875, 56.53125,\n",
       "                   56.59375, 56.65625, 56.71875, 56.78125, 56.84375,\n",
       "                   56.90625, 56.96875, 57.03125, 57.09375, 57.15625,\n",
       "                   57.21875, 57.28125, 57.34375, 57.40625, 57.46875,\n",
       "                   57.53125, 57.59375, 57.65625, 57.71875, 57.78125,\n",
       "                   57.84375, 57.90625, 57.96875, 58.03125, 58.09375,\n",
       "                   58.15625, 58.21875, 58.28125, 58.34375, 58.40625,\n",
       "                   58.46875, 58.53125, 58.59375, 58.65625, 58.71875,\n",
       "                   58.78125, 58.84375, 58.90625, 58.96875, 59.03125,\n",
       "                   59.09375, 59.15625, 59.21875, 59.28125, 59.34375,\n",
       "                   59.40625, 59.46875, 59.53125, 59.59375, 59.65625,\n",
       "                   59.71875, 59.78125, 59.84375, 59.90625, 59.96875,\n",
       "                   60.03125, 60.09375, 60.15625, 60.21875, 60.28125,\n",
       "                   60.34375, 60.40625, 60.46875, 60.53125, 60.59375,\n",
       "                   60.65625, 60.71875, 60.78125, 60.84375, 60.90625,\n",
       "                   60.96875, 61.03125, 61.09375, 61.15625, 61.21875,\n",
       "                   61.28125, 61.34375, 61.40625, 61.46875, 61.53125,\n",
       "                   61.59375, 61.65625, 61.71875, 61.78125, 61.84375,\n",
       "                   61.90625, 61.96875, 62.03125, 62.09375, 62.15625,\n",
       "                   62.21875, 62.28125, 62.34375, 62.40625, 62.46875,\n",
       "                   62.53125, 62.59375, 62.65625, 62.71875, 62.78125,\n",
       "                   62.84375, 62.90625, 62.96875, 63.03125, 63.09375,\n",
       "                   63.15625, 63.21875, 63.28125, 63.34375, 63.40625,\n",
       "                   63.46875, 63.53125, 63.59375, 63.65625, 63.71875,\n",
       "                   63.78125, 63.84375, 63.90625, 63.96875, 64.03125,\n",
       "                   64.09375, 64.15625, 64.21875, 64.28125, 64.34375,\n",
       "                   64.40625, 64.46875, 64.53125, 64.59375, 64.65625,\n",
       "                   64.71875, 64.78125, 64.84375, 64.90625, 64.96875,\n",
       "                   65.03125, 65.09375, 65.15625, 65.21875, 65.28125,\n",
       "                   65.34375, 65.40625, 65.46875, 65.53125, 65.59375,\n",
       "                   65.65625, 65.71875, 65.78125, 65.84375, 65.90625,\n",
       "                   65.96875, 66.03125, 66.09375, 66.15625, 66.21875,\n",
       "                   66.28125, 66.34375, 66.40625, 66.46875, 66.53125,\n",
       "                   66.59375, 66.65625, 66.71875, 66.78125, 66.84375,\n",
       "                   66.90625, 66.96875, 67.03125, 67.09375, 67.15625,\n",
       "                   67.21875, 67.28125, 67.34375, 67.40625, 67.46875,\n",
       "                   67.53125, 67.59375, 67.65625, 67.71875, 67.78125,\n",
       "                   67.84375, 67.90625, 67.96875, 68.03125, 68.09375,\n",
       "                   68.15625, 68.21875, 68.28125, 68.34375, 68.40625,\n",
       "                   68.46875, 68.53125, 68.59375, 68.65625, 68.71875,\n",
       "                   68.78125, 68.84375, 68.90625, 68.96875, 69.03125,\n",
       "                   69.09375, 69.15625, 69.21875, 69.28125, 69.34375,\n",
       "                   69.40625, 69.46875, 69.53125, 69.59375, 69.65625,\n",
       "                   69.71875, 69.78125, 69.84375, 69.90625, 69.96875,\n",
       "                   70.03125, 70.09375, 70.15625, 70.21875, 70.28125,\n",
       "                   70.34375, 70.40625, 70.46875, 70.53125, 70.59375,\n",
       "                   70.65625, 70.71875, 70.78125, 70.84375, 70.90625,\n",
       "                   70.96875, 71.03125, 71.09375, 71.15625, 71.21875,\n",
       "                   71.28125, 71.34375, 71.40625, 71.46875, 71.53125,\n",
       "                   71.59375, 71.65625, 71.71875, 71.78125, 71.84375,\n",
       "                   71.90625, 71.96875],\n",
       "             mask=False,\n",
       "       fill_value=1e+20)"
      ]
     },
     "execution_count": 10,
     "metadata": {},
     "output_type": "execute_result"
    }
   ],
   "source": [
    "gcm_lats"
   ]
  },
  {
   "cell_type": "code",
   "execution_count": 11,
   "metadata": {},
   "outputs": [
    {
     "data": {
      "text/plain": [
       "masked_array(data=[-168.96875, -168.90625, -168.84375, ..., -101.15625,\n",
       "                   -101.09375, -101.03125],\n",
       "             mask=False,\n",
       "       fill_value=1e+20)"
      ]
     },
     "execution_count": 11,
     "metadata": {},
     "output_type": "execute_result"
    }
   ],
   "source": [
    "gcm_lons"
   ]
  },
  {
   "cell_type": "code",
   "execution_count": 12,
   "metadata": {},
   "outputs": [
    {
     "data": {
      "text/plain": [
       "masked_array(data=[48.        , 48.00833333, 48.01666667, ...,\n",
       "                   61.975     , 61.98333333, 61.99166667],\n",
       "             mask=False,\n",
       "       fill_value=1e+20)"
      ]
     },
     "execution_count": 12,
     "metadata": {},
     "output_type": "execute_result"
    }
   ],
   "source": [
    "obs_lats"
   ]
  },
  {
   "cell_type": "code",
   "execution_count": 13,
   "metadata": {},
   "outputs": [
    {
     "data": {
      "text/plain": [
       "masked_array(data=[-140.        , -139.99166667, -139.98333333, ...,\n",
       "                   -113.01666667, -113.00833333, -113.        ],\n",
       "             mask=False,\n",
       "       fill_value=1e+20)"
      ]
     },
     "execution_count": 13,
     "metadata": {},
     "output_type": "execute_result"
    }
   ],
   "source": [
    "obs_lons"
   ]
  },
  {
   "cell_type": "markdown",
   "metadata": {},
   "source": [
    "VII. Request a subset of each dataset based on each subdomain. This is done by determining the indices corresponding to the min/max lat and lon values and using those in the THREDDS requests. The full time range for each dataset is also used."
   ]
  },
  {
   "cell_type": "code",
   "execution_count": 14,
   "metadata": {},
   "outputs": [],
   "source": [
    "def get_index_range(arr, min_val, max_val):\n",
    "    \"\"\"Compute the indices in an array that correspond to the array's values\n",
    "    closest to desired min/max values.\"\"\"        \n",
    "    min_index = np.argmin(np.abs(arr - min_val))\n",
    "    max_index = np.argmin(np.abs(arr - max_val))\n",
    "    return (min_index, max_index)"
   ]
  },
  {
   "cell_type": "code",
   "execution_count": 15,
   "metadata": {},
   "outputs": [],
   "source": [
    "gcm_lat_indices = get_index_range(gcm_lats, m.lat_min_gcm, m.lat_max_gcm)\n",
    "gcm_lon_indices = get_index_range(gcm_lons, m.lon_min_gcm, m.lon_max_gcm)\n",
    "obs_lat_indices = get_index_range(obs_lats, m.lat_min_obs, m.lat_max_obs)\n",
    "obs_lon_indices = get_index_range(obs_lons, m.lon_min_obs, m.lon_max_obs)"
   ]
  },
  {
   "cell_type": "code",
   "execution_count": 16,
   "metadata": {},
   "outputs": [
    {
     "name": "stdout",
     "output_type": "stream",
     "text": [
      "GCM lat index range: (218, 266)\n",
      "GCM lon index range: (679, 727)\n",
      "Obs lat index range: (711, 1011)\n",
      "Obs lon index range: (1643, 1943)\n"
     ]
    }
   ],
   "source": [
    "print(\"GCM lat index range: \" + str(gcm_lat_indices))\n",
    "print(\"GCM lon index range: \" + str(gcm_lon_indices))\n",
    "print(\"Obs lat index range: \" + str(obs_lat_indices))\n",
    "print(\"Obs lon index range: \" + str(obs_lon_indices))"
   ]
  },
  {
   "cell_type": "code",
   "execution_count": 17,
   "metadata": {},
   "outputs": [],
   "source": [
    "gcm_lat_range = f\"[{gcm_lat_indices[0]}:{gcm_lat_indices[1]}]\"\n",
    "gcm_lon_range = f\"[{gcm_lon_indices[0]}:{gcm_lon_indices[1]}]\"\n",
    "obs_lat_range = f\"[{obs_lat_indices[0]}:{obs_lat_indices[1]}]\"\n",
    "obs_lon_range = f\"[{obs_lon_indices[0]}:{obs_lon_indices[1]}]\""
   ]
  },
  {
   "cell_type": "code",
   "execution_count": 18,
   "metadata": {},
   "outputs": [],
   "source": [
    "gcm_ntime = len(gcm_dataset.variables[\"time\"][:])\n",
    "gcm_time_range = f\"[0:{gcm_ntime - 1}]\"\n",
    "obs_ntime = len(obs_dataset.variables[\"time\"][:])\n",
    "obs_time_range = f\"[0:{obs_ntime - 1}]\""
   ]
  },
  {
   "cell_type": "code",
   "execution_count": 19,
   "metadata": {},
   "outputs": [
    {
     "name": "stdout",
     "output_type": "stream",
     "text": [
      "GCM Subset: https://docker-dev03.pcic.uvic.ca/twitcher/ows/proxy/thredds/dodsC/datasets/storage/data/projects/dataportal/data/vic-gen2-forcing/PNWNAmet_tasmax_invert_lat.nc?time,lat[218:266],lon[679:727],tasmax[0:24836][218:266][679:727]\n",
      "\n",
      "Obs Subset: https://docker-dev03.pcic.uvic.ca/twitcher/ows/proxy/thredds/dodsC/datasets/storage/data/climate/PRISM/dataportal/tmax_monClim_PRISM_historical_run1_197101-200012.nc?time,lat[711:1011],lon[1643:1943],climatology_bounds,crs,tmax[0:12][711:1011][1643:1943]\n",
      "\n",
      "GCM Subset Structure: dict_items([('time', <class 'netCDF4._netCDF4.Dimension'> (unlimited): name = 'time', size = 24837), ('lat', <class 'netCDF4._netCDF4.Dimension'>: name = 'lat', size = 49), ('lon', <class 'netCDF4._netCDF4.Dimension'>: name = 'lon', size = 49)])\n",
      "\n",
      "Obs Subset Structure: dict_items([('time', <class 'netCDF4._netCDF4.Dimension'> (unlimited): name = 'time', size = 13), ('bnds', <class 'netCDF4._netCDF4.Dimension'>: name = 'bnds', size = 2), ('lat', <class 'netCDF4._netCDF4.Dimension'>: name = 'lat', size = 301), ('lon', <class 'netCDF4._netCDF4.Dimension'>: name = 'lon', size = 301), ('maxStrlen64', <class 'netCDF4._netCDF4.Dimension'>: name = 'maxStrlen64', size = 64)])\n"
     ]
    }
   ],
   "source": [
    "gcm_subset_file = f\"{gcm_file}?time,lat{gcm_lat_range},lon{gcm_lon_range},{gcm_var}{gcm_time_range}{gcm_lat_range}{gcm_lon_range}\"\n",
    "obs_subset_file = f\"{obs_file}?time,lat{obs_lat_range},lon{obs_lon_range},climatology_bounds,crs,{obs_var}{obs_time_range}{obs_lat_range}{obs_lon_range}\"\n",
    "print(\"GCM Subset: \" + gcm_subset_file + \"\\n\")\n",
    "print(\"Obs Subset: \" + obs_subset_file + \"\\n\")\n",
    "gcm_subset_dataset = Dataset(gcm_subset_file)\n",
    "obs_subset_dataset = Dataset(obs_subset_file)\n",
    "print(\"GCM Subset Structure: \" + str(gcm_subset_dataset.dimensions.items()) + \"\\n\")\n",
    "print(\"Obs Subset Structure: \" + str(obs_subset_dataset.dimensions.items()))"
   ]
  },
  {
   "cell_type": "code",
   "execution_count": 20,
   "metadata": {},
   "outputs": [
    {
     "name": "stdout",
     "output_type": "stream",
     "text": [
      "GCM subset lats: [53.65625 53.71875 53.78125 53.84375 53.90625 53.96875 54.03125 54.09375\n",
      " 54.15625 54.21875 54.28125 54.34375 54.40625 54.46875 54.53125 54.59375\n",
      " 54.65625 54.71875 54.78125 54.84375 54.90625 54.96875 55.03125 55.09375\n",
      " 55.15625 55.21875 55.28125 55.34375 55.40625 55.46875 55.53125 55.59375\n",
      " 55.65625 55.71875 55.78125 55.84375 55.90625 55.96875 56.03125 56.09375\n",
      " 56.15625 56.21875 56.28125 56.34375 56.40625 56.46875 56.53125 56.59375\n",
      " 56.65625]\n",
      "\n",
      "GCM subset lons: [-126.53125 -126.46875 -126.40625 -126.34375 -126.28125 -126.21875\n",
      " -126.15625 -126.09375 -126.03125 -125.96875 -125.90625 -125.84375\n",
      " -125.78125 -125.71875 -125.65625 -125.59375 -125.53125 -125.46875\n",
      " -125.40625 -125.34375 -125.28125 -125.21875 -125.15625 -125.09375\n",
      " -125.03125 -124.96875 -124.90625 -124.84375 -124.78125 -124.71875\n",
      " -124.65625 -124.59375 -124.53125 -124.46875 -124.40625 -124.34375\n",
      " -124.28125 -124.21875 -124.15625 -124.09375 -124.03125 -123.96875\n",
      " -123.90625 -123.84375 -123.78125 -123.71875 -123.65625 -123.59375\n",
      " -123.53125]\n"
     ]
    }
   ],
   "source": [
    "print(\"GCM subset lats: \" + str(gcm_subset_dataset.variables[\"lat\"][:]) + \"\\n\")\n",
    "print(\"GCM subset lons: \" + str(gcm_subset_dataset.variables[\"lon\"][:]))"
   ]
  },
  {
   "cell_type": "code",
   "execution_count": 20,
   "metadata": {},
   "outputs": [
    {
     "name": "stdout",
     "output_type": "stream",
     "text": [
      "Obs subset lats: [55.38333333 55.39166667 55.4        55.40833333 55.41666667 55.425\n",
      " 55.43333333 55.44166667 55.45       55.45833333 55.46666667 55.475\n",
      " 55.48333333 55.49166667 55.5        55.50833333 55.51666667 55.525\n",
      " 55.53333333 55.54166667 55.55       55.55833333 55.56666667 55.575\n",
      " 55.58333333 55.59166667 55.6        55.60833333 55.61666667 55.625\n",
      " 55.63333333 55.64166667 55.65       55.65833333 55.66666667 55.675\n",
      " 55.68333333 55.69166667 55.7        55.70833333 55.71666667 55.725\n",
      " 55.73333333 55.74166667 55.75       55.75833333 55.76666667 55.775\n",
      " 55.78333333 55.79166667 55.8        55.80833333 55.81666667 55.825\n",
      " 55.83333333 55.84166667 55.85       55.85833333 55.86666667 55.875\n",
      " 55.88333333 55.89166667 55.9        55.90833333 55.91666667 55.925\n",
      " 55.93333333 55.94166667 55.95       55.95833333 55.96666667 55.975\n",
      " 55.98333333 55.99166667 56.         56.00833333 56.01666667 56.025\n",
      " 56.03333333 56.04166667 56.05       56.05833333 56.06666667 56.075\n",
      " 56.08333333 56.09166667 56.1        56.10833333 56.11666667 56.125\n",
      " 56.13333333 56.14166667 56.15       56.15833333 56.16666667 56.175\n",
      " 56.18333333 56.19166667 56.2        56.20833333 56.21666667 56.225\n",
      " 56.23333333 56.24166667 56.25       56.25833333 56.26666667 56.275\n",
      " 56.28333333 56.29166667 56.3        56.30833333 56.31666667 56.325\n",
      " 56.33333333 56.34166667 56.35       56.35833333 56.36666667 56.375\n",
      " 56.38333333 56.39166667 56.4        56.40833333 56.41666667 56.425\n",
      " 56.43333333 56.44166667 56.45       56.45833333 56.46666667 56.475\n",
      " 56.48333333 56.49166667 56.5        56.50833333 56.51666667 56.525\n",
      " 56.53333333 56.54166667 56.55       56.55833333 56.56666667 56.575\n",
      " 56.58333333 56.59166667 56.6        56.60833333 56.61666667 56.625\n",
      " 56.63333333 56.64166667 56.65       56.65833333 56.66666667 56.675\n",
      " 56.68333333 56.69166667 56.7        56.70833333 56.71666667 56.725\n",
      " 56.73333333 56.74166667 56.75       56.75833333 56.76666667 56.775\n",
      " 56.78333333 56.79166667 56.8        56.80833333 56.81666667 56.825\n",
      " 56.83333333 56.84166667 56.85       56.85833333 56.86666667 56.875\n",
      " 56.88333333 56.89166667 56.9        56.90833333 56.91666667 56.925\n",
      " 56.93333333 56.94166667 56.95       56.95833333 56.96666667 56.975\n",
      " 56.98333333 56.99166667 57.         57.00833333 57.01666667 57.025\n",
      " 57.03333333 57.04166667 57.05       57.05833333 57.06666667 57.075\n",
      " 57.08333333 57.09166667 57.1        57.10833333 57.11666667 57.125\n",
      " 57.13333333 57.14166667 57.15       57.15833333 57.16666667 57.175\n",
      " 57.18333333 57.19166667 57.2        57.20833333 57.21666667 57.225\n",
      " 57.23333333 57.24166667 57.25       57.25833333 57.26666667 57.275\n",
      " 57.28333333 57.29166667 57.3        57.30833333 57.31666667 57.325\n",
      " 57.33333333 57.34166667 57.35       57.35833333 57.36666667 57.375\n",
      " 57.38333333 57.39166667 57.4        57.40833333 57.41666667 57.425\n",
      " 57.43333333 57.44166667 57.45       57.45833333 57.46666667 57.475\n",
      " 57.48333333 57.49166667 57.5        57.50833333 57.51666667 57.525\n",
      " 57.53333333 57.54166667 57.55       57.55833333 57.56666667 57.575\n",
      " 57.58333333 57.59166667 57.6        57.60833333 57.61666667 57.625\n",
      " 57.63333333 57.64166667 57.65       57.65833333 57.66666667 57.675\n",
      " 57.68333333 57.69166667 57.7        57.70833333 57.71666667 57.725\n",
      " 57.73333333 57.74166667 57.75       57.75833333 57.76666667 57.775\n",
      " 57.78333333 57.79166667 57.8        57.80833333 57.81666667 57.825\n",
      " 57.83333333 57.84166667 57.85       57.85833333 57.86666667 57.875\n",
      " 57.88333333]\n",
      "\n",
      "Obs subset lons: [-117.51666667 -117.50833333 -117.5        -117.49166667 -117.48333333\n",
      " -117.475      -117.46666667 -117.45833333 -117.45       -117.44166667\n",
      " -117.43333333 -117.425      -117.41666667 -117.40833333 -117.4\n",
      " -117.39166667 -117.38333333 -117.375      -117.36666667 -117.35833333\n",
      " -117.35       -117.34166667 -117.33333333 -117.325      -117.31666667\n",
      " -117.30833333 -117.3        -117.29166667 -117.28333333 -117.275\n",
      " -117.26666667 -117.25833333 -117.25       -117.24166667 -117.23333333\n",
      " -117.225      -117.21666667 -117.20833333 -117.2        -117.19166667\n",
      " -117.18333333 -117.175      -117.16666667 -117.15833333 -117.15\n",
      " -117.14166667 -117.13333333 -117.125      -117.11666667 -117.10833333\n",
      " -117.1        -117.09166667 -117.08333333 -117.075      -117.06666667\n",
      " -117.05833333 -117.05       -117.04166667 -117.03333333 -117.025\n",
      " -117.01666667 -117.00833333 -117.         -116.99166667 -116.98333333\n",
      " -116.975      -116.96666667 -116.95833333 -116.95       -116.94166667\n",
      " -116.93333333 -116.925      -116.91666667 -116.90833333 -116.9\n",
      " -116.89166667 -116.88333333 -116.875      -116.86666667 -116.85833333\n",
      " -116.85       -116.84166667 -116.83333333 -116.825      -116.81666667\n",
      " -116.80833333 -116.8        -116.79166667 -116.78333333 -116.775\n",
      " -116.76666667 -116.75833333 -116.75       -116.74166667 -116.73333333\n",
      " -116.725      -116.71666667 -116.70833333 -116.7        -116.69166667\n",
      " -116.68333333 -116.675      -116.66666667 -116.65833333 -116.65\n",
      " -116.64166667 -116.63333333 -116.625      -116.61666667 -116.60833333\n",
      " -116.6        -116.59166667 -116.58333333 -116.575      -116.56666667\n",
      " -116.55833333 -116.55       -116.54166667 -116.53333333 -116.525\n",
      " -116.51666667 -116.50833333 -116.5        -116.49166667 -116.48333333\n",
      " -116.475      -116.46666667 -116.45833333 -116.45       -116.44166667\n",
      " -116.43333333 -116.425      -116.41666667 -116.40833333 -116.4\n",
      " -116.39166667 -116.38333333 -116.375      -116.36666667 -116.35833333\n",
      " -116.35       -116.34166667 -116.33333333 -116.325      -116.31666667\n",
      " -116.30833333 -116.3        -116.29166667 -116.28333333 -116.275\n",
      " -116.26666667 -116.25833333 -116.25       -116.24166667 -116.23333333\n",
      " -116.225      -116.21666667 -116.20833333 -116.2        -116.19166667\n",
      " -116.18333333 -116.175      -116.16666667 -116.15833333 -116.15\n",
      " -116.14166667 -116.13333333 -116.125      -116.11666667 -116.10833333\n",
      " -116.1        -116.09166667 -116.08333333 -116.075      -116.06666667\n",
      " -116.05833333 -116.05       -116.04166667 -116.03333333 -116.025\n",
      " -116.01666667 -116.00833333 -116.         -115.99166667 -115.98333333\n",
      " -115.975      -115.96666667 -115.95833333 -115.95       -115.94166667\n",
      " -115.93333333 -115.925      -115.91666667 -115.90833333 -115.9\n",
      " -115.89166667 -115.88333333 -115.875      -115.86666667 -115.85833333\n",
      " -115.85       -115.84166667 -115.83333333 -115.825      -115.81666667\n",
      " -115.80833333 -115.8        -115.79166667 -115.78333333 -115.775\n",
      " -115.76666667 -115.75833333 -115.75       -115.74166667 -115.73333333\n",
      " -115.725      -115.71666667 -115.70833333 -115.7        -115.69166667\n",
      " -115.68333333 -115.675      -115.66666667 -115.65833333 -115.65\n",
      " -115.64166667 -115.63333333 -115.625      -115.61666667 -115.60833333\n",
      " -115.6        -115.59166667 -115.58333333 -115.575      -115.56666667\n",
      " -115.55833333 -115.55       -115.54166667 -115.53333333 -115.525\n",
      " -115.51666667 -115.50833333 -115.5        -115.49166667 -115.48333333\n",
      " -115.475      -115.46666667 -115.45833333 -115.45       -115.44166667\n",
      " -115.43333333 -115.425      -115.41666667 -115.40833333 -115.4\n",
      " -115.39166667 -115.38333333 -115.375      -115.36666667 -115.35833333\n",
      " -115.35       -115.34166667 -115.33333333 -115.325      -115.31666667\n",
      " -115.30833333 -115.3        -115.29166667 -115.28333333 -115.275\n",
      " -115.26666667 -115.25833333 -115.25       -115.24166667 -115.23333333\n",
      " -115.225      -115.21666667 -115.20833333 -115.2        -115.19166667\n",
      " -115.18333333 -115.175      -115.16666667 -115.15833333 -115.15\n",
      " -115.14166667 -115.13333333 -115.125      -115.11666667 -115.10833333\n",
      " -115.1        -115.09166667 -115.08333333 -115.075      -115.06666667\n",
      " -115.05833333 -115.05       -115.04166667 -115.03333333 -115.025\n",
      " -115.01666667]\n"
     ]
    }
   ],
   "source": [
    "print(\"Obs subset lats: \" + str(obs_subset_dataset.variables[\"lat\"][:]) + \"\\n\")\n",
    "print(\"Obs subset lons: \" + str(obs_subset_dataset.variables[\"lon\"][:]))"
   ]
  },
  {
   "cell_type": "markdown",
   "metadata": {},
   "source": [
    "VIII. Put together the parameters for `chickadee.ci`. In the case for `pr`, the `units_bool` parameter is set to `False` in order to avoid converting the PRISM's `mm` units to the PNWNAmet's `mm/day` units."
   ]
  },
  {
   "cell_type": "code",
   "execution_count": 44,
   "metadata": {},
   "outputs": [],
   "source": [
    "(start_date, end_date) = period.value.split(\"-\")\n",
    "start_date = datetime.strptime(start_date, \"%Y%m\")\n",
    "end_date = datetime.strptime(end_date + \"31\", \"%Y%m%d\")\n",
    "chickadee_params = {\"gcm_file\": gcm_subset_file, \"obs_file\": obs_subset_file, \"gcm_varname\": gcm_var, \"obs_varname\": obs_var, \"max_gb\": 0.5, \n",
    "          \"start_date\": start_date, \"end_date\": end_date}\n",
    "if gcm_var == \"pr\":\n",
    "    chickadee_params[\"units_bool\"] = False\n",
    "    chickadee_params[\"pr_units\"] = \"mm/day\""
   ]
  },
  {
   "cell_type": "markdown",
   "metadata": {},
   "source": [
    "## 2. Run `chickadee.ci` and use the output to run `finch.tx_max`."
   ]
  },
  {
   "cell_type": "markdown",
   "metadata": {},
   "source": [
    "I. Run `chickadee.ci`."
   ]
  },
  {
   "cell_type": "code",
   "execution_count": 46,
   "metadata": {},
   "outputs": [
    {
     "data": {
      "application/vnd.jupyter.widget-view+json": {
       "model_id": "69629aa83772408480e086855b6b7fb6",
       "version_major": 2,
       "version_minor": 0
      },
      "text/plain": [
       "HBox(children=(IntProgress(value=0, bar_style='info', description='Processing:'), Button(button_style='danger'…"
      ]
     },
     "metadata": {},
     "output_type": "display_data"
    },
    {
     "name": "stderr",
     "output_type": "stream",
     "text": [
      "ERROR:root:Could not read status document.\n",
      "ERROR:root:Could not parse XML response.\n"
     ]
    }
   ],
   "source": [
    "with NamedTemporaryFile(suffix=\".nc\", prefix=\"output_\", dir=\"/tmp\", delete=True) as out_file:\n",
    "    chickadee_params[\"out_file\"] = out_file.name\n",
    "    chickadee_output = chickadee.ci(**chickadee_params)"
   ]
  },
  {
   "cell_type": "markdown",
   "metadata": {},
   "source": [
    "II. (Optionally) download the output directly from the WPS output URL."
   ]
  },
  {
   "cell_type": "code",
   "execution_count": 50,
   "metadata": {},
   "outputs": [
    {
     "name": "stdout",
     "output_type": "stream",
     "text": [
      "Download output from this URL: https://docker-dev03.pcic.uvic.ca/wpsoutputs/23a54182-a02e-11ee-b6d1-0242ac12000a/output_xug1uobr.nc\n"
     ]
    }
   ],
   "source": [
    "chickadee_output_url = chickadee_output.get()[0]\n",
    "print(\"Download output from this URL: \" + chickadee_output_url)"
   ]
  },
  {
   "cell_type": "markdown",
   "metadata": {},
   "source": [
    "III. Run `finch.tx_max`."
   ]
  },
  {
   "cell_type": "code",
   "execution_count": 48,
   "metadata": {},
   "outputs": [],
   "source": [
    "def get_finch_output(resp):\n",
    "    \"\"\"Get the URL of the Finch output file for downloading.\"\"\"\n",
    "    print(\"Process status: \", resp.status)\n",
    "    urls = resp.get()\n",
    "    print(\"Link to process output: \", urls.output)"
   ]
  },
  {
   "cell_type": "code",
   "execution_count": 58,
   "metadata": {},
   "outputs": [],
   "source": [
    "def finch_output_to_temp(resp, var):\n",
    "    \"\"\"Store Finch output in temporary file and open using xarray. This returns the xarray object so that it can be further examined.\"\"\"\n",
    "    with NamedTemporaryFile() as fn:\n",
    "        resp.getOutput(fn.name, identifier=\"output\")\n",
    "        ds = xr.open_dataset(fn.name, decode_timedelta=False)\n",
    "        print(str(getattr(ds, var)))\n",
    "        return ds"
   ]
  },
  {
   "cell_type": "code",
   "execution_count": 53,
   "metadata": {},
   "outputs": [
    {
     "name": "stdout",
     "output_type": "stream",
     "text": [
      "THREDDS URL for chickadee output: https://docker-dev03.pcic.uvic.ca/twitcher/ows/proxy/thredds/dodsC/datasets/birdhouse_wps_outputs/23a54182-a02e-11ee-b6d1-0242ac12000a/output_xug1uobr.nc\n"
     ]
    }
   ],
   "source": [
    "chickadee_output_thredds = \"https://docker-dev03.pcic.uvic.ca/twitcher/ows/proxy/thredds/dodsC/datasets/birdhouse_wps_outputs/\"\n",
    "chickadee_output_thredds += chickadee_output_url.split(\"wpsoutputs/\")[1]\n",
    "print(\"THREDDS URL for chickadee output: \" + chickadee_output_thredds)"
   ]
  },
  {
   "cell_type": "code",
   "execution_count": 54,
   "metadata": {},
   "outputs": [
    {
     "data": {
      "application/vnd.jupyter.widget-view+json": {
       "model_id": "ad5bae73ed6b4ba787a7d1b778ada6f6",
       "version_major": 2,
       "version_minor": 0
      },
      "text/plain": [
       "HBox(children=(IntProgress(value=0, bar_style='info', description='Processing:'), Button(button_style='danger'…"
      ]
     },
     "metadata": {},
     "output_type": "display_data"
    },
    {
     "name": "stderr",
     "output_type": "stream",
     "text": [
      "ERROR:root:Could not read status document.\n",
      "ERROR:root:Could not parse XML response.\n"
     ]
    }
   ],
   "source": [
    "tx_max_ys = finch.tx_max(chickadee_output_thredds, output_name=\"tx_max_ys\")"
   ]
  },
  {
   "cell_type": "code",
   "execution_count": 56,
   "metadata": {},
   "outputs": [
    {
     "name": "stdout",
     "output_type": "stream",
     "text": [
      "Process status:  ProcessSucceeded\n",
      "Link to process output:  https://docker-dev03.pcic.uvic.ca/wpsoutputs/finch/cc0998c0-a031-11ee-ad39-0242ac120008/tx_max_ys.nc\n"
     ]
    }
   ],
   "source": [
    "get_finch_output(tx_max_ys)"
   ]
  },
  {
   "cell_type": "code",
   "execution_count": 61,
   "metadata": {},
   "outputs": [
    {
     "name": "stdout",
     "output_type": "stream",
     "text": [
      "<xarray.DataArray 'tx_max' (time: 68, lat: 301, lon: 301)>\n",
      "[6160868 values with dtype=float32]\n",
      "Coordinates:\n",
      "  * time     (time) datetime64[ns] 1945-01-01 1946-01-01 ... 2012-01-01\n",
      "  * lon      (lon) float64 -126.3 -126.3 -126.3 -126.3 ... -123.8 -123.8 -123.8\n",
      "  * lat      (lat) float64 53.92 53.93 53.94 53.95 ... 56.4 56.41 56.42 56.42\n",
      "Attributes:\n",
      "    units:          K\n",
      "    cell_methods:    time: maximum over days\n",
      "    history:        [2023-12-21 18:50:32] tx_max: TX_MAX(tasmax=tasmax, freq=...\n",
      "    standard_name:  air_temperature\n",
      "    long_name:      Maximum daily maximum temperature\n",
      "    description:    Annual maximum of daily maximum temperature.\n"
     ]
    }
   ],
   "source": [
    "tx_max_ys_arr = finch_output_to_temp(tx_max_ys, \"tx_max\")"
   ]
  },
  {
   "cell_type": "code",
   "execution_count": null,
   "metadata": {},
   "outputs": [],
   "source": []
  }
 ],
 "metadata": {
  "kernelspec": {
   "display_name": "Python 3 (ipykernel)",
   "language": "python",
   "name": "python3"
  },
  "language_info": {
   "codemirror_mode": {
    "name": "ipython",
    "version": 3
   },
   "file_extension": ".py",
   "mimetype": "text/x-python",
   "name": "python",
   "nbconvert_exporter": "python",
   "pygments_lexer": "ipython3",
   "version": "3.10.12"
  },
  "widgets": {
   "application/vnd.jupyter.widget-state+json": {
    "state": {
     "005aa1c902b045b8931896403e3499a6": {
      "model_module": "@jupyter-widgets/base",
      "model_module_version": "2.0.0",
      "model_name": "LayoutModel",
      "state": {
       "align_items": "center",
       "display": "flex",
       "flex_flow": "column",
       "grid_area": "right-sidebar",
       "width": "110%"
      }
     },
     "0111bf66c91d464e92d60c2a027be11a": {
      "model_module": "@jupyter-widgets/controls",
      "model_module_version": "2.0.0",
      "model_name": "IntProgressModel",
      "state": {
       "bar_style": "success",
       "description": "Complete",
       "layout": "IPY_MODEL_badcb8b68ebf4d368b156030cd85549a",
       "style": "IPY_MODEL_242db11e640b47f2ad0b4e214f19cb1b",
       "value": 100
      }
     },
     "0250310369d941cdb32a1a2343706830": {
      "model_module": "@jupyter-widgets/controls",
      "model_module_version": "2.0.0",
      "model_name": "DescriptionStyleModel",
      "state": {
       "description_width": ""
      }
     },
     "02aae4aacd9542f098e8f72d371507a3": {
      "model_module": "@jupyter-widgets/controls",
      "model_module_version": "2.0.0",
      "model_name": "GridBoxModel",
      "state": {
       "children": [
        "IPY_MODEL_9106fb3cb5ea46ddbe7c6077bcdf6ff3",
        "IPY_MODEL_9950522591af42e1ada8c2222241e376"
       ],
       "layout": "IPY_MODEL_cbd40a3f0e2b41ab9bea955b6a1bc863"
      }
     },
     "0d19c749a99a4aa1ab0d9c20146ee4f8": {
      "model_module": "@jupyter-widgets/base",
      "model_module_version": "2.0.0",
      "model_name": "LayoutModel",
      "state": {}
     },
     "0d9661ab8cfd4a13b0bb688046279cda": {
      "model_module": "@jupyter-widgets/controls",
      "model_module_version": "2.0.0",
      "model_name": "ButtonStyleModel",
      "state": {
       "font_family": null,
       "font_size": null,
       "font_style": null,
       "font_variant": null,
       "font_weight": null,
       "text_color": null,
       "text_decoration": null
      }
     },
     "0fcf970ae28641b59d5c8dabf553ba14": {
      "model_module": "@jupyter-widgets/controls",
      "model_module_version": "2.0.0",
      "model_name": "ButtonStyleModel",
      "state": {
       "font_family": null,
       "font_size": null,
       "font_style": null,
       "font_variant": null,
       "font_weight": null,
       "text_color": null,
       "text_decoration": null
      }
     },
     "12a95470499b4ded97894216ee6330c0": {
      "model_module": "@jupyter-widgets/base",
      "model_module_version": "2.0.0",
      "model_name": "LayoutModel",
      "state": {
       "grid_area": "center",
       "height": "600px"
      }
     },
     "13500f0db28d402eb6cbf398fd95c10c": {
      "model_module": "jupyter-leaflet",
      "model_module_version": "^0.17",
      "model_name": "LeafletMarkerModel",
      "state": {
       "_model_module_version": "^0.17",
       "_view_module_version": "^0.17",
       "location": [
        55.17385,
        -125.05977
       ],
       "name": "Marker",
       "options": [
        "alt",
        "draggable",
        "keyboard",
        "rise_offset",
        "rise_on_hover",
        "rotation_angle",
        "rotation_origin",
        "title",
        "z_index_offset"
       ]
      }
     },
     "1b3c538a1e83437f916c80860723d55b": {
      "model_module": "@jupyter-widgets/controls",
      "model_module_version": "2.0.0",
      "model_name": "TextStyleModel",
      "state": {
       "description_width": "",
       "font_size": null,
       "text_color": null
      }
     },
     "1ce6540889f749019d88ac648f8bede9": {
      "model_module": "@jupyter-widgets/base",
      "model_module_version": "2.0.0",
      "model_name": "LayoutModel",
      "state": {}
     },
     "22be0d63c76d405897df7c7fbec5c9f3": {
      "model_module": "jupyter-leaflet",
      "model_module_version": "^0.17",
      "model_name": "LeafletLayerGroupModel",
      "state": {
       "_model_module_version": "^0.17",
       "_view_module_version": "^0.17",
       "layers": [
        "IPY_MODEL_13500f0db28d402eb6cbf398fd95c10c",
        "IPY_MODEL_8e8c1376d6ad494dbfff7d9fbb10a284",
        "IPY_MODEL_9ae4e3d75d8e49b1923fda60aa0cd179"
       ]
      }
     },
     "242db11e640b47f2ad0b4e214f19cb1b": {
      "model_module": "@jupyter-widgets/controls",
      "model_module_version": "2.0.0",
      "model_name": "ProgressStyleModel",
      "state": {
       "description_width": ""
      }
     },
     "25065f152b5f46d6aa969f09a002fa1d": {
      "model_module": "@jupyter-widgets/base",
      "model_module_version": "2.0.0",
      "model_name": "LayoutModel",
      "state": {}
     },
     "335fd78f5fe4458ebbedf8e8b8b35580": {
      "model_module": "@jupyter-widgets/controls",
      "model_module_version": "2.0.0",
      "model_name": "TextStyleModel",
      "state": {
       "description_width": "",
       "font_size": null,
       "text_color": null
      }
     },
     "338ada882dd7412fa49d0dfd93d460e3": {
      "model_module": "@jupyter-widgets/controls",
      "model_module_version": "2.0.0",
      "model_name": "DropdownModel",
      "state": {
       "_options_labels": [
        "ACCESS-CM2",
        "ACCESS-ESM1-5",
        "BCC-CSM2-MR",
        "CMCC-ESM2",
        "CNRM-CM6-1",
        "CNRM-ESM2-1",
        "CanESM5",
        "EC-Earth3",
        "EC-Earth3-Veg",
        "FGOALS-g3",
        "GFDL-ESM4",
        "HadGEM3-GC31-LL",
        "INM-CM4-8",
        "INM-CM5-0",
        "IPSL-CM6A-LR",
        "KACE-1-0-G",
        "KIOST-ESM",
        "MIROC-ES2L",
        "MIROC6",
        "MPI-ESM1-2-HR",
        "MPI-ESM1-2-LR",
        "MRI-ESM2-0",
        "NorESM2-LM",
        "NorESM2-MM",
        "TaiESM1",
        "UKESM1-0-LL"
       ],
       "description": "CMIP6 model:",
       "disabled": true,
       "index": 0,
       "layout": "IPY_MODEL_ae7cb1dd944341a1bda7a7817978366b",
       "style": "IPY_MODEL_dd6f413819e042b880f96409a124de9c"
      }
     },
     "3706738c623a434abf93f9ed8dfd51f4": {
      "model_module": "@jupyter-widgets/controls",
      "model_module_version": "2.0.0",
      "model_name": "DropdownModel",
      "state": {
       "_options_labels": [
        "r1i1p2f1",
        "r2i1p2f1",
        "r3i1p2f1",
        "r4i1p2f1",
        "r5i1p2f1",
        "r6i1p2f1",
        "r7i1p2f1",
        "r8i1p2f1",
        "r9i1p2f1",
        "r10i1p2f1"
       ],
       "description": "CanESM5 run:",
       "disabled": true,
       "index": 0,
       "layout": "IPY_MODEL_89d00ef380f44c2b8b683221583b1e12",
       "style": "IPY_MODEL_a650c2127bc449fab6d913efa9cd2b88"
      }
     },
     "377aea7307a74dba813faf68814f71e2": {
      "model_module": "@jupyter-widgets/base",
      "model_module_version": "2.0.0",
      "model_name": "LayoutModel",
      "state": {}
     },
     "38d89b4dc2a74732b3aea90093cbfe62": {
      "model_module": "@jupyter-widgets/controls",
      "model_module_version": "2.0.0",
      "model_name": "TextModel",
      "state": {
       "description": "Center:",
       "layout": "IPY_MODEL_5e33aae5e4a84562a59f533495ecb623",
       "placeholder": "",
       "style": "IPY_MODEL_1b3c538a1e83437f916c80860723d55b",
       "value": "(55.17385, -125.05977)"
      }
     },
     "39ef42c0d3214169973db4c03669609f": {
      "model_module": "@jupyter-widgets/base",
      "model_module_version": "2.0.0",
      "model_name": "LayoutModel",
      "state": {}
     },
     "3a4bed0c95304c2f8cb61b1db535e80f": {
      "model_module": "@jupyter-widgets/controls",
      "model_module_version": "2.0.0",
      "model_name": "ButtonStyleModel",
      "state": {
       "font_family": null,
       "font_size": null,
       "font_style": null,
       "font_variant": null,
       "font_weight": null,
       "text_color": null,
       "text_decoration": null
      }
     },
     "3af0ccd8638741b5810556c25838dd72": {
      "model_module": "@jupyter-widgets/controls",
      "model_module_version": "2.0.0",
      "model_name": "ButtonModel",
      "state": {
       "button_style": "danger",
       "description": "Cancel",
       "disabled": true,
       "layout": "IPY_MODEL_6cfaf918ce2f498fb7e0a2e6d378bb4b",
       "style": "IPY_MODEL_3a4bed0c95304c2f8cb61b1db535e80f",
       "tooltip": "Send `dismiss` request to WPS server."
      }
     },
     "479461a659b24c949e739c8d5f808c6a": {
      "model_module": "@jupyter-widgets/controls",
      "model_module_version": "2.0.0",
      "model_name": "HBoxModel",
      "state": {
       "children": [
        "IPY_MODEL_b2bd60873ad14a3e926283582a91627a",
        "IPY_MODEL_3af0ccd8638741b5810556c25838dd72"
       ],
       "layout": "IPY_MODEL_7521c9a369ae457a89f893435ce4645f"
      }
     },
     "48950a7a7213409c99be24fd8816f9a3": {
      "model_module": "@jupyter-widgets/base",
      "model_module_version": "2.0.0",
      "model_name": "LayoutModel",
      "state": {}
     },
     "5337a8fde42f4f5190f188167ee6ea20": {
      "model_module": "jupyter-leaflet",
      "model_module_version": "^0.17",
      "model_name": "LeafletMapStyleModel",
      "state": {
       "_model_module_version": "^0.17"
      }
     },
     "570cd7c8df1c4249bd8bc457894355ee": {
      "model_module": "@jupyter-widgets/controls",
      "model_module_version": "2.0.0",
      "model_name": "IntProgressModel",
      "state": {
       "bar_style": "success",
       "description": "Complete",
       "layout": "IPY_MODEL_9aa04d3463804ccab6fac326831946a6",
       "style": "IPY_MODEL_feccd938318d415facf200542f9a04c8",
       "value": 100
      }
     },
     "5b9e2a7592ca4cdea16262b8f49bb60d": {
      "model_module": "@jupyter-widgets/controls",
      "model_module_version": "2.0.0",
      "model_name": "RadioButtonsModel",
      "state": {
       "_options_labels": [
        "PNWNAmet",
        "CMIP6"
       ],
       "description": "Dataset:",
       "index": 0,
       "layout": "IPY_MODEL_25065f152b5f46d6aa969f09a002fa1d",
       "style": "IPY_MODEL_7bed4b4661674ac18f69afb2006aa060"
      }
     },
     "5e33aae5e4a84562a59f533495ecb623": {
      "model_module": "@jupyter-widgets/base",
      "model_module_version": "2.0.0",
      "model_name": "LayoutModel",
      "state": {}
     },
     "60fbcfde78d844129699ee20d178d67d": {
      "model_module": "jupyter-leaflet",
      "model_module_version": "^0.17",
      "model_name": "LeafletMapStyleModel",
      "state": {
       "_model_module_version": "^0.17"
      }
     },
     "63e1bf80cf4f421d84b467231a6c749b": {
      "model_module": "@jupyter-widgets/controls",
      "model_module_version": "2.0.0",
      "model_name": "ProgressStyleModel",
      "state": {
       "description_width": ""
      }
     },
     "69629aa83772408480e086855b6b7fb6": {
      "model_module": "@jupyter-widgets/controls",
      "model_module_version": "2.0.0",
      "model_name": "HBoxModel",
      "state": {
       "children": [
        "IPY_MODEL_0111bf66c91d464e92d60c2a027be11a",
        "IPY_MODEL_6a0c478aba3845179a82af7415bc8220"
       ],
       "layout": "IPY_MODEL_deb0cfe06161407aa104bb69971eda17"
      }
     },
     "6a0c478aba3845179a82af7415bc8220": {
      "model_module": "@jupyter-widgets/controls",
      "model_module_version": "2.0.0",
      "model_name": "ButtonModel",
      "state": {
       "button_style": "danger",
       "description": "Cancel",
       "disabled": true,
       "layout": "IPY_MODEL_377aea7307a74dba813faf68814f71e2",
       "style": "IPY_MODEL_0fcf970ae28641b59d5c8dabf553ba14",
       "tooltip": "Send `dismiss` request to WPS server."
      }
     },
     "6cfaf918ce2f498fb7e0a2e6d378bb4b": {
      "model_module": "@jupyter-widgets/base",
      "model_module_version": "2.0.0",
      "model_name": "LayoutModel",
      "state": {}
     },
     "7214cbda883940109596c3dc543748ea": {
      "model_module": "@jupyter-widgets/base",
      "model_module_version": "2.0.0",
      "model_name": "LayoutModel",
      "state": {}
     },
     "7521c9a369ae457a89f893435ce4645f": {
      "model_module": "@jupyter-widgets/base",
      "model_module_version": "2.0.0",
      "model_name": "LayoutModel",
      "state": {
       "justify_content": "space-between"
      }
     },
     "7bed4b4661674ac18f69afb2006aa060": {
      "model_module": "@jupyter-widgets/controls",
      "model_module_version": "2.0.0",
      "model_name": "DescriptionStyleModel",
      "state": {
       "description_width": ""
      }
     },
     "7ecd798b53d0424cb35c6a1e9a2d6e9b": {
      "model_module": "@jupyter-widgets/controls",
      "model_module_version": "2.0.0",
      "model_name": "DescriptionStyleModel",
      "state": {
       "description_width": ""
      }
     },
     "89d00ef380f44c2b8b683221583b1e12": {
      "model_module": "@jupyter-widgets/base",
      "model_module_version": "2.0.0",
      "model_name": "LayoutModel",
      "state": {}
     },
     "8c17e4872a3342a0ad14a05764ebcbc3": {
      "model_module": "@jupyter-widgets/controls",
      "model_module_version": "2.0.0",
      "model_name": "ButtonModel",
      "state": {
       "button_style": "danger",
       "description": "Cancel",
       "disabled": true,
       "layout": "IPY_MODEL_0d19c749a99a4aa1ab0d9c20146ee4f8",
       "style": "IPY_MODEL_0d9661ab8cfd4a13b0bb688046279cda",
       "tooltip": "Send `dismiss` request to WPS server."
      }
     },
     "8e10e297568644a48aa9e61a5a9b6603": {
      "model_module": "jupyter-leaflet",
      "model_module_version": "^0.17",
      "model_name": "LeafletZoomControlModel",
      "state": {
       "_model_module_version": "^0.17",
       "_view_module_version": "^0.17",
       "options": [
        "position",
        "zoom_in_text",
        "zoom_in_title",
        "zoom_out_text",
        "zoom_out_title"
       ]
      }
     },
     "8e8c1376d6ad494dbfff7d9fbb10a284": {
      "model_module": "jupyter-leaflet",
      "model_module_version": "^0.17",
      "model_name": "LeafletRectangleModel",
      "state": {
       "_model_module_version": "^0.17",
       "_view_module_version": "^0.17",
       "bounds": [
        [
         53.67385,
         -126.55977
        ],
        [
         56.67385,
         -123.55977
        ]
       ],
       "color": "blue",
       "draggable": true,
       "name": "GCM",
       "options": [
        "color",
        "dash_array",
        "draggable",
        "fill",
        "fill_color",
        "fill_opacity",
        "line_cap",
        "line_join",
        "no_clip",
        "opacity",
        "pointer_events",
        "smooth_factor",
        "stroke",
        "transform",
        "weight"
       ],
       "rotation": true,
       "scaling": true,
       "transform": false,
       "uniform_scaling": false
      }
     },
     "9106fb3cb5ea46ddbe7c6077bcdf6ff3": {
      "model_module": "@jupyter-widgets/controls",
      "model_module_version": "2.0.0",
      "model_name": "BoxModel",
      "state": {
       "children": [
        "IPY_MODEL_d20022f67bdc4170927609346f4e2bd6",
        "IPY_MODEL_38d89b4dc2a74732b3aea90093cbfe62",
        "IPY_MODEL_cf285c77e3794e06b9b1ea1d94f67763",
        "IPY_MODEL_5b9e2a7592ca4cdea16262b8f49bb60d",
        "IPY_MODEL_c4287c54fd9542d282eca32c847c6821",
        "IPY_MODEL_338ada882dd7412fa49d0dfd93d460e3",
        "IPY_MODEL_3706738c623a434abf93f9ed8dfd51f4",
        "IPY_MODEL_96e8c0bd6c0248e5b0c1539825e97a13",
        "IPY_MODEL_ebaa32196b004df09d1fbc12ec96e46f"
       ],
       "layout": "IPY_MODEL_005aa1c902b045b8931896403e3499a6"
      }
     },
     "96e8c0bd6c0248e5b0c1539825e97a13": {
      "model_module": "@jupyter-widgets/controls",
      "model_module_version": "2.0.0",
      "model_name": "RadioButtonsModel",
      "state": {
       "_options_labels": [
        "SSP1-2.6",
        "SSP2-4.5",
        "SSP5-8.5"
       ],
       "description": "CMIP6 emissions scenario:",
       "disabled": true,
       "index": 0,
       "layout": "IPY_MODEL_1ce6540889f749019d88ac648f8bede9",
       "style": "IPY_MODEL_0250310369d941cdb32a1a2343706830"
      }
     },
     "9950522591af42e1ada8c2222241e376": {
      "model_module": "jupyter-leaflet",
      "model_module_version": "^0.17",
      "model_name": "LeafletMapModel",
      "state": {
       "_model_module_version": "^0.17",
       "_view_module_version": "^0.17",
       "bottom": 2950,
       "center": [
        53.5,
        -120
       ],
       "controls": [
        "IPY_MODEL_8e10e297568644a48aa9e61a5a9b6603",
        "IPY_MODEL_b301290487c64fd7b9226bf7bf0c7cbd",
        "IPY_MODEL_f69639180be04b93a9e8eed09db27f8e"
       ],
       "default_style": "IPY_MODEL_5337a8fde42f4f5190f188167ee6ea20",
       "dragging_style": "IPY_MODEL_d789c22343a847d9bdce9f0acec504d7",
       "east": -96.767578125,
       "fullscreen": false,
       "interpolation": "bilinear",
       "layers": [
        "IPY_MODEL_abe690ceca2e42a5bfb149950cc2ca91",
        "IPY_MODEL_22be0d63c76d405897df7c7fbec5c9f3"
       ],
       "layout": "IPY_MODEL_12a95470499b4ded97894216ee6330c0",
       "left": 837,
       "modisdate": "2023-12-20",
       "north": 60.6301017662667,
       "options": [
        "bounce_at_zoom_limits",
        "box_zoom",
        "center",
        "close_popup_on_click",
        "double_click_zoom",
        "dragging",
        "fullscreen",
        "inertia",
        "inertia_deceleration",
        "inertia_max_speed",
        "interpolation",
        "keyboard",
        "keyboard_pan_offset",
        "keyboard_zoom_offset",
        "max_zoom",
        "min_zoom",
        "prefer_canvas",
        "scroll_wheel_zoom",
        "tap",
        "tap_tolerance",
        "touch_zoom",
        "world_copy_jump",
        "zoom",
        "zoom_animation_threshold",
        "zoom_delta",
        "zoom_snap"
       ],
       "prefer_canvas": false,
       "right": 1894,
       "south": 44.902577996288876,
       "style": "IPY_MODEL_60fbcfde78d844129699ee20d178d67d",
       "top": 2350,
       "west": -143.21777343750003,
       "window_url": "http://localhost:8888/lab/tree/notebooks/wps_CI_on_demand_with_indices_demo.ipynb",
       "zoom": 5
      }
     },
     "9aa04d3463804ccab6fac326831946a6": {
      "model_module": "@jupyter-widgets/base",
      "model_module_version": "2.0.0",
      "model_name": "LayoutModel",
      "state": {}
     },
     "9ae4e3d75d8e49b1923fda60aa0cd179": {
      "model_module": "jupyter-leaflet",
      "model_module_version": "^0.17",
      "model_name": "LeafletRectangleModel",
      "state": {
       "_model_module_version": "^0.17",
       "_view_module_version": "^0.17",
       "bounds": [
        [
         53.92385,
         -126.30977
        ],
        [
         56.42385,
         -123.80977
        ]
       ],
       "color": "red",
       "draggable": true,
       "name": "Obs",
       "options": [
        "color",
        "dash_array",
        "draggable",
        "fill",
        "fill_color",
        "fill_opacity",
        "line_cap",
        "line_join",
        "no_clip",
        "opacity",
        "pointer_events",
        "smooth_factor",
        "stroke",
        "transform",
        "weight"
       ],
       "rotation": true,
       "scaling": true,
       "transform": false,
       "uniform_scaling": false
      }
     },
     "a650c2127bc449fab6d913efa9cd2b88": {
      "model_module": "@jupyter-widgets/controls",
      "model_module_version": "2.0.0",
      "model_name": "DescriptionStyleModel",
      "state": {
       "description_width": "100px"
      }
     },
     "a802847b6f9f4a0d84e1a49510bb5caa": {
      "model_module": "@jupyter-widgets/base",
      "model_module_version": "2.0.0",
      "model_name": "LayoutModel",
      "state": {
       "justify_content": "space-between"
      }
     },
     "abe690ceca2e42a5bfb149950cc2ca91": {
      "model_module": "jupyter-leaflet",
      "model_module_version": "^0.17",
      "model_name": "LeafletTileLayerModel",
      "state": {
       "_model_module_version": "^0.17",
       "_view_module_version": "^0.17",
       "attribution": "&copy; <a href=\"https://www.openstreetmap.org/copyright\">OpenStreetMap</a> contributors",
       "base": true,
       "max_zoom": 19,
       "min_zoom": 1,
       "name": "Default",
       "options": [
        "attribution",
        "bounds",
        "detect_retina",
        "max_native_zoom",
        "max_zoom",
        "min_native_zoom",
        "min_zoom",
        "no_wrap",
        "tile_size",
        "tms",
        "zoom_offset"
       ],
       "url": "https://tile.openstreetmap.org/{z}/{x}/{y}.png"
      }
     },
     "ac67c36e018e451db01ed70c6a39f2a3": {
      "model_module": "@jupyter-widgets/controls",
      "model_module_version": "2.0.0",
      "model_name": "DescriptionStyleModel",
      "state": {
       "description_width": ""
      }
     },
     "ad5bae73ed6b4ba787a7d1b778ada6f6": {
      "model_module": "@jupyter-widgets/controls",
      "model_module_version": "2.0.0",
      "model_name": "HBoxModel",
      "state": {
       "children": [
        "IPY_MODEL_570cd7c8df1c4249bd8bc457894355ee",
        "IPY_MODEL_8c17e4872a3342a0ad14a05764ebcbc3"
       ],
       "layout": "IPY_MODEL_a802847b6f9f4a0d84e1a49510bb5caa"
      }
     },
     "ae7cb1dd944341a1bda7a7817978366b": {
      "model_module": "@jupyter-widgets/base",
      "model_module_version": "2.0.0",
      "model_name": "LayoutModel",
      "state": {}
     },
     "af87368c5b4f49fda4e0fa64f6ea47de": {
      "model_module": "@jupyter-widgets/base",
      "model_module_version": "2.0.0",
      "model_name": "LayoutModel",
      "state": {}
     },
     "b2bd60873ad14a3e926283582a91627a": {
      "model_module": "@jupyter-widgets/controls",
      "model_module_version": "2.0.0",
      "model_name": "IntProgressModel",
      "state": {
       "bar_style": "danger",
       "description": "Interrupted",
       "layout": "IPY_MODEL_7214cbda883940109596c3dc543748ea",
       "style": "IPY_MODEL_63e1bf80cf4f421d84b467231a6c749b",
       "value": 20
      }
     },
     "b301290487c64fd7b9226bf7bf0c7cbd": {
      "model_module": "jupyter-leaflet",
      "model_module_version": "^0.17",
      "model_name": "LeafletAttributionControlModel",
      "state": {
       "_model_module_version": "^0.17",
       "_view_module_version": "^0.17",
       "options": [
        "position",
        "prefix"
       ],
       "position": "bottomright",
       "prefix": "ipyleaflet"
      }
     },
     "b75722d3f87048569156a10bdb45de58": {
      "model_module": "@jupyter-widgets/controls",
      "model_module_version": "2.0.0",
      "model_name": "DescriptionStyleModel",
      "state": {
       "description_width": ""
      }
     },
     "badcb8b68ebf4d368b156030cd85549a": {
      "model_module": "@jupyter-widgets/base",
      "model_module_version": "2.0.0",
      "model_name": "LayoutModel",
      "state": {}
     },
     "c4287c54fd9542d282eca32c847c6821": {
      "model_module": "@jupyter-widgets/controls",
      "model_module_version": "2.0.0",
      "model_name": "RadioButtonsModel",
      "state": {
       "_options_labels": [
        "BCCAQv2",
        "MBCn"
       ],
       "description": "CMIP6 downscaling technique:",
       "disabled": true,
       "index": 0,
       "layout": "IPY_MODEL_c7fab0085eec46648d5def1dc10ff94f",
       "style": "IPY_MODEL_7ecd798b53d0424cb35c6a1e9a2d6e9b"
      }
     },
     "c7fab0085eec46648d5def1dc10ff94f": {
      "model_module": "@jupyter-widgets/base",
      "model_module_version": "2.0.0",
      "model_name": "LayoutModel",
      "state": {}
     },
     "cbd40a3f0e2b41ab9bea955b6a1bc863": {
      "model_module": "@jupyter-widgets/base",
      "model_module_version": "2.0.0",
      "model_name": "LayoutModel",
      "state": {
       "align_items": "center",
       "grid_template_areas": "\"center center right-sidebar\"",
       "grid_template_columns": "1fr 2fr 1fr",
       "grid_template_rows": "3fr"
      }
     },
     "cf285c77e3794e06b9b1ea1d94f67763": {
      "model_module": "@jupyter-widgets/controls",
      "model_module_version": "2.0.0",
      "model_name": "RadioButtonsModel",
      "state": {
       "_options_labels": [
        "pr",
        "tasmax",
        "tasmin"
       ],
       "description": "Climate variable:",
       "index": 1,
       "layout": "IPY_MODEL_af87368c5b4f49fda4e0fa64f6ea47de",
       "style": "IPY_MODEL_b75722d3f87048569156a10bdb45de58"
      }
     },
     "d20022f67bdc4170927609346f4e2bd6": {
      "model_module": "@jupyter-widgets/controls",
      "model_module_version": "2.0.0",
      "model_name": "TextModel",
      "state": {
       "layout": "IPY_MODEL_39ef42c0d3214169973db4c03669609f",
       "placeholder": "",
       "style": "IPY_MODEL_335fd78f5fe4458ebbedf8e8b8b35580",
       "value": "(50.29074, -124.22441)"
      }
     },
     "d789c22343a847d9bdce9f0acec504d7": {
      "model_module": "jupyter-leaflet",
      "model_module_version": "^0.17",
      "model_name": "LeafletMapStyleModel",
      "state": {
       "_model_module_version": "^0.17",
       "cursor": "move"
      }
     },
     "dd6f413819e042b880f96409a124de9c": {
      "model_module": "@jupyter-widgets/controls",
      "model_module_version": "2.0.0",
      "model_name": "DescriptionStyleModel",
      "state": {
       "description_width": "100px"
      }
     },
     "deb0cfe06161407aa104bb69971eda17": {
      "model_module": "@jupyter-widgets/base",
      "model_module_version": "2.0.0",
      "model_name": "LayoutModel",
      "state": {
       "justify_content": "space-between"
      }
     },
     "ebaa32196b004df09d1fbc12ec96e46f": {
      "model_module": "@jupyter-widgets/controls",
      "model_module_version": "2.0.0",
      "model_name": "RadioButtonsModel",
      "state": {
       "_options_labels": [
        "197101-200012",
        "198101-201012"
       ],
       "description": "Climatological period:",
       "index": 0,
       "layout": "IPY_MODEL_48950a7a7213409c99be24fd8816f9a3",
       "style": "IPY_MODEL_ac67c36e018e451db01ed70c6a39f2a3"
      }
     },
     "f69639180be04b93a9e8eed09db27f8e": {
      "model_module": "jupyter-leaflet",
      "model_module_version": "^0.17",
      "model_name": "LeafletLegendControlModel",
      "state": {
       "_model_module_version": "^0.17",
       "_view_module_version": "^0.17",
       "legend": {
        "GCM": "blue",
        "Obs": "red"
       },
       "options": [
        "position"
       ],
       "position": "topright",
       "title": "Subdomains"
      }
     },
     "feccd938318d415facf200542f9a04c8": {
      "model_module": "@jupyter-widgets/controls",
      "model_module_version": "2.0.0",
      "model_name": "ProgressStyleModel",
      "state": {
       "description_width": ""
      }
     }
    },
    "version_major": 2,
    "version_minor": 0
   }
  }
 },
 "nbformat": 4,
 "nbformat_minor": 4
}
