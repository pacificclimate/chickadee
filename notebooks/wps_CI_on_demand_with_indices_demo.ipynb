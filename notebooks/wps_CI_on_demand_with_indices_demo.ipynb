{
 "cells": [
  {
   "cell_type": "markdown",
   "metadata": {},
   "source": [
    "# wps_CI_on_demand_with_indices\n",
    "\n",
    "#### wps_CI is a process that runs the [ci.netcdf.wrapper](https://github.com/pacificclimate/ClimDown/blob/master/R/CI.R#L235) (Climate Imprint) function of the [ClimDown](https://cran.r-project.org/web/packages/ClimDown/index.html) package using the [`chickadee`](https://github.com/pacificclimate/chickadee) DACCS bird. This notebook uses either the PNWNAmet daily gridded observations or the CMIP6 downscaled data as the `gcm_file` parameter and the PRISM monthly climatologies as the `obs_file` parameter. By supplying climatologies, this skips the computation of the climatologies during Climate Imprint. After running CI, the output can be passed to the Ouranos [`finch`](https://github.com/bird-house/finch/tree/master) bird to compute climate indices. This notebook uses an interactive map to set up inputs to the birds and run them, and its setup process is detailed in the `map.py` module.\n",
    "\n",
    "#### You can also examine pre-computed `chickadee` and `finch` outputs in steps VI and IX. The `chickadee` outputs can be used as inputs to the `finch` processes so that you don't have to use the interactive map if you only wish to compute climate indices."
   ]
  },
  {
   "cell_type": "markdown",
   "metadata": {},
   "source": [
    "I. Import `map` module and its functions/variables."
   ]
  },
  {
   "cell_type": "code",
   "execution_count": 1,
   "metadata": {},
   "outputs": [],
   "source": [
    "import map\n",
    "from map import *"
   ]
  },
  {
   "cell_type": "markdown",
   "metadata": {},
   "source": [
    "II. Check `url`s used to connect to chickadee/finch."
   ]
  },
  {
   "cell_type": "code",
   "execution_count": 2,
   "metadata": {},
   "outputs": [
    {
     "name": "stdout",
     "output_type": "stream",
     "text": [
      "Using chickadee on http://docker-dev03.pcic.uvic.ca:30102\n",
      "Using finch on https://docker-dev03.pcic.uvic.ca/twitcher/ows/proxy/finch/wps\n"
     ]
    }
   ],
   "source": [
    "# NBVAL_IGNORE_OUTPUT\n",
    "print(f\"Using chickadee on {chickadee_url}\")\n",
    "print(f\"Using finch on {finch_url}\")"
   ]
  },
  {
   "cell_type": "markdown",
   "metadata": {},
   "source": [
    "III. Display help for individual processes by using the ? command (ex. bird.process?). We can use the docstring to ensure we provide the appropriate parameters."
   ]
  },
  {
   "cell_type": "code",
   "execution_count": 3,
   "metadata": {},
   "outputs": [
    {
     "data": {
      "text/plain": [
       "\u001b[0;31mSignature:\u001b[0m\n",
       "\u001b[0mchickadee\u001b[0m\u001b[0;34m.\u001b[0m\u001b[0mci\u001b[0m\u001b[0;34m(\u001b[0m\u001b[0;34m\u001b[0m\n",
       "\u001b[0;34m\u001b[0m    \u001b[0mgcm_file\u001b[0m\u001b[0;34m,\u001b[0m\u001b[0;34m\u001b[0m\n",
       "\u001b[0;34m\u001b[0m    \u001b[0mobs_file\u001b[0m\u001b[0;34m,\u001b[0m\u001b[0;34m\u001b[0m\n",
       "\u001b[0;34m\u001b[0m    \u001b[0mgcm_varname\u001b[0m\u001b[0;34m=\u001b[0m\u001b[0;32mNone\u001b[0m\u001b[0;34m,\u001b[0m\u001b[0;34m\u001b[0m\n",
       "\u001b[0;34m\u001b[0m    \u001b[0mobs_varname\u001b[0m\u001b[0;34m=\u001b[0m\u001b[0;32mNone\u001b[0m\u001b[0;34m,\u001b[0m\u001b[0;34m\u001b[0m\n",
       "\u001b[0;34m\u001b[0m    \u001b[0mnum_cores\u001b[0m\u001b[0;34m=\u001b[0m\u001b[0;34m'4'\u001b[0m\u001b[0;34m,\u001b[0m\u001b[0;34m\u001b[0m\n",
       "\u001b[0;34m\u001b[0m    \u001b[0mloglevel\u001b[0m\u001b[0;34m=\u001b[0m\u001b[0;34m'INFO'\u001b[0m\u001b[0;34m,\u001b[0m\u001b[0;34m\u001b[0m\n",
       "\u001b[0;34m\u001b[0m    \u001b[0munits_bool\u001b[0m\u001b[0;34m=\u001b[0m\u001b[0;32mTrue\u001b[0m\u001b[0;34m,\u001b[0m\u001b[0;34m\u001b[0m\n",
       "\u001b[0;34m\u001b[0m    \u001b[0mn_pr_bool\u001b[0m\u001b[0;34m=\u001b[0m\u001b[0;32mTrue\u001b[0m\u001b[0;34m,\u001b[0m\u001b[0;34m\u001b[0m\n",
       "\u001b[0;34m\u001b[0m    \u001b[0mtasmax_units\u001b[0m\u001b[0;34m=\u001b[0m\u001b[0;34m'celsius'\u001b[0m\u001b[0;34m,\u001b[0m\u001b[0;34m\u001b[0m\n",
       "\u001b[0;34m\u001b[0m    \u001b[0mtasmin_units\u001b[0m\u001b[0;34m=\u001b[0m\u001b[0;34m'celsius'\u001b[0m\u001b[0;34m,\u001b[0m\u001b[0;34m\u001b[0m\n",
       "\u001b[0;34m\u001b[0m    \u001b[0mpr_units\u001b[0m\u001b[0;34m=\u001b[0m\u001b[0;34m'kg m-2 d-1'\u001b[0m\u001b[0;34m,\u001b[0m\u001b[0;34m\u001b[0m\n",
       "\u001b[0;34m\u001b[0m    \u001b[0mmax_gb\u001b[0m\u001b[0;34m=\u001b[0m\u001b[0;36m1.0\u001b[0m\u001b[0;34m,\u001b[0m\u001b[0;34m\u001b[0m\n",
       "\u001b[0;34m\u001b[0m    \u001b[0mstart_date\u001b[0m\u001b[0;34m=\u001b[0m\u001b[0mdatetime\u001b[0m\u001b[0;34m.\u001b[0m\u001b[0mdate\u001b[0m\u001b[0;34m(\u001b[0m\u001b[0;36m1971\u001b[0m\u001b[0;34m,\u001b[0m \u001b[0;36m1\u001b[0m\u001b[0;34m,\u001b[0m \u001b[0;36m1\u001b[0m\u001b[0;34m)\u001b[0m\u001b[0;34m,\u001b[0m\u001b[0;34m\u001b[0m\n",
       "\u001b[0;34m\u001b[0m    \u001b[0mend_date\u001b[0m\u001b[0;34m=\u001b[0m\u001b[0mdatetime\u001b[0m\u001b[0;34m.\u001b[0m\u001b[0mdate\u001b[0m\u001b[0;34m(\u001b[0m\u001b[0;36m2005\u001b[0m\u001b[0;34m,\u001b[0m \u001b[0;36m12\u001b[0m\u001b[0;34m,\u001b[0m \u001b[0;36m31\u001b[0m\u001b[0;34m)\u001b[0m\u001b[0;34m,\u001b[0m\u001b[0;34m\u001b[0m\n",
       "\u001b[0;34m\u001b[0m    \u001b[0mout_file\u001b[0m\u001b[0;34m=\u001b[0m\u001b[0;32mNone\u001b[0m\u001b[0;34m,\u001b[0m\u001b[0;34m\u001b[0m\n",
       "\u001b[0;34m\u001b[0m\u001b[0;34m)\u001b[0m\u001b[0;34m\u001b[0m\u001b[0;34m\u001b[0m\u001b[0m\n",
       "\u001b[0;31mDocstring:\u001b[0m\n",
       "Climate Imprint (CI) downscaling\n",
       "\n",
       "Parameters\n",
       "----------\n",
       "gcm_file : ComplexData:mimetype:`application/x-netcdf`, :mimetype:`application/x-ogc-dods`\n",
       "    Filename of GCM simulations\n",
       "obs_file : ComplexData:mimetype:`application/x-netcdf`, :mimetype:`application/x-ogc-dods`\n",
       "    Filename of high-res gridded historical observations\n",
       "out_file : string\n",
       "    Filename to create with the climate imprint outputs\n",
       "num_cores : {'1', '2', '3', '4'}positiveInteger\n",
       "    The number of cores to use for parallel execution\n",
       "loglevel : {'CRITICAL', 'ERROR', 'WARNING', 'INFO', 'DEBUG', 'NOTSET'}string\n",
       "    Logging level\n",
       "units_bool : boolean\n",
       "    Check the input units and convert them to the target output units\n",
       "n_pr_bool : boolean\n",
       "    Check for and eliminate negative precipitation values\n",
       "tasmax_units : string\n",
       "    Units used for tasmax in output file\n",
       "tasmin_units : string\n",
       "    Units used for tasmin in output file\n",
       "pr_units : string\n",
       "    Units used for pr in output file\n",
       "max_gb : float\n",
       "    Anapproximately how much RAM to use in the chunk I/O loop. It’s best to set this to about 1/3 to 1/4 of what you want the high-water mark to be\n",
       "start_date : date\n",
       "    Defines the stat of the calibration period\n",
       "end_date : date\n",
       "    Defines the end of the calibration period\n",
       "gcm_varname : string\n",
       "    Name of the GCM NetCDF variable to downscale (e.g. 'tasmax')\n",
       "obs_varname : string\n",
       "    Name of the NetCDF variable to downscale given in the observations file (e.g. 'tmax')\n",
       "\n",
       "Returns\n",
       "-------\n",
       "output : ComplexData:mimetype:`application/x-netcdf`\n",
       "    Output Netcdf File\n",
       "\u001b[0;31mFile:\u001b[0m      ~/code/chickadee/notebooks/</home/eyvorchuk/code/chickadee/chickadee-venv/lib/python3.10/site-packages/birdy/client/base.py-1>\n",
       "\u001b[0;31mType:\u001b[0m      method"
      ]
     },
     "metadata": {},
     "output_type": "display_data"
    }
   ],
   "source": [
    "# NBVAL_IGNORE_OUTPUT\n",
    "chickadee.ci?"
   ]
  },
  {
   "cell_type": "code",
   "execution_count": 4,
   "metadata": {},
   "outputs": [
    {
     "data": {
      "text/plain": [
       "\u001b[0;31mSignature:\u001b[0m\n",
       "\u001b[0mfinch\u001b[0m\u001b[0;34m.\u001b[0m\u001b[0mtx_max\u001b[0m\u001b[0;34m(\u001b[0m\u001b[0;34m\u001b[0m\n",
       "\u001b[0;34m\u001b[0m    \u001b[0mtasmax\u001b[0m\u001b[0;34m=\u001b[0m\u001b[0;32mNone\u001b[0m\u001b[0;34m,\u001b[0m\u001b[0;34m\u001b[0m\n",
       "\u001b[0;34m\u001b[0m    \u001b[0mfreq\u001b[0m\u001b[0;34m=\u001b[0m\u001b[0;34m'YS'\u001b[0m\u001b[0;34m,\u001b[0m\u001b[0;34m\u001b[0m\n",
       "\u001b[0;34m\u001b[0m    \u001b[0mmonth\u001b[0m\u001b[0;34m=\u001b[0m\u001b[0;32mNone\u001b[0m\u001b[0;34m,\u001b[0m\u001b[0;34m\u001b[0m\n",
       "\u001b[0;34m\u001b[0m    \u001b[0mseason\u001b[0m\u001b[0;34m=\u001b[0m\u001b[0;32mNone\u001b[0m\u001b[0;34m,\u001b[0m\u001b[0;34m\u001b[0m\n",
       "\u001b[0;34m\u001b[0m    \u001b[0mcheck_missing\u001b[0m\u001b[0;34m=\u001b[0m\u001b[0;34m'any'\u001b[0m\u001b[0;34m,\u001b[0m\u001b[0;34m\u001b[0m\n",
       "\u001b[0;34m\u001b[0m    \u001b[0mmissing_options\u001b[0m\u001b[0;34m=\u001b[0m\u001b[0;32mNone\u001b[0m\u001b[0;34m,\u001b[0m\u001b[0;34m\u001b[0m\n",
       "\u001b[0;34m\u001b[0m    \u001b[0mcf_compliance\u001b[0m\u001b[0;34m=\u001b[0m\u001b[0;34m'warn'\u001b[0m\u001b[0;34m,\u001b[0m\u001b[0;34m\u001b[0m\n",
       "\u001b[0;34m\u001b[0m    \u001b[0mdata_validation\u001b[0m\u001b[0;34m=\u001b[0m\u001b[0;34m'raise'\u001b[0m\u001b[0;34m,\u001b[0m\u001b[0;34m\u001b[0m\n",
       "\u001b[0;34m\u001b[0m    \u001b[0mvariable\u001b[0m\u001b[0;34m=\u001b[0m\u001b[0;32mNone\u001b[0m\u001b[0;34m,\u001b[0m\u001b[0;34m\u001b[0m\n",
       "\u001b[0;34m\u001b[0m    \u001b[0moutput_name\u001b[0m\u001b[0;34m=\u001b[0m\u001b[0;32mNone\u001b[0m\u001b[0;34m,\u001b[0m\u001b[0;34m\u001b[0m\n",
       "\u001b[0;34m\u001b[0m    \u001b[0moutput_format\u001b[0m\u001b[0;34m=\u001b[0m\u001b[0;34m'netcdf'\u001b[0m\u001b[0;34m,\u001b[0m\u001b[0;34m\u001b[0m\n",
       "\u001b[0;34m\u001b[0m    \u001b[0mcsv_precision\u001b[0m\u001b[0;34m=\u001b[0m\u001b[0;32mNone\u001b[0m\u001b[0;34m,\u001b[0m\u001b[0;34m\u001b[0m\n",
       "\u001b[0;34m\u001b[0m    \u001b[0moutput_formats\u001b[0m\u001b[0;34m=\u001b[0m\u001b[0;32mNone\u001b[0m\u001b[0;34m,\u001b[0m\u001b[0;34m\u001b[0m\n",
       "\u001b[0;34m\u001b[0m\u001b[0;34m)\u001b[0m\u001b[0;34m\u001b[0m\u001b[0;34m\u001b[0m\u001b[0m\n",
       "\u001b[0;31mDocstring:\u001b[0m\n",
       "The maximum value of daily maximum temperature.\n",
       "\n",
       "Parameters\n",
       "----------\n",
       "tasmax : ComplexData:mimetype:`application/x-netcdf`, :mimetype:`application/x-ogc-dods`\n",
       "    NetCDF Files or archive (tar/zip) containing netCDF files. Maximum surface temperature.\n",
       "freq : {'YS', 'MS', 'QS-DEC', 'AS-JUL'}string\n",
       "    Resampling frequency.\n",
       "month : {'1', '2', '3', '4', '5', '6', '7', '8', '9', '10', ...}integer\n",
       "    Months of the year over which to compute indicator.\n",
       "season : {'DJF', 'MAM', 'JJA', 'SON'}string\n",
       "    Climatological season over which to compute indicator.\n",
       "check_missing : {'any', 'wmo', 'pct', 'at_least_n', 'skip', 'from_context'}string\n",
       "    Method used to determine which aggregations should be considered missing.\n",
       "missing_options : ComplexData:mimetype:`application/json`\n",
       "    JSON representation of dictionary of missing method parameters.\n",
       "cf_compliance : {'log', 'warn', 'raise'}string\n",
       "    Whether to log, warn or raise when inputs have non-CF-compliant attributes.\n",
       "data_validation : {'log', 'warn', 'raise'}string\n",
       "    Whether to log, warn or raise when inputs fail data validation checks.\n",
       "variable : string\n",
       "    Name of the variable in the NetCDF file.\n",
       "output_name : string\n",
       "    Filename of the output (no extension).\n",
       "output_format : {'netcdf', 'csv'}string\n",
       "    Choose in which format you want to receive the result. CSV actually means a zip file of two csv files.\n",
       "csv_precision : integer\n",
       "    Only valid if output_format is CSV. If not set, all decimal places of a 64 bit floating precision number are printed. If negative, rounds before the decimal point.\n",
       "\n",
       "Returns\n",
       "-------\n",
       "output : ComplexData:mimetype:`application/x-netcdf`, :mimetype:`application/zip`\n",
       "    The format depends on the 'output_format' input parameter.\n",
       "output_log : ComplexData:mimetype:`text/plain`\n",
       "    Collected logs during process run.\n",
       "ref : ComplexData:mimetype:`application/metalink+xml; version=4.0`\n",
       "    Metalink file storing all references to output files.\n",
       "\u001b[0;31mFile:\u001b[0m      ~/code/chickadee/notebooks/</home/eyvorchuk/code/chickadee/chickadee-venv/lib/python3.10/site-packages/birdy/client/base.py-70>\n",
       "\u001b[0;31mType:\u001b[0m      method"
      ]
     },
     "metadata": {},
     "output_type": "display_data"
    }
   ],
   "source": [
    "# NBVAL_IGNORE_OUTPUT\n",
    "finch.tx_max?"
   ]
  },
  {
   "cell_type": "markdown",
   "metadata": {},
   "source": [
    "IV. Load the interactive map to initialize the inputs. These inputs are the <b>center point</b> of the 2.5 degree by 2.5 degree subdomain of the target region and 3 degree by 3 degree subdomain of the GCM region, the <b>climate variable</b> from the GCM input to downscale, the <b>dataset</b> to use as the GCM input (where choosing the CMIP6 data allows one to further select the <b>downscaling technique</b>, the <b>model</b>, the <b>CanESM5 run</b> if applicable, and the <b>emissions scenario</b>), and the <b>climatological period</b> of the target data. Some inputs are obtained from the [THREDDS data server](https://docker-dev03.pcic.uvic.ca/twitcher/ows/proxy/thredds/catalog.html). Once the inputs are initialized, you can click the `Run Chickadee` button to start the CI process.\n",
    "\n",
    "Alternatively, if you wish to inspect pre-computed outputs from `chickadee`, you can skip to <b>step VI</b> and run the `use_default_chickadee_outputs` cell. "
   ]
  },
  {
   "cell_type": "code",
   "execution_count": 5,
   "metadata": {},
   "outputs": [
    {
     "data": {
      "application/vnd.jupyter.widget-view+json": {
       "model_id": "48a1a3fec0394afa9ec0af80c6bad5cd",
       "version_major": 2,
       "version_minor": 0
      },
      "text/plain": [
       "AppLayout(children=(Box(children=(Text(value='', placeholder=''), Text(value='', description='Center:', placeh…"
      ]
     },
     "execution_count": 5,
     "metadata": {},
     "output_type": "execute_result"
    }
   ],
   "source": [
    "AppLayout(center = m, right_sidebar = control_box_chickadee, align_items = 'center')"
   ]
  },
  {
   "cell_type": "markdown",
   "metadata": {},
   "source": [
    "V. Run this cell to display `chickadee` progress."
   ]
  },
  {
   "cell_type": "code",
   "execution_count": 6,
   "metadata": {},
   "outputs": [
    {
     "data": {
      "application/vnd.jupyter.widget-view+json": {
       "model_id": "7eb6700c094d43dc9891bc5489fd097d",
       "version_major": 2,
       "version_minor": 0
      },
      "text/plain": [
       "Output()"
      ]
     },
     "metadata": {},
     "output_type": "display_data"
    }
   ],
   "source": [
    "ipydisplay.display(output_widget_chickadee)"
   ]
  },
  {
   "cell_type": "markdown",
   "metadata": {},
   "source": [
    "VI. Check `chickadee` statuses and store the outputs as `netCDF4.Dataset` objects if possible. `map.chickadee_outputs` is used to ensure that the updated values rather than the default `None` values are passed to these functions.\n",
    "\n",
    "Alternatively, one can run the `use_default_chickadee_outputs` cell to obtain pre-computed `chickadee` outputs."
   ]
  },
  {
   "cell_type": "code",
   "execution_count": 7,
   "metadata": {},
   "outputs": [],
   "source": [
    "use_default_chickadee_outputs()"
   ]
  },
  {
   "cell_type": "code",
   "execution_count": 8,
   "metadata": {},
   "outputs": [
    {
     "name": "stdout",
     "output_type": "stream",
     "text": [
      "Process status: ProcessSucceeded\n",
      "Link to process output: https://docker-dev03.pcic.uvic.ca/wpsoutputs/ef45dbfc-dcac-11ee-a97c-0242ac12000c/pr_PNWNAmet_target_198101-201012_on-demand.nc\n",
      "<class 'netCDF4._netCDF4.Dataset'>\n",
      "root group (NETCDF3_CLASSIC data model, file format DAP2):\n",
      "    DODS_EXTRA.Unlimited_Dimension: time\n",
      "    dimensions(sizes): time(24837), lat(301), lon(301)\n",
      "    variables(dimensions): float64 lon(lon), float64 lat(lat), float64 time(time), float32 pr(time, lat, lon)\n",
      "    groups: \n",
      "Process status: ProcessSucceeded\n",
      "Link to process output: https://docker-dev03.pcic.uvic.ca/wpsoutputs/f099db66-dcac-11ee-a97c-0242ac12000c/tasmax_PNWNAmet_target_198101-201012_on-demand.nc\n",
      "<class 'netCDF4._netCDF4.Dataset'>\n",
      "root group (NETCDF3_CLASSIC data model, file format DAP2):\n",
      "    DODS_EXTRA.Unlimited_Dimension: time\n",
      "    dimensions(sizes): time(24837), lat(301), lon(301)\n",
      "    variables(dimensions): float64 lon(lon), float64 lat(lat), float64 time(time), float32 tasmax(time, lat, lon)\n",
      "    groups: \n",
      "Process status: ProcessSucceeded\n",
      "Link to process output: https://docker-dev03.pcic.uvic.ca/wpsoutputs/f18f8138-dcac-11ee-a97c-0242ac12000c/tasmin_PNWNAmet_target_198101-201012_on-demand.nc\n",
      "<class 'netCDF4._netCDF4.Dataset'>\n",
      "root group (NETCDF3_CLASSIC data model, file format DAP2):\n",
      "    DODS_EXTRA.Unlimited_Dimension: time\n",
      "    dimensions(sizes): time(24837), lat(301), lon(301)\n",
      "    variables(dimensions): float64 lon(lon), float64 lat(lat), float64 time(time), float32 tasmin(time, lat, lon)\n",
      "    groups: \n"
     ]
    }
   ],
   "source": [
    "for var in map.chickadee_outputs.keys():\n",
    "    for chickadee_output in map.chickadee_outputs[var]:\n",
    "        get_bird_output(chickadee_output)\n",
    "        if chickadee_output.isComplete():\n",
    "            chickadee_output_ds = bird_output_to_dataset(chickadee_output)\n",
    "            print(chickadee_output_ds)"
   ]
  },
  {
   "cell_type": "markdown",
   "metadata": {},
   "source": [
    "VII. Once `chickadee` processes are complete, select output files from which `finch` will compute climate indices based on the climate variable in each file. Currently, a subset of the [climdex indices](https://climate-scenarios.canada.ca/?page=climdex-indices) can be computed with more to be available in the future.\n",
    "\n",
    "Similarly to `chickadee`, you can instead examine pre-computed `finch` outputs by skipping to <b>step IX</b> and running the `use_default_finch_outputs` cell."
   ]
  },
  {
   "cell_type": "code",
   "execution_count": 9,
   "metadata": {},
   "outputs": [
    {
     "data": {
      "application/vnd.jupyter.widget-view+json": {
       "model_id": "91517d548f16458eb9a631a8395fccfc",
       "version_major": 2,
       "version_minor": 0
      },
      "text/plain": [
       "VBox(children=(HTML(value='<b>pr</b>', style=HTMLStyle(description_width='initial')), Checkbox(value=False, de…"
      ]
     },
     "metadata": {},
     "output_type": "display_data"
    },
    {
     "data": {
      "application/vnd.jupyter.widget-view+json": {
       "model_id": "8fa24a3e195246d8bb024e42f614697a",
       "version_major": 2,
       "version_minor": 0
      },
      "text/plain": [
       "HBox(children=(VBox(children=(HTML(value='<b>Precipitation Indices</b>', style=HTMLStyle(description_width='in…"
      ]
     },
     "metadata": {},
     "output_type": "display_data"
    },
    {
     "data": {
      "application/vnd.jupyter.widget-view+json": {
       "model_id": "295644bd3a9140ea908b5b3ef5444b41",
       "version_major": 2,
       "version_minor": 0
      },
      "text/plain": [
       "Button(button_style='info', description='Run Finch', style=ButtonStyle(), tooltip=\"Click 'Run' to start the cl…"
      ]
     },
     "metadata": {},
     "output_type": "display_data"
    }
   ],
   "source": [
    "display_chickadee_outputs()\n",
    "display(map.chickadee_output_box, finch_indices, run_finch)"
   ]
  },
  {
   "cell_type": "markdown",
   "metadata": {},
   "source": [
    "VIII. Run this cell to display `finch` progress."
   ]
  },
  {
   "cell_type": "code",
   "execution_count": 10,
   "metadata": {
    "scrolled": true
   },
   "outputs": [
    {
     "data": {
      "application/vnd.jupyter.widget-view+json": {
       "model_id": "4fb26e2ca82b4a5b971d49f250ad3a3c",
       "version_major": 2,
       "version_minor": 0
      },
      "text/plain": [
       "Output()"
      ]
     },
     "metadata": {},
     "output_type": "display_data"
    }
   ],
   "source": [
    "ipydisplay.display(output_widget_finch)"
   ]
  },
  {
   "cell_type": "markdown",
   "metadata": {},
   "source": [
    "IX. As for `chickadee`, check the statuses of the `finch` processes and store the outputs as `netCDF4.Dataset` objects if possible.\n",
    "\n",
    "Alternatively, one can run the `use_default_finch_outputs` cell to obtain pre-computed finch outputs."
   ]
  },
  {
   "cell_type": "code",
   "execution_count": 12,
   "metadata": {},
   "outputs": [],
   "source": [
    "use_default_finch_outputs()"
   ]
  },
  {
   "cell_type": "code",
   "execution_count": 13,
   "metadata": {},
   "outputs": [
    {
     "name": "stdout",
     "output_type": "stream",
     "text": [
      "Process status: ProcessSucceeded\n",
      "Link to process output: https://docker-dev03.pcic.uvic.ca/wpsoutputs/finch/69935d0a-ead9-11ee-8fa3-0242ac120004/rx2day_monthly.nc\n",
      "<class 'netCDF4._netCDF4.Dataset'>\n",
      "root group (NETCDF3_CLASSIC data model, file format DAP2):\n",
      "    DODS_EXTRA.Unlimited_Dimension: time\n",
      "    climateindex_package_id: https://github.com/Ouranosinc/xclim\n",
      "    product: derived climate index\n",
      "    institute_id: CCCS\n",
      "    contact: Canadian Centre for Climate Services\n",
      "    institution: Canadian Centre for Climate Services (CCCS)\n",
      "    dimensions(sizes): time(816), lat(301), lon(301)\n",
      "    variables(dimensions): float32 time(time), float64 lat(lat), float64 lon(lon), float32 rx2day(time, lat, lon)\n",
      "    groups: \n",
      "Process status: ProcessSucceeded\n",
      "Link to process output: https://docker-dev03.pcic.uvic.ca/wpsoutputs/finch/6a58b85c-ead9-11ee-8fa3-0242ac120004/r18mm_djf.nc\n",
      "<class 'netCDF4._netCDF4.Dataset'>\n",
      "root group (NETCDF3_CLASSIC data model, file format DAP2):\n",
      "    DODS_EXTRA.Unlimited_Dimension: time\n",
      "    climateindex_package_id: https://github.com/Ouranosinc/xclim\n",
      "    product: derived climate index\n",
      "    institute_id: CCCS\n",
      "    contact: Canadian Centre for Climate Services\n",
      "    institution: Canadian Centre for Climate Services (CCCS)\n",
      "    dimensions(sizes): time(68), lat(301), lon(301)\n",
      "    variables(dimensions): float32 time(time), float64 lat(lat), float64 lon(lon), float64 wetdays(time, lat, lon)\n",
      "    groups: \n",
      "Process status: ProcessSucceeded\n",
      "Link to process output: https://docker-dev03.pcic.uvic.ca/wpsoutputs/finch/6b1549f4-ead9-11ee-8fa3-0242ac120004/summer_days_28c_may.nc\n",
      "<class 'netCDF4._netCDF4.Dataset'>\n",
      "root group (NETCDF3_CLASSIC data model, file format DAP2):\n",
      "    DODS_EXTRA.Unlimited_Dimension: time\n",
      "    climateindex_package_id: https://github.com/Ouranosinc/xclim\n",
      "    product: derived climate index\n",
      "    institute_id: CCCS\n",
      "    contact: Canadian Centre for Climate Services\n",
      "    institution: Canadian Centre for Climate Services (CCCS)\n",
      "    dimensions(sizes): time(68), lat(301), lon(301)\n",
      "    variables(dimensions): float32 time(time), float64 lat(lat), float64 lon(lon), float64 tx_days_above(time, lat, lon)\n",
      "    groups: \n",
      "Process status: ProcessSucceeded\n",
      "Link to process output: https://docker-dev03.pcic.uvic.ca/wpsoutputs/finch/6bccb22e-ead9-11ee-8fa3-0242ac120004/tropical_nights_14c_seasonal.nc\n",
      "<class 'netCDF4._netCDF4.Dataset'>\n",
      "root group (NETCDF3_CLASSIC data model, file format DAP2):\n",
      "    DODS_EXTRA.Unlimited_Dimension: time\n",
      "    climateindex_package_id: https://github.com/Ouranosinc/xclim\n",
      "    product: derived climate index\n",
      "    institute_id: CCCS\n",
      "    contact: Canadian Centre for Climate Services\n",
      "    institution: Canadian Centre for Climate Services (CCCS)\n",
      "    dimensions(sizes): time(273), lat(301), lon(301)\n",
      "    variables(dimensions): float32 time(time), float64 lat(lat), float64 lon(lon), float64 tropical_nights(time, lat, lon)\n",
      "    groups: \n",
      "Process status: ProcessSucceeded\n",
      "Link to process output: https://docker-dev03.pcic.uvic.ca/wpsoutputs/finch/6c8a0996-ead9-11ee-8fa3-0242ac120004/dtr_annual.nc\n",
      "<class 'netCDF4._netCDF4.Dataset'>\n",
      "root group (NETCDF3_CLASSIC data model, file format DAP2):\n",
      "    DODS_EXTRA.Unlimited_Dimension: time\n",
      "    climateindex_package_id: https://github.com/Ouranosinc/xclim\n",
      "    product: derived climate index\n",
      "    institute_id: CCCS\n",
      "    contact: Canadian Centre for Climate Services\n",
      "    institution: Canadian Centre for Climate Services (CCCS)\n",
      "    dimensions(sizes): time(68), lat(301), lon(301)\n",
      "    variables(dimensions): float32 time(time), float64 lat(lat), float64 lon(lon), float32 dtr(time, lat, lon)\n",
      "    groups: \n",
      "Process status: ProcessSucceeded\n",
      "Link to process output: https://docker-dev03.pcic.uvic.ca/wpsoutputs/finch/bace93a2-dcaf-11ee-a719-0242ac120014/rx1day.nc\n",
      "<class 'netCDF4._netCDF4.Dataset'>\n",
      "root group (NETCDF3_CLASSIC data model, file format DAP2):\n",
      "    DODS_EXTRA.Unlimited_Dimension: time\n",
      "    climateindex_package_id: https://github.com/Ouranosinc/xclim\n",
      "    product: derived climate index\n",
      "    institute_id: CCCS\n",
      "    institution: Canadian Centre for Climate Services (CCCS)\n",
      "    contact: Canadian Centre for Climate Services\n",
      "    dimensions(sizes): time(68), lat(301), lon(301)\n",
      "    variables(dimensions): float32 time(time), float64 lat(lat), float64 lon(lon), float32 rx1day(time, lat, lon)\n",
      "    groups: \n",
      "Process status: ProcessSucceeded\n",
      "Link to process output: https://docker-dev03.pcic.uvic.ca/wpsoutputs/finch/c0c8a48c-dcaf-11ee-a719-0242ac120014/ice_days.nc\n",
      "<class 'netCDF4._netCDF4.Dataset'>\n",
      "root group (NETCDF3_CLASSIC data model, file format DAP2):\n",
      "    DODS_EXTRA.Unlimited_Dimension: time\n",
      "    climateindex_package_id: https://github.com/Ouranosinc/xclim\n",
      "    product: derived climate index\n",
      "    institute_id: CCCS\n",
      "    institution: Canadian Centre for Climate Services (CCCS)\n",
      "    contact: Canadian Centre for Climate Services\n",
      "    dimensions(sizes): time(68), lat(301), lon(301)\n",
      "    variables(dimensions): float32 time(time), float64 lat(lat), float64 lon(lon), float64 ice_days(time, lat, lon)\n",
      "    groups: \n",
      "Process status: ProcessSucceeded\n",
      "Link to process output: https://docker-dev03.pcic.uvic.ca/wpsoutputs/finch/c295054e-dcaf-11ee-a719-0242ac120014/tn_max.nc\n",
      "<class 'netCDF4._netCDF4.Dataset'>\n",
      "root group (NETCDF3_CLASSIC data model, file format DAP2):\n",
      "    DODS_EXTRA.Unlimited_Dimension: time\n",
      "    climateindex_package_id: https://github.com/Ouranosinc/xclim\n",
      "    product: derived climate index\n",
      "    institute_id: CCCS\n",
      "    institution: Canadian Centre for Climate Services (CCCS)\n",
      "    contact: Canadian Centre for Climate Services\n",
      "    dimensions(sizes): time(68), lat(301), lon(301)\n",
      "    variables(dimensions): float32 time(time), float64 lat(lat), float64 lon(lon), float32 tn_max(time, lat, lon)\n",
      "    groups: \n",
      "Process status: ProcessSucceeded\n",
      "Link to process output: https://docker-dev03.pcic.uvic.ca/wpsoutputs/finch/c44c0fe0-dcaf-11ee-a719-0242ac120014/tg.nc\n",
      "<class 'netCDF4._netCDF4.Dataset'>\n",
      "root group (NETCDF3_CLASSIC data model, file format DAP2):\n",
      "    DODS_EXTRA.Unlimited_Dimension: time\n",
      "    climateindex_package_id: https://github.com/Ouranosinc/xclim\n",
      "    product: derived climate index\n",
      "    institute_id: CCCS\n",
      "    institution: Canadian Centre for Climate Services (CCCS)\n",
      "    contact: Canadian Centre for Climate Services\n",
      "    dimensions(sizes): time(24837), lat(301), lon(301)\n",
      "    variables(dimensions): float64 lon(lon), float64 lat(lat), float32 time(time), float32 tg(time, lat, lon)\n",
      "    groups: \n"
     ]
    }
   ],
   "source": [
    "finch_outputs_ds = []\n",
    "for output in map.finch_outputs:\n",
    "    get_bird_output(output)\n",
    "    if output.isComplete():\n",
    "        finch_output_ds = bird_output_to_dataset(output)\n",
    "        print(finch_output_ds)\n",
    "        finch_outputs_ds.append(finch_output_ds)"
   ]
  },
  {
   "cell_type": "code",
   "execution_count": null,
   "metadata": {},
   "outputs": [],
   "source": []
  }
 ],
 "metadata": {
  "kernelspec": {
   "display_name": "Python 3 (ipykernel)",
   "language": "python",
   "name": "python3"
  },
  "language_info": {
   "codemirror_mode": {
    "name": "ipython",
    "version": 3
   },
   "file_extension": ".py",
   "mimetype": "text/x-python",
   "name": "python",
   "nbconvert_exporter": "python",
   "pygments_lexer": "ipython3",
   "version": "3.10.12"
  },
  "widgets": {
   "application/vnd.jupyter.widget-state+json": {
    "state": {
     "01de387d69344ff88a1fa479f2e530cc": {
      "model_module": "@jupyter-widgets/base",
      "model_module_version": "2.0.0",
      "model_name": "LayoutModel",
      "state": {}
     },
     "020e9be08a6b47078a65df177310b45d": {
      "model_module": "@jupyter-widgets/controls",
      "model_module_version": "2.0.0",
      "model_name": "DropdownModel",
      "state": {
       "_options_labels": [
        "Annual",
        "Monthly",
        "Seasonal",
        "January",
        "February",
        "March",
        "April",
        "May",
        "June",
        "July",
        "August",
        "September",
        "October",
        "November",
        "December",
        "Winter-DJF",
        "Spring-MAM",
        "Summer-JJA",
        "Fall-SON"
       ],
       "index": 0,
       "layout": "IPY_MODEL_ca527158f53a4542ab7cadc82bd1e6cc",
       "style": "IPY_MODEL_a115965074d44a629a1256f57e941e6e"
      }
     },
     "02a260094f9d4eb3ae7811ea82c324a0": {
      "model_module": "@jupyter-widgets/controls",
      "model_module_version": "2.0.0",
      "model_name": "CheckboxModel",
      "state": {
       "description": "TXₓ",
       "disabled": false,
       "layout": "IPY_MODEL_d0ab95d9cc5c4038b566adbd28e646c0",
       "style": "IPY_MODEL_4149a1ef37654759a03e68c1094c77db",
       "value": false
      }
     },
     "02f9c7dfa0484f86aa3f9adac5fff3c2": {
      "model_module": "@jupyter-widgets/controls",
      "model_module_version": "2.0.0",
      "model_name": "HTMLModel",
      "state": {
       "layout": "IPY_MODEL_d26c412cacfd4f7ea693fe88aa05f6a4",
       "style": "IPY_MODEL_fa786323011e4bb9a90b08e12a6b1f43",
       "value": "<b>Precipitation Indices</b>"
      }
     },
     "052ec4c9eb434f549e475e761a8a0b1a": {
      "model_module": "@jupyter-widgets/controls",
      "model_module_version": "2.0.0",
      "model_name": "HBoxModel",
      "state": {
       "children": [
        "IPY_MODEL_4b6aee855767405e82d7693f0e6080b5",
        "IPY_MODEL_6b5351163ada4c7fb65b23eb9fcf4d69"
       ],
       "layout": "IPY_MODEL_fadbfe88f029493785b2e7cd907e2fe2"
      }
     },
     "0632c10995a5404c9c5d218294cf9f41": {
      "model_module": "@jupyter-widgets/base",
      "model_module_version": "2.0.0",
      "model_name": "LayoutModel",
      "state": {}
     },
     "078f4ea2ab094ff1aa03c0009e5fa34f": {
      "model_module": "@jupyter-widgets/controls",
      "model_module_version": "2.0.0",
      "model_name": "CheckboxStyleModel",
      "state": {
       "description_width": "initial"
      }
     },
     "08d1cd6467b34f1280616433cc5b3a13": {
      "model_module": "@jupyter-widgets/controls",
      "model_module_version": "2.0.0",
      "model_name": "DescriptionStyleModel",
      "state": {
       "description_width": ""
      }
     },
     "096f3801f171447aa77df0388dce4995": {
      "model_module": "@jupyter-widgets/controls",
      "model_module_version": "2.0.0",
      "model_name": "IntSliderModel",
      "state": {
       "behavior": "drag-tap",
       "layout": "IPY_MODEL_ab886ec1dacb4243b2342de830c09a14",
       "max": 30,
       "min": 10,
       "style": "IPY_MODEL_97256ce909d044daaa20500891e9001f",
       "value": 14
      }
     },
     "09bfa88a32c54c49b0ebba3db6cc200a": {
      "model_module": "@jupyter-widgets/base",
      "model_module_version": "2.0.0",
      "model_name": "LayoutModel",
      "state": {}
     },
     "0a55152311ca4dc0b042d5118e617012": {
      "model_module": "@jupyter-widgets/controls",
      "model_module_version": "2.0.0",
      "model_name": "DescriptionStyleModel",
      "state": {
       "description_width": ""
      }
     },
     "0a57b4b3812e460dbd2a1cac178ee57a": {
      "model_module": "@jupyter-widgets/controls",
      "model_module_version": "2.0.0",
      "model_name": "CheckboxStyleModel",
      "state": {
       "description_width": "initial"
      }
     },
     "0a64c006d95043468f9be4fd1e2b95a7": {
      "model_module": "@jupyter-widgets/base",
      "model_module_version": "2.0.0",
      "model_name": "LayoutModel",
      "state": {}
     },
     "0c9da335f66c4d38ae2d9925c11a316b": {
      "model_module": "@jupyter-widgets/controls",
      "model_module_version": "2.0.0",
      "model_name": "CheckboxStyleModel",
      "state": {
       "description_width": "initial"
      }
     },
     "0cafa183b1c942a7b570d5e7ab324118": {
      "model_module": "@jupyter-widgets/controls",
      "model_module_version": "2.0.0",
      "model_name": "HBoxModel",
      "state": {
       "children": [
        "IPY_MODEL_710206b8895e4433a0f1923a45580815",
        "IPY_MODEL_f456b356312a4e81a30b40afcc20e857"
       ],
       "layout": "IPY_MODEL_41140a438dbf4c4baa66ef8b92f2a201"
      }
     },
     "0f6d52da3ba14e91a800b5749e4aaf6d": {
      "model_module": "@jupyter-widgets/controls",
      "model_module_version": "2.0.0",
      "model_name": "CheckboxStyleModel",
      "state": {
       "description_width": "initial"
      }
     },
     "10fa8842220f49358876266bcf0718b7": {
      "model_module": "jupyter-leaflet",
      "model_module_version": "^0.17",
      "model_name": "LeafletAttributionControlModel",
      "state": {
       "_model_module_version": "^0.17",
       "_view_module_version": "^0.17",
       "options": [
        "position",
        "prefix"
       ],
       "position": "bottomright",
       "prefix": "ipyleaflet"
      }
     },
     "12356536e23148398fc3bae810c89d43": {
      "model_module": "@jupyter-widgets/controls",
      "model_module_version": "2.0.0",
      "model_name": "CheckboxModel",
      "state": {
       "description": "https://docker-dev03.pcic.uvic.ca/wpsoutputs/f18f8138-dcac-11ee-a97c-0242ac12000c/tasmin_PNWNAmet_target_198101-201012_on-demand.nc",
       "disabled": false,
       "layout": "IPY_MODEL_618f072f02ab49388a7d3b524516ceab",
       "style": "IPY_MODEL_0c9da335f66c4d38ae2d9925c11a316b",
       "value": true
      }
     },
     "1248fe866e9241bca4b9c3eab378f33b": {
      "model_module": "@jupyter-widgets/base",
      "model_module_version": "2.0.0",
      "model_name": "LayoutModel",
      "state": {}
     },
     "12def329e98148308fb453e71825f0b3": {
      "model_module": "@jupyter-widgets/controls",
      "model_module_version": "2.0.0",
      "model_name": "HBoxModel",
      "state": {
       "children": [
        "IPY_MODEL_83804137fa1a44fe9475988538acb1ab",
        "IPY_MODEL_a72f72642484427f9b2b4427bbcf46bd"
       ],
       "layout": "IPY_MODEL_a54b804f79e54f51ac334012b1dd1122"
      }
     },
     "139d667636cb47e583841120bb70858d": {
      "model_module": "@jupyter-widgets/base",
      "model_module_version": "2.0.0",
      "model_name": "LayoutModel",
      "state": {}
     },
     "16d10d2478664d4692ea81d63256786d": {
      "model_module": "jupyter-leaflet",
      "model_module_version": "^0.17",
      "model_name": "LeafletLegendControlModel",
      "state": {
       "_model_module_version": "^0.17",
       "_view_module_version": "^0.17",
       "legend": {
        "GCM": "blue",
        "Obs": "red"
       },
       "options": [
        "position"
       ],
       "position": "topright",
       "title": "Subdomains"
      }
     },
     "17274e7bdf51467cb724e0b2f2718b30": {
      "model_module": "@jupyter-widgets/controls",
      "model_module_version": "2.0.0",
      "model_name": "VBoxModel",
      "state": {
       "children": [
        "IPY_MODEL_2a468ce2606d45f4a491ca242a6b8650",
        "IPY_MODEL_2d7eb8c8051343968e39d0ec91d0b33c",
        "IPY_MODEL_d60df467b07e45f49dd514ac3c79c14b",
        "IPY_MODEL_f8d9c201960c4ebf84abf811eb9f2594",
        "IPY_MODEL_911d0afca71248d0b49d8b39c55c1329",
        "IPY_MODEL_2d3bcb66e8e94e1697ad638379c2078b"
       ],
       "layout": "IPY_MODEL_811a0b390fa6453888ee10d9f30b66f1"
      }
     },
     "1802332c0b034c059825101f96ae9d39": {
      "model_module": "@jupyter-widgets/controls",
      "model_module_version": "2.0.0",
      "model_name": "HBoxModel",
      "state": {
       "children": [
        "IPY_MODEL_22f4140c5a21492a9976b3256324a87b",
        "IPY_MODEL_372e5a5e6aa541d1aadf6e9b9b0c4a9a"
       ],
       "layout": "IPY_MODEL_cc27314d29e64947b148aebedfd88d17"
      }
     },
     "1a935a1b296649d6ba464fa8f57a4c50": {
      "model_module": "@jupyter-widgets/controls",
      "model_module_version": "2.0.0",
      "model_name": "CheckboxStyleModel",
      "state": {
       "description_width": "initial"
      }
     },
     "1ae339b52d804a7aabb168b184aba3d3": {
      "model_module": "@jupyter-widgets/base",
      "model_module_version": "2.0.0",
      "model_name": "LayoutModel",
      "state": {
       "justify_content": "space-between"
      }
     },
     "1cad758ad73f4eeab4963daaa8d23c30": {
      "model_module": "@jupyter-widgets/controls",
      "model_module_version": "2.0.0",
      "model_name": "HTMLModel",
      "state": {
       "layout": "IPY_MODEL_8c2c8ef45194407985e7dd9071633e5a",
       "style": "IPY_MODEL_ec61396848c74edfa3b4bd0367d6ba64",
       "value": "<b>pr</b>"
      }
     },
     "1d295e76206a4f6185b95add03560edd": {
      "model_module": "@jupyter-widgets/base",
      "model_module_version": "2.0.0",
      "model_name": "LayoutModel",
      "state": {}
     },
     "1e2054c5e4984d3b8bf22a77d0712669": {
      "model_module": "@jupyter-widgets/base",
      "model_module_version": "2.0.0",
      "model_name": "LayoutModel",
      "state": {}
     },
     "1ea7af977a7942c4a15f3aa5dec8e8fc": {
      "model_module": "@jupyter-widgets/controls",
      "model_module_version": "2.0.0",
      "model_name": "CheckboxModel",
      "state": {
       "description": "PRCPTOT",
       "disabled": false,
       "layout": "IPY_MODEL_3fde1c95991345bbb044becde71107b2",
       "style": "IPY_MODEL_3e516b4179b244c1b6d2eff47d1a5109",
       "value": false
      }
     },
     "1ece527497f340c387b91319987f6d89": {
      "model_module": "@jupyter-widgets/base",
      "model_module_version": "2.0.0",
      "model_name": "LayoutModel",
      "state": {}
     },
     "1f80b38aceaf4831acac98c6d31eb72e": {
      "model_module": "@jupyter-widgets/controls",
      "model_module_version": "2.0.0",
      "model_name": "CheckboxModel",
      "state": {
       "description": "Tropical Nights",
       "disabled": false,
       "layout": "IPY_MODEL_7602aafaa7d34792964e83d93ca75ce6",
       "style": "IPY_MODEL_601fe0cf5f734a2789528b83a43018a7",
       "value": true
      }
     },
     "1ffa88a91d4d404ebac5f342f2a4683d": {
      "model_module": "@jupyter-widgets/base",
      "model_module_version": "2.0.0",
      "model_name": "LayoutModel",
      "state": {}
     },
     "21253acd13574be3939a440ab710233f": {
      "model_module": "@jupyter-widgets/controls",
      "model_module_version": "2.0.0",
      "model_name": "ProgressStyleModel",
      "state": {
       "description_width": ""
      }
     },
     "21965f33e05f40f3b4d6f051e4966968": {
      "model_module": "@jupyter-widgets/controls",
      "model_module_version": "2.0.0",
      "model_name": "DropdownModel",
      "state": {
       "_options_labels": [
        "Annual",
        "Monthly",
        "Seasonal",
        "January",
        "February",
        "March",
        "April",
        "May",
        "June",
        "July",
        "August",
        "September",
        "October",
        "November",
        "December",
        "Winter-DJF",
        "Spring-MAM",
        "Summer-JJA",
        "Fall-SON"
       ],
       "index": 0,
       "layout": "IPY_MODEL_d0e9b432279e4246bd8bd4fa1839f26b",
       "style": "IPY_MODEL_bbe137cee40b4342a2fa8e8e69ea017d"
      }
     },
     "21983d1c7553470fb2dd3e1f8656186a": {
      "model_module": "@jupyter-widgets/controls",
      "model_module_version": "2.0.0",
      "model_name": "CheckboxStyleModel",
      "state": {
       "description_width": "initial"
      }
     },
     "22f4140c5a21492a9976b3256324a87b": {
      "model_module": "@jupyter-widgets/controls",
      "model_module_version": "2.0.0",
      "model_name": "CheckboxModel",
      "state": {
       "description": "TNₙ",
       "disabled": false,
       "layout": "IPY_MODEL_398c3566e58343278e9581f5131485e4",
       "style": "IPY_MODEL_7182aacdbb774ee3a00465a830879a0a",
       "value": false
      }
     },
     "240b0d9953c0409a8240072b48c83b01": {
      "model_module": "@jupyter-widgets/controls",
      "model_module_version": "2.0.0",
      "model_name": "VBoxModel",
      "state": {
       "children": [
        "IPY_MODEL_a779394a1ff04eb6b7c9c5d2e1c392b0",
        "IPY_MODEL_4859d8902adf4360856255f68da0c56a",
        "IPY_MODEL_f66d817e259d47f19d1b795ee298ea82",
        "IPY_MODEL_096f3801f171447aa77df0388dce4995",
        "IPY_MODEL_052ec4c9eb434f549e475e761a8a0b1a",
        "IPY_MODEL_1802332c0b034c059825101f96ae9d39"
       ],
       "layout": "IPY_MODEL_54dcf43fa8ee47109670db9ec653b5ad"
      }
     },
     "24180a644cfe4acd866b1e16fe07fa72": {
      "model_module": "@jupyter-widgets/base",
      "model_module_version": "2.0.0",
      "model_name": "LayoutModel",
      "state": {
       "align_items": "center",
       "display": "flex",
       "flex_flow": "column",
       "grid_area": "right-sidebar",
       "width": "110%"
      }
     },
     "24f97f982dac40a9ad8987195689dcc3": {
      "model_module": "@jupyter-widgets/base",
      "model_module_version": "2.0.0",
      "model_name": "LayoutModel",
      "state": {}
     },
     "2514241884784efaba75eb873a728e69": {
      "model_module": "@jupyter-widgets/base",
      "model_module_version": "2.0.0",
      "model_name": "LayoutModel",
      "state": {}
     },
     "2622abd8ba8e4c85935c8a541067d07d": {
      "model_module": "@jupyter-widgets/base",
      "model_module_version": "2.0.0",
      "model_name": "LayoutModel",
      "state": {}
     },
     "2769d337db4a41279aa9c0f15a635b0e": {
      "model_module": "@jupyter-widgets/base",
      "model_module_version": "2.0.0",
      "model_name": "LayoutModel",
      "state": {}
     },
     "27aa166c7730484da75e6b70c256a904": {
      "model_module": "@jupyter-widgets/base",
      "model_module_version": "2.0.0",
      "model_name": "LayoutModel",
      "state": {}
     },
     "2860b1fa53124351aa7034730c6ab350": {
      "model_module": "@jupyter-widgets/controls",
      "model_module_version": "2.0.0",
      "model_name": "DescriptionStyleModel",
      "state": {
       "description_width": ""
      }
     },
     "295644bd3a9140ea908b5b3ef5444b41": {
      "model_module": "@jupyter-widgets/controls",
      "model_module_version": "2.0.0",
      "model_name": "ButtonModel",
      "state": {
       "button_style": "info",
       "description": "Run Finch",
       "layout": "IPY_MODEL_6ff9fa5c84d143e39cdfc82070a9fbde",
       "style": "IPY_MODEL_6fe7177666ab4da7b9d5c39243a572df",
       "tooltip": "Click 'Run' to start the climate index calculations"
      }
     },
     "2a468ce2606d45f4a491ca242a6b8650": {
      "model_module": "@jupyter-widgets/controls",
      "model_module_version": "2.0.0",
      "model_name": "HTMLModel",
      "state": {
       "layout": "IPY_MODEL_9e643ca82a1a495283132ae11562e611",
       "style": "IPY_MODEL_78bcac5b5f1c4c39b4c9e5301ba5ff7e",
       "value": "<b>Maximum Temperature Indices</b>"
      }
     },
     "2c2a7ee2a4ff4dde86073bfd48915112": {
      "model_module": "jupyter-leaflet",
      "model_module_version": "^0.17",
      "model_name": "LeafletMapModel",
      "state": {
       "_model_module_version": "^0.17",
       "_view_module_version": "^0.17",
       "bottom": 2950,
       "center": [
        53.5,
        -120
       ],
       "controls": [
        "IPY_MODEL_95b01fe4f3c048af8fbe0026ad2e88a8",
        "IPY_MODEL_10fa8842220f49358876266bcf0718b7",
        "IPY_MODEL_16d10d2478664d4692ea81d63256786d"
       ],
       "default_style": "IPY_MODEL_2ed3eddc1c58497b96ab4e9d6818d771",
       "dragging_style": "IPY_MODEL_d9c2de679df641faa40bac7bca2a5767",
       "east": -96.89941406250001,
       "fullscreen": false,
       "interpolation": "bilinear",
       "layers": [
        "IPY_MODEL_8ca75e0ade354737a9f3406101321e95"
       ],
       "layout": "IPY_MODEL_dd97b99660d54e39b127af1122a99c5a",
       "left": 839,
       "modisdate": "2024-03-24",
       "north": 60.6301017662667,
       "options": [
        "bounce_at_zoom_limits",
        "box_zoom",
        "center",
        "close_popup_on_click",
        "double_click_zoom",
        "dragging",
        "fullscreen",
        "inertia",
        "inertia_deceleration",
        "inertia_max_speed",
        "interpolation",
        "keyboard",
        "keyboard_pan_offset",
        "keyboard_zoom_offset",
        "max_zoom",
        "min_zoom",
        "prefer_canvas",
        "scroll_wheel_zoom",
        "tap",
        "tap_tolerance",
        "touch_zoom",
        "world_copy_jump",
        "zoom",
        "zoom_animation_threshold",
        "zoom_delta",
        "zoom_snap"
       ],
       "prefer_canvas": false,
       "right": 1891,
       "south": 44.902577996288876,
       "style": "IPY_MODEL_8f6c4415c6584f63b63180a764a24704",
       "top": 2350,
       "west": -143.12988281250003,
       "window_url": "http://localhost:8888/lab/tree/notebooks/wps_CI_on_demand_with_indices_demo.ipynb",
       "zoom": 5
      }
     },
     "2d3bcb66e8e94e1697ad638379c2078b": {
      "model_module": "@jupyter-widgets/controls",
      "model_module_version": "2.0.0",
      "model_name": "HBoxModel",
      "state": {
       "children": [
        "IPY_MODEL_9e14fa8e1fb94e8684ef3468a19a66f7",
        "IPY_MODEL_430eeae75b3e46ba92aa1ff1476c5ba0"
       ],
       "layout": "IPY_MODEL_27aa166c7730484da75e6b70c256a904"
      }
     },
     "2d77fcf7de474e7c8b19b870fd51469e": {
      "model_module": "@jupyter-widgets/controls",
      "model_module_version": "2.0.0",
      "model_name": "DropdownModel",
      "state": {
       "_options_labels": [
        "Annual",
        "Monthly",
        "Seasonal",
        "January",
        "February",
        "March",
        "April",
        "May",
        "June",
        "July",
        "August",
        "September",
        "October",
        "November",
        "December",
        "Winter-DJF",
        "Spring-MAM",
        "Summer-JJA",
        "Fall-SON"
       ],
       "index": 2,
       "layout": "IPY_MODEL_2622abd8ba8e4c85935c8a541067d07d",
       "style": "IPY_MODEL_b982575f0d1b45c9be02cd3ef6469e1d"
      }
     },
     "2d7eb8c8051343968e39d0ec91d0b33c": {
      "model_module": "@jupyter-widgets/controls",
      "model_module_version": "2.0.0",
      "model_name": "HBoxModel",
      "state": {
       "children": [
        "IPY_MODEL_7d7c34c1647044ab87977ccaae20ce65",
        "IPY_MODEL_30c7db8361664c5a9d292f27e7047380"
       ],
       "layout": "IPY_MODEL_2fbc7281127b4d2eafe3831c3e44a56c"
      }
     },
     "2e7d23d866c248c1b2bd2207713b2633": {
      "model_module": "@jupyter-widgets/controls",
      "model_module_version": "2.0.0",
      "model_name": "CheckboxStyleModel",
      "state": {
       "description_width": "initial"
      }
     },
     "2ed3eddc1c58497b96ab4e9d6818d771": {
      "model_module": "jupyter-leaflet",
      "model_module_version": "^0.17",
      "model_name": "LeafletMapStyleModel",
      "state": {
       "_model_module_version": "^0.17"
      }
     },
     "2ed742a5116841ada89f2def7ff395a7": {
      "model_module": "@jupyter-widgets/controls",
      "model_module_version": "2.0.0",
      "model_name": "DropdownModel",
      "state": {
       "_options_labels": [
        "Annual",
        "Monthly",
        "Seasonal",
        "January",
        "February",
        "March",
        "April",
        "May",
        "June",
        "July",
        "August",
        "September",
        "October",
        "November",
        "December",
        "Winter-DJF",
        "Spring-MAM",
        "Summer-JJA",
        "Fall-SON"
       ],
       "index": 0,
       "layout": "IPY_MODEL_2514241884784efaba75eb873a728e69",
       "style": "IPY_MODEL_6b080bd3990f4ea2bd42d8edb6d09462"
      }
     },
     "2f257c572bb745639ac9a3808e11bace": {
      "model_module": "@jupyter-widgets/base",
      "model_module_version": "2.0.0",
      "model_name": "LayoutModel",
      "state": {}
     },
     "2fbc7281127b4d2eafe3831c3e44a56c": {
      "model_module": "@jupyter-widgets/base",
      "model_module_version": "2.0.0",
      "model_name": "LayoutModel",
      "state": {}
     },
     "30c7db8361664c5a9d292f27e7047380": {
      "model_module": "@jupyter-widgets/controls",
      "model_module_version": "2.0.0",
      "model_name": "DropdownModel",
      "state": {
       "_options_labels": [
        "Annual",
        "Monthly",
        "Seasonal",
        "January",
        "February",
        "March",
        "April",
        "May",
        "June",
        "July",
        "August",
        "September",
        "October",
        "November",
        "December",
        "Winter-DJF",
        "Spring-MAM",
        "Summer-JJA",
        "Fall-SON"
       ],
       "index": 7,
       "layout": "IPY_MODEL_76a6a18b1f1f4f1e8726176131c2d159",
       "style": "IPY_MODEL_734b165b7b534a97b94f462e67f7ef0b"
      }
     },
     "3114c23c72fc4fe5be40fdc9979848ff": {
      "model_module": "@jupyter-widgets/controls",
      "model_module_version": "2.0.0",
      "model_name": "ButtonStyleModel",
      "state": {
       "font_family": null,
       "font_size": null,
       "font_style": null,
       "font_variant": null,
       "font_weight": null,
       "text_color": null,
       "text_decoration": null
      }
     },
     "3577356dce244677ba553b63152a9bcc": {
      "model_module": "@jupyter-widgets/controls",
      "model_module_version": "2.0.0",
      "model_name": "CheckboxStyleModel",
      "state": {
       "description_width": "initial"
      }
     },
     "372e5a5e6aa541d1aadf6e9b9b0c4a9a": {
      "model_module": "@jupyter-widgets/controls",
      "model_module_version": "2.0.0",
      "model_name": "DropdownModel",
      "state": {
       "_options_labels": [
        "Annual",
        "Monthly",
        "Seasonal",
        "January",
        "February",
        "March",
        "April",
        "May",
        "June",
        "July",
        "August",
        "September",
        "October",
        "November",
        "December",
        "Winter-DJF",
        "Spring-MAM",
        "Summer-JJA",
        "Fall-SON"
       ],
       "index": 0,
       "layout": "IPY_MODEL_bf08b01ecb644113ae582d15461f01f9",
       "style": "IPY_MODEL_ab2bb80cd97b4dd884be6125718269ce"
      }
     },
     "39249bfde86740bf8c0e9dd884b1aaab": {
      "model_module": "@jupyter-widgets/base",
      "model_module_version": "2.0.0",
      "model_name": "LayoutModel",
      "state": {}
     },
     "398c3566e58343278e9581f5131485e4": {
      "model_module": "@jupyter-widgets/base",
      "model_module_version": "2.0.0",
      "model_name": "LayoutModel",
      "state": {}
     },
     "39fc620b9ce148e385c18c606dc11703": {
      "model_module": "@jupyter-widgets/controls",
      "model_module_version": "2.0.0",
      "model_name": "DescriptionStyleModel",
      "state": {
       "description_width": ""
      }
     },
     "3df4f2a285344ae387da65c0e183911e": {
      "model_module": "@jupyter-widgets/base",
      "model_module_version": "2.0.0",
      "model_name": "LayoutModel",
      "state": {}
     },
     "3e516b4179b244c1b6d2eff47d1a5109": {
      "model_module": "@jupyter-widgets/controls",
      "model_module_version": "2.0.0",
      "model_name": "CheckboxStyleModel",
      "state": {
       "description_width": "initial"
      }
     },
     "3fd7e5bf8e584cf6a287e8e90bd759b1": {
      "model_module": "@jupyter-widgets/controls",
      "model_module_version": "2.0.0",
      "model_name": "SliderStyleModel",
      "state": {
       "description_width": ""
      }
     },
     "3fde1c95991345bbb044becde71107b2": {
      "model_module": "@jupyter-widgets/base",
      "model_module_version": "2.0.0",
      "model_name": "LayoutModel",
      "state": {}
     },
     "40f654b95be44e159b1b8a51a4201814": {
      "model_module": "@jupyter-widgets/controls",
      "model_module_version": "2.0.0",
      "model_name": "ButtonModel",
      "state": {
       "button_style": "danger",
       "description": "Cancel",
       "disabled": true,
       "layout": "IPY_MODEL_c2db542fc25e46acb2ae96c6b0eb8b43",
       "style": "IPY_MODEL_3114c23c72fc4fe5be40fdc9979848ff",
       "tooltip": "Send `dismiss` request to WPS server."
      }
     },
     "41140a438dbf4c4baa66ef8b92f2a201": {
      "model_module": "@jupyter-widgets/base",
      "model_module_version": "2.0.0",
      "model_name": "LayoutModel",
      "state": {
       "justify_content": "space-between"
      }
     },
     "4149a1ef37654759a03e68c1094c77db": {
      "model_module": "@jupyter-widgets/controls",
      "model_module_version": "2.0.0",
      "model_name": "CheckboxStyleModel",
      "state": {
       "description_width": "initial"
      }
     },
     "426e29dc34b14e7fa4a2defccc0c2908": {
      "model_module": "@jupyter-widgets/controls",
      "model_module_version": "2.0.0",
      "model_name": "DescriptionStyleModel",
      "state": {
       "description_width": ""
      }
     },
     "428b162134b442f1a5392fbaee8cc633": {
      "model_module": "@jupyter-widgets/base",
      "model_module_version": "2.0.0",
      "model_name": "LayoutModel",
      "state": {}
     },
     "42e9bc4754b44da2873b1d209b18001e": {
      "model_module": "@jupyter-widgets/controls",
      "model_module_version": "2.0.0",
      "model_name": "CheckboxStyleModel",
      "state": {
       "description_width": "initial"
      }
     },
     "430eeae75b3e46ba92aa1ff1476c5ba0": {
      "model_module": "@jupyter-widgets/controls",
      "model_module_version": "2.0.0",
      "model_name": "DropdownModel",
      "state": {
       "_options_labels": [
        "Annual",
        "Monthly",
        "Seasonal",
        "January",
        "February",
        "March",
        "April",
        "May",
        "June",
        "July",
        "August",
        "September",
        "October",
        "November",
        "December",
        "Winter-DJF",
        "Spring-MAM",
        "Summer-JJA",
        "Fall-SON"
       ],
       "index": 0,
       "layout": "IPY_MODEL_1e2054c5e4984d3b8bf22a77d0712669",
       "style": "IPY_MODEL_0a55152311ca4dc0b042d5118e617012"
      }
     },
     "43ff8b104ff9467b9ca5776962c0dfb1": {
      "model_module": "@jupyter-widgets/controls",
      "model_module_version": "2.0.0",
      "model_name": "CheckboxModel",
      "state": {
       "description": "Daily Temperature Range",
       "disabled": false,
       "layout": "IPY_MODEL_2f257c572bb745639ac9a3808e11bace",
       "style": "IPY_MODEL_c91cc035326a4e8a8ac0fafa3341c5a9",
       "value": true
      }
     },
     "44751f51d0394f598bed0da5f74a96eb": {
      "model_module": "@jupyter-widgets/controls",
      "model_module_version": "2.0.0",
      "model_name": "BoxModel",
      "state": {
       "children": [
        "IPY_MODEL_89f3dd97e672472f8be10f942736e478",
        "IPY_MODEL_8d8470c8733a419383719043a8ce5a89",
        "IPY_MODEL_9ff1707c9d9242cdb9097865d02dbefb",
        "IPY_MODEL_7f2f9ec9baa649d1bb1c9d1b55f8c8c7",
        "IPY_MODEL_d72c4bdf1a7b48dc921fa7969fa1907e",
        "IPY_MODEL_ba2ed18a618f402d9a5c17b4f182f8db",
        "IPY_MODEL_7d93467a4cf24c3eb89a1d59e5db850a",
        "IPY_MODEL_466fea3e7b9b406a946b0e1261781b0e",
        "IPY_MODEL_7bf3f434046f4305a685f8426cb825fa",
        "IPY_MODEL_ab34097cdad44b9abc06e58446a7b1f8"
       ],
       "layout": "IPY_MODEL_24180a644cfe4acd866b1e16fe07fa72"
      }
     },
     "466fea3e7b9b406a946b0e1261781b0e": {
      "model_module": "@jupyter-widgets/controls",
      "model_module_version": "2.0.0",
      "model_name": "RadioButtonsModel",
      "state": {
       "_options_labels": [
        "SSP1-2.6",
        "SSP2-4.5",
        "SSP5-8.5"
       ],
       "description": "CMIP6 emissions scenario:",
       "disabled": true,
       "index": 0,
       "layout": "IPY_MODEL_01de387d69344ff88a1fa479f2e530cc",
       "style": "IPY_MODEL_e21011e27b8e42b8b0fe63f6631e3095"
      }
     },
     "46717dfd9f1444dfa3ba690809062855": {
      "model_module": "@jupyter-widgets/controls",
      "model_module_version": "2.0.0",
      "model_name": "HBoxModel",
      "state": {
       "children": [
        "IPY_MODEL_716820786be3486fa49bdacbdf6e2077",
        "IPY_MODEL_8b96a8c04f3449babb34abe4e45b33c3"
       ],
       "layout": "IPY_MODEL_1ae339b52d804a7aabb168b184aba3d3"
      }
     },
     "473e96e9029940a193c07ce402e812b4": {
      "model_module": "@jupyter-widgets/controls",
      "model_module_version": "2.0.0",
      "model_name": "HBoxModel",
      "state": {
       "children": [
        "IPY_MODEL_c876aa05dda24d5da9030cbfc4389145",
        "IPY_MODEL_21965f33e05f40f3b4d6f051e4966968"
       ],
       "layout": "IPY_MODEL_c0b0149c64384670a393be6423127f8d"
      }
     },
     "478d9ca9fed14056a7f86c032ef730f4": {
      "model_module": "@jupyter-widgets/base",
      "model_module_version": "2.0.0",
      "model_name": "LayoutModel",
      "state": {}
     },
     "4859d8902adf4360856255f68da0c56a": {
      "model_module": "@jupyter-widgets/controls",
      "model_module_version": "2.0.0",
      "model_name": "HBoxModel",
      "state": {
       "children": [
        "IPY_MODEL_951fc2ce6fcd41f88f2774a5e6811648",
        "IPY_MODEL_020e9be08a6b47078a65df177310b45d"
       ],
       "layout": "IPY_MODEL_d0cb226b607a4f39855d9cd54b88666f"
      }
     },
     "48a1a3fec0394afa9ec0af80c6bad5cd": {
      "model_module": "@jupyter-widgets/controls",
      "model_module_version": "2.0.0",
      "model_name": "GridBoxModel",
      "state": {
       "children": [
        "IPY_MODEL_44751f51d0394f598bed0da5f74a96eb",
        "IPY_MODEL_2c2a7ee2a4ff4dde86073bfd48915112"
       ],
       "layout": "IPY_MODEL_c0df90c2940246088f88838eb00cf86e"
      }
     },
     "48a4bc2b93144966aae1189a1ae6700a": {
      "model_module": "@jupyter-widgets/controls",
      "model_module_version": "2.0.0",
      "model_name": "ButtonStyleModel",
      "state": {
       "font_family": null,
       "font_size": null,
       "font_style": null,
       "font_variant": null,
       "font_weight": null,
       "text_color": null,
       "text_decoration": null
      }
     },
     "491b1a24614845db8864b0942b1e7013": {
      "model_module": "@jupyter-widgets/base",
      "model_module_version": "2.0.0",
      "model_name": "LayoutModel",
      "state": {}
     },
     "4b6aee855767405e82d7693f0e6080b5": {
      "model_module": "@jupyter-widgets/controls",
      "model_module_version": "2.0.0",
      "model_name": "CheckboxModel",
      "state": {
       "description": "TNₓ",
       "disabled": false,
       "layout": "IPY_MODEL_ca4ff1f7cc3f474d906fcc1d100a7497",
       "style": "IPY_MODEL_b998e8fa1ba14bd09b33b8a8681568b8",
       "value": false
      }
     },
     "4c8c258f308746b8994e12e945e132dc": {
      "model_module": "@jupyter-widgets/controls",
      "model_module_version": "2.0.0",
      "model_name": "DropdownModel",
      "state": {
       "_options_labels": [
        "Annual",
        "Monthly",
        "Seasonal",
        "January",
        "February",
        "March",
        "April",
        "May",
        "June",
        "July",
        "August",
        "September",
        "October",
        "November",
        "December",
        "Winter-DJF",
        "Spring-MAM",
        "Summer-JJA",
        "Fall-SON"
       ],
       "index": 15,
       "layout": "IPY_MODEL_9f960ae6aff24e14866487e403827036",
       "style": "IPY_MODEL_2860b1fa53124351aa7034730c6ab350"
      }
     },
     "4ccbdb5d34834ce88860428fc588ae4b": {
      "model_module": "@jupyter-widgets/base",
      "model_module_version": "2.0.0",
      "model_name": "LayoutModel",
      "state": {}
     },
     "4d7ea7cf089c4edaaacbdfb8fb5e5ac2": {
      "model_module": "@jupyter-widgets/controls",
      "model_module_version": "2.0.0",
      "model_name": "TextStyleModel",
      "state": {
       "description_width": "",
       "font_size": null,
       "text_color": null
      }
     },
     "4dcae4dbabcb441d986bfea8201b12e4": {
      "model_module": "@jupyter-widgets/base",
      "model_module_version": "2.0.0",
      "model_name": "LayoutModel",
      "state": {}
     },
     "4fb26e2ca82b4a5b971d49f250ad3a3c": {
      "model_module": "@jupyter-widgets/output",
      "model_module_version": "1.0.0",
      "model_name": "OutputModel",
      "state": {
       "layout": "IPY_MODEL_c1e41d6a880b4fdfaa0322cb3a4786b3",
       "outputs": [
        {
         "name": "stdout",
         "output_type": "stream",
         "text": "Running Finch on https://docker-dev03.pcic.uvic.ca/twitcher/ows/proxy/thredds/dodsC/datasets/birdhouse_wps_outputs/ef45dbfc-dcac-11ee-a97c-0242ac12000c/pr_PNWNAmet_target_198101-201012_on-demand.nc. Computing Rxnday.\n"
        },
        {
         "data": {
          "application/vnd.jupyter.widget-view+json": {
           "model_id": "9c1a7ffbaf4945138a603427499b091e",
           "version_major": 2,
           "version_minor": 0
          },
          "text/plain": "HBox(children=(IntProgress(value=0, bar_style='info', description='Processing:'), Button(button_style='danger'…"
         },
         "metadata": {},
         "output_type": "display_data"
        },
        {
         "name": "stdout",
         "output_type": "stream",
         "text": "Running Finch on https://docker-dev03.pcic.uvic.ca/twitcher/ows/proxy/thredds/dodsC/datasets/birdhouse_wps_outputs/ef45dbfc-dcac-11ee-a97c-0242ac12000c/pr_PNWNAmet_target_198101-201012_on-demand.nc. Computing Rnnmm.\n"
        },
        {
         "data": {
          "application/vnd.jupyter.widget-view+json": {
           "model_id": "7ea8eed6f9674bd59b3fa5c6f22d3c83",
           "version_major": 2,
           "version_minor": 0
          },
          "text/plain": "HBox(children=(IntProgress(value=0, bar_style='info', description='Processing:'), Button(button_style='danger'…"
         },
         "metadata": {},
         "output_type": "display_data"
        },
        {
         "name": "stdout",
         "output_type": "stream",
         "text": "Running Finch on https://docker-dev03.pcic.uvic.ca/twitcher/ows/proxy/thredds/dodsC/datasets/birdhouse_wps_outputs/f099db66-dcac-11ee-a97c-0242ac12000c/tasmax_PNWNAmet_target_198101-201012_on-demand.nc. Computing Summer Days.\n"
        },
        {
         "data": {
          "application/vnd.jupyter.widget-view+json": {
           "model_id": "0cafa183b1c942a7b570d5e7ab324118",
           "version_major": 2,
           "version_minor": 0
          },
          "text/plain": "HBox(children=(IntProgress(value=0, bar_style='info', description='Processing:'), Button(button_style='danger'…"
         },
         "metadata": {},
         "output_type": "display_data"
        },
        {
         "name": "stdout",
         "output_type": "stream",
         "text": "Running Finch on https://docker-dev03.pcic.uvic.ca/twitcher/ows/proxy/thredds/dodsC/datasets/birdhouse_wps_outputs/f18f8138-dcac-11ee-a97c-0242ac12000c/tasmin_PNWNAmet_target_198101-201012_on-demand.nc. Computing Tropical Nights.\n"
        },
        {
         "data": {
          "application/vnd.jupyter.widget-view+json": {
           "model_id": "7a0ef3fa05944f82b69da2c7d20cf194",
           "version_major": 2,
           "version_minor": 0
          },
          "text/plain": "HBox(children=(IntProgress(value=0, bar_style='info', description='Processing:'), Button(button_style='danger'…"
         },
         "metadata": {},
         "output_type": "display_data"
        },
        {
         "name": "stdout",
         "output_type": "stream",
         "text": "Running Finch on https://docker-dev03.pcic.uvic.ca/twitcher/ows/proxy/thredds/dodsC/datasets/birdhouse_wps_outputs/f18f8138-dcac-11ee-a97c-0242ac12000c/tasmin_PNWNAmet_target_198101-201012_on-demand.nc and https://docker-dev03.pcic.uvic.ca/twitcher/ows/proxy/thredds/dodsC/datasets/birdhouse_wps_outputs/f099db66-dcac-11ee-a97c-0242ac12000c/tasmax_PNWNAmet_target_198101-201012_on-demand.nc. Computing Daily Temperature Range.\n"
        },
        {
         "data": {
          "application/vnd.jupyter.widget-view+json": {
           "model_id": "46717dfd9f1444dfa3ba690809062855",
           "version_major": 2,
           "version_minor": 0
          },
          "text/plain": "HBox(children=(IntProgress(value=0, bar_style='info', description='Processing:'), Button(button_style='danger'…"
         },
         "metadata": {},
         "output_type": "display_data"
        }
       ]
      }
     },
     "4fdb04e6788a4ba8a9e64e8dfa3fe388": {
      "model_module": "@jupyter-widgets/base",
      "model_module_version": "2.0.0",
      "model_name": "LayoutModel",
      "state": {}
     },
     "5175e633e4394df49992e667b8354f9a": {
      "model_module": "@jupyter-widgets/controls",
      "model_module_version": "2.0.0",
      "model_name": "DescriptionStyleModel",
      "state": {
       "description_width": ""
      }
     },
     "521f90ea67124c89a08b38b061c4464e": {
      "model_module": "@jupyter-widgets/controls",
      "model_module_version": "2.0.0",
      "model_name": "CheckboxModel",
      "state": {
       "description": "Ice Days",
       "disabled": false,
       "layout": "IPY_MODEL_81b71968727142b38701e2f02f54b649",
       "style": "IPY_MODEL_5bfd89fd5b6347dfb8ec779de67b4675",
       "value": false
      }
     },
     "52300bc22a8e4177b70b3fbd4a9fed6c": {
      "model_module": "@jupyter-widgets/controls",
      "model_module_version": "2.0.0",
      "model_name": "DescriptionStyleModel",
      "state": {
       "description_width": "100px"
      }
     },
     "527cbe3a96074594b64372fcd8b9488b": {
      "model_module": "@jupyter-widgets/controls",
      "model_module_version": "2.0.0",
      "model_name": "HTMLStyleModel",
      "state": {
       "description_width": "initial",
       "font_size": null,
       "text_color": null
      }
     },
     "53a1c6850ea54438998ed7a8e4d75245": {
      "model_module": "@jupyter-widgets/base",
      "model_module_version": "2.0.0",
      "model_name": "LayoutModel",
      "state": {}
     },
     "53c6ab1ab7e7401aa6a243a8d83d588f": {
      "model_module": "@jupyter-widgets/controls",
      "model_module_version": "2.0.0",
      "model_name": "HTMLModel",
      "state": {
       "layout": "IPY_MODEL_39249bfde86740bf8c0e9dd884b1aaab",
       "style": "IPY_MODEL_e619923bffd948199b14e0d0e5c662f9",
       "value": "<b>Multivariate Indices</b>"
      }
     },
     "54dcf43fa8ee47109670db9ec653b5ad": {
      "model_module": "@jupyter-widgets/base",
      "model_module_version": "2.0.0",
      "model_name": "LayoutModel",
      "state": {}
     },
     "57fff0f9cf5b423c9b1cc7118a2b0138": {
      "model_module": "@jupyter-widgets/base",
      "model_module_version": "2.0.0",
      "model_name": "LayoutModel",
      "state": {}
     },
     "59a7391117ed4193b7e3b9d8492be711": {
      "model_module": "@jupyter-widgets/controls",
      "model_module_version": "2.0.0",
      "model_name": "SliderStyleModel",
      "state": {
       "description_width": ""
      }
     },
     "5bfd89fd5b6347dfb8ec779de67b4675": {
      "model_module": "@jupyter-widgets/controls",
      "model_module_version": "2.0.0",
      "model_name": "CheckboxStyleModel",
      "state": {
       "description_width": "initial"
      }
     },
     "5dcbcddf89454c3182805443b52a51d7": {
      "model_module": "@jupyter-widgets/controls",
      "model_module_version": "2.0.0",
      "model_name": "ProgressStyleModel",
      "state": {
       "description_width": ""
      }
     },
     "5f3e00442d4d4f1aadfc3e904ddc4687": {
      "model_module": "@jupyter-widgets/controls",
      "model_module_version": "2.0.0",
      "model_name": "DescriptionStyleModel",
      "state": {
       "description_width": ""
      }
     },
     "5fdf84218281448e9859bec9acbf0827": {
      "model_module": "@jupyter-widgets/controls",
      "model_module_version": "2.0.0",
      "model_name": "ProgressStyleModel",
      "state": {
       "description_width": ""
      }
     },
     "601fe0cf5f734a2789528b83a43018a7": {
      "model_module": "@jupyter-widgets/controls",
      "model_module_version": "2.0.0",
      "model_name": "CheckboxStyleModel",
      "state": {
       "description_width": "initial"
      }
     },
     "608a526342ec42409461f6b357d5969e": {
      "model_module": "@jupyter-widgets/controls",
      "model_module_version": "2.0.0",
      "model_name": "DescriptionStyleModel",
      "state": {
       "description_width": ""
      }
     },
     "618f072f02ab49388a7d3b524516ceab": {
      "model_module": "@jupyter-widgets/base",
      "model_module_version": "2.0.0",
      "model_name": "LayoutModel",
      "state": {}
     },
     "629cb305bece471aa1abb54d649ddfd0": {
      "model_module": "@jupyter-widgets/base",
      "model_module_version": "2.0.0",
      "model_name": "LayoutModel",
      "state": {}
     },
     "64f53ba00c1f41c0808f5359574a5a18": {
      "model_module": "@jupyter-widgets/base",
      "model_module_version": "2.0.0",
      "model_name": "LayoutModel",
      "state": {}
     },
     "667b520b69a44f60b217ed9185dc9c09": {
      "model_module": "@jupyter-widgets/base",
      "model_module_version": "2.0.0",
      "model_name": "LayoutModel",
      "state": {}
     },
     "683b162e95294e0d9fb7ffd1fdb857da": {
      "model_module": "@jupyter-widgets/controls",
      "model_module_version": "2.0.0",
      "model_name": "ProgressStyleModel",
      "state": {
       "description_width": ""
      }
     },
     "68a1fb36c26747ee94d0ac29e75dfe9a": {
      "model_module": "@jupyter-widgets/controls",
      "model_module_version": "2.0.0",
      "model_name": "DropdownModel",
      "state": {
       "_options_labels": [
        "Annual",
        "Monthly",
        "Seasonal",
        "January",
        "February",
        "March",
        "April",
        "May",
        "June",
        "July",
        "August",
        "September",
        "October",
        "November",
        "December",
        "Winter-DJF",
        "Spring-MAM",
        "Summer-JJA",
        "Fall-SON"
       ],
       "index": 0,
       "layout": "IPY_MODEL_428b162134b442f1a5392fbaee8cc633",
       "style": "IPY_MODEL_5f3e00442d4d4f1aadfc3e904ddc4687"
      }
     },
     "6b080bd3990f4ea2bd42d8edb6d09462": {
      "model_module": "@jupyter-widgets/controls",
      "model_module_version": "2.0.0",
      "model_name": "DescriptionStyleModel",
      "state": {
       "description_width": ""
      }
     },
     "6b25483e23544809b865c3df128b6d00": {
      "model_module": "@jupyter-widgets/base",
      "model_module_version": "2.0.0",
      "model_name": "LayoutModel",
      "state": {}
     },
     "6b5351163ada4c7fb65b23eb9fcf4d69": {
      "model_module": "@jupyter-widgets/controls",
      "model_module_version": "2.0.0",
      "model_name": "DropdownModel",
      "state": {
       "_options_labels": [
        "Annual",
        "Monthly",
        "Seasonal",
        "January",
        "February",
        "March",
        "April",
        "May",
        "June",
        "July",
        "August",
        "September",
        "October",
        "November",
        "December",
        "Winter-DJF",
        "Spring-MAM",
        "Summer-JJA",
        "Fall-SON"
       ],
       "index": 0,
       "layout": "IPY_MODEL_1ece527497f340c387b91319987f6d89",
       "style": "IPY_MODEL_82341a2ab23f46e9964a38e5b5b40d32"
      }
     },
     "6c97f7ae8e794071a025965d57945eb0": {
      "model_module": "@jupyter-widgets/base",
      "model_module_version": "2.0.0",
      "model_name": "LayoutModel",
      "state": {}
     },
     "6ee3f2eff37a41efbd09cd832ac328b1": {
      "model_module": "@jupyter-widgets/base",
      "model_module_version": "2.0.0",
      "model_name": "LayoutModel",
      "state": {}
     },
     "6f49828b41664ac2bcc43d75e74ebebc": {
      "model_module": "@jupyter-widgets/controls",
      "model_module_version": "2.0.0",
      "model_name": "CheckboxStyleModel",
      "state": {
       "description_width": "initial"
      }
     },
     "6fc4243e55bc496ea5bf4c96041a7991": {
      "model_module": "@jupyter-widgets/controls",
      "model_module_version": "2.0.0",
      "model_name": "IntProgressModel",
      "state": {
       "bar_style": "success",
       "description": "Complete",
       "layout": "IPY_MODEL_c34c652efc5248f9a0f29db15587f2d2",
       "style": "IPY_MODEL_683b162e95294e0d9fb7ffd1fdb857da",
       "value": 100
      }
     },
     "6fe7177666ab4da7b9d5c39243a572df": {
      "model_module": "@jupyter-widgets/controls",
      "model_module_version": "2.0.0",
      "model_name": "ButtonStyleModel",
      "state": {
       "font_family": null,
       "font_size": null,
       "font_style": null,
       "font_variant": null,
       "font_weight": null,
       "text_color": null,
       "text_decoration": null
      }
     },
     "6ff9fa5c84d143e39cdfc82070a9fbde": {
      "model_module": "@jupyter-widgets/base",
      "model_module_version": "2.0.0",
      "model_name": "LayoutModel",
      "state": {}
     },
     "710206b8895e4433a0f1923a45580815": {
      "model_module": "@jupyter-widgets/controls",
      "model_module_version": "2.0.0",
      "model_name": "IntProgressModel",
      "state": {
       "bar_style": "success",
       "description": "Complete",
       "layout": "IPY_MODEL_cf59e68b937c4544aef8da659e4e14af",
       "style": "IPY_MODEL_5dcbcddf89454c3182805443b52a51d7",
       "value": 100
      }
     },
     "716820786be3486fa49bdacbdf6e2077": {
      "model_module": "@jupyter-widgets/controls",
      "model_module_version": "2.0.0",
      "model_name": "IntProgressModel",
      "state": {
       "bar_style": "success",
       "description": "Complete",
       "layout": "IPY_MODEL_8138aef6e1aa4e1791cce0a6800e4c88",
       "style": "IPY_MODEL_d5c84c9357fb4da784a9ad96bd78932f",
       "value": 100
      }
     },
     "7182aacdbb774ee3a00465a830879a0a": {
      "model_module": "@jupyter-widgets/controls",
      "model_module_version": "2.0.0",
      "model_name": "CheckboxStyleModel",
      "state": {
       "description_width": "initial"
      }
     },
     "734b165b7b534a97b94f462e67f7ef0b": {
      "model_module": "@jupyter-widgets/controls",
      "model_module_version": "2.0.0",
      "model_name": "DescriptionStyleModel",
      "state": {
       "description_width": ""
      }
     },
     "7602aafaa7d34792964e83d93ca75ce6": {
      "model_module": "@jupyter-widgets/base",
      "model_module_version": "2.0.0",
      "model_name": "LayoutModel",
      "state": {}
     },
     "76a6a18b1f1f4f1e8726176131c2d159": {
      "model_module": "@jupyter-widgets/base",
      "model_module_version": "2.0.0",
      "model_name": "LayoutModel",
      "state": {}
     },
     "779788719ce540dbba697b9e894b3636": {
      "model_module": "@jupyter-widgets/controls",
      "model_module_version": "2.0.0",
      "model_name": "IntProgressModel",
      "state": {
       "bar_style": "success",
       "description": "Complete",
       "layout": "IPY_MODEL_a0f3698a50a84f139ee84c8ac5c75e47",
       "style": "IPY_MODEL_5fdf84218281448e9859bec9acbf0827",
       "value": 100
      }
     },
     "78bcac5b5f1c4c39b4c9e5301ba5ff7e": {
      "model_module": "@jupyter-widgets/controls",
      "model_module_version": "2.0.0",
      "model_name": "HTMLStyleModel",
      "state": {
       "description_width": "initial",
       "font_size": null,
       "text_color": null
      }
     },
     "792149c87c7f482c92d526b7502b2617": {
      "model_module": "@jupyter-widgets/base",
      "model_module_version": "2.0.0",
      "model_name": "LayoutModel",
      "state": {}
     },
     "795c2627528b4225998e2fed02911234": {
      "model_module": "@jupyter-widgets/base",
      "model_module_version": "2.0.0",
      "model_name": "LayoutModel",
      "state": {}
     },
     "79b7e818dc0d4804afd8488c7619cd87": {
      "model_module": "@jupyter-widgets/base",
      "model_module_version": "2.0.0",
      "model_name": "LayoutModel",
      "state": {}
     },
     "7a0ef3fa05944f82b69da2c7d20cf194": {
      "model_module": "@jupyter-widgets/controls",
      "model_module_version": "2.0.0",
      "model_name": "HBoxModel",
      "state": {
       "children": [
        "IPY_MODEL_8095742a8b794eb6aafd14a7c84e630b",
        "IPY_MODEL_40f654b95be44e159b1b8a51a4201814"
       ],
       "layout": "IPY_MODEL_f5d119af850249adafee88e70e569aca"
      }
     },
     "7bf3f434046f4305a685f8426cb825fa": {
      "model_module": "@jupyter-widgets/controls",
      "model_module_version": "2.0.0",
      "model_name": "RadioButtonsModel",
      "state": {
       "_options_labels": [
        "197101-200012",
        "198101-201012"
       ],
       "description": "Climatological period:",
       "index": 0,
       "layout": "IPY_MODEL_7c15f717a1d149c5af5a21ae2950b2cb",
       "style": "IPY_MODEL_867eaf868a8247f491cc57493e7f44b9"
      }
     },
     "7c15f717a1d149c5af5a21ae2950b2cb": {
      "model_module": "@jupyter-widgets/base",
      "model_module_version": "2.0.0",
      "model_name": "LayoutModel",
      "state": {}
     },
     "7c3addc1c67f415598328d3da3616472": {
      "model_module": "@jupyter-widgets/base",
      "model_module_version": "2.0.0",
      "model_name": "LayoutModel",
      "state": {}
     },
     "7ca99c88a84c47a28e1accb6f15c1919": {
      "model_module": "@jupyter-widgets/base",
      "model_module_version": "2.0.0",
      "model_name": "LayoutModel",
      "state": {}
     },
     "7cdf4314949c4b10a5f3ba0d09c9fead": {
      "model_module": "@jupyter-widgets/base",
      "model_module_version": "2.0.0",
      "model_name": "LayoutModel",
      "state": {
       "justify_content": "space-between"
      }
     },
     "7d7c34c1647044ab87977ccaae20ce65": {
      "model_module": "@jupyter-widgets/controls",
      "model_module_version": "2.0.0",
      "model_name": "CheckboxModel",
      "state": {
       "description": "Summer Days",
       "disabled": false,
       "layout": "IPY_MODEL_db6dc1d8fc0e420e8ffba0c139fe011d",
       "style": "IPY_MODEL_3577356dce244677ba553b63152a9bcc",
       "value": true
      }
     },
     "7d93467a4cf24c3eb89a1d59e5db850a": {
      "model_module": "@jupyter-widgets/controls",
      "model_module_version": "2.0.0",
      "model_name": "DropdownModel",
      "state": {
       "_options_labels": [
        "r1i1p2f1",
        "r2i1p2f1",
        "r3i1p2f1",
        "r4i1p2f1",
        "r5i1p2f1",
        "r6i1p2f1",
        "r7i1p2f1",
        "r8i1p2f1",
        "r9i1p2f1",
        "r10i1p2f1"
       ],
       "description": "CanESM5 run:",
       "disabled": true,
       "index": 0,
       "layout": "IPY_MODEL_1d295e76206a4f6185b95add03560edd",
       "style": "IPY_MODEL_52300bc22a8e4177b70b3fbd4a9fed6c"
      }
     },
     "7db81119c16f43c98f401eec39dc0363": {
      "model_module": "@jupyter-widgets/controls",
      "model_module_version": "2.0.0",
      "model_name": "DropdownModel",
      "state": {
       "_options_labels": [
        "Annual",
        "Monthly",
        "Seasonal",
        "January",
        "February",
        "March",
        "April",
        "May",
        "June",
        "July",
        "August",
        "September",
        "October",
        "November",
        "December",
        "Winter-DJF",
        "Spring-MAM",
        "Summer-JJA",
        "Fall-SON"
       ],
       "index": 0,
       "layout": "IPY_MODEL_850c1bf1ec754ca9b706c09f785d5b9b",
       "style": "IPY_MODEL_5175e633e4394df49992e667b8354f9a"
      }
     },
     "7ea8eed6f9674bd59b3fa5c6f22d3c83": {
      "model_module": "@jupyter-widgets/controls",
      "model_module_version": "2.0.0",
      "model_name": "HBoxModel",
      "state": {
       "children": [
        "IPY_MODEL_779788719ce540dbba697b9e894b3636",
        "IPY_MODEL_d22b0921c00e4c578900b647f2ee6fb4"
       ],
       "layout": "IPY_MODEL_e1e56d04291f466aaccd9591e9782609"
      }
     },
     "7eb6700c094d43dc9891bc5489fd097d": {
      "model_module": "@jupyter-widgets/output",
      "model_module_version": "1.0.0",
      "model_name": "OutputModel",
      "state": {
       "layout": "IPY_MODEL_d38e251e8a56442a86b8f50c28134c83"
      }
     },
     "7f2f9ec9baa649d1bb1c9d1b55f8c8c7": {
      "model_module": "@jupyter-widgets/controls",
      "model_module_version": "2.0.0",
      "model_name": "RadioButtonsModel",
      "state": {
       "_options_labels": [
        "PNWNAmet",
        "CMIP6"
       ],
       "description": "Dataset:",
       "index": 0,
       "layout": "IPY_MODEL_c7b1b4cf0a1949659e5ed0910e3e053e",
       "style": "IPY_MODEL_608a526342ec42409461f6b357d5969e"
      }
     },
     "8095742a8b794eb6aafd14a7c84e630b": {
      "model_module": "@jupyter-widgets/controls",
      "model_module_version": "2.0.0",
      "model_name": "IntProgressModel",
      "state": {
       "bar_style": "success",
       "description": "Complete",
       "layout": "IPY_MODEL_927bc141416f47a0b84fa82040c2e0b9",
       "style": "IPY_MODEL_21253acd13574be3939a440ab710233f",
       "value": 100
      }
     },
     "811a0b390fa6453888ee10d9f30b66f1": {
      "model_module": "@jupyter-widgets/base",
      "model_module_version": "2.0.0",
      "model_name": "LayoutModel",
      "state": {}
     },
     "8138aef6e1aa4e1791cce0a6800e4c88": {
      "model_module": "@jupyter-widgets/base",
      "model_module_version": "2.0.0",
      "model_name": "LayoutModel",
      "state": {}
     },
     "81b71968727142b38701e2f02f54b649": {
      "model_module": "@jupyter-widgets/base",
      "model_module_version": "2.0.0",
      "model_name": "LayoutModel",
      "state": {}
     },
     "82341a2ab23f46e9964a38e5b5b40d32": {
      "model_module": "@jupyter-widgets/controls",
      "model_module_version": "2.0.0",
      "model_name": "DescriptionStyleModel",
      "state": {
       "description_width": ""
      }
     },
     "83804137fa1a44fe9475988538acb1ab": {
      "model_module": "@jupyter-widgets/controls",
      "model_module_version": "2.0.0",
      "model_name": "CheckboxModel",
      "state": {
       "description": "Simple Precipitation Intensity Index",
       "disabled": false,
       "layout": "IPY_MODEL_4ccbdb5d34834ce88860428fc588ae4b",
       "style": "IPY_MODEL_1a935a1b296649d6ba464fa8f57a4c50",
       "value": false
      }
     },
     "839a6da11b8d43c6813110ad02d01374": {
      "model_module": "@jupyter-widgets/controls",
      "model_module_version": "2.0.0",
      "model_name": "HTMLModel",
      "state": {
       "layout": "IPY_MODEL_aeb37268dced4194846bc8a022e46a1f",
       "style": "IPY_MODEL_527cbe3a96074594b64372fcd8b9488b",
       "value": "<b>tasmin</b>"
      }
     },
     "850c1bf1ec754ca9b706c09f785d5b9b": {
      "model_module": "@jupyter-widgets/base",
      "model_module_version": "2.0.0",
      "model_name": "LayoutModel",
      "state": {}
     },
     "867eaf868a8247f491cc57493e7f44b9": {
      "model_module": "@jupyter-widgets/controls",
      "model_module_version": "2.0.0",
      "model_name": "DescriptionStyleModel",
      "state": {
       "description_width": ""
      }
     },
     "87433ddc051c4fd697c5028384405348": {
      "model_module": "@jupyter-widgets/base",
      "model_module_version": "2.0.0",
      "model_name": "LayoutModel",
      "state": {}
     },
     "89cd7e5162144807b556280695d95141": {
      "model_module": "@jupyter-widgets/base",
      "model_module_version": "2.0.0",
      "model_name": "LayoutModel",
      "state": {}
     },
     "89f3dd97e672472f8be10f942736e478": {
      "model_module": "@jupyter-widgets/controls",
      "model_module_version": "2.0.0",
      "model_name": "TextModel",
      "state": {
       "layout": "IPY_MODEL_478d9ca9fed14056a7f86c032ef730f4",
       "placeholder": "",
       "style": "IPY_MODEL_a2de065ab7274e2cad574215ad7fb0c4",
       "value": "(45.16345, -133.32349)"
      }
     },
     "8b96a8c04f3449babb34abe4e45b33c3": {
      "model_module": "@jupyter-widgets/controls",
      "model_module_version": "2.0.0",
      "model_name": "ButtonModel",
      "state": {
       "button_style": "danger",
       "description": "Cancel",
       "disabled": true,
       "layout": "IPY_MODEL_89cd7e5162144807b556280695d95141",
       "style": "IPY_MODEL_ecd5388de2694e6893556cd6e4a15cfe",
       "tooltip": "Send `dismiss` request to WPS server."
      }
     },
     "8c2c8ef45194407985e7dd9071633e5a": {
      "model_module": "@jupyter-widgets/base",
      "model_module_version": "2.0.0",
      "model_name": "LayoutModel",
      "state": {}
     },
     "8ca75e0ade354737a9f3406101321e95": {
      "model_module": "jupyter-leaflet",
      "model_module_version": "^0.17",
      "model_name": "LeafletTileLayerModel",
      "state": {
       "_model_module_version": "^0.17",
       "_view_module_version": "^0.17",
       "attribution": "&copy; <a href=\"https://www.openstreetmap.org/copyright\">OpenStreetMap</a> contributors",
       "base": true,
       "max_zoom": 19,
       "min_zoom": 1,
       "name": "Default",
       "options": [
        "attribution",
        "bounds",
        "detect_retina",
        "max_native_zoom",
        "max_zoom",
        "min_native_zoom",
        "min_zoom",
        "no_wrap",
        "tile_size",
        "tms",
        "zoom_offset"
       ],
       "url": "https://tile.openstreetmap.org/{z}/{x}/{y}.png"
      }
     },
     "8d8470c8733a419383719043a8ce5a89": {
      "model_module": "@jupyter-widgets/controls",
      "model_module_version": "2.0.0",
      "model_name": "TextModel",
      "state": {
       "description": "Center:",
       "layout": "IPY_MODEL_64f53ba00c1f41c0808f5359574a5a18",
       "placeholder": "",
       "style": "IPY_MODEL_4d7ea7cf089c4edaaacbdfb8fb5e5ac2"
      }
     },
     "8f6c4415c6584f63b63180a764a24704": {
      "model_module": "jupyter-leaflet",
      "model_module_version": "^0.17",
      "model_name": "LeafletMapStyleModel",
      "state": {
       "_model_module_version": "^0.17"
      }
     },
     "8fa24a3e195246d8bb024e42f614697a": {
      "model_module": "@jupyter-widgets/controls",
      "model_module_version": "2.0.0",
      "model_name": "HBoxModel",
      "state": {
       "children": [
        "IPY_MODEL_d798dfae7a8741d1ac825c55f10b44cd",
        "IPY_MODEL_17274e7bdf51467cb724e0b2f2718b30",
        "IPY_MODEL_240b0d9953c0409a8240072b48c83b01",
        "IPY_MODEL_9f514eef5a714328a375bcb45f3d3d99"
       ],
       "layout": "IPY_MODEL_795c2627528b4225998e2fed02911234"
      }
     },
     "911d0afca71248d0b49d8b39c55c1329": {
      "model_module": "@jupyter-widgets/controls",
      "model_module_version": "2.0.0",
      "model_name": "HBoxModel",
      "state": {
       "children": [
        "IPY_MODEL_02a260094f9d4eb3ae7811ea82c324a0",
        "IPY_MODEL_b7b0719a4f464272996b01aa3b331a8e"
       ],
       "layout": "IPY_MODEL_09bfa88a32c54c49b0ebba3db6cc200a"
      }
     },
     "91517d548f16458eb9a631a8395fccfc": {
      "model_module": "@jupyter-widgets/controls",
      "model_module_version": "2.0.0",
      "model_name": "VBoxModel",
      "state": {
       "children": [
        "IPY_MODEL_1cad758ad73f4eeab4963daaa8d23c30",
        "IPY_MODEL_e0e358b73f254190817c6362eb21cac4",
        "IPY_MODEL_a5f6ee78affa4fb699d0c75bea1790f9",
        "IPY_MODEL_cb2107a4633f40cf8554090ec4249d40",
        "IPY_MODEL_839a6da11b8d43c6813110ad02d01374",
        "IPY_MODEL_12356536e23148398fc3bae810c89d43"
       ],
       "layout": "IPY_MODEL_9dce219c4d1044448b22164c11b9e772"
      }
     },
     "9209fbba266b4656bebc6c95524af727": {
      "model_module": "@jupyter-widgets/controls",
      "model_module_version": "2.0.0",
      "model_name": "IntSliderModel",
      "state": {
       "behavior": "drag-tap",
       "layout": "IPY_MODEL_0a64c006d95043468f9be4fd1e2b95a7",
       "max": 30,
       "min": 1,
       "style": "IPY_MODEL_3fd7e5bf8e584cf6a287e8e90bd759b1",
       "value": 18
      }
     },
     "927bc141416f47a0b84fa82040c2e0b9": {
      "model_module": "@jupyter-widgets/base",
      "model_module_version": "2.0.0",
      "model_name": "LayoutModel",
      "state": {}
     },
     "9282243fe52e4c54958ad6ae0a32e7a5": {
      "model_module": "jupyter-leaflet",
      "model_module_version": "^0.17",
      "model_name": "LeafletLayerGroupModel",
      "state": {
       "_model_module_version": "^0.17",
       "_view_module_version": "^0.17"
      }
     },
     "93f3285fc54c4489b297c64c2fd7a16d": {
      "model_module": "@jupyter-widgets/controls",
      "model_module_version": "2.0.0",
      "model_name": "HBoxModel",
      "state": {
       "children": [
        "IPY_MODEL_cbe802a4863a4b1e8e2791100292d3f0",
        "IPY_MODEL_fa14d1c094fe40829868a9061c7b369e"
       ],
       "layout": "IPY_MODEL_959fccc086a9431eaae46910788a81c1"
      }
     },
     "951fc2ce6fcd41f88f2774a5e6811648": {
      "model_module": "@jupyter-widgets/controls",
      "model_module_version": "2.0.0",
      "model_name": "CheckboxModel",
      "state": {
       "description": "Frost Days",
       "disabled": false,
       "layout": "IPY_MODEL_491b1a24614845db8864b0942b1e7013",
       "style": "IPY_MODEL_0f6d52da3ba14e91a800b5749e4aaf6d",
       "value": false
      }
     },
     "959fccc086a9431eaae46910788a81c1": {
      "model_module": "@jupyter-widgets/base",
      "model_module_version": "2.0.0",
      "model_name": "LayoutModel",
      "state": {}
     },
     "95b01fe4f3c048af8fbe0026ad2e88a8": {
      "model_module": "jupyter-leaflet",
      "model_module_version": "^0.17",
      "model_name": "LeafletZoomControlModel",
      "state": {
       "_model_module_version": "^0.17",
       "_view_module_version": "^0.17",
       "options": [
        "position",
        "zoom_in_text",
        "zoom_in_title",
        "zoom_out_text",
        "zoom_out_title"
       ]
      }
     },
     "97256ce909d044daaa20500891e9001f": {
      "model_module": "@jupyter-widgets/controls",
      "model_module_version": "2.0.0",
      "model_name": "SliderStyleModel",
      "state": {
       "description_width": ""
      }
     },
     "976c8fb285ce40d3a4cf49d78c179309": {
      "model_module": "@jupyter-widgets/controls",
      "model_module_version": "2.0.0",
      "model_name": "CheckboxModel",
      "state": {
       "description": "Maximum Length of Wet Spell",
       "disabled": false,
       "layout": "IPY_MODEL_4fdb04e6788a4ba8a9e64e8dfa3fe388",
       "style": "IPY_MODEL_0a57b4b3812e460dbd2a1cac178ee57a",
       "value": false
      }
     },
     "98890fdb5a734359bb63b53f091e98cb": {
      "model_module": "@jupyter-widgets/controls",
      "model_module_version": "2.0.0",
      "model_name": "HTMLStyleModel",
      "state": {
       "description_width": "initial",
       "font_size": null,
       "text_color": null
      }
     },
     "991142a46aa24c47bf4523e164afa043": {
      "model_module": "@jupyter-widgets/base",
      "model_module_version": "2.0.0",
      "model_name": "LayoutModel",
      "state": {}
     },
     "99e1615a70ad4b24b5695bf8753685d3": {
      "model_module": "@jupyter-widgets/controls",
      "model_module_version": "2.0.0",
      "model_name": "ButtonModel",
      "state": {
       "button_style": "danger",
       "description": "Cancel",
       "disabled": true,
       "layout": "IPY_MODEL_6b25483e23544809b865c3df128b6d00",
       "style": "IPY_MODEL_ca59e91e28e64bc28c1e5aa0293014e4",
       "tooltip": "Send `dismiss` request to WPS server."
      }
     },
     "9c1a7ffbaf4945138a603427499b091e": {
      "model_module": "@jupyter-widgets/controls",
      "model_module_version": "2.0.0",
      "model_name": "HBoxModel",
      "state": {
       "children": [
        "IPY_MODEL_6fc4243e55bc496ea5bf4c96041a7991",
        "IPY_MODEL_99e1615a70ad4b24b5695bf8753685d3"
       ],
       "layout": "IPY_MODEL_7cdf4314949c4b10a5f3ba0d09c9fead"
      }
     },
     "9dce219c4d1044448b22164c11b9e772": {
      "model_module": "@jupyter-widgets/base",
      "model_module_version": "2.0.0",
      "model_name": "LayoutModel",
      "state": {}
     },
     "9e14fa8e1fb94e8684ef3468a19a66f7": {
      "model_module": "@jupyter-widgets/controls",
      "model_module_version": "2.0.0",
      "model_name": "CheckboxModel",
      "state": {
       "description": "TXₙ",
       "disabled": false,
       "layout": "IPY_MODEL_3df4f2a285344ae387da65c0e183911e",
       "style": "IPY_MODEL_2e7d23d866c248c1b2bd2207713b2633",
       "value": false
      }
     },
     "9e643ca82a1a495283132ae11562e611": {
      "model_module": "@jupyter-widgets/base",
      "model_module_version": "2.0.0",
      "model_name": "LayoutModel",
      "state": {}
     },
     "9f514eef5a714328a375bcb45f3d3d99": {
      "model_module": "@jupyter-widgets/controls",
      "model_module_version": "2.0.0",
      "model_name": "VBoxModel",
      "state": {
       "children": [
        "IPY_MODEL_53c6ab1ab7e7401aa6a243a8d83d588f",
        "IPY_MODEL_f42dab5d755a42008a5ae0bdade56b89",
        "IPY_MODEL_473e96e9029940a193c07ce402e812b4"
       ],
       "layout": "IPY_MODEL_667b520b69a44f60b217ed9185dc9c09"
      }
     },
     "9f8811d983624f529c1703d3f65d09a1": {
      "model_module": "@jupyter-widgets/controls",
      "model_module_version": "2.0.0",
      "model_name": "SliderStyleModel",
      "state": {
       "description_width": ""
      }
     },
     "9f960ae6aff24e14866487e403827036": {
      "model_module": "@jupyter-widgets/base",
      "model_module_version": "2.0.0",
      "model_name": "LayoutModel",
      "state": {}
     },
     "9ff1707c9d9242cdb9097865d02dbefb": {
      "model_module": "@jupyter-widgets/controls",
      "model_module_version": "2.0.0",
      "model_name": "RadioButtonsModel",
      "state": {
       "_options_labels": [
        "pr",
        "tasmax",
        "tasmin"
       ],
       "description": "Climate variable:",
       "index": 0,
       "layout": "IPY_MODEL_7c3addc1c67f415598328d3da3616472",
       "style": "IPY_MODEL_e9934e37d3094aaeb3879baf13d5ae3f"
      }
     },
     "a0f3698a50a84f139ee84c8ac5c75e47": {
      "model_module": "@jupyter-widgets/base",
      "model_module_version": "2.0.0",
      "model_name": "LayoutModel",
      "state": {}
     },
     "a115965074d44a629a1256f57e941e6e": {
      "model_module": "@jupyter-widgets/controls",
      "model_module_version": "2.0.0",
      "model_name": "DescriptionStyleModel",
      "state": {
       "description_width": ""
      }
     },
     "a1d6cb10f06540e28bc03753d5ea529b": {
      "model_module": "@jupyter-widgets/controls",
      "model_module_version": "2.0.0",
      "model_name": "HBoxModel",
      "state": {
       "children": [
        "IPY_MODEL_d115d77e7af14980b7925d12fb033528",
        "IPY_MODEL_4c8c258f308746b8994e12e945e132dc"
       ],
       "layout": "IPY_MODEL_a8c7fc07b8564a40a8f3f3e7840d3346"
      }
     },
     "a1e63ab1fb324a89881377ac52f68c03": {
      "model_module": "@jupyter-widgets/controls",
      "model_module_version": "2.0.0",
      "model_name": "HBoxModel",
      "state": {
       "children": [
        "IPY_MODEL_bf86d1187e964f48bf3aa319a0629c29",
        "IPY_MODEL_bb1f28e2c6e9406e8bcf85a3858e561c"
       ],
       "layout": "IPY_MODEL_1248fe866e9241bca4b9c3eab378f33b"
      }
     },
     "a2de065ab7274e2cad574215ad7fb0c4": {
      "model_module": "@jupyter-widgets/controls",
      "model_module_version": "2.0.0",
      "model_name": "TextStyleModel",
      "state": {
       "description_width": "",
       "font_size": null,
       "text_color": null
      }
     },
     "a54b804f79e54f51ac334012b1dd1122": {
      "model_module": "@jupyter-widgets/base",
      "model_module_version": "2.0.0",
      "model_name": "LayoutModel",
      "state": {}
     },
     "a5f6ee78affa4fb699d0c75bea1790f9": {
      "model_module": "@jupyter-widgets/controls",
      "model_module_version": "2.0.0",
      "model_name": "HTMLModel",
      "state": {
       "layout": "IPY_MODEL_792149c87c7f482c92d526b7502b2617",
       "style": "IPY_MODEL_da6465ae17414978bb1d5770dc40515b",
       "value": "<b>tasmax</b>"
      }
     },
     "a72f72642484427f9b2b4427bbcf46bd": {
      "model_module": "@jupyter-widgets/controls",
      "model_module_version": "2.0.0",
      "model_name": "DropdownModel",
      "state": {
       "_options_labels": [
        "Annual",
        "Monthly",
        "Seasonal",
        "January",
        "February",
        "March",
        "April",
        "May",
        "June",
        "July",
        "August",
        "September",
        "October",
        "November",
        "December",
        "Winter-DJF",
        "Spring-MAM",
        "Summer-JJA",
        "Fall-SON"
       ],
       "index": 0,
       "layout": "IPY_MODEL_cc74b9272c2045a897429c5809064b5f",
       "style": "IPY_MODEL_426e29dc34b14e7fa4a2defccc0c2908"
      }
     },
     "a779394a1ff04eb6b7c9c5d2e1c392b0": {
      "model_module": "@jupyter-widgets/controls",
      "model_module_version": "2.0.0",
      "model_name": "HTMLModel",
      "state": {
       "layout": "IPY_MODEL_24f97f982dac40a9ad8987195689dcc3",
       "style": "IPY_MODEL_98890fdb5a734359bb63b53f091e98cb",
       "value": "<b>Minimum Temperature Indices</b>"
      }
     },
     "a8c7fc07b8564a40a8f3f3e7840d3346": {
      "model_module": "@jupyter-widgets/base",
      "model_module_version": "2.0.0",
      "model_name": "LayoutModel",
      "state": {}
     },
     "a8f0e4a4e4fd4a30b705e7e6e84fd72a": {
      "model_module": "@jupyter-widgets/controls",
      "model_module_version": "2.0.0",
      "model_name": "DescriptionStyleModel",
      "state": {
       "description_width": ""
      }
     },
     "aae9c324a7374500954e61e53c264519": {
      "model_module": "@jupyter-widgets/controls",
      "model_module_version": "2.0.0",
      "model_name": "DescriptionStyleModel",
      "state": {
       "description_width": ""
      }
     },
     "ab2bb80cd97b4dd884be6125718269ce": {
      "model_module": "@jupyter-widgets/controls",
      "model_module_version": "2.0.0",
      "model_name": "DescriptionStyleModel",
      "state": {
       "description_width": ""
      }
     },
     "ab34097cdad44b9abc06e58446a7b1f8": {
      "model_module": "@jupyter-widgets/controls",
      "model_module_version": "2.0.0",
      "model_name": "ButtonModel",
      "state": {
       "button_style": "success",
       "description": "Run Chickadee",
       "layout": "IPY_MODEL_6c97f7ae8e794071a025965d57945eb0",
       "style": "IPY_MODEL_48a4bc2b93144966aae1189a1ae6700a",
       "tooltip": "Click 'Run' to start the on-demand downscaling"
      }
     },
     "ab886ec1dacb4243b2342de830c09a14": {
      "model_module": "@jupyter-widgets/base",
      "model_module_version": "2.0.0",
      "model_name": "LayoutModel",
      "state": {}
     },
     "aeb37268dced4194846bc8a022e46a1f": {
      "model_module": "@jupyter-widgets/base",
      "model_module_version": "2.0.0",
      "model_name": "LayoutModel",
      "state": {}
     },
     "b0b5a16d175a4a8fbd3443143c0d1ddc": {
      "model_module": "@jupyter-widgets/base",
      "model_module_version": "2.0.0",
      "model_name": "LayoutModel",
      "state": {}
     },
     "b7b0719a4f464272996b01aa3b331a8e": {
      "model_module": "@jupyter-widgets/controls",
      "model_module_version": "2.0.0",
      "model_name": "DropdownModel",
      "state": {
       "_options_labels": [
        "Annual",
        "Monthly",
        "Seasonal",
        "January",
        "February",
        "March",
        "April",
        "May",
        "June",
        "July",
        "August",
        "September",
        "October",
        "November",
        "December",
        "Winter-DJF",
        "Spring-MAM",
        "Summer-JJA",
        "Fall-SON"
       ],
       "index": 0,
       "layout": "IPY_MODEL_629cb305bece471aa1abb54d649ddfd0",
       "style": "IPY_MODEL_08d1cd6467b34f1280616433cc5b3a13"
      }
     },
     "b8d2fbcb901f4156b3f093b6fd300a30": {
      "model_module": "@jupyter-widgets/controls",
      "model_module_version": "2.0.0",
      "model_name": "ButtonStyleModel",
      "state": {
       "font_family": null,
       "font_size": null,
       "font_style": null,
       "font_variant": null,
       "font_weight": null,
       "text_color": null,
       "text_decoration": null
      }
     },
     "b982575f0d1b45c9be02cd3ef6469e1d": {
      "model_module": "@jupyter-widgets/controls",
      "model_module_version": "2.0.0",
      "model_name": "DescriptionStyleModel",
      "state": {
       "description_width": ""
      }
     },
     "b998e8fa1ba14bd09b33b8a8681568b8": {
      "model_module": "@jupyter-widgets/controls",
      "model_module_version": "2.0.0",
      "model_name": "CheckboxStyleModel",
      "state": {
       "description_width": "initial"
      }
     },
     "ba2ed18a618f402d9a5c17b4f182f8db": {
      "model_module": "@jupyter-widgets/controls",
      "model_module_version": "2.0.0",
      "model_name": "DropdownModel",
      "state": {
       "_options_labels": [
        "ACCESS-CM2",
        "ACCESS-ESM1-5",
        "AgroClimate",
        "BCC-CSM2-MR",
        "CMCC-ESM2",
        "CNRM-CM6-1",
        "CNRM-ESM2-1",
        "CanESM5",
        "EC-Earth3",
        "EC-Earth3-Veg",
        "FGOALS-g3",
        "GFDL-ESM4",
        "HadGEM3-GC31-LL",
        "INM-CM4-8",
        "INM-CM5-0",
        "IPSL-CM6A-LR",
        "KACE-1-0-G",
        "KIOST-ESM",
        "MIROC-ES2L",
        "MIROC6",
        "MPI-ESM1-2-HR",
        "MPI-ESM1-2-LR",
        "MRI-ESM2-0",
        "NorESM2-LM",
        "NorESM2-MM",
        "TaiESM1",
        "UKESM1-0-LL"
       ],
       "description": "CMIP6 model:",
       "disabled": true,
       "index": 0,
       "layout": "IPY_MODEL_1ffa88a91d4d404ebac5f342f2a4683d",
       "style": "IPY_MODEL_e140c4d6d5bb464d8f99dad61efb0651"
      }
     },
     "ba863c657d524bfe94341461d0a05f50": {
      "model_module": "@jupyter-widgets/base",
      "model_module_version": "2.0.0",
      "model_name": "LayoutModel",
      "state": {}
     },
     "bb1f28e2c6e9406e8bcf85a3858e561c": {
      "model_module": "@jupyter-widgets/controls",
      "model_module_version": "2.0.0",
      "model_name": "DropdownModel",
      "state": {
       "_options_labels": [
        "Annual",
        "Monthly",
        "Seasonal",
        "January",
        "February",
        "March",
        "April",
        "May",
        "June",
        "July",
        "August",
        "September",
        "October",
        "November",
        "December",
        "Winter-DJF",
        "Spring-MAM",
        "Summer-JJA",
        "Fall-SON"
       ],
       "index": 0,
       "layout": "IPY_MODEL_79b7e818dc0d4804afd8488c7619cd87",
       "style": "IPY_MODEL_aae9c324a7374500954e61e53c264519"
      }
     },
     "bbe137cee40b4342a2fa8e8e69ea017d": {
      "model_module": "@jupyter-widgets/controls",
      "model_module_version": "2.0.0",
      "model_name": "DescriptionStyleModel",
      "state": {
       "description_width": ""
      }
     },
     "bf08b01ecb644113ae582d15461f01f9": {
      "model_module": "@jupyter-widgets/base",
      "model_module_version": "2.0.0",
      "model_name": "LayoutModel",
      "state": {}
     },
     "bf47f195dabe4bfa8055f1db484435e1": {
      "model_module": "@jupyter-widgets/base",
      "model_module_version": "2.0.0",
      "model_name": "LayoutModel",
      "state": {}
     },
     "bf86d1187e964f48bf3aa319a0629c29": {
      "model_module": "@jupyter-widgets/controls",
      "model_module_version": "2.0.0",
      "model_name": "CheckboxModel",
      "state": {
       "description": "Maximum Length of Dry Spell",
       "disabled": false,
       "layout": "IPY_MODEL_b0b5a16d175a4a8fbd3443143c0d1ddc",
       "style": "IPY_MODEL_eaa0c07200fa4ad283be828b663da219",
       "value": false
      }
     },
     "c0b0149c64384670a393be6423127f8d": {
      "model_module": "@jupyter-widgets/base",
      "model_module_version": "2.0.0",
      "model_name": "LayoutModel",
      "state": {}
     },
     "c0df90c2940246088f88838eb00cf86e": {
      "model_module": "@jupyter-widgets/base",
      "model_module_version": "2.0.0",
      "model_name": "LayoutModel",
      "state": {
       "align_items": "center",
       "grid_template_areas": "\"center center right-sidebar\"",
       "grid_template_columns": "1fr 2fr 1fr",
       "grid_template_rows": "3fr"
      }
     },
     "c17e4e43b2364b748308dcc1b1d3ea31": {
      "model_module": "@jupyter-widgets/base",
      "model_module_version": "2.0.0",
      "model_name": "LayoutModel",
      "state": {}
     },
     "c1e41d6a880b4fdfaa0322cb3a4786b3": {
      "model_module": "@jupyter-widgets/base",
      "model_module_version": "2.0.0",
      "model_name": "LayoutModel",
      "state": {}
     },
     "c247fdf565d443fea1e39f36fdedd3c2": {
      "model_module": "@jupyter-widgets/controls",
      "model_module_version": "2.0.0",
      "model_name": "IntSliderModel",
      "state": {
       "behavior": "drag-tap",
       "layout": "IPY_MODEL_cd5cfe8d596c47d0a8db8856645820a6",
       "max": 10,
       "min": 1,
       "style": "IPY_MODEL_59a7391117ed4193b7e3b9d8492be711",
       "value": 2
      }
     },
     "c2db542fc25e46acb2ae96c6b0eb8b43": {
      "model_module": "@jupyter-widgets/base",
      "model_module_version": "2.0.0",
      "model_name": "LayoutModel",
      "state": {}
     },
     "c34c652efc5248f9a0f29db15587f2d2": {
      "model_module": "@jupyter-widgets/base",
      "model_module_version": "2.0.0",
      "model_name": "LayoutModel",
      "state": {}
     },
     "c68e7d88d1334176898005924567175d": {
      "model_module": "@jupyter-widgets/controls",
      "model_module_version": "2.0.0",
      "model_name": "DescriptionStyleModel",
      "state": {
       "description_width": ""
      }
     },
     "c6db97439a67425bbdc8686b2de783fc": {
      "model_module": "@jupyter-widgets/base",
      "model_module_version": "2.0.0",
      "model_name": "LayoutModel",
      "state": {}
     },
     "c7b1b4cf0a1949659e5ed0910e3e053e": {
      "model_module": "@jupyter-widgets/base",
      "model_module_version": "2.0.0",
      "model_name": "LayoutModel",
      "state": {}
     },
     "c876aa05dda24d5da9030cbfc4389145": {
      "model_module": "@jupyter-widgets/controls",
      "model_module_version": "2.0.0",
      "model_name": "CheckboxModel",
      "state": {
       "description": "Mean Temperature",
       "disabled": false,
       "layout": "IPY_MODEL_57fff0f9cf5b423c9b1cc7118a2b0138",
       "style": "IPY_MODEL_078f4ea2ab094ff1aa03c0009e5fa34f",
       "value": false
      }
     },
     "c91cc035326a4e8a8ac0fafa3341c5a9": {
      "model_module": "@jupyter-widgets/controls",
      "model_module_version": "2.0.0",
      "model_name": "CheckboxStyleModel",
      "state": {
       "description_width": "initial"
      }
     },
     "ca4ff1f7cc3f474d906fcc1d100a7497": {
      "model_module": "@jupyter-widgets/base",
      "model_module_version": "2.0.0",
      "model_name": "LayoutModel",
      "state": {}
     },
     "ca527158f53a4542ab7cadc82bd1e6cc": {
      "model_module": "@jupyter-widgets/base",
      "model_module_version": "2.0.0",
      "model_name": "LayoutModel",
      "state": {}
     },
     "ca59e91e28e64bc28c1e5aa0293014e4": {
      "model_module": "@jupyter-widgets/controls",
      "model_module_version": "2.0.0",
      "model_name": "ButtonStyleModel",
      "state": {
       "font_family": null,
       "font_size": null,
       "font_style": null,
       "font_variant": null,
       "font_weight": null,
       "text_color": null,
       "text_decoration": null
      }
     },
     "cb2107a4633f40cf8554090ec4249d40": {
      "model_module": "@jupyter-widgets/controls",
      "model_module_version": "2.0.0",
      "model_name": "CheckboxModel",
      "state": {
       "description": "https://docker-dev03.pcic.uvic.ca/wpsoutputs/f099db66-dcac-11ee-a97c-0242ac12000c/tasmax_PNWNAmet_target_198101-201012_on-demand.nc",
       "disabled": false,
       "layout": "IPY_MODEL_6ee3f2eff37a41efbd09cd832ac328b1",
       "style": "IPY_MODEL_21983d1c7553470fb2dd3e1f8656186a",
       "value": true
      }
     },
     "cba77859866848a2ba8397b4130b7f53": {
      "model_module": "@jupyter-widgets/controls",
      "model_module_version": "2.0.0",
      "model_name": "ButtonStyleModel",
      "state": {
       "font_family": null,
       "font_size": null,
       "font_style": null,
       "font_variant": null,
       "font_weight": null,
       "text_color": null,
       "text_decoration": null
      }
     },
     "cbe802a4863a4b1e8e2791100292d3f0": {
      "model_module": "@jupyter-widgets/controls",
      "model_module_version": "2.0.0",
      "model_name": "CheckboxModel",
      "state": {
       "description": "Rxnday",
       "disabled": false,
       "layout": "IPY_MODEL_53a1c6850ea54438998ed7a8e4d75245",
       "style": "IPY_MODEL_f0728089c00c46bf885830b4911a2622",
       "value": true
      }
     },
     "cc27314d29e64947b148aebedfd88d17": {
      "model_module": "@jupyter-widgets/base",
      "model_module_version": "2.0.0",
      "model_name": "LayoutModel",
      "state": {}
     },
     "cc74b9272c2045a897429c5809064b5f": {
      "model_module": "@jupyter-widgets/base",
      "model_module_version": "2.0.0",
      "model_name": "LayoutModel",
      "state": {}
     },
     "cd5cfe8d596c47d0a8db8856645820a6": {
      "model_module": "@jupyter-widgets/base",
      "model_module_version": "2.0.0",
      "model_name": "LayoutModel",
      "state": {}
     },
     "ce7e9c2a8db5419eb9f2011cc910547d": {
      "model_module": "@jupyter-widgets/base",
      "model_module_version": "2.0.0",
      "model_name": "LayoutModel",
      "state": {}
     },
     "cf59e68b937c4544aef8da659e4e14af": {
      "model_module": "@jupyter-widgets/base",
      "model_module_version": "2.0.0",
      "model_name": "LayoutModel",
      "state": {}
     },
     "d0ab95d9cc5c4038b566adbd28e646c0": {
      "model_module": "@jupyter-widgets/base",
      "model_module_version": "2.0.0",
      "model_name": "LayoutModel",
      "state": {}
     },
     "d0cb226b607a4f39855d9cd54b88666f": {
      "model_module": "@jupyter-widgets/base",
      "model_module_version": "2.0.0",
      "model_name": "LayoutModel",
      "state": {}
     },
     "d0e9b432279e4246bd8bd4fa1839f26b": {
      "model_module": "@jupyter-widgets/base",
      "model_module_version": "2.0.0",
      "model_name": "LayoutModel",
      "state": {}
     },
     "d115d77e7af14980b7925d12fb033528": {
      "model_module": "@jupyter-widgets/controls",
      "model_module_version": "2.0.0",
      "model_name": "CheckboxModel",
      "state": {
       "description": "Rnnmm",
       "disabled": false,
       "layout": "IPY_MODEL_bf47f195dabe4bfa8055f1db484435e1",
       "style": "IPY_MODEL_6f49828b41664ac2bcc43d75e74ebebc",
       "value": true
      }
     },
     "d22b0921c00e4c578900b647f2ee6fb4": {
      "model_module": "@jupyter-widgets/controls",
      "model_module_version": "2.0.0",
      "model_name": "ButtonModel",
      "state": {
       "button_style": "danger",
       "description": "Cancel",
       "disabled": true,
       "layout": "IPY_MODEL_db07550c50e341c98ab52087aba9e6ee",
       "style": "IPY_MODEL_cba77859866848a2ba8397b4130b7f53",
       "tooltip": "Send `dismiss` request to WPS server."
      }
     },
     "d26c412cacfd4f7ea693fe88aa05f6a4": {
      "model_module": "@jupyter-widgets/base",
      "model_module_version": "2.0.0",
      "model_name": "LayoutModel",
      "state": {}
     },
     "d28ff93b8fe244de97ba8c8ba4dbec45": {
      "model_module": "@jupyter-widgets/base",
      "model_module_version": "2.0.0",
      "model_name": "LayoutModel",
      "state": {}
     },
     "d38e251e8a56442a86b8f50c28134c83": {
      "model_module": "@jupyter-widgets/base",
      "model_module_version": "2.0.0",
      "model_name": "LayoutModel",
      "state": {}
     },
     "d5c84c9357fb4da784a9ad96bd78932f": {
      "model_module": "@jupyter-widgets/controls",
      "model_module_version": "2.0.0",
      "model_name": "ProgressStyleModel",
      "state": {
       "description_width": ""
      }
     },
     "d60df467b07e45f49dd514ac3c79c14b": {
      "model_module": "@jupyter-widgets/controls",
      "model_module_version": "2.0.0",
      "model_name": "IntSliderModel",
      "state": {
       "behavior": "drag-tap",
       "layout": "IPY_MODEL_0632c10995a5404c9c5d218294cf9f41",
       "max": 30,
       "min": 20,
       "style": "IPY_MODEL_9f8811d983624f529c1703d3f65d09a1",
       "value": 28
      }
     },
     "d72c4bdf1a7b48dc921fa7969fa1907e": {
      "model_module": "@jupyter-widgets/controls",
      "model_module_version": "2.0.0",
      "model_name": "RadioButtonsModel",
      "state": {
       "_options_labels": [
        "BCCAQv2",
        "MBCn"
       ],
       "description": "CMIP6 downscaling technique:",
       "disabled": true,
       "index": 0,
       "layout": "IPY_MODEL_ba863c657d524bfe94341461d0a05f50",
       "style": "IPY_MODEL_a8f0e4a4e4fd4a30b705e7e6e84fd72a"
      }
     },
     "d798dfae7a8741d1ac825c55f10b44cd": {
      "model_module": "@jupyter-widgets/controls",
      "model_module_version": "2.0.0",
      "model_name": "VBoxModel",
      "state": {
       "children": [
        "IPY_MODEL_02f9c7dfa0484f86aa3f9adac5fff3c2",
        "IPY_MODEL_93f3285fc54c4489b297c64c2fd7a16d",
        "IPY_MODEL_c247fdf565d443fea1e39f36fdedd3c2",
        "IPY_MODEL_12def329e98148308fb453e71825f0b3",
        "IPY_MODEL_a1d6cb10f06540e28bc03753d5ea529b",
        "IPY_MODEL_9209fbba266b4656bebc6c95524af727",
        "IPY_MODEL_a1e63ab1fb324a89881377ac52f68c03",
        "IPY_MODEL_dfe22628c37f483ca1c70cb40c1763b5",
        "IPY_MODEL_df8faf58f1fe4106986febf56c6be1bb"
       ],
       "layout": "IPY_MODEL_991142a46aa24c47bf4523e164afa043"
      }
     },
     "d9c2de679df641faa40bac7bca2a5767": {
      "model_module": "jupyter-leaflet",
      "model_module_version": "^0.17",
      "model_name": "LeafletMapStyleModel",
      "state": {
       "_model_module_version": "^0.17",
       "cursor": "move"
      }
     },
     "da6465ae17414978bb1d5770dc40515b": {
      "model_module": "@jupyter-widgets/controls",
      "model_module_version": "2.0.0",
      "model_name": "HTMLStyleModel",
      "state": {
       "description_width": "initial",
       "font_size": null,
       "text_color": null
      }
     },
     "db07550c50e341c98ab52087aba9e6ee": {
      "model_module": "@jupyter-widgets/base",
      "model_module_version": "2.0.0",
      "model_name": "LayoutModel",
      "state": {}
     },
     "db6dc1d8fc0e420e8ffba0c139fe011d": {
      "model_module": "@jupyter-widgets/base",
      "model_module_version": "2.0.0",
      "model_name": "LayoutModel",
      "state": {}
     },
     "dd97b99660d54e39b127af1122a99c5a": {
      "model_module": "@jupyter-widgets/base",
      "model_module_version": "2.0.0",
      "model_name": "LayoutModel",
      "state": {
       "grid_area": "center",
       "height": "600px"
      }
     },
     "df8faf58f1fe4106986febf56c6be1bb": {
      "model_module": "@jupyter-widgets/controls",
      "model_module_version": "2.0.0",
      "model_name": "HBoxModel",
      "state": {
       "children": [
        "IPY_MODEL_1ea7af977a7942c4a15f3aa5dec8e8fc",
        "IPY_MODEL_7db81119c16f43c98f401eec39dc0363"
       ],
       "layout": "IPY_MODEL_4dcae4dbabcb441d986bfea8201b12e4"
      }
     },
     "dfe22628c37f483ca1c70cb40c1763b5": {
      "model_module": "@jupyter-widgets/controls",
      "model_module_version": "2.0.0",
      "model_name": "HBoxModel",
      "state": {
       "children": [
        "IPY_MODEL_976c8fb285ce40d3a4cf49d78c179309",
        "IPY_MODEL_68a1fb36c26747ee94d0ac29e75dfe9a"
       ],
       "layout": "IPY_MODEL_87433ddc051c4fd697c5028384405348"
      }
     },
     "e0e358b73f254190817c6362eb21cac4": {
      "model_module": "@jupyter-widgets/controls",
      "model_module_version": "2.0.0",
      "model_name": "CheckboxModel",
      "state": {
       "description": "https://docker-dev03.pcic.uvic.ca/wpsoutputs/ef45dbfc-dcac-11ee-a97c-0242ac12000c/pr_PNWNAmet_target_198101-201012_on-demand.nc",
       "disabled": false,
       "layout": "IPY_MODEL_7ca99c88a84c47a28e1accb6f15c1919",
       "style": "IPY_MODEL_42e9bc4754b44da2873b1d209b18001e",
       "value": true
      }
     },
     "e140c4d6d5bb464d8f99dad61efb0651": {
      "model_module": "@jupyter-widgets/controls",
      "model_module_version": "2.0.0",
      "model_name": "DescriptionStyleModel",
      "state": {
       "description_width": "100px"
      }
     },
     "e1e56d04291f466aaccd9591e9782609": {
      "model_module": "@jupyter-widgets/base",
      "model_module_version": "2.0.0",
      "model_name": "LayoutModel",
      "state": {
       "justify_content": "space-between"
      }
     },
     "e21011e27b8e42b8b0fe63f6631e3095": {
      "model_module": "@jupyter-widgets/controls",
      "model_module_version": "2.0.0",
      "model_name": "DescriptionStyleModel",
      "state": {
       "description_width": ""
      }
     },
     "e52c8bfa70d64f079a59665a27a03257": {
      "model_module": "@jupyter-widgets/controls",
      "model_module_version": "2.0.0",
      "model_name": "DropdownModel",
      "state": {
       "_options_labels": [
        "Annual",
        "Monthly",
        "Seasonal",
        "January",
        "February",
        "March",
        "April",
        "May",
        "June",
        "July",
        "August",
        "September",
        "October",
        "November",
        "December",
        "Winter-DJF",
        "Spring-MAM",
        "Summer-JJA",
        "Fall-SON"
       ],
       "index": 0,
       "layout": "IPY_MODEL_2769d337db4a41279aa9c0f15a635b0e",
       "style": "IPY_MODEL_39fc620b9ce148e385c18c606dc11703"
      }
     },
     "e619923bffd948199b14e0d0e5c662f9": {
      "model_module": "@jupyter-widgets/controls",
      "model_module_version": "2.0.0",
      "model_name": "HTMLStyleModel",
      "state": {
       "description_width": "initial",
       "font_size": null,
       "text_color": null
      }
     },
     "e9934e37d3094aaeb3879baf13d5ae3f": {
      "model_module": "@jupyter-widgets/controls",
      "model_module_version": "2.0.0",
      "model_name": "DescriptionStyleModel",
      "state": {
       "description_width": ""
      }
     },
     "eaa0c07200fa4ad283be828b663da219": {
      "model_module": "@jupyter-widgets/controls",
      "model_module_version": "2.0.0",
      "model_name": "CheckboxStyleModel",
      "state": {
       "description_width": "initial"
      }
     },
     "ec61396848c74edfa3b4bd0367d6ba64": {
      "model_module": "@jupyter-widgets/controls",
      "model_module_version": "2.0.0",
      "model_name": "HTMLStyleModel",
      "state": {
       "description_width": "initial",
       "font_size": null,
       "text_color": null
      }
     },
     "ecd5388de2694e6893556cd6e4a15cfe": {
      "model_module": "@jupyter-widgets/controls",
      "model_module_version": "2.0.0",
      "model_name": "ButtonStyleModel",
      "state": {
       "font_family": null,
       "font_size": null,
       "font_style": null,
       "font_variant": null,
       "font_weight": null,
       "text_color": null,
       "text_decoration": null
      }
     },
     "f0728089c00c46bf885830b4911a2622": {
      "model_module": "@jupyter-widgets/controls",
      "model_module_version": "2.0.0",
      "model_name": "CheckboxStyleModel",
      "state": {
       "description_width": "initial"
      }
     },
     "f42dab5d755a42008a5ae0bdade56b89": {
      "model_module": "@jupyter-widgets/controls",
      "model_module_version": "2.0.0",
      "model_name": "HBoxModel",
      "state": {
       "children": [
        "IPY_MODEL_43ff8b104ff9467b9ca5776962c0dfb1",
        "IPY_MODEL_e52c8bfa70d64f079a59665a27a03257"
       ],
       "layout": "IPY_MODEL_d28ff93b8fe244de97ba8c8ba4dbec45"
      }
     },
     "f456b356312a4e81a30b40afcc20e857": {
      "model_module": "@jupyter-widgets/controls",
      "model_module_version": "2.0.0",
      "model_name": "ButtonModel",
      "state": {
       "button_style": "danger",
       "description": "Cancel",
       "disabled": true,
       "layout": "IPY_MODEL_139d667636cb47e583841120bb70858d",
       "style": "IPY_MODEL_b8d2fbcb901f4156b3f093b6fd300a30",
       "tooltip": "Send `dismiss` request to WPS server."
      }
     },
     "f5d119af850249adafee88e70e569aca": {
      "model_module": "@jupyter-widgets/base",
      "model_module_version": "2.0.0",
      "model_name": "LayoutModel",
      "state": {
       "justify_content": "space-between"
      }
     },
     "f66d817e259d47f19d1b795ee298ea82": {
      "model_module": "@jupyter-widgets/controls",
      "model_module_version": "2.0.0",
      "model_name": "HBoxModel",
      "state": {
       "children": [
        "IPY_MODEL_1f80b38aceaf4831acac98c6d31eb72e",
        "IPY_MODEL_2d77fcf7de474e7c8b19b870fd51469e"
       ],
       "layout": "IPY_MODEL_ce7e9c2a8db5419eb9f2011cc910547d"
      }
     },
     "f8d9c201960c4ebf84abf811eb9f2594": {
      "model_module": "@jupyter-widgets/controls",
      "model_module_version": "2.0.0",
      "model_name": "HBoxModel",
      "state": {
       "children": [
        "IPY_MODEL_521f90ea67124c89a08b38b061c4464e",
        "IPY_MODEL_2ed742a5116841ada89f2def7ff395a7"
       ],
       "layout": "IPY_MODEL_c17e4e43b2364b748308dcc1b1d3ea31"
      }
     },
     "fa14d1c094fe40829868a9061c7b369e": {
      "model_module": "@jupyter-widgets/controls",
      "model_module_version": "2.0.0",
      "model_name": "DropdownModel",
      "state": {
       "_options_labels": [
        "Annual",
        "Monthly",
        "Seasonal",
        "January",
        "February",
        "March",
        "April",
        "May",
        "June",
        "July",
        "August",
        "September",
        "October",
        "November",
        "December",
        "Winter-DJF",
        "Spring-MAM",
        "Summer-JJA",
        "Fall-SON"
       ],
       "index": 1,
       "layout": "IPY_MODEL_c6db97439a67425bbdc8686b2de783fc",
       "style": "IPY_MODEL_c68e7d88d1334176898005924567175d"
      }
     },
     "fa786323011e4bb9a90b08e12a6b1f43": {
      "model_module": "@jupyter-widgets/controls",
      "model_module_version": "2.0.0",
      "model_name": "HTMLStyleModel",
      "state": {
       "description_width": "initial",
       "font_size": null,
       "text_color": null
      }
     },
     "fadbfe88f029493785b2e7cd907e2fe2": {
      "model_module": "@jupyter-widgets/base",
      "model_module_version": "2.0.0",
      "model_name": "LayoutModel",
      "state": {}
     }
    },
    "version_major": 2,
    "version_minor": 0
   }
  }
 },
 "nbformat": 4,
 "nbformat_minor": 4
}
