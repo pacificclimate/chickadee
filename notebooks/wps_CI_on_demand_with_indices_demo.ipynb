{
 "cells": [
  {
   "cell_type": "markdown",
   "metadata": {},
   "source": [
    "# wps_CI_on_demand_with_indices\n",
    "\n",
    "#### wps_CI is a process that runs the [ci.netcdf.wrapper](https://github.com/pacificclimate/ClimDown/blob/master/R/CI.R#L235) (Climate Imprint) function of the [ClimDown](https://cran.r-project.org/web/packages/ClimDown/index.html) package using the [`chickadee`](https://github.com/pacificclimate/chickadee) DACCS bird. This notebook uses either the PNWNAmet daily gridded observations or the CMIP6 downscaled data as the `gcm_file` parameter and the PRISM monthly climatologies as the `obs_file` parameter. By supplying climatologies, this skips the computation of the climatologies during Climate Imprint. After running CI, the output can be passed to the Ouranos [`finch`](https://github.com/bird-house/finch/tree/master) bird to compute climate indices. This notebook uses an interactive map to set up inputs to the birds and run them, and its setup process is detailed in the `map.py` module."
   ]
  },
  {
   "cell_type": "markdown",
   "metadata": {},
   "source": [
    "I. Import `map` module and its functions/variables."
   ]
  },
  {
   "cell_type": "code",
   "execution_count": 1,
   "metadata": {},
   "outputs": [],
   "source": [
    "import map\n",
    "from map import *"
   ]
  },
  {
   "cell_type": "markdown",
   "metadata": {},
   "source": [
    "II. Check `url`s used to connect to chickadee/finch."
   ]
  },
  {
   "cell_type": "code",
   "execution_count": 2,
   "metadata": {},
   "outputs": [
    {
     "name": "stdout",
     "output_type": "stream",
     "text": [
      "Using chickadee on http://docker-dev03.pcic.uvic.ca:30102\n",
      "Using finch on https://docker-dev03.pcic.uvic.ca/twitcher/ows/proxy/finch/wps\n"
     ]
    }
   ],
   "source": [
    "# NBVAL_IGNORE_OUTPUT\n",
    "print(f\"Using chickadee on {chickadee_url}\")\n",
    "print(f\"Using finch on {finch_url}\")"
   ]
  },
  {
   "cell_type": "markdown",
   "metadata": {},
   "source": [
    "III. Display help for individual processes by using the ? command (ex. bird.process?). We can use the docstring to ensure we provide the appropriate parameters."
   ]
  },
  {
   "cell_type": "code",
   "execution_count": 3,
   "metadata": {},
   "outputs": [
    {
     "data": {
      "text/plain": [
       "\u001b[0;31mSignature:\u001b[0m\n",
       "\u001b[0mchickadee\u001b[0m\u001b[0;34m.\u001b[0m\u001b[0mci\u001b[0m\u001b[0;34m(\u001b[0m\u001b[0;34m\u001b[0m\n",
       "\u001b[0;34m\u001b[0m    \u001b[0mgcm_file\u001b[0m\u001b[0;34m,\u001b[0m\u001b[0;34m\u001b[0m\n",
       "\u001b[0;34m\u001b[0m    \u001b[0mobs_file\u001b[0m\u001b[0;34m,\u001b[0m\u001b[0;34m\u001b[0m\n",
       "\u001b[0;34m\u001b[0m    \u001b[0mgcm_varname\u001b[0m\u001b[0;34m=\u001b[0m\u001b[0;32mNone\u001b[0m\u001b[0;34m,\u001b[0m\u001b[0;34m\u001b[0m\n",
       "\u001b[0;34m\u001b[0m    \u001b[0mobs_varname\u001b[0m\u001b[0;34m=\u001b[0m\u001b[0;32mNone\u001b[0m\u001b[0;34m,\u001b[0m\u001b[0;34m\u001b[0m\n",
       "\u001b[0;34m\u001b[0m    \u001b[0mnum_cores\u001b[0m\u001b[0;34m=\u001b[0m\u001b[0;34m'4'\u001b[0m\u001b[0;34m,\u001b[0m\u001b[0;34m\u001b[0m\n",
       "\u001b[0;34m\u001b[0m    \u001b[0mloglevel\u001b[0m\u001b[0;34m=\u001b[0m\u001b[0;34m'INFO'\u001b[0m\u001b[0;34m,\u001b[0m\u001b[0;34m\u001b[0m\n",
       "\u001b[0;34m\u001b[0m    \u001b[0munits_bool\u001b[0m\u001b[0;34m=\u001b[0m\u001b[0;32mTrue\u001b[0m\u001b[0;34m,\u001b[0m\u001b[0;34m\u001b[0m\n",
       "\u001b[0;34m\u001b[0m    \u001b[0mn_pr_bool\u001b[0m\u001b[0;34m=\u001b[0m\u001b[0;32mTrue\u001b[0m\u001b[0;34m,\u001b[0m\u001b[0;34m\u001b[0m\n",
       "\u001b[0;34m\u001b[0m    \u001b[0mtasmax_units\u001b[0m\u001b[0;34m=\u001b[0m\u001b[0;34m'celsius'\u001b[0m\u001b[0;34m,\u001b[0m\u001b[0;34m\u001b[0m\n",
       "\u001b[0;34m\u001b[0m    \u001b[0mtasmin_units\u001b[0m\u001b[0;34m=\u001b[0m\u001b[0;34m'celsius'\u001b[0m\u001b[0;34m,\u001b[0m\u001b[0;34m\u001b[0m\n",
       "\u001b[0;34m\u001b[0m    \u001b[0mpr_units\u001b[0m\u001b[0;34m=\u001b[0m\u001b[0;34m'kg m-2 d-1'\u001b[0m\u001b[0;34m,\u001b[0m\u001b[0;34m\u001b[0m\n",
       "\u001b[0;34m\u001b[0m    \u001b[0mmax_gb\u001b[0m\u001b[0;34m=\u001b[0m\u001b[0;36m1.0\u001b[0m\u001b[0;34m,\u001b[0m\u001b[0;34m\u001b[0m\n",
       "\u001b[0;34m\u001b[0m    \u001b[0mstart_date\u001b[0m\u001b[0;34m=\u001b[0m\u001b[0mdatetime\u001b[0m\u001b[0;34m.\u001b[0m\u001b[0mdate\u001b[0m\u001b[0;34m(\u001b[0m\u001b[0;36m1971\u001b[0m\u001b[0;34m,\u001b[0m \u001b[0;36m1\u001b[0m\u001b[0;34m,\u001b[0m \u001b[0;36m1\u001b[0m\u001b[0;34m)\u001b[0m\u001b[0;34m,\u001b[0m\u001b[0;34m\u001b[0m\n",
       "\u001b[0;34m\u001b[0m    \u001b[0mend_date\u001b[0m\u001b[0;34m=\u001b[0m\u001b[0mdatetime\u001b[0m\u001b[0;34m.\u001b[0m\u001b[0mdate\u001b[0m\u001b[0;34m(\u001b[0m\u001b[0;36m2005\u001b[0m\u001b[0;34m,\u001b[0m \u001b[0;36m12\u001b[0m\u001b[0;34m,\u001b[0m \u001b[0;36m31\u001b[0m\u001b[0;34m)\u001b[0m\u001b[0;34m,\u001b[0m\u001b[0;34m\u001b[0m\n",
       "\u001b[0;34m\u001b[0m    \u001b[0mout_file\u001b[0m\u001b[0;34m=\u001b[0m\u001b[0;32mNone\u001b[0m\u001b[0;34m,\u001b[0m\u001b[0;34m\u001b[0m\n",
       "\u001b[0;34m\u001b[0m\u001b[0;34m)\u001b[0m\u001b[0;34m\u001b[0m\u001b[0;34m\u001b[0m\u001b[0m\n",
       "\u001b[0;31mDocstring:\u001b[0m\n",
       "Climate Imprint (CI) downscaling\n",
       "\n",
       "Parameters\n",
       "----------\n",
       "gcm_file : ComplexData:mimetype:`application/x-netcdf`, :mimetype:`application/x-ogc-dods`\n",
       "    Filename of GCM simulations\n",
       "obs_file : ComplexData:mimetype:`application/x-netcdf`, :mimetype:`application/x-ogc-dods`\n",
       "    Filename of high-res gridded historical observations\n",
       "out_file : string\n",
       "    Filename to create with the climate imprint outputs\n",
       "num_cores : {'1', '2', '3', '4'}positiveInteger\n",
       "    The number of cores to use for parallel execution\n",
       "loglevel : {'CRITICAL', 'ERROR', 'WARNING', 'INFO', 'DEBUG', 'NOTSET'}string\n",
       "    Logging level\n",
       "units_bool : boolean\n",
       "    Check the input units and convert them to the target output units\n",
       "n_pr_bool : boolean\n",
       "    Check for and eliminate negative precipitation values\n",
       "tasmax_units : string\n",
       "    Units used for tasmax in output file\n",
       "tasmin_units : string\n",
       "    Units used for tasmin in output file\n",
       "pr_units : string\n",
       "    Units used for pr in output file\n",
       "max_gb : float\n",
       "    Anapproximately how much RAM to use in the chunk I/O loop. It’s best to set this to about 1/3 to 1/4 of what you want the high-water mark to be\n",
       "start_date : date\n",
       "    Defines the stat of the calibration period\n",
       "end_date : date\n",
       "    Defines the end of the calibration period\n",
       "gcm_varname : string\n",
       "    Name of the GCM NetCDF variable to downscale (e.g. 'tasmax')\n",
       "obs_varname : string\n",
       "    Name of the NetCDF variable to downscale given in the observations file (e.g. 'tmax')\n",
       "\n",
       "Returns\n",
       "-------\n",
       "output : ComplexData:mimetype:`application/x-netcdf`\n",
       "    Output Netcdf File\n",
       "\u001b[0;31mFile:\u001b[0m      ~/code/chickadee/notebooks/</home/eyvorchuk/code/chickadee/chickadee-venv/lib/python3.10/site-packages/birdy/client/base.py-1>\n",
       "\u001b[0;31mType:\u001b[0m      method"
      ]
     },
     "metadata": {},
     "output_type": "display_data"
    }
   ],
   "source": [
    "# NBVAL_IGNORE_OUTPUT\n",
    "chickadee.ci?"
   ]
  },
  {
   "cell_type": "code",
   "execution_count": 4,
   "metadata": {},
   "outputs": [
    {
     "data": {
      "text/plain": [
       "\u001b[0;31mSignature:\u001b[0m\n",
       "\u001b[0mfinch\u001b[0m\u001b[0;34m.\u001b[0m\u001b[0mtx_max\u001b[0m\u001b[0;34m(\u001b[0m\u001b[0;34m\u001b[0m\n",
       "\u001b[0;34m\u001b[0m    \u001b[0mtasmax\u001b[0m\u001b[0;34m=\u001b[0m\u001b[0;32mNone\u001b[0m\u001b[0;34m,\u001b[0m\u001b[0;34m\u001b[0m\n",
       "\u001b[0;34m\u001b[0m    \u001b[0mfreq\u001b[0m\u001b[0;34m=\u001b[0m\u001b[0;34m'YS'\u001b[0m\u001b[0;34m,\u001b[0m\u001b[0;34m\u001b[0m\n",
       "\u001b[0;34m\u001b[0m    \u001b[0mmonth\u001b[0m\u001b[0;34m=\u001b[0m\u001b[0;32mNone\u001b[0m\u001b[0;34m,\u001b[0m\u001b[0;34m\u001b[0m\n",
       "\u001b[0;34m\u001b[0m    \u001b[0mseason\u001b[0m\u001b[0;34m=\u001b[0m\u001b[0;32mNone\u001b[0m\u001b[0;34m,\u001b[0m\u001b[0;34m\u001b[0m\n",
       "\u001b[0;34m\u001b[0m    \u001b[0mcheck_missing\u001b[0m\u001b[0;34m=\u001b[0m\u001b[0;34m'any'\u001b[0m\u001b[0;34m,\u001b[0m\u001b[0;34m\u001b[0m\n",
       "\u001b[0;34m\u001b[0m    \u001b[0mmissing_options\u001b[0m\u001b[0;34m=\u001b[0m\u001b[0;32mNone\u001b[0m\u001b[0;34m,\u001b[0m\u001b[0;34m\u001b[0m\n",
       "\u001b[0;34m\u001b[0m    \u001b[0mcf_compliance\u001b[0m\u001b[0;34m=\u001b[0m\u001b[0;34m'warn'\u001b[0m\u001b[0;34m,\u001b[0m\u001b[0;34m\u001b[0m\n",
       "\u001b[0;34m\u001b[0m    \u001b[0mdata_validation\u001b[0m\u001b[0;34m=\u001b[0m\u001b[0;34m'raise'\u001b[0m\u001b[0;34m,\u001b[0m\u001b[0;34m\u001b[0m\n",
       "\u001b[0;34m\u001b[0m    \u001b[0mvariable\u001b[0m\u001b[0;34m=\u001b[0m\u001b[0;32mNone\u001b[0m\u001b[0;34m,\u001b[0m\u001b[0;34m\u001b[0m\n",
       "\u001b[0;34m\u001b[0m    \u001b[0moutput_name\u001b[0m\u001b[0;34m=\u001b[0m\u001b[0;32mNone\u001b[0m\u001b[0;34m,\u001b[0m\u001b[0;34m\u001b[0m\n",
       "\u001b[0;34m\u001b[0m    \u001b[0moutput_format\u001b[0m\u001b[0;34m=\u001b[0m\u001b[0;34m'netcdf'\u001b[0m\u001b[0;34m,\u001b[0m\u001b[0;34m\u001b[0m\n",
       "\u001b[0;34m\u001b[0m    \u001b[0mcsv_precision\u001b[0m\u001b[0;34m=\u001b[0m\u001b[0;32mNone\u001b[0m\u001b[0;34m,\u001b[0m\u001b[0;34m\u001b[0m\n",
       "\u001b[0;34m\u001b[0m    \u001b[0moutput_formats\u001b[0m\u001b[0;34m=\u001b[0m\u001b[0;32mNone\u001b[0m\u001b[0;34m,\u001b[0m\u001b[0;34m\u001b[0m\n",
       "\u001b[0;34m\u001b[0m\u001b[0;34m)\u001b[0m\u001b[0;34m\u001b[0m\u001b[0;34m\u001b[0m\u001b[0m\n",
       "\u001b[0;31mDocstring:\u001b[0m\n",
       "The maximum value of daily maximum temperature.\n",
       "\n",
       "Parameters\n",
       "----------\n",
       "tasmax : ComplexData:mimetype:`application/x-netcdf`, :mimetype:`application/x-ogc-dods`\n",
       "    NetCDF Files or archive (tar/zip) containing netCDF files. Maximum surface temperature.\n",
       "freq : {'YS', 'MS', 'QS-DEC', 'AS-JUL'}string\n",
       "    Resampling frequency.\n",
       "month : {'1', '2', '3', '4', '5', '6', '7', '8', '9', '10', ...}integer\n",
       "    Months of the year over which to compute indicator.\n",
       "season : {'DJF', 'MAM', 'JJA', 'SON'}string\n",
       "    Climatological season over which to compute indicator.\n",
       "check_missing : {'any', 'wmo', 'pct', 'at_least_n', 'skip', 'from_context'}string\n",
       "    Method used to determine which aggregations should be considered missing.\n",
       "missing_options : ComplexData:mimetype:`application/json`\n",
       "    JSON representation of dictionary of missing method parameters.\n",
       "cf_compliance : {'log', 'warn', 'raise'}string\n",
       "    Whether to log, warn or raise when inputs have non-CF-compliant attributes.\n",
       "data_validation : {'log', 'warn', 'raise'}string\n",
       "    Whether to log, warn or raise when inputs fail data validation checks.\n",
       "variable : string\n",
       "    Name of the variable in the NetCDF file.\n",
       "output_name : string\n",
       "    Filename of the output (no extension).\n",
       "output_format : {'netcdf', 'csv'}string\n",
       "    Choose in which format you want to receive the result. CSV actually means a zip file of two csv files.\n",
       "csv_precision : integer\n",
       "    Only valid if output_format is CSV. If not set, all decimal places of a 64 bit floating precision number are printed. If negative, rounds before the decimal point.\n",
       "\n",
       "Returns\n",
       "-------\n",
       "output : ComplexData:mimetype:`application/x-netcdf`, :mimetype:`application/zip`\n",
       "    The format depends on the 'output_format' input parameter.\n",
       "output_log : ComplexData:mimetype:`text/plain`\n",
       "    Collected logs during process run.\n",
       "ref : ComplexData:mimetype:`application/metalink+xml; version=4.0`\n",
       "    Metalink file storing all references to output files.\n",
       "\u001b[0;31mFile:\u001b[0m      ~/code/chickadee/notebooks/</home/eyvorchuk/code/chickadee/chickadee-venv/lib/python3.10/site-packages/birdy/client/base.py-70>\n",
       "\u001b[0;31mType:\u001b[0m      method"
      ]
     },
     "metadata": {},
     "output_type": "display_data"
    }
   ],
   "source": [
    "# NBVAL_IGNORE_OUTPUT\n",
    "finch.tx_max?"
   ]
  },
  {
   "cell_type": "markdown",
   "metadata": {},
   "source": [
    "IV. Load the interactive map to initialize the inputs. These inputs are the <b>center point</b> of the 2.5 degree by 2.5 degree subdomain of the target region and 3 degree by 3 degree subdomain of the GCM region, the <b>climate variable</b> from the GCM input to downscale, the <b>dataset</b> to use as the GCM input (where choosing the CMIP6 data allows one to further select the <b>downscaling technique</b>, the <b>model</b>, the <b>CanESM5 run</b> if applicable, and the <b>emissions scenario</b>), and the <b>climatological period</b> of the target data. Some inputs are obtained from the [THREDDS data server](https://docker-dev03.pcic.uvic.ca/twitcher/ows/proxy/thredds/catalog.html). Once the inputs are initialized, you can click the `Run Chickadee` button to start the CI process, and afterwards, click the `Run Finch` button to compute the climate index associated with the CI output."
   ]
  },
  {
   "cell_type": "code",
   "execution_count": 5,
   "metadata": {},
   "outputs": [
    {
     "data": {
      "application/vnd.jupyter.widget-view+json": {
       "model_id": "262ed400ef0147d49fe16c007cc1efa5",
       "version_major": 2,
       "version_minor": 0
      },
      "text/plain": [
       "AppLayout(children=(Box(children=(Text(value='', placeholder=''), Text(value='', description='Center:', placeh…"
      ]
     },
     "execution_count": 5,
     "metadata": {},
     "output_type": "execute_result"
    }
   ],
   "source": [
    "AppLayout(center = m, right_sidebar = control_box, align_items = 'center')"
   ]
  },
  {
   "cell_type": "markdown",
   "metadata": {},
   "source": [
    "V. Run this cell to display bird progress."
   ]
  },
  {
   "cell_type": "code",
   "execution_count": 6,
   "metadata": {},
   "outputs": [
    {
     "data": {
      "application/vnd.jupyter.widget-view+json": {
       "model_id": "b57083e42fee4765be513b11c54bb54d",
       "version_major": 2,
       "version_minor": 0
      },
      "text/plain": [
       "Output()"
      ]
     },
     "metadata": {},
     "output_type": "display_data"
    }
   ],
   "source": [
    "ipydisplay.display(output_widget)"
   ]
  },
  {
   "cell_type": "markdown",
   "metadata": {},
   "source": [
    "VI. Check statuses of birds and store outputs as `netCDF4.Dataset` objects if possible. `map.<bird>_output` is used to ensure that the updated value rather than the default `None` value is passed to these functions."
   ]
  },
  {
   "cell_type": "code",
   "execution_count": 25,
   "metadata": {},
   "outputs": [
    {
     "name": "stdout",
     "output_type": "stream",
     "text": [
      "Process status: ProcessSucceeded\n",
      "Link to process output: https://docker-dev03.pcic.uvic.ca/wpsoutputs/6f8488fa-c393-11ee-9b94-0242ac120017/tasmax_PNWNAmet_197101-200012_on-demand.nc\n",
      "<class 'netCDF4._netCDF4.Dataset'>\n",
      "root group (NETCDF3_CLASSIC data model, file format DAP2):\n",
      "    DODS_EXTRA.Unlimited_Dimension: time\n",
      "    dimensions(sizes): time(24837), lat(301), lon(301)\n",
      "    variables(dimensions): float64 lon(lon), float64 lat(lat), float64 time(time), float32 tasmax(time, lat, lon)\n",
      "    groups: \n"
     ]
    }
   ],
   "source": [
    "get_bird_output(map.chickadee_output)\n",
    "if map.chickadee_output.isComplete():\n",
    "    chickadee_output_ds = bird_output_to_dataset(map.chickadee_output)\n",
    "    print(chickadee_output_ds)"
   ]
  },
  {
   "cell_type": "code",
   "execution_count": 26,
   "metadata": {},
   "outputs": [
    {
     "name": "stdout",
     "output_type": "stream",
     "text": [
      "Process status: ProcessSucceeded\n",
      "Link to process output: https://docker-dev03.pcic.uvic.ca/wpsoutputs/finch/b19389be-c396-11ee-93d5-0242ac12000b/tx_max_ys.nc\n",
      "<class 'netCDF4._netCDF4.Dataset'>\n",
      "root group (NETCDF3_CLASSIC data model, file format DAP2):\n",
      "    DODS_EXTRA.Unlimited_Dimension: time\n",
      "    climateindex_package_id: https://github.com/Ouranosinc/xclim\n",
      "    product: derived climate index\n",
      "    contact: Canadian Centre for Climate Services\n",
      "    institution: Canadian Centre for Climate Services (CCCS)\n",
      "    institute_id: CCCS\n",
      "    dimensions(sizes): time(68), lat(301), lon(301)\n",
      "    variables(dimensions): float32 time(time), float64 lat(lat), float64 lon(lon), float32 tx_max(time, lat, lon)\n",
      "    groups: \n"
     ]
    }
   ],
   "source": [
    "get_bird_output(map.finch_output)\n",
    "if map.finch_output.isComplete():\n",
    "    finch_output_ds = bird_output_to_dataset(map.finch_output)\n",
    "    print(finch_output_ds)"
   ]
  },
  {
   "cell_type": "code",
   "execution_count": null,
   "metadata": {},
   "outputs": [],
   "source": []
  }
 ],
 "metadata": {
  "kernelspec": {
   "display_name": "Python 3 (ipykernel)",
   "language": "python",
   "name": "python3"
  },
  "language_info": {
   "codemirror_mode": {
    "name": "ipython",
    "version": 3
   },
   "file_extension": ".py",
   "mimetype": "text/x-python",
   "name": "python",
   "nbconvert_exporter": "python",
   "pygments_lexer": "ipython3",
   "version": "3.10.12"
  },
  "widgets": {
   "application/vnd.jupyter.widget-state+json": {
    "state": {
     "08bf43ddbe8143ab86dd461174fc5e58": {
      "model_module": "@jupyter-widgets/base",
      "model_module_version": "2.0.0",
      "model_name": "LayoutModel",
      "state": {}
     },
     "0a181a716dfd4f348cf7f027c9712ff2": {
      "model_module": "@jupyter-widgets/base",
      "model_module_version": "2.0.0",
      "model_name": "LayoutModel",
      "state": {}
     },
     "107fc5468de34a1baa2802324b87dcb8": {
      "model_module": "jupyter-leaflet",
      "model_module_version": "^0.17",
      "model_name": "LeafletRectangleModel",
      "state": {
       "_model_module_version": "^0.17",
       "_view_module_version": "^0.17",
       "bounds": [
        [
         57.41826,
         -132.34717
        ],
        [
         60.41826,
         -129.34717
        ]
       ],
       "color": "blue",
       "draggable": true,
       "name": "GCM",
       "options": [
        "color",
        "dash_array",
        "draggable",
        "fill",
        "fill_color",
        "fill_opacity",
        "line_cap",
        "line_join",
        "no_clip",
        "opacity",
        "pointer_events",
        "smooth_factor",
        "stroke",
        "transform",
        "weight"
       ],
       "rotation": true,
       "scaling": true,
       "transform": false,
       "uniform_scaling": false
      }
     },
     "177e4f4595024636afbdae15ac8c11b3": {
      "model_module": "@jupyter-widgets/controls",
      "model_module_version": "2.0.0",
      "model_name": "IntProgressModel",
      "state": {
       "bar_style": "success",
       "description": "Complete",
       "layout": "IPY_MODEL_5d8903630ff64a229c2fa13d3a8f28d1",
       "style": "IPY_MODEL_842ac2e6409e4476856d54f2c405bf5e",
       "value": 100
      }
     },
     "17c90c366c8c45068fe535970f8bd703": {
      "model_module": "@jupyter-widgets/controls",
      "model_module_version": "2.0.0",
      "model_name": "HBoxModel",
      "state": {
       "children": [
        "IPY_MODEL_1efb21c9d6cd4673a6d1443787108cdd",
        "IPY_MODEL_d4f231313eb24de1aa32e8a9070e3819"
       ],
       "layout": "IPY_MODEL_4eb51f7413204f349ed7fc79769e1252"
      }
     },
     "19bddf5d144448b593bd6eddcb52d9dd": {
      "model_module": "@jupyter-widgets/controls",
      "model_module_version": "2.0.0",
      "model_name": "DropdownModel",
      "state": {
       "_options_labels": [
        "ACCESS-CM2",
        "ACCESS-ESM1-5",
        "BCC-CSM2-MR",
        "CMCC-ESM2",
        "CNRM-CM6-1",
        "CNRM-ESM2-1",
        "CanESM5",
        "EC-Earth3",
        "EC-Earth3-Veg",
        "FGOALS-g3",
        "GFDL-ESM4",
        "HadGEM3-GC31-LL",
        "INM-CM4-8",
        "INM-CM5-0",
        "IPSL-CM6A-LR",
        "KACE-1-0-G",
        "KIOST-ESM",
        "MIROC-ES2L",
        "MIROC6",
        "MPI-ESM1-2-HR",
        "MPI-ESM1-2-LR",
        "MRI-ESM2-0",
        "NorESM2-LM",
        "NorESM2-MM",
        "TaiESM1",
        "UKESM1-0-LL"
       ],
       "description": "CMIP6 model:",
       "disabled": true,
       "index": 0,
       "layout": "IPY_MODEL_6ac9496a82b04072a275f8214be0d7fb",
       "style": "IPY_MODEL_d272d50dffdb4e4e92f65d4d9db54dac"
      }
     },
     "1efb21c9d6cd4673a6d1443787108cdd": {
      "model_module": "@jupyter-widgets/controls",
      "model_module_version": "2.0.0",
      "model_name": "IntProgressModel",
      "state": {
       "bar_style": "success",
       "description": "Complete",
       "layout": "IPY_MODEL_8964bb093d4d46afbc1e0322e7244c27",
       "style": "IPY_MODEL_ec38a1b252a14cfebb79b6d70710c8ba",
       "value": 100
      }
     },
     "214cd37ccd0a4992ba467a658db80714": {
      "model_module": "@jupyter-widgets/controls",
      "model_module_version": "2.0.0",
      "model_name": "DescriptionStyleModel",
      "state": {
       "description_width": ""
      }
     },
     "22ddebe69e1a475f811080d83dc792c7": {
      "model_module": "@jupyter-widgets/controls",
      "model_module_version": "2.0.0",
      "model_name": "TextModel",
      "state": {
       "description": "Center:",
       "layout": "IPY_MODEL_3d7585e3a9ec442294945595447b055a",
       "placeholder": "",
       "style": "IPY_MODEL_25a6c43b85eb480b9577626266a0adad",
       "value": "(58.91826, -130.84717)"
      }
     },
     "23ca936d345049d88bd513557e76cecc": {
      "model_module": "@jupyter-widgets/base",
      "model_module_version": "2.0.0",
      "model_name": "LayoutModel",
      "state": {
       "justify_content": "space-between"
      }
     },
     "25a6c43b85eb480b9577626266a0adad": {
      "model_module": "@jupyter-widgets/controls",
      "model_module_version": "2.0.0",
      "model_name": "TextStyleModel",
      "state": {
       "description_width": "",
       "font_size": null,
       "text_color": null
      }
     },
     "262ed400ef0147d49fe16c007cc1efa5": {
      "model_module": "@jupyter-widgets/controls",
      "model_module_version": "2.0.0",
      "model_name": "GridBoxModel",
      "state": {
       "children": [
        "IPY_MODEL_6b969aff0d3e4972976c361328e71f01",
        "IPY_MODEL_a6d7a7df4a5c4bada921c3fa8107d545"
       ],
       "layout": "IPY_MODEL_e41e691d59514538a42d94a15e4615fe"
      }
     },
     "283d83f4aba4490480d9122089a81354": {
      "model_module": "jupyter-leaflet",
      "model_module_version": "^0.17",
      "model_name": "LeafletMapStyleModel",
      "state": {
       "_model_module_version": "^0.17"
      }
     },
     "34d1aa9976fb44c99bf0483e22837014": {
      "model_module": "@jupyter-widgets/base",
      "model_module_version": "2.0.0",
      "model_name": "LayoutModel",
      "state": {}
     },
     "3818ee0fe72e4ff6abbd9bba6a100598": {
      "model_module": "@jupyter-widgets/base",
      "model_module_version": "2.0.0",
      "model_name": "LayoutModel",
      "state": {}
     },
     "3d7585e3a9ec442294945595447b055a": {
      "model_module": "@jupyter-widgets/base",
      "model_module_version": "2.0.0",
      "model_name": "LayoutModel",
      "state": {}
     },
     "44aaf2fd54014e9a854e3e0bc65b045f": {
      "model_module": "@jupyter-widgets/controls",
      "model_module_version": "2.0.0",
      "model_name": "HBoxModel",
      "state": {
       "children": [
        "IPY_MODEL_177e4f4595024636afbdae15ac8c11b3",
        "IPY_MODEL_c0ea0821f54549c890cb73113fbc93bd"
       ],
       "layout": "IPY_MODEL_23ca936d345049d88bd513557e76cecc"
      }
     },
     "4a26d54af1fa483b846d8504b69fb58c": {
      "model_module": "@jupyter-widgets/base",
      "model_module_version": "2.0.0",
      "model_name": "LayoutModel",
      "state": {}
     },
     "4d068287955f4e61a58c3220dc6f34d3": {
      "model_module": "jupyter-leaflet",
      "model_module_version": "^0.17",
      "model_name": "LeafletLayerGroupModel",
      "state": {
       "_model_module_version": "^0.17",
       "_view_module_version": "^0.17",
       "layers": [
        "IPY_MODEL_7f65b0a626a3432aa6e41379f0e4d699",
        "IPY_MODEL_107fc5468de34a1baa2802324b87dcb8",
        "IPY_MODEL_c14a544496c644b79a7d075601c577b6"
       ]
      }
     },
     "4eb51f7413204f349ed7fc79769e1252": {
      "model_module": "@jupyter-widgets/base",
      "model_module_version": "2.0.0",
      "model_name": "LayoutModel",
      "state": {
       "justify_content": "space-between"
      }
     },
     "5d8903630ff64a229c2fa13d3a8f28d1": {
      "model_module": "@jupyter-widgets/base",
      "model_module_version": "2.0.0",
      "model_name": "LayoutModel",
      "state": {}
     },
     "5ef34e7270b64d89838b2a3124f1c065": {
      "model_module": "jupyter-leaflet",
      "model_module_version": "^0.17",
      "model_name": "LeafletMapStyleModel",
      "state": {
       "_model_module_version": "^0.17"
      }
     },
     "61849c498f954f748222ec9914fd5342": {
      "model_module": "@jupyter-widgets/controls",
      "model_module_version": "2.0.0",
      "model_name": "ButtonStyleModel",
      "state": {
       "font_family": null,
       "font_size": null,
       "font_style": null,
       "font_variant": null,
       "font_weight": null,
       "text_color": null,
       "text_decoration": null
      }
     },
     "6ac9496a82b04072a275f8214be0d7fb": {
      "model_module": "@jupyter-widgets/base",
      "model_module_version": "2.0.0",
      "model_name": "LayoutModel",
      "state": {}
     },
     "6b969aff0d3e4972976c361328e71f01": {
      "model_module": "@jupyter-widgets/controls",
      "model_module_version": "2.0.0",
      "model_name": "BoxModel",
      "state": {
       "children": [
        "IPY_MODEL_9079b7c35ea84581b74a15648a5f7444",
        "IPY_MODEL_22ddebe69e1a475f811080d83dc792c7",
        "IPY_MODEL_a2cb6cdc604146c79878e841ea44b973",
        "IPY_MODEL_6f943c61df3146199e1e6b652b3f0826",
        "IPY_MODEL_86037e162fc34433a414897ccc144d93",
        "IPY_MODEL_19bddf5d144448b593bd6eddcb52d9dd",
        "IPY_MODEL_6e3a0557fd7a4ea7ae246711e67b98a0",
        "IPY_MODEL_e274bd5c95d749e39353849336efe6d7",
        "IPY_MODEL_d5221bfe2930452a8442f00904035679",
        "IPY_MODEL_acb5d9a0a4e9418480103a6a09392f87",
        "IPY_MODEL_71696f00fb8c4bd7944cf1c8c0cbc4bf"
       ],
       "layout": "IPY_MODEL_e994a5fdd8734057a85346795532be19"
      }
     },
     "6e3a0557fd7a4ea7ae246711e67b98a0": {
      "model_module": "@jupyter-widgets/controls",
      "model_module_version": "2.0.0",
      "model_name": "DropdownModel",
      "state": {
       "_options_labels": [
        "r1i1p2f1",
        "r2i1p2f1",
        "r3i1p2f1",
        "r4i1p2f1",
        "r5i1p2f1",
        "r6i1p2f1",
        "r7i1p2f1",
        "r8i1p2f1",
        "r9i1p2f1",
        "r10i1p2f1"
       ],
       "description": "CanESM5 run:",
       "disabled": true,
       "index": 0,
       "layout": "IPY_MODEL_9d849683047245068f63908743a9b61e",
       "style": "IPY_MODEL_e42d39b0cf5243f6bf631bb0c00de157"
      }
     },
     "6f943c61df3146199e1e6b652b3f0826": {
      "model_module": "@jupyter-widgets/controls",
      "model_module_version": "2.0.0",
      "model_name": "RadioButtonsModel",
      "state": {
       "_options_labels": [
        "PNWNAmet",
        "CMIP6"
       ],
       "description": "Dataset:",
       "index": 0,
       "layout": "IPY_MODEL_b9ffa37b284c406bba245a190c650adb",
       "style": "IPY_MODEL_de47bc3b895b41f484b2cf81049e848a"
      }
     },
     "71696f00fb8c4bd7944cf1c8c0cbc4bf": {
      "model_module": "@jupyter-widgets/controls",
      "model_module_version": "2.0.0",
      "model_name": "ButtonModel",
      "state": {
       "button_style": "info",
       "description": "Run Finch",
       "layout": "IPY_MODEL_0a181a716dfd4f348cf7f027c9712ff2",
       "style": "IPY_MODEL_bf7bb31c4b0e49ed95b2a70ff66d2fc5",
       "tooltip": "Click 'Run' to start the climate index calculations"
      }
     },
     "72df1f0a5cdc4abf83f11c465e2915b0": {
      "model_module": "@jupyter-widgets/base",
      "model_module_version": "2.0.0",
      "model_name": "LayoutModel",
      "state": {}
     },
     "7f65b0a626a3432aa6e41379f0e4d699": {
      "model_module": "jupyter-leaflet",
      "model_module_version": "^0.17",
      "model_name": "LeafletMarkerModel",
      "state": {
       "_model_module_version": "^0.17",
       "_view_module_version": "^0.17",
       "location": [
        58.91826,
        -130.84717
       ],
       "name": "Marker",
       "options": [
        "alt",
        "draggable",
        "keyboard",
        "rise_offset",
        "rise_on_hover",
        "rotation_angle",
        "rotation_origin",
        "title",
        "z_index_offset"
       ]
      }
     },
     "842ac2e6409e4476856d54f2c405bf5e": {
      "model_module": "@jupyter-widgets/controls",
      "model_module_version": "2.0.0",
      "model_name": "ProgressStyleModel",
      "state": {
       "description_width": ""
      }
     },
     "86037e162fc34433a414897ccc144d93": {
      "model_module": "@jupyter-widgets/controls",
      "model_module_version": "2.0.0",
      "model_name": "RadioButtonsModel",
      "state": {
       "_options_labels": [
        "BCCAQv2",
        "MBCn"
       ],
       "description": "CMIP6 downscaling technique:",
       "disabled": true,
       "index": 0,
       "layout": "IPY_MODEL_ecfc4a13bb294c779f6713e76a61af0a",
       "style": "IPY_MODEL_9a8c58ed7c984cedbca7fa65a7f94e54"
      }
     },
     "87b74f8ecf2244d8a2b09dc8a82dfd66": {
      "model_module": "@jupyter-widgets/base",
      "model_module_version": "2.0.0",
      "model_name": "LayoutModel",
      "state": {
       "grid_area": "center",
       "height": "600px"
      }
     },
     "8964bb093d4d46afbc1e0322e7244c27": {
      "model_module": "@jupyter-widgets/base",
      "model_module_version": "2.0.0",
      "model_name": "LayoutModel",
      "state": {}
     },
     "9079b7c35ea84581b74a15648a5f7444": {
      "model_module": "@jupyter-widgets/controls",
      "model_module_version": "2.0.0",
      "model_name": "TextModel",
      "state": {
       "layout": "IPY_MODEL_72df1f0a5cdc4abf83f11c465e2915b0",
       "placeholder": "",
       "style": "IPY_MODEL_e6b70a59eac9433db594b4d6819a344a",
       "value": "(44.61706, -126.67138)"
      }
     },
     "9a8c58ed7c984cedbca7fa65a7f94e54": {
      "model_module": "@jupyter-widgets/controls",
      "model_module_version": "2.0.0",
      "model_name": "DescriptionStyleModel",
      "state": {
       "description_width": ""
      }
     },
     "9d849683047245068f63908743a9b61e": {
      "model_module": "@jupyter-widgets/base",
      "model_module_version": "2.0.0",
      "model_name": "LayoutModel",
      "state": {}
     },
     "9dd416d54390413193bf4c7a438f74d1": {
      "model_module": "@jupyter-widgets/controls",
      "model_module_version": "2.0.0",
      "model_name": "ButtonStyleModel",
      "state": {
       "font_family": null,
       "font_size": null,
       "font_style": null,
       "font_variant": null,
       "font_weight": null,
       "text_color": null,
       "text_decoration": null
      }
     },
     "a1ea852409b643cd977a75d267b0ff2d": {
      "model_module": "@jupyter-widgets/controls",
      "model_module_version": "2.0.0",
      "model_name": "DescriptionStyleModel",
      "state": {
       "description_width": ""
      }
     },
     "a2cb6cdc604146c79878e841ea44b973": {
      "model_module": "@jupyter-widgets/controls",
      "model_module_version": "2.0.0",
      "model_name": "RadioButtonsModel",
      "state": {
       "_options_labels": [
        "pr",
        "tasmax",
        "tasmin"
       ],
       "description": "Climate variable:",
       "index": 1,
       "layout": "IPY_MODEL_34d1aa9976fb44c99bf0483e22837014",
       "style": "IPY_MODEL_214cd37ccd0a4992ba467a658db80714"
      }
     },
     "a6d7a7df4a5c4bada921c3fa8107d545": {
      "model_module": "jupyter-leaflet",
      "model_module_version": "^0.17",
      "model_name": "LeafletMapModel",
      "state": {
       "_model_module_version": "^0.17",
       "_view_module_version": "^0.17",
       "bottom": 2950,
       "center": [
        53.5,
        -120
       ],
       "controls": [
        "IPY_MODEL_ee4eaa7e214840d8ae05e5890935b025",
        "IPY_MODEL_cc2c2b9fe06f4ed69a9f6b8fc6ff307f",
        "IPY_MODEL_a7209dd57109466c98497e63bbfe179e"
       ],
       "default_style": "IPY_MODEL_283d83f4aba4490480d9122089a81354",
       "dragging_style": "IPY_MODEL_ad0174040add46e2b96909efdcddab6b",
       "east": -96.7236328125,
       "fullscreen": false,
       "interpolation": "bilinear",
       "layers": [
        "IPY_MODEL_fed07ad56adc4b46a2061ec8a871e1bc",
        "IPY_MODEL_4d068287955f4e61a58c3220dc6f34d3"
       ],
       "layout": "IPY_MODEL_87b74f8ecf2244d8a2b09dc8a82dfd66",
       "left": 836,
       "modisdate": "2024-02-03",
       "north": 60.6301017662667,
       "options": [
        "bounce_at_zoom_limits",
        "box_zoom",
        "center",
        "close_popup_on_click",
        "double_click_zoom",
        "dragging",
        "fullscreen",
        "inertia",
        "inertia_deceleration",
        "inertia_max_speed",
        "interpolation",
        "keyboard",
        "keyboard_pan_offset",
        "keyboard_zoom_offset",
        "max_zoom",
        "min_zoom",
        "prefer_canvas",
        "scroll_wheel_zoom",
        "tap",
        "tap_tolerance",
        "touch_zoom",
        "world_copy_jump",
        "zoom",
        "zoom_animation_threshold",
        "zoom_delta",
        "zoom_snap"
       ],
       "prefer_canvas": false,
       "right": 1895,
       "south": 44.902577996288876,
       "style": "IPY_MODEL_5ef34e7270b64d89838b2a3124f1c065",
       "top": 2350,
       "west": -143.26171875000003,
       "window_url": "http://localhost:8888/lab/tree/notebooks/wps_CI_on_demand_with_indices_demo.ipynb",
       "zoom": 5
      }
     },
     "a6e1551867b1421ca7cef8af6de2b763": {
      "model_module": "@jupyter-widgets/controls",
      "model_module_version": "2.0.0",
      "model_name": "ButtonStyleModel",
      "state": {
       "font_family": null,
       "font_size": null,
       "font_style": null,
       "font_variant": null,
       "font_weight": null,
       "text_color": null,
       "text_decoration": null
      }
     },
     "a7209dd57109466c98497e63bbfe179e": {
      "model_module": "jupyter-leaflet",
      "model_module_version": "^0.17",
      "model_name": "LeafletLegendControlModel",
      "state": {
       "_model_module_version": "^0.17",
       "_view_module_version": "^0.17",
       "legend": {
        "GCM": "blue",
        "Obs": "red"
       },
       "options": [
        "position"
       ],
       "position": "topright",
       "title": "Subdomains"
      }
     },
     "acb5d9a0a4e9418480103a6a09392f87": {
      "model_module": "@jupyter-widgets/controls",
      "model_module_version": "2.0.0",
      "model_name": "ButtonModel",
      "state": {
       "button_style": "success",
       "description": "Run Chickadee",
       "layout": "IPY_MODEL_d43deb480fe84aa88784b073b1737989",
       "style": "IPY_MODEL_61849c498f954f748222ec9914fd5342",
       "tooltip": "Click 'Run' to start the on-demand downscaling"
      }
     },
     "ad0174040add46e2b96909efdcddab6b": {
      "model_module": "jupyter-leaflet",
      "model_module_version": "^0.17",
      "model_name": "LeafletMapStyleModel",
      "state": {
       "_model_module_version": "^0.17",
       "cursor": "move"
      }
     },
     "b57083e42fee4765be513b11c54bb54d": {
      "model_module": "@jupyter-widgets/output",
      "model_module_version": "1.0.0",
      "model_name": "OutputModel",
      "state": {
       "layout": "IPY_MODEL_d3720c6557fe48a3bcdd9273bd978b16",
       "outputs": [
        {
         "name": "stdout",
         "output_type": "stream",
         "text": "Running chickadee\n"
        },
        {
         "data": {
          "application/vnd.jupyter.widget-view+json": {
           "model_id": "17c90c366c8c45068fe535970f8bd703",
           "version_major": 2,
           "version_minor": 0
          },
          "text/plain": "HBox(children=(IntProgress(value=0, bar_style='info', description='Processing:'), Button(button_style='danger'…"
         },
         "metadata": {},
         "output_type": "display_data"
        },
        {
         "name": "stdout",
         "output_type": "stream",
         "text": "Running finch\n"
        },
        {
         "data": {
          "application/vnd.jupyter.widget-view+json": {
           "model_id": "44aaf2fd54014e9a854e3e0bc65b045f",
           "version_major": 2,
           "version_minor": 0
          },
          "text/plain": "HBox(children=(IntProgress(value=0, bar_style='info', description='Processing:'), Button(button_style='danger'…"
         },
         "metadata": {},
         "output_type": "display_data"
        }
       ]
      }
     },
     "b9ffa37b284c406bba245a190c650adb": {
      "model_module": "@jupyter-widgets/base",
      "model_module_version": "2.0.0",
      "model_name": "LayoutModel",
      "state": {}
     },
     "bf7bb31c4b0e49ed95b2a70ff66d2fc5": {
      "model_module": "@jupyter-widgets/controls",
      "model_module_version": "2.0.0",
      "model_name": "ButtonStyleModel",
      "state": {
       "font_family": null,
       "font_size": null,
       "font_style": null,
       "font_variant": null,
       "font_weight": null,
       "text_color": null,
       "text_decoration": null
      }
     },
     "c0ea0821f54549c890cb73113fbc93bd": {
      "model_module": "@jupyter-widgets/controls",
      "model_module_version": "2.0.0",
      "model_name": "ButtonModel",
      "state": {
       "button_style": "danger",
       "description": "Cancel",
       "disabled": true,
       "layout": "IPY_MODEL_3818ee0fe72e4ff6abbd9bba6a100598",
       "style": "IPY_MODEL_9dd416d54390413193bf4c7a438f74d1",
       "tooltip": "Send `dismiss` request to WPS server."
      }
     },
     "c14a544496c644b79a7d075601c577b6": {
      "model_module": "jupyter-leaflet",
      "model_module_version": "^0.17",
      "model_name": "LeafletRectangleModel",
      "state": {
       "_model_module_version": "^0.17",
       "_view_module_version": "^0.17",
       "bounds": [
        [
         57.66826,
         -132.09717
        ],
        [
         60.16826,
         -129.59717
        ]
       ],
       "color": "red",
       "draggable": true,
       "name": "Obs",
       "options": [
        "color",
        "dash_array",
        "draggable",
        "fill",
        "fill_color",
        "fill_opacity",
        "line_cap",
        "line_join",
        "no_clip",
        "opacity",
        "pointer_events",
        "smooth_factor",
        "stroke",
        "transform",
        "weight"
       ],
       "rotation": true,
       "scaling": true,
       "transform": false,
       "uniform_scaling": false
      }
     },
     "cc2c2b9fe06f4ed69a9f6b8fc6ff307f": {
      "model_module": "jupyter-leaflet",
      "model_module_version": "^0.17",
      "model_name": "LeafletAttributionControlModel",
      "state": {
       "_model_module_version": "^0.17",
       "_view_module_version": "^0.17",
       "options": [
        "position",
        "prefix"
       ],
       "position": "bottomright",
       "prefix": "ipyleaflet"
      }
     },
     "d272d50dffdb4e4e92f65d4d9db54dac": {
      "model_module": "@jupyter-widgets/controls",
      "model_module_version": "2.0.0",
      "model_name": "DescriptionStyleModel",
      "state": {
       "description_width": "100px"
      }
     },
     "d3720c6557fe48a3bcdd9273bd978b16": {
      "model_module": "@jupyter-widgets/base",
      "model_module_version": "2.0.0",
      "model_name": "LayoutModel",
      "state": {}
     },
     "d43deb480fe84aa88784b073b1737989": {
      "model_module": "@jupyter-widgets/base",
      "model_module_version": "2.0.0",
      "model_name": "LayoutModel",
      "state": {}
     },
     "d4f231313eb24de1aa32e8a9070e3819": {
      "model_module": "@jupyter-widgets/controls",
      "model_module_version": "2.0.0",
      "model_name": "ButtonModel",
      "state": {
       "button_style": "danger",
       "description": "Cancel",
       "disabled": true,
       "layout": "IPY_MODEL_4a26d54af1fa483b846d8504b69fb58c",
       "style": "IPY_MODEL_a6e1551867b1421ca7cef8af6de2b763",
       "tooltip": "Send `dismiss` request to WPS server."
      }
     },
     "d5221bfe2930452a8442f00904035679": {
      "model_module": "@jupyter-widgets/controls",
      "model_module_version": "2.0.0",
      "model_name": "RadioButtonsModel",
      "state": {
       "_options_labels": [
        "197101-200012",
        "198101-201012"
       ],
       "description": "Climatological period:",
       "index": 0,
       "layout": "IPY_MODEL_d671088d8ea448fab7a86523c1abf375",
       "style": "IPY_MODEL_f6f882a6e1d34c34b3ddb46e87399dc5"
      }
     },
     "d671088d8ea448fab7a86523c1abf375": {
      "model_module": "@jupyter-widgets/base",
      "model_module_version": "2.0.0",
      "model_name": "LayoutModel",
      "state": {}
     },
     "de47bc3b895b41f484b2cf81049e848a": {
      "model_module": "@jupyter-widgets/controls",
      "model_module_version": "2.0.0",
      "model_name": "DescriptionStyleModel",
      "state": {
       "description_width": ""
      }
     },
     "e274bd5c95d749e39353849336efe6d7": {
      "model_module": "@jupyter-widgets/controls",
      "model_module_version": "2.0.0",
      "model_name": "RadioButtonsModel",
      "state": {
       "_options_labels": [
        "SSP1-2.6",
        "SSP2-4.5",
        "SSP5-8.5"
       ],
       "description": "CMIP6 emissions scenario:",
       "disabled": true,
       "index": 0,
       "layout": "IPY_MODEL_08bf43ddbe8143ab86dd461174fc5e58",
       "style": "IPY_MODEL_a1ea852409b643cd977a75d267b0ff2d"
      }
     },
     "e41e691d59514538a42d94a15e4615fe": {
      "model_module": "@jupyter-widgets/base",
      "model_module_version": "2.0.0",
      "model_name": "LayoutModel",
      "state": {
       "align_items": "center",
       "grid_template_areas": "\"center center right-sidebar\"",
       "grid_template_columns": "1fr 2fr 1fr",
       "grid_template_rows": "3fr"
      }
     },
     "e42d39b0cf5243f6bf631bb0c00de157": {
      "model_module": "@jupyter-widgets/controls",
      "model_module_version": "2.0.0",
      "model_name": "DescriptionStyleModel",
      "state": {
       "description_width": "100px"
      }
     },
     "e6b70a59eac9433db594b4d6819a344a": {
      "model_module": "@jupyter-widgets/controls",
      "model_module_version": "2.0.0",
      "model_name": "TextStyleModel",
      "state": {
       "description_width": "",
       "font_size": null,
       "text_color": null
      }
     },
     "e994a5fdd8734057a85346795532be19": {
      "model_module": "@jupyter-widgets/base",
      "model_module_version": "2.0.0",
      "model_name": "LayoutModel",
      "state": {
       "align_items": "center",
       "display": "flex",
       "flex_flow": "column",
       "grid_area": "right-sidebar",
       "width": "110%"
      }
     },
     "ec38a1b252a14cfebb79b6d70710c8ba": {
      "model_module": "@jupyter-widgets/controls",
      "model_module_version": "2.0.0",
      "model_name": "ProgressStyleModel",
      "state": {
       "description_width": ""
      }
     },
     "ecfc4a13bb294c779f6713e76a61af0a": {
      "model_module": "@jupyter-widgets/base",
      "model_module_version": "2.0.0",
      "model_name": "LayoutModel",
      "state": {}
     },
     "ee4eaa7e214840d8ae05e5890935b025": {
      "model_module": "jupyter-leaflet",
      "model_module_version": "^0.17",
      "model_name": "LeafletZoomControlModel",
      "state": {
       "_model_module_version": "^0.17",
       "_view_module_version": "^0.17",
       "options": [
        "position",
        "zoom_in_text",
        "zoom_in_title",
        "zoom_out_text",
        "zoom_out_title"
       ]
      }
     },
     "f6f882a6e1d34c34b3ddb46e87399dc5": {
      "model_module": "@jupyter-widgets/controls",
      "model_module_version": "2.0.0",
      "model_name": "DescriptionStyleModel",
      "state": {
       "description_width": ""
      }
     },
     "fed07ad56adc4b46a2061ec8a871e1bc": {
      "model_module": "jupyter-leaflet",
      "model_module_version": "^0.17",
      "model_name": "LeafletTileLayerModel",
      "state": {
       "_model_module_version": "^0.17",
       "_view_module_version": "^0.17",
       "attribution": "&copy; <a href=\"https://www.openstreetmap.org/copyright\">OpenStreetMap</a> contributors",
       "base": true,
       "max_zoom": 19,
       "min_zoom": 1,
       "name": "Default",
       "options": [
        "attribution",
        "bounds",
        "detect_retina",
        "max_native_zoom",
        "max_zoom",
        "min_native_zoom",
        "min_zoom",
        "no_wrap",
        "tile_size",
        "tms",
        "zoom_offset"
       ],
       "url": "https://tile.openstreetmap.org/{z}/{x}/{y}.png"
      }
     }
    },
    "version_major": 2,
    "version_minor": 0
   }
  }
 },
 "nbformat": 4,
 "nbformat_minor": 4
}
